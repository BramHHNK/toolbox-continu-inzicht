{
 "cells": [
  {
   "attachments": {},
   "cell_type": "markdown",
   "metadata": {},
   "source": [
    "---\n",
    "title : \"Belastingen inladen\"\n",
    "excecute:\n",
    "    output: asis\n",
    "---\n",
    "\n",
    "Inlezen waterstanden uit verschillende bronsystemen:\n",
    "- RWS Waterinfo\n",
    "- FEWS\n",
    "- (Noos) Matroos\n",
    "- RWS WaterWebServices\n",
    "\n",
    "Gebruikmakend van:\n",
    "- csv bestanden voor uitwisselen van data"
   ]
  },
  {
   "attachments": {},
   "cell_type": "markdown",
   "metadata": {},
   "source": [
    "### Benodigde generieke Python packages"
   ]
  },
  {
   "cell_type": "code",
   "execution_count": null,
   "metadata": {},
   "outputs": [],
   "source": [
    "from pathlib import Path"
   ]
  },
  {
   "attachments": {},
   "cell_type": "markdown",
   "metadata": {},
   "source": [
    "### Definitie configuratie: CSV bestanden "
   ]
  },
  {
   "attachments": {},
   "cell_type": "markdown",
   "metadata": {},
   "source": [
    "GlobalVariables:\n",
    "    rootdir: \"data_demo\" \n",
    "    moments: [-24,0,24,48]  \n",
    "\n",
    "    LoadsWaterinfo:\n",
    "        parameters: [\"waterhoogte\"]\n",
    "        MISSING_VALUE: 999\n",
    "\n",
    "    LoadsFews:\n",
    "        host: \"https://fews.hhnk.nl\"\n",
    "        port: 443\n",
    "        region: \"fewspiservice\"\n",
    "        version: \"1.25\"\n",
    "        filter: \"HHNK_WEB\"\n",
    "        parameters: [\"WATHTE [m][NAP][OW]\", \"WINDRTG [deg]\"]\n",
    "        aquo_equivalent: [\"WATHTE\",\"WINDRTG\"]\n",
    "        MISSING_VALUE: 999\n",
    "    \n",
    "    LoadsMatroos:\n",
    "        website: \"vitaal\"\n",
    "        model: \"dcsm6_kf\"\n",
    "        parameters: [\"WATHTE\"]\n",
    "        MISSING_VALUE: 999\n",
    "    \n",
    "    LoadsWaterwebservicesRWS:\n",
    "        parameters: [\"WATHTE\"]\n",
    "        MISSING_VALUE: 999\n",
    "\n",
    "DataAdapter: \n",
    "    default_options:\n",
    "        csv_source:\n",
    "            sep: \";\"\n",
    "        csv:\n",
    "            sep: \",\"\n",
    "    BelastingLocaties_WaterInfo: \n",
    "        type: csv_source\n",
    "        filter: \"WaterInfo\"\n",
    "        path: \"locaties.csv\"\n",
    "    Waterstanden_WaterInfo: \n",
    "        type: csv\n",
    "        path: \"waterstanden_waterinfo.csv\"\n",
    "    BelastingLocaties_FEWS: \n",
    "        type: csv_source\n",
    "        filter: \"FEWS\"\n",
    "        path: \"locaties.csv\"\n",
    "    Waterstanden_FEWS: \n",
    "        type: csv\n",
    "        path: \"waterstanden_fews.csv\"\n",
    "    BelastingLocaties_Matroos: \n",
    "        type: csv_source\n",
    "        filter: \"NOOS Matroos\"\n",
    "        path: \"locaties.csv\"\n",
    "    Waterstanden_Matroos: \n",
    "        type: csv\n",
    "        path: \"waterstanden_matroos.csv\"\n",
    "    BelastingLocaties_Waterwebservices_RWS: \n",
    "        type: csv_source\n",
    "        filter: \"RWS Waterwebservices\"\n",
    "        path: \"locaties.csv\"\n",
    "    Waterstanden_Waterwebservices_RWS: \n",
    "        type: csv\n",
    "        path: \"waterstanden_waterwebservices_rws.csv\""
   ]
  },
  {
   "attachments": {},
   "cell_type": "markdown",
   "metadata": {},
   "source": [
    "### Lees configuratie in en maak dictionary base.Config aan"
   ]
  },
  {
   "cell_type": "code",
   "execution_count": null,
   "metadata": {},
   "outputs": [],
   "source": [
    "from toolbox_continu_inzicht import Config\n",
    "\n",
    "yaml_config_file = \"demo_sprint2-I.yaml\"\n",
    "path = Path.cwd() / \"data_demo\" / yaml_config_file\n",
    "c = Config(config_path=path)\n",
    "c.lees_config()"
   ]
  },
  {
   "attachments": {},
   "cell_type": "markdown",
   "metadata": {},
   "source": [
    "### Geef config mee aan base.Adapter"
   ]
  },
  {
   "cell_type": "code",
   "execution_count": null,
   "metadata": {},
   "outputs": [],
   "source": [
    "from toolbox_continu_inzicht import DataAdapter\n",
    "\n",
    "data = DataAdapter(config=c)\n",
    "print(f\"Folder met data: {data.config.config_path}\")\n",
    "print(f\"Globale variabelen: {data.config.global_variables}\")\n",
    "for data_adapter in data.config.data_adapters:\n",
    "    print(f\"Data apdater: {data_adapter}\")"
   ]
  },
  {
   "attachments": {},
   "cell_type": "markdown",
   "metadata": {},
   "source": [
    "### Invoerbestand (CSV) met data van belastinglocaties\n",
    "Verplichte velden (schema):\n",
    "- measurement_location_id: int64\n",
    "- measurement_location_code: object (string)\n",
    "- measurement_location_description: object (string)\n",
    "\n",
    "measurement_location_id;measurement_location_code;measurement_location_description;source;tide\\\n",
    "1;Pannerdense-kop(PANN);Pannerdense kop;WaterInfo;false\\\n",
    "2;MPN-N-24;Meetpunt Spijkerboor;FEWS;false\\\n",
    "3;hoekvanholland;Hoek van Holland;NOOS Matroos;true\\\n",
    "4;9889;Hintham beneden;RWS Waterwebservices;false"
   ]
  },
  {
   "attachments": {},
   "cell_type": "markdown",
   "metadata": {},
   "source": [
    "### Laad module (functie) LoadsWaterinfo voor inlezen belastingen uit RWS Waterinfo"
   ]
  },
  {
   "cell_type": "code",
   "execution_count": null,
   "metadata": {},
   "outputs": [],
   "source": [
    "from toolbox_continu_inzicht.loads import LoadsWaterinfo\n",
    "\n",
    "waterinfo = LoadsWaterinfo(data_adapter=data)"
   ]
  },
  {
   "attachments": {},
   "cell_type": "markdown",
   "metadata": {},
   "source": [
    "### Run module (functie) LoadsWaterinfo voor inlezen waterstanden uit Waterinfo\n",
    "LET OP: zoek op basis van een measurement_location_code die in RWS WaterInfo overeenkomt met ['locationCodes'](https://waterinfo.rws.nl/api/chart/get?mapType=waterhoogte&locationCodes=Pannerdense-kop(PANN)&values=-48%2C48)"
   ]
  },
  {
   "cell_type": "code",
   "execution_count": null,
   "metadata": {},
   "outputs": [],
   "source": [
    "ds = waterinfo.run(input=\"BelastingLocaties_WaterInfo\", output=\"Waterstanden_WaterInfo\")"
   ]
  },
  {
   "cell_type": "code",
   "execution_count": null,
   "metadata": {},
   "outputs": [],
   "source": [
    "measuringlocations = waterinfo.df_in\n",
    "measuringlocations"
   ]
  },
  {
   "cell_type": "code",
   "execution_count": null,
   "metadata": {},
   "outputs": [],
   "source": [
    "waterlevels = waterinfo.df_out\n",
    "waterlevels"
   ]
  },
  {
   "attachments": {},
   "cell_type": "markdown",
   "metadata": {},
   "source": [
    "### Laad en run module (functie) LoadsFEWS voor inlezen belastingen uit FEWS\n",
    "LET OP: zoek op basis van een measurement_location_code die in FEWS overeenkomt met ['locationId'](https://fews.hhnk.nl/FewsWebServices/rest/fewspiservice/v1/locations)<br>\n",
    "![image info](data_demo/images/FEWS_locationIs.PNG)\n",
    "\n",
    "FEWS is niet extern bereikbaar"
   ]
  },
  {
   "cell_type": "code",
   "execution_count": null,
   "metadata": {},
   "outputs": [],
   "source": [
    "# from toolbox_continu_inzicht.loads import LoadsFews\n",
    "\n",
    "# fews = LoadsFews(data_adapter=data)\n",
    "# ds = fews.run(input=\"BelastingLocaties_FEWS\", output=\"Waterstanden_FEWS\")"
   ]
  },
  {
   "cell_type": "code",
   "execution_count": null,
   "metadata": {},
   "outputs": [],
   "source": [
    "# measuringlocations = fews.df_in\n",
    "# measuringlocations"
   ]
  },
  {
   "cell_type": "code",
   "execution_count": null,
   "metadata": {},
   "outputs": [],
   "source": [
    "# waterlevels = fews.df_out\n",
    "# waterlevels"
   ]
  },
  {
   "attachments": {},
   "cell_type": "markdown",
   "metadata": {},
   "source": [
    "### Laad en run module (functie) LoadsMatroos voor inlezen belastingen uit Matroos\n",
    "LET OP: zoek op basis van een measurement_location_code die in (NOOS) Matroos overeenkomt met ['Location' -> loc_id!](https://vitaal.matroos.rws.nl/matroos/php/image_series.php?type=image&source_id=156&loc_id=7&unit_id=1&colors=blue&ymin=0&ymax=0&label=0&alarm=0&alert=0&prealert=0&localtime_offset=0&tcurrent=2024-11-11%2019:38:11&tstart=2024-11-10%2000:00:00&tstop=2024-11-13%2000:00:00&anal_time=2024-11-11%2000:00:00)"
   ]
  },
  {
   "cell_type": "code",
   "execution_count": null,
   "metadata": {},
   "outputs": [],
   "source": [
    "from toolbox_continu_inzicht.loads import LoadsMatroos\n",
    "\n",
    "matroos = LoadsMatroos(data_adapter=data)\n",
    "ds = matroos.run(input=\"BelastingLocaties_Matroos\", output=\"Waterstanden_Matroos\")"
   ]
  },
  {
   "cell_type": "code",
   "execution_count": null,
   "metadata": {},
   "outputs": [],
   "source": [
    "measuringlocations = matroos.df_in\n",
    "measuringlocations"
   ]
  },
  {
   "cell_type": "code",
   "execution_count": null,
   "metadata": {},
   "outputs": [],
   "source": [
    "waterlevels = matroos.df_out\n",
    "waterlevels"
   ]
  },
  {
   "attachments": {},
   "cell_type": "markdown",
   "metadata": {},
   "source": [
    "### Laad en run module (functie) LoadsWaterwebservicesRWS voor inlezen belastingen uit RWS Waterwebservices\n",
    "LET OP: zoek op basis van een measurement_location_code die in RWS WaterWebservices overeenkomt met Locatie_MessageID!\\\n",
    "![image info](data_demo/images/WaterWebservicesRWS_Locatie_MessageId.PNG)"
   ]
  },
  {
   "cell_type": "code",
   "execution_count": null,
   "metadata": {},
   "outputs": [],
   "source": [
    "from toolbox_continu_inzicht.loads import LoadsWaterwebservicesRWS\n",
    "\n",
    "waterwebservices_rws = LoadsWaterwebservicesRWS(data_adapter=data)\n",
    "ds = waterwebservices_rws.run(\n",
    "    input=\"BelastingLocaties_Waterwebservices_RWS\",\n",
    "    output=\"Waterstanden_Waterwebservices_RWS\",\n",
    ")"
   ]
  },
  {
   "cell_type": "code",
   "execution_count": null,
   "metadata": {},
   "outputs": [],
   "source": [
    "measuringlocations = waterwebservices_rws.df_in\n",
    "measuringlocations"
   ]
  },
  {
   "cell_type": "code",
   "execution_count": null,
   "metadata": {},
   "outputs": [],
   "source": [
    "waterlevels = waterwebservices_rws.df_out\n",
    "waterlevels"
   ]
  },
  {
   "attachments": {},
   "cell_type": "markdown",
   "metadata": {},
   "source": [
    "### Grafische weergave van resultaten in 4 grafieken"
   ]
  }
 ],
 "metadata": {
  "kernelspec": {
   "display_name": "Python 3",
   "language": "python",
   "name": "python3"
  },
  "language_info": {
   "codemirror_mode": {
    "name": "ipython",
    "version": 3
   },
   "file_extension": ".py",
   "mimetype": "text/x-python",
   "name": "python",
   "nbconvert_exporter": "python",
   "pygments_lexer": "ipython3",
   "version": "3.12.8"
  }
 },
 "nbformat": 4,
 "nbformat_minor": 2
}
