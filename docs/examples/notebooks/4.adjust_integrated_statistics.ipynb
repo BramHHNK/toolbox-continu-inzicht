{
 "cells": [
  {
   "cell_type": "markdown",
   "metadata": {},
   "source": [
    "---\n",
    "title : \"Aanpassen van geïntegreerde faalkans\"\n",
    "execute:\n",
    "    output: asis\n",
    "---\n",
    "\n",
    "Voor de module impactanalyse kan een totale of geïntegreerde faalkans worden berekend. \n",
    "Dit is een combinatie van een overschrijdingsfrequentielijn en een fragility curve. \n",
    "Om het mogelijk te maken om de fragility curve aan te passen kan de functie `FragilityCurve.reliability_update()` worden gebruikt.\n",
    "Het process van combineren, aanpassen en weer combineren wordt hier weergegeven."
   ]
  },
  {
   "cell_type": "code",
   "execution_count": null,
   "metadata": {},
   "outputs": [],
   "source": [
    "from pathlib import Path\n",
    "\n",
    "import matplotlib.pyplot as plt\n",
    "\n",
    "\n",
    "from toolbox_continu_inzicht import Config, DataAdapter"
   ]
  },
  {
   "cell_type": "code",
   "execution_count": null,
   "metadata": {},
   "outputs": [],
   "source": [
    "path = Path.cwd() / \"data_sets\"\n",
    "config = Config(config_path=path / \"integrate_statistics.yaml\")\n",
    "config.lees_config()\n",
    "data_adapter = DataAdapter(config=config)"
   ]
  },
  {
   "cell_type": "code",
   "execution_count": null,
   "metadata": {},
   "outputs": [],
   "source": [
    "from toolbox_continu_inzicht.fragility_curves import IntegrateFragilityCurve"
   ]
  },
  {
   "cell_type": "markdown",
   "metadata": {},
   "source": [
    "Voor het bepalen van een totale jaarlijkse kans combineren we een conditionele kans (fragility curve, wat iets zegt over de sterkte) met een kans dat die belasting optreedt (waterstands frequentiecurve). Hiervoor maken we gebruik van de functie `IntegrateFragilityCurve`. "
   ]
  },
  {
   "cell_type": "code",
   "execution_count": null,
   "metadata": {},
   "outputs": [],
   "source": [
    "fig, ax = plt.subplots(1)\n",
    "fragility_curve_df = data_adapter.input(\"fragility_curve_csv\")\n",
    "exceedance_curve_df = data_adapter.input(\"exceedance_curve_csv\")\n",
    "\n",
    "fragility_curve_df.plot(x=\"hydraulicload\", ax=ax)\n",
    "ax.set_ylabel(\"Failure probability\")\n",
    "ax2 = ax.twinx()\n",
    "exceedance_curve_df.plot(x=\"hydraulicload\", ax=ax2, color=\"C1\")\n",
    "\n",
    "# maak een mooie legenda\n",
    "ax2.legend().remove()\n",
    "handles, labels = ax.get_legend_handles_labels()\n",
    "handles_, labels_ = ax2.get_legend_handles_labels()\n",
    "ax.legend(handles + handles_, labels + labels_);"
   ]
  },
  {
   "cell_type": "markdown",
   "metadata": {},
   "source": [
    "Met de functie `IntegrateFragilityCurve` integreren we de fragility curve uit"
   ]
  },
  {
   "cell_type": "code",
   "execution_count": null,
   "metadata": {},
   "outputs": [],
   "source": [
    "integrate_statistics_per_section = IntegrateFragilityCurve(data_adapter=data_adapter)\n",
    "integrate_statistics_per_section.run(\n",
    "    input=[\"exceedance_curve_csv\", \"fragility_curve_csv\"], output=\"result\"\n",
    ")"
   ]
  },
  {
   "cell_type": "markdown",
   "metadata": {},
   "source": [
    "Deze kans voor een gegeven waterstand kunnen we weergeven in een grafiek"
   ]
  },
  {
   "cell_type": "code",
   "execution_count": null,
   "metadata": {},
   "outputs": [],
   "source": [
    "initial_integrated_curve = integrate_statistics_per_section.df_out\n",
    "fig, ax = plt.subplots()\n",
    "ax.bar(\n",
    "    initial_integrated_curve[\"hydraulicload\"],\n",
    "    initial_integrated_curve[\"probability_contribution\"],\n",
    "    width=0.1,\n",
    ")\n",
    "ax.set_xlim([0, 10])\n",
    "ax.set_xlabel(\"Water level\")\n",
    "ax.set_ylabel(\"Probability contribution\");"
   ]
  },
  {
   "cell_type": "markdown",
   "metadata": {},
   "source": [
    "In sommige gevallen wil een beheerder dit aanpassen, bijvoorbeeld omdat hij weet dat een bepaalde waterstand al is opgetreden. Dit aanpassen kan met de functie `FragilityCurve.reliability_update()`"
   ]
  },
  {
   "cell_type": "code",
   "execution_count": null,
   "metadata": {},
   "outputs": [],
   "source": [
    "from toolbox_continu_inzicht.base.fragility_curve import FragilityCurve"
   ]
  },
  {
   "cell_type": "code",
   "execution_count": null,
   "metadata": {},
   "outputs": [],
   "source": [
    "update_level = 4.3\n",
    "trust_factor = 1\n",
    "\n",
    "fragility_curve = FragilityCurve(data_adapter=data_adapter)\n",
    "fragility_curve.load(\"fragility_curve_csv\")\n",
    "fragility_curve.reliability_update(update_level=update_level, trust_factor=trust_factor)"
   ]
  },
  {
   "cell_type": "markdown",
   "metadata": {},
   "source": [
    "Hier komt een nieuwe curve uit"
   ]
  },
  {
   "cell_type": "code",
   "execution_count": null,
   "metadata": {},
   "outputs": [],
   "source": [
    "data_adapter.set_dataframe_adapter(\n",
    "    \"updated_fragility_curve\", fragility_curve.as_dataframe(), if_not_exist=\"create\"\n",
    ")"
   ]
  },
  {
   "cell_type": "markdown",
   "metadata": {},
   "source": [
    "Hier kunnen we opnieuw voor integreren en en we zien dat de curve naar rechts is opgeschoven."
   ]
  },
  {
   "cell_type": "code",
   "execution_count": null,
   "metadata": {},
   "outputs": [],
   "source": [
    "integrate_statistics_per_section = IntegrateFragilityCurve(data_adapter=data_adapter)\n",
    "integrate_statistics_per_section.run(\n",
    "    input=[\"exceedance_curve_csv\", \"updated_fragility_curve\"], output=\"result\"\n",
    ")"
   ]
  },
  {
   "cell_type": "code",
   "execution_count": null,
   "metadata": {},
   "outputs": [],
   "source": [
    "df_out = integrate_statistics_per_section.df_out\n",
    "fig, ax = plt.subplots()\n",
    "ax.bar(\n",
    "    initial_integrated_curve[\"hydraulicload\"],\n",
    "    initial_integrated_curve[\"probability_contribution\"],\n",
    "    width=0.1,\n",
    ")\n",
    "ax.bar(df_out[\"hydraulicload\"], df_out[\"probability_contribution\"], width=0.1)\n",
    "ax.set_xlim([0, 10])\n",
    "ax.set_xlabel(\"Water level\")\n",
    "ax.set_ylabel(\"Probability contribution\");"
   ]
  },
  {
   "cell_type": "code",
   "execution_count": null,
   "metadata": {},
   "outputs": [],
   "source": []
  }
 ],
 "metadata": {
  "kernelspec": {
   "display_name": "default",
   "language": "python",
   "name": "python3"
  },
  "language_info": {
   "codemirror_mode": {
    "name": "ipython",
    "version": 3
   },
   "file_extension": ".py",
   "mimetype": "text/x-python",
   "name": "python",
   "nbconvert_exporter": "python",
   "pygments_lexer": "ipython3",
   "version": "3.13.2"
  }
 },
 "nbformat": 4,
 "nbformat_minor": 2
}
