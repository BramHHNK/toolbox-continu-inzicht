{
 "cells": [
  {
   "cell_type": "markdown",
   "metadata": {},
   "source": [
    "---\n",
    "title : \"Architectuur voorbeeld\"\n",
    "excecute:\n",
    "    output: asis\n",
    "---"
   ]
  },
  {
   "cell_type": "markdown",
   "metadata": {},
   "source": [
    "Hieronder wordt één voorbeeld gegeven van hoe de architectuur werkt. \n",
    "In de linker balk zijn nog een aantal voorbeelden te vinden van hoe de toolbox gebruikt kan worden. <br>\n",
    "\n",
    "De voorbeelden die hier in de documentatie te vinden zijn staan met de juiste data en configuratie bestanden op GitHub onder [toolbox-continu-inzicht/docs/examples/notebooks/](https://github.com/continu-inzicht/toolbox-continu-inzicht/tree/main/docs/examples/notebooks). \n",
    "\n",
    "Daarnaast zijn tijden het ontwikkelen ook demo's en integratie testen te vinden onder [toolbox-continu-inzicht/tests/examples/](https://github.com/continu-inzicht/toolbox-continu-inzicht/tree/main/tests/examples)."
   ]
  },
  {
   "cell_type": "markdown",
   "metadata": {},
   "source": [
    "Om de architectuur weer te geven wordt een simple voorbeeld gegeven met de `proof_of_concept` functie. \n",
    "Deze functie doet niks anders dan vermenigvuldigen en delen maar dit geeft wel de werking van de opzet weer. \n",
    "\n",
    "\n",
    "De verschillende bouwstenen van de code is hier onder weergegeven:\n",
    "\n",
    "![Opbouw van de code](../../assets/opbouw_code.png)\n",
    "\n",
    "De architectuur is ontworpen om het principe van een data adapter dier er voor zorgt dat het format waar de functie vanuit leest en naar toe wegschrijft makkelijk aangepast kan worden door de gebruiker. \n",
    "\n",
    "Een voorbeeld van hoe dit er uitziet voor het inladen van CSV en wegschrijven naar csv is hieronder weergegeven.\n",
    "\n",
    "![Voorbeeld inlezen en wegschrijven met csv](../../assets/voorbeeld_config_csv.png)\n"
   ]
  },
  {
   "cell_type": "markdown",
   "metadata": {},
   "source": [
    "#  importeer de benodigde functies"
   ]
  },
  {
   "cell_type": "code",
   "execution_count": null,
   "metadata": {},
   "outputs": [],
   "source": [
    "from toolbox_continu_inzicht import Config"
   ]
  },
  {
   "cell_type": "markdown",
   "metadata": {},
   "source": [
    "## Voorbeeld met CSV\n",
    "Het uitgangspunt van een architectuur is dat de verschillende functies werken met verschillende data formaten. Om dit mogelijk te maken wordt gebruik gemaakt van data adapters. Deze lezen data die de functie in gaat en schrijven het vervolgens weg. Om duidelijk te maken in welk formaat je weg wilt schrijven of wilt inlezen wordt gebruik gemaakt van een configuratie bestand. Dit is een `.yaml` bestand, hieronder wordt een voorbeeld gegeven hoe je dit zou opzetten met het configuratie bestand `test_config.yaml`.\n",
    "\n",
    "```yaml\n",
    "GlobalVariables:\n",
    "    rootdir: \"data_sets\"\n",
    "\n",
    "DataAdapter:\n",
    "    default_options:\n",
    "        postgresql_database:\n",
    "            database: \"citoolbox\"\n",
    "            schema: \"citoolbox_schema\"\n",
    "    \n",
    "    my_csv_in: \n",
    "        type: csv\n",
    "        file: \"test_csv_in.csv\"\n",
    "    my_csv_out: \n",
    "        type: csv\n",
    "        file: \"test_csv_out.csv\"\n",
    "    my_postgresql: \n",
    "        type: postgresql_database\n",
    "        table: data\n",
    "\n",
    "...\n",
    "\n",
    "```\n",
    "\n",
    "In een configuratie bestand zijn een aantal instellingen verplicht. Het moet `GlobalVariables` bevatten met een `root_dir` en minimaal één `DataAdapter`. In sommige gevallen kan je ook met één DataAdapter uit de voeten, je gebruik dan dezelfde instellingen om te lezen en schrijven. Bij CSV is dit dan hetzelfde bestand, bij een database dezelfde tabel.  \n",
    "Een heel aantal data adapters worden standaard ondersteund en je kan makkelijk je eigen data adapter toevoegen. Onder het kopje [modules/architectuur](../../modules/architectuur.qmd) in de documentatie vindt je meer informatie over data adapters. \n",
    "\n",
    "Onder `GlobalVariables` zijn instellingen voor specifieke functies te vinden, maar ook instellingen die in meerdere functies gebruikt worden. Bijvoorbeeld de huidige berekening tijd (`calc_time`) of de tijden waarvoor voorspellingen worden berekend (`moments`). "
   ]
  },
  {
   "cell_type": "markdown",
   "metadata": {},
   "source": [
    "De configuratie kunnen we inlezen:"
   ]
  },
  {
   "cell_type": "code",
   "execution_count": null,
   "metadata": {},
   "outputs": [],
   "source": [
    "config = Config(config_path=\"data_sets/test_config.yaml\")\n",
    "config.lees_config()"
   ]
  },
  {
   "cell_type": "markdown",
   "metadata": {},
   "source": [
    "En de config mee geven aan de data adapter die we gebruiken"
   ]
  },
  {
   "cell_type": "code",
   "execution_count": null,
   "metadata": {},
   "outputs": [],
   "source": [
    "from toolbox_continu_inzicht import DataAdapter\n",
    "\n",
    "data_adapter = DataAdapter(config=config)"
   ]
  },
  {
   "cell_type": "markdown",
   "metadata": {},
   "source": [
    "De data adapter geef je vervolgens mee bij het aanmaken van een functie"
   ]
  },
  {
   "cell_type": "code",
   "execution_count": null,
   "metadata": {},
   "outputs": [],
   "source": [
    "from toolbox_continu_inzicht.proof_of_concept import ValuesTimesTwo\n",
    "\n",
    "keer_twee = ValuesTimesTwo(data_adapter=data_adapter)"
   ]
  },
  {
   "cell_type": "markdown",
   "metadata": {},
   "source": [
    "En vervolgens run je de module met een input en een output data adapter, dit bied flexibiliteit in welke in en uitvoer bestanden je gebruikt"
   ]
  },
  {
   "cell_type": "code",
   "execution_count": null,
   "metadata": {},
   "outputs": [],
   "source": [
    "keer_twee.run(input=\"my_csv_in\", output=\"my_csv_out\")"
   ]
  },
  {
   "cell_type": "code",
   "execution_count": null,
   "metadata": {},
   "outputs": [],
   "source": []
  },
  {
   "cell_type": "code",
   "execution_count": null,
   "metadata": {},
   "outputs": [],
   "source": [
    "keer_twee.df_in"
   ]
  },
  {
   "cell_type": "code",
   "execution_count": null,
   "metadata": {},
   "outputs": [],
   "source": [
    "keer_twee.df_out"
   ]
  },
  {
   "cell_type": "markdown",
   "metadata": {},
   "source": [
    "de `values` waardes uit de vorige table zijn vermenigvuldigd met twee"
   ]
  },
  {
   "cell_type": "markdown",
   "metadata": {},
   "source": [
    "Zelf proberen? Dit voorbeeld is te vinden op [Github](https://github.com/continu-inzicht/toolbox-continu-inzicht/tree/main/docs/examples/notebooks)"
   ]
  }
 ],
 "metadata": {
  "kernelspec": {
   "display_name": "default",
   "language": "python",
   "name": "python3"
  },
  "language_info": {
   "codemirror_mode": {
    "name": "ipython",
    "version": 3
   },
   "file_extension": ".py",
   "mimetype": "text/x-python",
   "name": "python",
   "nbconvert_exporter": "python",
   "pygments_lexer": "ipython3",
   "version": "3.13.2"
  }
 },
 "nbformat": 4,
 "nbformat_minor": 2
}
