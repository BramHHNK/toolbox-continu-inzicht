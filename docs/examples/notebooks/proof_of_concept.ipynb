{
 "cells": [
  {
   "cell_type": "markdown",
   "metadata": {},
   "source": [
    "---\n",
    "title : \"Voorbeelden\"\n",
    "excecute:\n",
    "    output: asis\n",
    "---"
   ]
  },
  {
   "cell_type": "markdown",
   "metadata": {},
   "source": [
    "Hieronder wordt één voorbeeld gegeven van hoe de architectuur werkt. Er zullen later nog meer voorbeelden aan toegevoegd worden. <br>\n",
    "Meer voorbeelden met de juiste data en configuratie bestanden zijn te vinden op github onder [toolbox-continu-inzicht/tests/](https://github.com/continu-inzicht/toolbox-continu-inzicht/tree/main/tests/)."
   ]
  },
  {
   "cell_type": "markdown",
   "metadata": {},
   "source": [
    "# Architectuur voorbeeld \n",
    "Om de architectuur weer te geven wordt een simple voorbeeld gegeven door een reeks keer twee en gedeelddoor te doen.\n",
    "\n",
    "De opbouw van de code is hier onder weergegeven:\n",
    "![opbouw_code](https://github.com/continu-inzicht/toolbox-continu-inzicht/blob/main/docs/assets/opbouw_code.png?raw=true)\n",
    "\n",
    "Een voorbeeld senario is het inladen van CSV en wegschrijven naar csv:\n",
    "\n",
    "![voorbeeld csv](https://github.com/continu-inzicht/toolbox-continu-inzicht/blob/main/docs/assets/voorbeeld_config_csv.png?raw=true)\n",
    "\n",
    "Aan de voorkant ziet dat er zo uit:"
   ]
  },
  {
   "cell_type": "markdown",
   "metadata": {},
   "source": [
    "#  importeer de benodigde functies"
   ]
  },
  {
   "cell_type": "code",
   "execution_count": null,
   "metadata": {},
   "outputs": [],
   "source": [
    "from toolbox_continu_inzicht import Config"
   ]
  },
  {
   "cell_type": "markdown",
   "metadata": {},
   "source": [
    "## Voorbeeld met CSV\n",
    "Lees de configuratie in:\n",
    "\n",
    "Dit leest een configuratie bestand `test_config.yaml` in: \n",
    "\n",
    "```yaml\n",
    "GlobalVariables:\n",
    "    rootdir: \"data_sets\"\n",
    "\n",
    "DataAdapter:\n",
    "    default_options:\n",
    "        postgresql_database:\n",
    "            database: \"citoolbox\"\n",
    "            schema: \"citoolbox_schema\"\n",
    "    \n",
    "    my_csv_in: \n",
    "        type: csv\n",
    "        file: \"test_csv_in.csv\"\n",
    "    my_csv_out: \n",
    "        type: csv\n",
    "        file: \"test_csv_out.csv\"\n",
    "    my_postgresql: \n",
    "        type: postgresql_database\n",
    "        table: data\n",
    "\n",
    "...\n",
    "\n",
    "```"
   ]
  },
  {
   "cell_type": "code",
   "execution_count": null,
   "metadata": {},
   "outputs": [],
   "source": [
    "c = Config(config_path=\"data_sets/test_config.yaml\")\n",
    "c.lees_config()"
   ]
  },
  {
   "cell_type": "markdown",
   "metadata": {},
   "source": [
    "Zet de data adapter klaar en geef deze de configuratie mee "
   ]
  },
  {
   "cell_type": "code",
   "execution_count": null,
   "metadata": {},
   "outputs": [],
   "source": [
    "from toolbox_continu_inzicht import DataAdapter\n",
    "\n",
    "data = DataAdapter(config=c)"
   ]
  },
  {
   "cell_type": "markdown",
   "metadata": {},
   "source": [
    "Run de module met CSV"
   ]
  },
  {
   "cell_type": "code",
   "execution_count": null,
   "metadata": {},
   "outputs": [],
   "source": [
    "from toolbox_continu_inzicht.proof_of_concept import ValuesTimesTwo\n",
    "\n",
    "keer_twee = ValuesTimesTwo(data_adapter=data)"
   ]
  },
  {
   "cell_type": "code",
   "execution_count": null,
   "metadata": {},
   "outputs": [],
   "source": [
    "keer_twee.run(input=\"my_csv_in\", output=\"my_csv_out\")"
   ]
  },
  {
   "cell_type": "code",
   "execution_count": null,
   "metadata": {},
   "outputs": [],
   "source": [
    "keer_twee.df_in"
   ]
  },
  {
   "cell_type": "code",
   "execution_count": null,
   "metadata": {},
   "outputs": [],
   "source": [
    "keer_twee.df_out"
   ]
  },
  {
   "cell_type": "markdown",
   "metadata": {},
   "source": [
    "de `values` waardes uit de vorige table zijn vermenigvuldigd met twee"
   ]
  },
  {
   "cell_type": "markdown",
   "metadata": {},
   "source": [
    "Zelf proberen? Dit voorbeeld is te vinden op [Github](https://github.com/continu-inzicht/toolbox-continu-inzicht/tree/main/docs/examples/notebooks)"
   ]
  }
 ],
 "metadata": {
  "kernelspec": {
   "display_name": "default",
   "language": "python",
   "name": "python3"
  },
  "language_info": {
   "codemirror_mode": {
    "name": "ipython",
    "version": 3
   },
   "file_extension": ".py",
   "mimetype": "text/x-python",
   "name": "python",
   "nbconvert_exporter": "python",
   "pygments_lexer": "ipython3",
   "version": "3.12.6"
  }
 },
 "nbformat": 4,
 "nbformat_minor": 2
}
