{
 "cells": [
  {
   "cell_type": "markdown",
   "metadata": {},
   "source": [
    "---\n",
    "title : \"WMS laag toevoegen aan database voor viewer\"\n",
    "---"
   ]
  },
  {
   "cell_type": "code",
   "execution_count": null,
   "metadata": {},
   "outputs": [],
   "source": [
    "from pathlib import Path\n",
    "\n",
    "from toolbox_continu_inzicht.base.config import Config\n",
    "from toolbox_continu_inzicht.base.data_adapter import DataAdapter"
   ]
  },
  {
   "cell_type": "code",
   "execution_count": null,
   "metadata": {},
   "outputs": [],
   "source": [
    "path = Path.cwd() / \"data_sets\"\n",
    "config = Config(config_path=path / \"example_inspection.yaml\")\n",
    "config.lees_config()\n",
    "data_adapter = DataAdapter(config=config)"
   ]
  },
  {
   "cell_type": "code",
   "execution_count": null,
   "metadata": {},
   "outputs": [],
   "source": [
    "data_adapter.input(\"inspections_results\")"
   ]
  },
  {
   "cell_type": "markdown",
   "metadata": {},
   "source": [
    "We willen de volgende data toevoegen aan de viewer:"
   ]
  },
  {
   "cell_type": "code",
   "execution_count": null,
   "metadata": {},
   "outputs": [],
   "source": [
    "url = \"https://basisinformatie-overstromingen.nl/geoserver/LIWO_Basis/infrastructuur_dijkringen/ows?SERVICE=WMS&\"\n",
    "legend_url = \"https://geodata.basisinformatie-overstromingen.nl/geoserver/LIWO_Basis/infrastructuur_dijkringen/ows?service=WMS&version=1.3.0&request=GetLegendGraphic&format=image/png&width=20&height=20&layer=infrastructuur_dijkringen&\"\n",
    "layer_wms_layer = \"infrastructuur_dijkringen\"\n",
    "layer_wms_style = \"LIWO_Basis_Dijkringen\""
   ]
  },
  {
   "cell_type": "markdown",
   "metadata": {},
   "source": [
    "Het layers bestand bevat de standaard opties"
   ]
  },
  {
   "cell_type": "code",
   "execution_count": null,
   "metadata": {},
   "outputs": [],
   "source": [
    "df_layers = data_adapter.input(\"layers\")"
   ]
  },
  {
   "cell_type": "code",
   "execution_count": null,
   "metadata": {},
   "outputs": [],
   "source": [
    "df_layers"
   ]
  },
  {
   "cell_type": "markdown",
   "metadata": {},
   "source": [
    "We vullen alleen de eerste kolom met de dijkringen informatie"
   ]
  },
  {
   "cell_type": "code",
   "execution_count": null,
   "metadata": {},
   "outputs": [],
   "source": [
    "df_wms_laag = df_layers.iloc[[1]].copy()\n",
    "df_wms_laag.reset_index(drop=True, inplace=True)\n",
    "df_wms_laag.loc[0, \"group_name\"] = \"Dijkringen Nederland\"\n",
    "df_wms_laag.loc[0, \"layer_wms_url\"] = url\n",
    "df_wms_laag.loc[0, \"layer_wms_layer\"] = layer_wms_layer\n",
    "df_wms_laag.loc[0, \"layer_wms_style\"] = layer_wms_style\n",
    "df_wms_laag[\"layer_wms_legend_url\"] = df_wms_laag[\"layer_legend\"].astype(str)\n",
    "df_wms_laag.loc[0, \"layer_wms_legend_url\"] = legend_url\n",
    "df_wms_laag = df_wms_laag.fillna(\"\")\n",
    "df_wms_laag"
   ]
  },
  {
   "cell_type": "markdown",
   "metadata": {},
   "source": [
    "_Omdat database interactie op GitHub niet mogelijk wordt de onderstaande cell niet uitgevoerd, lokaal kan dit uiteraard wel_\n",
    "\n",
    "En vervolgens kunnen we deze naar de database zetten"
   ]
  },
  {
   "cell_type": "code",
   "execution_count": null,
   "metadata": {},
   "outputs": [],
   "source": [
    "# data_adapter.output(\"to_ci_database\", df_wms_laag)"
   ]
  }
 ],
 "metadata": {
  "kernelspec": {
   "display_name": "default",
   "language": "python",
   "name": "python3"
  },
  "language_info": {
   "codemirror_mode": {
    "name": "ipython",
    "version": 3
   },
   "file_extension": ".py",
   "mimetype": "text/x-python",
   "name": "python",
   "nbconvert_exporter": "python",
   "pygments_lexer": "ipython3",
   "version": "3.13.2"
  }
 },
 "nbformat": 4,
 "nbformat_minor": 2
}
