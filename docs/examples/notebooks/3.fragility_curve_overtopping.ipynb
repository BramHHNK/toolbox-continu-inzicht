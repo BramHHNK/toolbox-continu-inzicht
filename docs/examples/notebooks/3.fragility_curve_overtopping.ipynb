{
 "cells": [
  {
   "cell_type": "markdown",
   "metadata": {},
   "source": [
    "---\n",
    "title : \"Fragility Curve Overtopping\"\n",
    "excecute:\n",
    "    output: asis\n",
    "---"
   ]
  },
  {
   "cell_type": "code",
   "execution_count": null,
   "metadata": {},
   "outputs": [],
   "source": [
    "from pathlib import Path\n",
    "\n",
    "import matplotlib.pyplot as plt"
   ]
  },
  {
   "cell_type": "code",
   "execution_count": null,
   "metadata": {},
   "outputs": [],
   "source": [
    "from toolbox_continu_inzicht.fragility_curves import (\n",
    "    ChangeCrestHeightFragilityCurveOvertopping,\n",
    "    FragilityCurveOvertopping,\n",
    "    ShiftFragilityCurveOvertopping,\n",
    ")"
   ]
  },
  {
   "cell_type": "code",
   "execution_count": null,
   "metadata": {},
   "outputs": [],
   "source": [
    "from toolbox_continu_inzicht.base.data_adapter import Config, DataAdapter\n",
    "\n",
    "path = Path.cwd() / \"data_sets\"\n",
    "config = Config(config_path=path / \"test_fragility_curve_overtopping.yaml\")\n",
    "config.lees_config()\n",
    "data_adapter = DataAdapter(config=config)"
   ]
  },
  {
   "cell_type": "code",
   "execution_count": null,
   "metadata": {},
   "outputs": [],
   "source": [
    "fragility_curve_overtopping = FragilityCurveOvertopping(data_adapter=data_adapter)\n",
    "fragility_curve_overtopping.run(\n",
    "    input=[\"slopes\", \"profiles\", \"bedlevel_fetch\"],\n",
    "    output=\"fragility_curves\",\n",
    ")"
   ]
  },
  {
   "cell_type": "code",
   "execution_count": null,
   "metadata": {},
   "outputs": [],
   "source": [
    "fragility_curve_overtopping.df_out.set_index(\"waterlevels\").plot()"
   ]
  },
  {
   "cell_type": "code",
   "execution_count": null,
   "metadata": {},
   "outputs": [],
   "source": [
    "fragility_curve_overtopping.df_out"
   ]
  },
  {
   "cell_type": "code",
   "execution_count": null,
   "metadata": {},
   "outputs": [],
   "source": [
    "shift_fragility_curve_overtopping = ShiftFragilityCurveOvertopping(\n",
    "    data_adapter=data_adapter\n",
    ")\n",
    "\n",
    "shift_fragility_curve_overtopping.run(\n",
    "    input=[\"slopes\", \"profiles\", \"bedlevel_fetch\"],\n",
    "    output=\"fragility_curves\",\n",
    "    effect=0.5,\n",
    ")"
   ]
  },
  {
   "cell_type": "code",
   "execution_count": null,
   "metadata": {},
   "outputs": [],
   "source": [
    "fig, ax = plt.subplots(1, 1)\n",
    "fragility_curve_overtopping.df_out.set_index(\"waterlevels\").plot(ax=ax)\n",
    "shift_fragility_curve_overtopping.df_out.set_index(\"waterlevels\").plot(\n",
    "    ax=ax, linestyle=\"--\"\n",
    ")"
   ]
  },
  {
   "cell_type": "code",
   "execution_count": null,
   "metadata": {},
   "outputs": [],
   "source": [
    "change_crest_fragility_curve_overtopping = ChangeCrestHeightFragilityCurveOvertopping(\n",
    "    data_adapter=data_adapter\n",
    ")\n",
    "\n",
    "change_crest_fragility_curve_overtopping.run(\n",
    "    input=[\"slopes\", \"profiles\", \"bedlevel_fetch\"],\n",
    "    output=\"fragility_curves\",\n",
    "    effect=0.5,\n",
    ")"
   ]
  },
  {
   "cell_type": "code",
   "execution_count": null,
   "metadata": {},
   "outputs": [],
   "source": [
    "fig, ax = plt.subplots(1, 1)\n",
    "fragility_curve_overtopping.df_out.set_index(\"waterlevels\").plot(ax=ax)\n",
    "change_crest_fragility_curve_overtopping.df_out.set_index(\"waterlevels\").plot(\n",
    "    ax=ax, linestyle=\"--\"\n",
    ")"
   ]
  }
 ],
 "metadata": {
  "kernelspec": {
   "display_name": "default",
   "language": "python",
   "name": "python3"
  },
  "language_info": {
   "codemirror_mode": {
    "name": "ipython",
    "version": 3
   },
   "file_extension": ".py",
   "mimetype": "text/x-python",
   "name": "python",
   "nbconvert_exporter": "python",
   "pygments_lexer": "ipython3",
   "version": "3.12.8"
  }
 },
 "nbformat": 4,
 "nbformat_minor": 2
}
