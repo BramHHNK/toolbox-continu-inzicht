{
 "cells": [
  {
   "cell_type": "markdown",
   "metadata": {},
   "source": [
    "---\n",
    "title : \"Fragility Curve Overtopping\"\n",
    "excecute:\n",
    "    output: asis\n",
    "---"
   ]
  },
  {
   "cell_type": "markdown",
   "metadata": {},
   "source": [
    "Voor het berekenen van een fragility curve voor het mechanisme GEKB wordt gebruikt gemaakt van de [`pydra_core`](https://github.com/HKV-products-services/pydra_core) module, meer documentatie over de `pydra_core` module is [hier](https://hkv-products-services.github.io/pydra_core/) te vinden. \n",
    "\n",
    "De module wordt gebruikt om een overslag debiet te berekenen voor verschillende omstandigheden en op basis hiervan wordt een fragility curve opgesteld."
   ]
  },
  {
   "cell_type": "code",
   "execution_count": null,
   "metadata": {},
   "outputs": [],
   "source": [
    "from pathlib import Path\n",
    "\n",
    "import matplotlib.pyplot as plt\n",
    "\n",
    "from toolbox_continu_inzicht.fragility_curves import (\n",
    "    ChangeCrestHeightFragilityCurveOvertopping,\n",
    "    FragilityCurveOvertopping,\n",
    "    ShiftFragilityCurveOvertopping,\n",
    ")"
   ]
  },
  {
   "cell_type": "code",
   "execution_count": null,
   "metadata": {},
   "outputs": [],
   "source": [
    "from toolbox_continu_inzicht.base.data_adapter import Config, DataAdapter\n",
    "\n",
    "path = Path.cwd() / \"data_sets\"\n",
    "config = Config(config_path=path / \"test_fragility_curve_overtopping.yaml\")\n",
    "config.lees_config()\n",
    "data_adapter = DataAdapter(config=config)"
   ]
  },
  {
   "cell_type": "markdown",
   "metadata": {},
   "source": [
    "De volgende configuratie wordt gebruikt voor het maken van een GEKB curve\n",
    "```yaml\n",
    "GlobalVariables:\n",
    "    rootdir: \"data_sets\"\n",
    "    moments: [-24,0,24,48]\n",
    "\n",
    "    # default waardes, kunnen hier worden overschreven\n",
    "    FragilityCurveOvertopping:\n",
    "        gh_onz_mu: 0.96 \n",
    "        gh_onz_sigma: 0.27\n",
    "        gp_onz_mu_tp: 1.03\n",
    "        gp_onz_sigma_tp: 0.13\n",
    "        gp_onz_mu_tspec: 1.03\n",
    "        gp_onz_sigma_tspec: 0.13\n",
    "        gh_onz_aantal: 7\n",
    "        gp_onz_aantal: 7\n",
    "        tp_tspec: 1.1\n",
    "        lower_limit_coarse: 4.0\n",
    "        upper_limit_coarse: 2.0\n",
    "        upper_limit_fine: 1.0\n",
    "        hstap: 0.05\n",
    "\n",
    "DataAdapter:\n",
    "    default_options:\n",
    "        csv:\n",
    "            sep: \",\"\n",
    "    slopes:\n",
    "        type: csv\n",
    "        file: \"slopes_5.csv\"\n",
    "    profiles:\n",
    "        type: csv\n",
    "        file: \"profiles_new.csv\"\n",
    "    bedlevel_fetch:\n",
    "        type: csv\n",
    "        file: \"bedlevelfetch_11.csv\"\n",
    "    fragility_curves:\n",
    "        type: csv\n",
    "        file: \"fragility_curves_5.csv\"\n",
    "\n",
    "```"
   ]
  },
  {
   "cell_type": "markdown",
   "metadata": {},
   "source": [
    "Er zijn drie verschillende data bestanden nodig.<br>\n",
    "Ten eerst een table met de informatie over de helling (slope) waarvoor de curve wordt afgeleid"
   ]
  },
  {
   "cell_type": "code",
   "execution_count": null,
   "metadata": {},
   "outputs": [],
   "source": [
    "data_adapter.input(\"slopes\")"
   ]
  },
  {
   "cell_type": "markdown",
   "metadata": {},
   "source": [
    "Ten tweede informatie over de hoogte van de kruin, de oriëntatie, of er een dam is, maatgevende windsnelheid enz."
   ]
  },
  {
   "cell_type": "code",
   "execution_count": null,
   "metadata": {},
   "outputs": [],
   "source": [
    "data_adapter.input(\"profiles\")"
   ]
  },
  {
   "cell_type": "markdown",
   "metadata": {},
   "source": [
    "Ten derde informatie over het bodemprofiel:"
   ]
  },
  {
   "cell_type": "code",
   "execution_count": null,
   "metadata": {},
   "outputs": [],
   "source": [
    "data_adapter.input(\"bedlevel_fetch\").head(4)  # (ingekorte versie)"
   ]
  },
  {
   "cell_type": "markdown",
   "metadata": {},
   "source": [
    "Deze informatie wordt mee gegeven aan de FragilityCurveOvertopping voor het genereren van een curve"
   ]
  },
  {
   "cell_type": "code",
   "execution_count": null,
   "metadata": {},
   "outputs": [],
   "source": [
    "fragility_curve_overtopping = FragilityCurveOvertopping(data_adapter=data_adapter)\n",
    "fragility_curve_overtopping.run(\n",
    "    input=[\"slopes\", \"profiles\", \"bedlevel_fetch\"],\n",
    "    output=\"fragility_curves\",\n",
    ")"
   ]
  },
  {
   "cell_type": "markdown",
   "metadata": {},
   "source": [
    "Deze  curve kunnen we vervolgens weergeven:"
   ]
  },
  {
   "cell_type": "code",
   "execution_count": null,
   "metadata": {},
   "outputs": [],
   "source": [
    "fig, ax = plt.subplots()\n",
    "fragility_curve_overtopping.as_dataframe().set_index(\"hydraulicload\").plot(ax=ax)\n",
    "ax.set_ylabel(\"Failure probability\");"
   ]
  },
  {
   "cell_type": "markdown",
   "metadata": {},
   "source": [
    "In sommige gevallen wil je een fragility curve ook aan kunnen passen, om dit mogelijk te maken zijn verschillende functie beschikbaar die het zelfde doen als de originele functie maar een kleine, door de gebruiker opgelegde, aanpassingen doen. <br>\n",
    "Zo verschuift de functie `ShiftFragilityCurveOvertopping` de fragility curve met een effect. "
   ]
  },
  {
   "cell_type": "code",
   "execution_count": null,
   "metadata": {},
   "outputs": [],
   "source": [
    "shift_fragility_curve_overtopping = ShiftFragilityCurveOvertopping(\n",
    "    data_adapter=data_adapter\n",
    ")\n",
    "\n",
    "shift_fragility_curve_overtopping.run(\n",
    "    input=[\"slopes\", \"profiles\", \"bedlevel_fetch\"],\n",
    "    output=\"fragility_curves\",\n",
    "    effect=0.5,\n",
    ")"
   ]
  },
  {
   "cell_type": "code",
   "execution_count": null,
   "metadata": {},
   "outputs": [],
   "source": [
    "fig, ax = plt.subplots(1, 1)\n",
    "\n",
    "# pas de namen van de kolommen aan voor de plot\n",
    "df_overtopping = (\n",
    "    fragility_curve_overtopping.as_dataframe()\n",
    "    .set_index(\"hydraulicload\")\n",
    "    .rename(columns={\"failure_probability\": \"original\"})\n",
    ")\n",
    "df_overtopping_shift = (\n",
    "    shift_fragility_curve_overtopping.as_dataframe()\n",
    "    .set_index(\"hydraulicload\")\n",
    "    .rename(columns={\"failure_probability\": \"shifted\"})\n",
    ")\n",
    "\n",
    "# plotten\n",
    "df_overtopping.plot(ax=ax)\n",
    "df_overtopping_shift.plot(ax=ax, linestyle=\"--\", label=\"shifted\")\n",
    "ax.set_ylabel(\"Failure probability\");"
   ]
  },
  {
   "cell_type": "markdown",
   "metadata": {},
   "source": [
    "Waar verschuiven een relatief simple nabewerking op de data is, kunnen aanpassingen aan de berekening zelf 'on-the-fly' plaatsvinden. <br>\n",
    "Zo kan als maatregel de kruinhoogte worden verhoogt, met de functie `ChangeCrestHeightFragilityCurveOvertopping` is dit mogelijk."
   ]
  },
  {
   "cell_type": "code",
   "execution_count": null,
   "metadata": {},
   "outputs": [],
   "source": [
    "change_crest_fragility_curve_overtopping = ChangeCrestHeightFragilityCurveOvertopping(\n",
    "    data_adapter=data_adapter\n",
    ")\n",
    "\n",
    "change_crest_fragility_curve_overtopping.run(\n",
    "    input=[\"slopes\", \"profiles\", \"bedlevel_fetch\"],\n",
    "    output=\"fragility_curves\",\n",
    "    effect=0.5,\n",
    ")"
   ]
  },
  {
   "cell_type": "code",
   "execution_count": null,
   "metadata": {},
   "outputs": [],
   "source": [
    "fig, ax = plt.subplots(1, 1)\n",
    "\n",
    "# pas de namen van de kolom aan voor de plot\n",
    "df_overtopping_change_crest = (\n",
    "    change_crest_fragility_curve_overtopping.as_dataframe()\n",
    "    .set_index(\"hydraulicload\")\n",
    "    .rename(columns={\"failure_probability\": \"change crest\"})\n",
    ")\n",
    "\n",
    "# plotten\n",
    "df_overtopping.plot(ax=ax)\n",
    "df_overtopping_change_crest.plot(ax=ax, linestyle=\"--\")\n",
    "ax.set_ylabel(\"Failure probability\");"
   ]
  }
 ],
 "metadata": {
  "kernelspec": {
   "display_name": "default",
   "language": "python",
   "name": "python3"
  },
  "language_info": {
   "codemirror_mode": {
    "name": "ipython",
    "version": 3
   },
   "file_extension": ".py",
   "mimetype": "text/x-python",
   "name": "python",
   "nbconvert_exporter": "python",
   "pygments_lexer": "ipython3",
   "version": "3.13.2"
  }
 },
 "nbformat": 4,
 "nbformat_minor": 2
}
