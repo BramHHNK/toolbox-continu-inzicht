{
 "cells": [
  {
   "cell_type": "markdown",
   "metadata": {},
   "source": [
    "---\n",
    "title : \"Gebruik van logging\"\n",
    "excecute:\n",
    "    output: asis\n",
    "---"
   ]
  },
  {
   "cell_type": "markdown",
   "metadata": {},
   "source": [
    "Om fouten beter af te vangen en te verwerken in de toolbox kan logging worden ingesteld via de data adapter"
   ]
  },
  {
   "cell_type": "code",
   "execution_count": null,
   "metadata": {},
   "outputs": [],
   "source": [
    "import logging\n",
    "from pathlib import Path\n",
    "\n",
    "from toolbox_continu_inzicht import Config, DataAdapter"
   ]
  },
  {
   "cell_type": "markdown",
   "metadata": {},
   "source": [
    "Bij het aanmaken van een data adapter voegen we een basis logger object toe.\n",
    "\n",
    "Hier zitten verder geen instelling aan gekoppeld, maar wordt de log 'terug gegeven' aan de gebruiker. "
   ]
  },
  {
   "cell_type": "markdown",
   "metadata": {},
   "source": [
    "```yaml\n",
    "GlobalVariables:\n",
    "    rootdir: 'data_sets'\n",
    "\n",
    "DataAdapter:\n",
    "    mycsv_in:\n",
    "        type: csv\n",
    "        file: 'test_csv_in.csv'\n",
    "```"
   ]
  },
  {
   "cell_type": "code",
   "execution_count": null,
   "metadata": {},
   "outputs": [],
   "source": [
    "data_path = Path.cwd() / \"data_sets\"\n",
    "config = Config(config_path=data_path / \"test_config.yaml\")\n",
    "config.lees_config()\n",
    "data_adapter = DataAdapter(config=config)"
   ]
  },
  {
   "cell_type": "markdown",
   "metadata": {},
   "source": [
    "Het standaard niveau is `WARNING`, test en info zien we dan niet "
   ]
  },
  {
   "cell_type": "code",
   "execution_count": null,
   "metadata": {},
   "outputs": [],
   "source": [
    "data_adapter.logger.info(\"test\")"
   ]
  },
  {
   "cell_type": "code",
   "execution_count": null,
   "metadata": {},
   "outputs": [],
   "source": [
    "data_adapter.logger.warning(\"test\")"
   ]
  },
  {
   "cell_type": "markdown",
   "metadata": {},
   "source": [
    "Zo kunnen we bijvoorbeeld het niveau aanpassen:\n",
    "```yaml\n",
    "GlobalVariables:\n",
    "    rootdir: 'data_sets'\n",
    "    logging:\n",
    "        level: DEBUG\n",
    "\n",
    "DataAdapter:\n",
    "    mycsv_in:\n",
    "        type: csv\n",
    "        file: 'test_csv_in.csv'\n",
    "``` "
   ]
  },
  {
   "cell_type": "code",
   "execution_count": null,
   "metadata": {},
   "outputs": [],
   "source": [
    "data_path = Path.cwd() / \"data_sets\"\n",
    "config = Config(config_path=data_path / \"test_config_debug_logging.yaml\")\n",
    "config.lees_config()\n",
    "data_adapter = DataAdapter(config=config)"
   ]
  },
  {
   "cell_type": "markdown",
   "metadata": {},
   "source": [
    "Dan zien we ineens meer logging informatie"
   ]
  },
  {
   "cell_type": "code",
   "execution_count": null,
   "metadata": {},
   "outputs": [],
   "source": [
    "data_adapter.input(\"mycsv_in\")"
   ]
  },
  {
   "cell_type": "markdown",
   "metadata": {},
   "source": [
    "Het logging object heeft standaard de naam \"toolbox_continu_inzicht\", met de standaard python functionaliteit kunnen we er bij "
   ]
  },
  {
   "cell_type": "code",
   "execution_count": null,
   "metadata": {},
   "outputs": [],
   "source": [
    "get_log = logging.getLogger(\"toolbox_continu_inzicht\")\n",
    "get_log"
   ]
  },
  {
   "cell_type": "markdown",
   "metadata": {},
   "source": [
    "of via de data adapter"
   ]
  },
  {
   "cell_type": "code",
   "execution_count": null,
   "metadata": {},
   "outputs": [],
   "source": [
    "data_adapter.logger"
   ]
  },
  {
   "cell_type": "markdown",
   "metadata": {},
   "source": [
    "Maken we een nieuwe data adapter aan, dan gaat de logging naar het zelfde object, mits we de naam niet aanpassen. "
   ]
  },
  {
   "cell_type": "code",
   "execution_count": null,
   "metadata": {},
   "outputs": [],
   "source": [
    "from toolbox_continu_inzicht.proof_of_concept import ValuesDivideTwo"
   ]
  },
  {
   "cell_type": "code",
   "execution_count": null,
   "metadata": {},
   "outputs": [],
   "source": [
    "data_path = Path.cwd() / \"data_sets\"\n",
    "config = Config(config_path=data_path / \"test_config_debug_logging.yaml\")\n",
    "config.lees_config()\n",
    "data_adapter = DataAdapter(config=config)\n",
    "values_divide_two = ValuesDivideTwo(data_adapter=data_adapter)\n",
    "values_divide_two.run(input=\"mycsv_in\", output=\"mycsv_out\")"
   ]
  },
  {
   "cell_type": "markdown",
   "metadata": {},
   "source": [
    "Tot nu toe ging de logging alleen naar de gebruiker (stderr), maar we kunnen het ook opslaan\n",
    "\n",
    "```yaml\n",
    "GlobalVariables:\n",
    "    rootdir: 'data_sets'\n",
    "    logging:\n",
    "        name:  toolbox_continu_inzicht  # default\n",
    "        level: DEBUG\n",
    "        mode:  w                        # default\n",
    "        file:  hidden_logfile_advanced.log\n",
    "        \n",
    "DataAdapter:\n",
    "    mycsv_in:\n",
    "        type: csv\n",
    "        file: 'test_csv_in.csv'\n",
    "\n",
    "```"
   ]
  },
  {
   "cell_type": "code",
   "execution_count": null,
   "metadata": {},
   "outputs": [],
   "source": [
    "data_path = Path.cwd() / \"data_sets\"\n",
    "config = Config(config_path=data_path / \"test_config_advanced_logging.yaml\")\n",
    "config.lees_config()\n",
    "data_adapter = DataAdapter(config=config)"
   ]
  },
  {
   "cell_type": "markdown",
   "metadata": {},
   "source": [
    "Zo zien we nu naast de `StreamHandler` ook een `FileHandler`"
   ]
  },
  {
   "cell_type": "code",
   "execution_count": null,
   "metadata": {},
   "outputs": [],
   "source": [
    "get_log.handlers"
   ]
  },
  {
   "cell_type": "code",
   "execution_count": null,
   "metadata": {},
   "outputs": [],
   "source": [
    "data_adapter.logger.debug(\"add own error\")"
   ]
  },
  {
   "cell_type": "markdown",
   "metadata": {},
   "source": [
    "Ook deze blijft hetzelfde ookal maken wij een nieuw object aan"
   ]
  },
  {
   "cell_type": "code",
   "execution_count": null,
   "metadata": {},
   "outputs": [],
   "source": [
    "data_path = Path.cwd() / \"data_sets\"\n",
    "config = Config(config_path=data_path / \"test_config_advanced_logging.yaml\")\n",
    "config.lees_config()\n",
    "data_adapter = DataAdapter(config=config)\n",
    "get_log.handlers"
   ]
  },
  {
   "cell_type": "markdown",
   "metadata": {},
   "source": [
    "Je hoeft ook maar één keer een bestand op te geven, de andere nemen de instellingen over omdat het object telkens wordt 'opgehaald'"
   ]
  },
  {
   "cell_type": "code",
   "execution_count": null,
   "metadata": {},
   "outputs": [],
   "source": [
    "data_path = Path.cwd() / \"data_sets\"\n",
    "config = Config(config_path=data_path / \"test_config_debug_logging.yaml\")\n",
    "config.lees_config()\n",
    "data_adapter = DataAdapter(config=config)\n",
    "get_log.handlers"
   ]
  },
  {
   "cell_type": "markdown",
   "metadata": {},
   "source": [
    "De naam en het niveau wordt wel aangepast, dus als we toch geen debug meer willen kan dat op deze manier:"
   ]
  },
  {
   "cell_type": "code",
   "execution_count": null,
   "metadata": {},
   "outputs": [],
   "source": [
    "data_path = Path.cwd() / \"data_sets\"\n",
    "config = Config(config_path=data_path / \"test_config_debug_logging.yaml\")\n",
    "config.lees_config()\n",
    "config.global_variables[\"logging\"][\"level\"] = \"WARNING\"\n",
    "data_adapter = DataAdapter(config=config)\n",
    "get_log.handlers"
   ]
  },
  {
   "cell_type": "markdown",
   "metadata": {},
   "source": [
    "Advies is dan ook om op een plek je 'advanced' log te definiëren, en bij alle andere data adapters de standaard waarde te  behouden.  "
   ]
  },
  {
   "cell_type": "markdown",
   "metadata": {},
   "source": []
  }
 ],
 "metadata": {
  "kernelspec": {
   "display_name": "default",
   "language": "python",
   "name": "python3"
  },
  "language_info": {
   "codemirror_mode": {
    "name": "ipython",
    "version": 3
   },
   "file_extension": ".py",
   "mimetype": "text/x-python",
   "name": "python",
   "nbconvert_exporter": "python",
   "pygments_lexer": "ipython3",
   "version": "3.13.2"
  }
 },
 "nbformat": 4,
 "nbformat_minor": 2
}
