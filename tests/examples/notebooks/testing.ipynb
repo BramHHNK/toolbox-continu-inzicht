{
 "cells": [
  {
   "cell_type": "markdown",
   "metadata": {},
   "source": [
    "# Architectuur voorbeeld \n",
    "Om de architectuur weer te geven wordt een simple voorbeeld gegeven door een reeks keer twee en gedeelddoor te doen.\n",
    "\n",
    "De opbouw van de code is hier onder weergegeven:\n",
    "![opbouw_code](https://github.com/continu-inzicht/toolbox-continu-inzicht/blob/main/docs/assets/opbouw_code.png?raw=true)\n",
    "\n",
    "Een voorbeeld senario is het inladen van CSV en wegschrijven naar csv:\n",
    "\n",
    "![voorbeeld csv](https://github.com/continu-inzicht/toolbox-continu-inzicht/blob/main/docs/assets/voorbeeld_config_csv.png?raw=true)\n",
    "\n",
    "Aan de voorkant ziet dat er zo uit:"
   ]
  },
  {
   "cell_type": "markdown",
   "metadata": {},
   "source": [
    "#  importeer de benodigde functies"
   ]
  },
  {
   "cell_type": "code",
   "execution_count": null,
   "metadata": {},
   "outputs": [],
   "source": [
    "from pathlib import Path\n",
    "\n",
    "from toolbox_continu_inzicht import Config"
   ]
  },
  {
   "cell_type": "markdown",
   "metadata": {},
   "source": [
    "## 1. Voorbeeld met CSV\n",
    "Lees de configuratie in:\n",
    "\n",
    "Dit leest een configuratie bestand `test_config.yaml` in: \n",
    "\n",
    "```yaml\n",
    "global_variables:\n",
    "    rootdir: 'docs\\examples\\notebooks'\n",
    "\n",
    "WaardesKeerTwee: \n",
    "  input: \n",
    "      type: csv\n",
    "      path: 'data_sets\\test_csv_in.csv'\n",
    "  output: \n",
    "      type: csv\n",
    "      path: 'data_sets\\test_csv_out.csv'\n",
    "\n",
    "...\n",
    "\n",
    "```"
   ]
  },
  {
   "cell_type": "code",
   "execution_count": null,
   "metadata": {},
   "outputs": [],
   "source": [
    "test_data_sets_path = Path.cwd() / \"data_sets\"\n",
    "c = Config(config_path=test_data_sets_path / \"test_config.yaml\")\n",
    "c.lees_config()"
   ]
  },
  {
   "cell_type": "markdown",
   "metadata": {},
   "source": [
    "Zet de data adapter klaar en geef deze de configuratie mee "
   ]
  },
  {
   "cell_type": "code",
   "execution_count": null,
   "metadata": {},
   "outputs": [],
   "source": [
    "from toolbox_continu_inzicht import DataAdapter\n",
    "\n",
    "data = DataAdapter(config=c)\n"
   ]
  },
  {
   "cell_type": "markdown",
   "metadata": {},
   "source": [
    "Run de module met CSV"
   ]
  },
  {
   "cell_type": "code",
   "execution_count": null,
   "metadata": {},
   "outputs": [],
   "source": [
    "from toolbox_continu_inzicht import voorbeeld_module\n",
    "\n",
    "keer_twee = voorbeeld_module.WaardesKeerTwee(data_adapter=data)"
   ]
  },
  {
   "cell_type": "code",
   "execution_count": null,
   "metadata": {},
   "outputs": [],
   "source": []
  },
  {
   "cell_type": "code",
   "execution_count": null,
   "metadata": {},
   "outputs": [],
   "source": [
    "keer_twee.run()"
   ]
  },
  {
   "cell_type": "code",
   "execution_count": null,
   "metadata": {},
   "outputs": [],
   "source": [
    "keer_twee.df_in"
   ]
  },
  {
   "cell_type": "code",
   "execution_count": null,
   "metadata": {},
   "outputs": [],
   "source": [
    "keer_twee.df_out"
   ]
  },
  {
   "cell_type": "markdown",
   "metadata": {},
   "source": [
    "de `values` waardes uit de vorige table zijn vermenigvuldigd met twee"
   ]
  },
  {
   "cell_type": "markdown",
   "metadata": {},
   "source": [
    "## 2. Voorbeeld met postgressql database:\n",
    "\n",
    "![voorbeeld_config_db](https://github.com/continu-inzicht/toolbox-continu-inzicht/blob/main/docs/assets/voorbeeld_config_db.png?raw=true)"
   ]
  },
  {
   "cell_type": "markdown",
   "metadata": {},
   "source": [
    "In het configuratie bestand `test_config.yaml` staat:\n",
    "\n",
    "```yaml\n",
    "...\n",
    "WaardesDelenTwee:\n",
    "  input:\n",
    "      type: postgresql_database\n",
    "      table: data\n",
    "  output: \n",
    "      type: postgresql_database\n",
    "      table: data\n",
    "      \n",
    "...\n",
    "\n",
    "```\n",
    "\n",
    "Hier is alleen `type` verplicht, de wachtwoorden en server informatie staan in een `.env` bestandje."
   ]
  },
  {
   "cell_type": "code",
   "execution_count": null,
   "metadata": {},
   "outputs": [],
   "source": [
    "delen_twee = voorbeeld_module.WaardesDelenTwee(data_adapter=data)"
   ]
  },
  {
   "cell_type": "markdown",
   "metadata": {},
   "source": [
    "Doet het nu even niet op github actions: "
   ]
  },
  {
   "cell_type": "code",
   "execution_count": null,
   "metadata": {},
   "outputs": [],
   "source": [
    "delen_twee.run()"
   ]
  },
  {
   "cell_type": "markdown",
   "metadata": {},
   "source": [
    "Dit zijn de zelfde waardes als net alleen uit de database"
   ]
  },
  {
   "cell_type": "code",
   "execution_count": null,
   "metadata": {},
   "outputs": [],
   "source": [
    "delen_twee.df_in"
   ]
  },
  {
   "cell_type": "markdown",
   "metadata": {},
   "source": [
    "Na het delen door twee ziet de data er alsvolg uit:"
   ]
  },
  {
   "cell_type": "code",
   "execution_count": null,
   "metadata": {},
   "outputs": [],
   "source": [
    "delen_twee.df_out"
   ]
  },
  {
   "cell_type": "markdown",
   "metadata": {},
   "source": [
    "_Maak de aanpassingen in de testdatabase ongedaan zodat het voorbeeld het zelfde blijft_\n",
    "\n",
    "_De `inverse_test_config` doet het tegenovergestelde_"
   ]
  },
  {
   "cell_type": "code",
   "execution_count": null,
   "metadata": {},
   "outputs": [],
   "source": [
    "# Deze config doet het tegenovergestelde\n",
    "c2 = Config(config_path=test_data_sets_path / \"inverse_test_config.yaml\")\n",
    "c2.lees_config()\n",
    "data2 = DataAdapter(config=c2)\n",
    "delen_twee_ongedaan = voorbeeld_module.WaardesKeerTwee(data_adapter=data2)\n",
    "delen_twee_ongedaan.run()\n",
    "delen_twee_ongedaan.df_out"
   ]
  },
  {
   "cell_type": "markdown",
   "metadata": {},
   "source": [
    "## 3. Voorbeeld met lezen uit data base en schrijven naar csv:\n",
    "\n",
    "![voorbeeld csv](https://github.com/continu-inzicht/toolbox-continu-inzicht/blob/main/docs/assets/voorbeeld_config_mix.png?raw=true)"
   ]
  },
  {
   "cell_type": "markdown",
   "metadata": {},
   "source": [
    "In `mix_config.yaml` staat het volgende gedefineerd\n",
    "```yaml\n",
    "WaardesKeerTwee: \n",
    "  input:\n",
    "      type: postgresql_database\n",
    "      table: data\n",
    "  output: \n",
    "      type: csv\n",
    "      path: 'data_sets\\test_csv_out_mix.csv'\n",
    "```"
   ]
  },
  {
   "cell_type": "code",
   "execution_count": null,
   "metadata": {},
   "outputs": [],
   "source": [
    "test_data_sets_path = Path.cwd() / \"data_sets\"\n",
    "c = Config(config_path=test_data_sets_path / \"mix_config.yaml\")\n",
    "c.lees_config()"
   ]
  },
  {
   "cell_type": "code",
   "execution_count": null,
   "metadata": {},
   "outputs": [],
   "source": [
    "data = DataAdapter(config=c)\n"
   ]
  },
  {
   "cell_type": "code",
   "execution_count": null,
   "metadata": {},
   "outputs": [],
   "source": [
    "mix_keer_twee = voorbeeld_module.WaardesDelenTwee(data_adapter=data)"
   ]
  },
  {
   "cell_type": "code",
   "execution_count": null,
   "metadata": {},
   "outputs": [],
   "source": [
    "mix_keer_twee.run()"
   ]
  },
  {
   "cell_type": "code",
   "execution_count": null,
   "metadata": {},
   "outputs": [],
   "source": [
    "mix_keer_twee.df_in"
   ]
  },
  {
   "cell_type": "code",
   "execution_count": null,
   "metadata": {},
   "outputs": [],
   "source": [
    "mix_keer_twee.df_out"
   ]
  },
  {
   "cell_type": "markdown",
   "metadata": {},
   "source": [
    "Dit bestand kunnen we dan ook na lopen:"
   ]
  },
  {
   "cell_type": "code",
   "execution_count": null,
   "metadata": {},
   "outputs": [],
   "source": [
    "import pandas as pd\n",
    "\n",
    "path = test_data_sets_path / \"test_csv_out_mix.csv\"\n",
    "pd.read_csv(path)"
   ]
  },
  {
   "cell_type": "markdown",
   "metadata": {},
   "source": [
    "En als we hem weer runnen zien we dat de database onveranderd is omdat we het wegschrijven naar de csv"
   ]
  },
  {
   "cell_type": "code",
   "execution_count": null,
   "metadata": {},
   "outputs": [],
   "source": [
    "mix_keer_twee.run()"
   ]
  },
  {
   "cell_type": "code",
   "execution_count": null,
   "metadata": {},
   "outputs": [],
   "source": [
    "mix_keer_twee.df_in"
   ]
  },
  {
   "cell_type": "code",
   "execution_count": null,
   "metadata": {},
   "outputs": [],
   "source": []
  }
 ],
 "metadata": {
  "kernelspec": {
   "display_name": "default",
   "language": "python",
   "name": "python3"
  },
  "language_info": {
   "codemirror_mode": {
    "name": "ipython",
    "version": 3
   },
   "file_extension": ".py",
   "mimetype": "text/x-python",
   "name": "python",
   "nbconvert_exporter": "python",
   "pygments_lexer": "ipython3",
   "version": "3.12.6"
  }
 },
 "nbformat": 4,
 "nbformat_minor": 2
}
