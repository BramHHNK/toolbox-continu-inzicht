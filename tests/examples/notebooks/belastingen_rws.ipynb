{
 "cells": [
  {
   "cell_type": "markdown",
   "metadata": {},
   "source": [
    "# Belastingen uit RWS"
   ]
  },
  {
   "cell_type": "markdown",
   "metadata": {},
   "source": [
    "#  importeer de benodigde functies"
   ]
  },
  {
   "cell_type": "code",
   "execution_count": 1,
   "metadata": {},
   "outputs": [],
   "source": [
    "from pathlib import Path\n",
    "\n",
    "import matplotlib.pyplot as plt\n",
    "import numpy as np\n",
    "\n",
    "from toolbox_continu_inzicht import Config, datetime_from_epoch"
   ]
  },
  {
   "cell_type": "markdown",
   "metadata": {},
   "source": [
    "## 1. Voorbeeld met CSV\n",
    "Lees de configuratie in:\n",
    "\n",
    "Dit leest een configuratie bestand `belasting_rws_config.yaml` in. \n",
    "```yaml\n",
    "GlobalVariables:\n",
    "    rootdir: \"data_sets\" \n",
    "    moments: [-24,0,24,48]  \n",
    "\n",
    "    csv:\n",
    "        delimiter: \",\"\n",
    "\n",
    "    LoadsWaterwebservicesRWS:\n",
    "        MISSING_VALUE: 999999999.0 \n",
    "\n",
    "DataAdapter: \n",
    "    locaties: \n",
    "        type: csv\n",
    "        path: \"belastingen_rws.csv\"\n",
    "    waterstanden: \n",
    "        type: csv\n",
    "        path: \"waterstanden.csv\"\n",
    "...\n",
    "\n",
    "```"
   ]
  },
  {
   "cell_type": "code",
   "execution_count": 2,
   "metadata": {},
   "outputs": [],
   "source": [
    "test_data_sets_path = Path.cwd() / \"data_sets\"\n",
    "c = Config(config_path=test_data_sets_path / \"loads_rws_config.yaml\")\n",
    "c.lees_config()"
   ]
  },
  {
   "cell_type": "markdown",
   "metadata": {},
   "source": [
    "Zet de data adapter klaar en geef deze de configuratie mee "
   ]
  },
  {
   "cell_type": "code",
   "execution_count": 3,
   "metadata": {},
   "outputs": [],
   "source": [
    "from toolbox_continu_inzicht import DataAdapter\n",
    "\n",
    "data = DataAdapter(config=c)"
   ]
  },
  {
   "cell_type": "markdown",
   "metadata": {},
   "source": [
    "Run de module met CSV"
   ]
  },
  {
   "cell_type": "code",
   "execution_count": 4,
   "metadata": {},
   "outputs": [],
   "source": [
    "from toolbox_continu_inzicht.loads import LoadsWaterwebservicesRWS\n",
    "\n",
    "RWS_webservice = LoadsWaterwebservicesRWS(\n",
    "    data_adapter=data, input=\"BelastingLocaties\", output=\"Waterstanden\"\n",
    ")"
   ]
  },
  {
   "cell_type": "code",
   "execution_count": 5,
   "metadata": {},
   "outputs": [],
   "source": [
    "RWS_webservice.df_in"
   ]
  },
  {
   "cell_type": "code",
   "execution_count": 6,
   "metadata": {},
   "outputs": [],
   "source": [
    "lst_data = await RWS_webservice.run()"
   ]
  },
  {
   "cell_type": "code",
   "execution_count": 7,
   "metadata": {},
   "outputs": [
    {
     "data": {
      "text/html": [
       "<div>\n",
       "<style scoped>\n",
       "    .dataframe tbody tr th:only-of-type {\n",
       "        vertical-align: middle;\n",
       "    }\n",
       "\n",
       "    .dataframe tbody tr th {\n",
       "        vertical-align: top;\n",
       "    }\n",
       "\n",
       "    .dataframe thead th {\n",
       "        text-align: right;\n",
       "    }\n",
       "</style>\n",
       "<table border=\"1\" class=\"dataframe\">\n",
       "  <thead>\n",
       "    <tr style=\"text-align: right;\">\n",
       "      <th></th>\n",
       "      <th>index</th>\n",
       "      <th>measuringstationid</th>\n",
       "    </tr>\n",
       "  </thead>\n",
       "  <tbody>\n",
       "    <tr>\n",
       "      <th>0</th>\n",
       "      <td>0</td>\n",
       "      <td>9889</td>\n",
       "    </tr>\n",
       "    <tr>\n",
       "      <th>1</th>\n",
       "      <td>1</td>\n",
       "      <td>8420</td>\n",
       "    </tr>\n",
       "    <tr>\n",
       "      <th>2</th>\n",
       "      <td>2</td>\n",
       "      <td>8411</td>\n",
       "    </tr>\n",
       "    <tr>\n",
       "      <th>3</th>\n",
       "      <td>2</td>\n",
       "      <td>8536</td>\n",
       "    </tr>\n",
       "  </tbody>\n",
       "</table>\n",
       "</div>"
      ],
      "text/plain": [
       "   index  measuringstationid\n",
       "0      0                9889\n",
       "1      1                8420\n",
       "2      2                8411\n",
       "3      2                8536"
      ]
     },
     "execution_count": 7,
     "metadata": {},
     "output_type": "execute_result"
    }
   ],
   "source": [
    "RWS_webservice.df_in"
   ]
  },
  {
   "cell_type": "code",
   "execution_count": 8,
   "metadata": {},
   "outputs": [],
   "source": [
    "df_out = RWS_webservice.df_out.copy()"
   ]
  },
  {
   "cell_type": "code",
   "execution_count": 9,
   "metadata": {},
   "outputs": [],
   "source": [
    "from toolbox_continu_inzicht.loads.loads_rws_webservice.get_rws_webservices_locations import (\n",
    "    get_rws_webservices_locations,\n",
    ")\n",
    "\n",
    "df_loc = await get_rws_webservices_locations()"
   ]
  },
  {
   "cell_type": "code",
   "execution_count": 10,
   "metadata": {},
   "outputs": [
    {
     "data": {
      "text/plain": [
       "Index(['Coordinatenstelsel', 'X', 'Y', 'Naam', 'Code'], dtype='object')"
      ]
     },
     "execution_count": 10,
     "metadata": {},
     "output_type": "execute_result"
    }
   ],
   "source": [
    "df_loc.columns"
   ]
  },
  {
   "cell_type": "code",
   "execution_count": 11,
   "metadata": {},
   "outputs": [
    {
     "data": {
      "text/plain": [
       "Coordinatenstelsel             25831\n",
       "X                      667699.101552\n",
       "Y                     5742683.928092\n",
       "Naam                       Lith Dorp\n",
       "Code                            LITO\n",
       "Name: 8420, dtype: object"
      ]
     },
     "execution_count": 11,
     "metadata": {},
     "output_type": "execute_result"
    }
   ],
   "source": [
    "df_loc.loc[8420]"
   ]
  },
  {
   "cell_type": "code",
   "execution_count": 12,
   "metadata": {},
   "outputs": [
    {
     "data": {
      "text/html": [
       "<div>\n",
       "<style scoped>\n",
       "    .dataframe tbody tr th:only-of-type {\n",
       "        vertical-align: middle;\n",
       "    }\n",
       "\n",
       "    .dataframe tbody tr th {\n",
       "        vertical-align: top;\n",
       "    }\n",
       "\n",
       "    .dataframe thead th {\n",
       "        text-align: right;\n",
       "    }\n",
       "</style>\n",
       "<table border=\"1\" class=\"dataframe\">\n",
       "  <thead>\n",
       "    <tr style=\"text-align: right;\">\n",
       "      <th></th>\n",
       "      <th>objectid</th>\n",
       "      <th>objecttype</th>\n",
       "      <th>parameterid</th>\n",
       "      <th>datetime</th>\n",
       "      <th>value</th>\n",
       "      <th>calculating</th>\n",
       "      <th>measurementcode</th>\n",
       "    </tr>\n",
       "  </thead>\n",
       "  <tbody>\n",
       "    <tr>\n",
       "      <th>0</th>\n",
       "      <td>8420</td>\n",
       "      <td>measuringstation</td>\n",
       "      <td>1</td>\n",
       "      <td>1.729672e+12</td>\n",
       "      <td>121.0</td>\n",
       "      <td>True</td>\n",
       "      <td>WATHTEVERWACHT</td>\n",
       "    </tr>\n",
       "    <tr>\n",
       "      <th>1</th>\n",
       "      <td>8420</td>\n",
       "      <td>measuringstation</td>\n",
       "      <td>1</td>\n",
       "      <td>1.729672e+12</td>\n",
       "      <td>120.0</td>\n",
       "      <td>True</td>\n",
       "      <td>WATHTEVERWACHT</td>\n",
       "    </tr>\n",
       "    <tr>\n",
       "      <th>2</th>\n",
       "      <td>8420</td>\n",
       "      <td>measuringstation</td>\n",
       "      <td>1</td>\n",
       "      <td>1.729673e+12</td>\n",
       "      <td>120.0</td>\n",
       "      <td>True</td>\n",
       "      <td>WATHTEVERWACHT</td>\n",
       "    </tr>\n",
       "    <tr>\n",
       "      <th>3</th>\n",
       "      <td>8420</td>\n",
       "      <td>measuringstation</td>\n",
       "      <td>1</td>\n",
       "      <td>1.729673e+12</td>\n",
       "      <td>120.0</td>\n",
       "      <td>True</td>\n",
       "      <td>WATHTEVERWACHT</td>\n",
       "    </tr>\n",
       "    <tr>\n",
       "      <th>4</th>\n",
       "      <td>8420</td>\n",
       "      <td>measuringstation</td>\n",
       "      <td>1</td>\n",
       "      <td>1.729674e+12</td>\n",
       "      <td>119.0</td>\n",
       "      <td>True</td>\n",
       "      <td>WATHTEVERWACHT</td>\n",
       "    </tr>\n",
       "    <tr>\n",
       "      <th>...</th>\n",
       "      <td>...</td>\n",
       "      <td>...</td>\n",
       "      <td>...</td>\n",
       "      <td>...</td>\n",
       "      <td>...</td>\n",
       "      <td>...</td>\n",
       "      <td>...</td>\n",
       "    </tr>\n",
       "    <tr>\n",
       "      <th>1139</th>\n",
       "      <td>8536</td>\n",
       "      <td>measuringstation</td>\n",
       "      <td>1</td>\n",
       "      <td>1.729672e+12</td>\n",
       "      <td>-1.0</td>\n",
       "      <td>True</td>\n",
       "      <td>WATHTE</td>\n",
       "    </tr>\n",
       "    <tr>\n",
       "      <th>1140</th>\n",
       "      <td>8536</td>\n",
       "      <td>measuringstation</td>\n",
       "      <td>1</td>\n",
       "      <td>1.729673e+12</td>\n",
       "      <td>-2.0</td>\n",
       "      <td>True</td>\n",
       "      <td>WATHTE</td>\n",
       "    </tr>\n",
       "    <tr>\n",
       "      <th>1141</th>\n",
       "      <td>8536</td>\n",
       "      <td>measuringstation</td>\n",
       "      <td>1</td>\n",
       "      <td>1.729673e+12</td>\n",
       "      <td>-2.0</td>\n",
       "      <td>True</td>\n",
       "      <td>WATHTE</td>\n",
       "    </tr>\n",
       "    <tr>\n",
       "      <th>1142</th>\n",
       "      <td>8536</td>\n",
       "      <td>measuringstation</td>\n",
       "      <td>1</td>\n",
       "      <td>1.729674e+12</td>\n",
       "      <td>-2.0</td>\n",
       "      <td>True</td>\n",
       "      <td>WATHTE</td>\n",
       "    </tr>\n",
       "    <tr>\n",
       "      <th>1143</th>\n",
       "      <td>8536</td>\n",
       "      <td>measuringstation</td>\n",
       "      <td>2</td>\n",
       "      <td>1.729675e+12</td>\n",
       "      <td>-1.0</td>\n",
       "      <td>True</td>\n",
       "      <td>WATHTE</td>\n",
       "    </tr>\n",
       "  </tbody>\n",
       "</table>\n",
       "<p>1144 rows × 7 columns</p>\n",
       "</div>"
      ],
      "text/plain": [
       "      objectid        objecttype  parameterid      datetime  value  \\\n",
       "0         8420  measuringstation            1  1.729672e+12  121.0   \n",
       "1         8420  measuringstation            1  1.729672e+12  120.0   \n",
       "2         8420  measuringstation            1  1.729673e+12  120.0   \n",
       "3         8420  measuringstation            1  1.729673e+12  120.0   \n",
       "4         8420  measuringstation            1  1.729674e+12  119.0   \n",
       "...        ...               ...          ...           ...    ...   \n",
       "1139      8536  measuringstation            1  1.729672e+12   -1.0   \n",
       "1140      8536  measuringstation            1  1.729673e+12   -2.0   \n",
       "1141      8536  measuringstation            1  1.729673e+12   -2.0   \n",
       "1142      8536  measuringstation            1  1.729674e+12   -2.0   \n",
       "1143      8536  measuringstation            2  1.729675e+12   -1.0   \n",
       "\n",
       "      calculating measurementcode  \n",
       "0            True  WATHTEVERWACHT  \n",
       "1            True  WATHTEVERWACHT  \n",
       "2            True  WATHTEVERWACHT  \n",
       "3            True  WATHTEVERWACHT  \n",
       "4            True  WATHTEVERWACHT  \n",
       "...           ...             ...  \n",
       "1139         True          WATHTE  \n",
       "1140         True          WATHTE  \n",
       "1141         True          WATHTE  \n",
       "1142         True          WATHTE  \n",
       "1143         True          WATHTE  \n",
       "\n",
       "[1144 rows x 7 columns]"
      ]
     },
     "execution_count": 12,
     "metadata": {},
     "output_type": "execute_result"
    }
   ],
   "source": [
    "df_out"
   ]
  },
  {
   "cell_type": "code",
   "execution_count": 13,
   "metadata": {},
   "outputs": [],
   "source": [
    "# split de dataframe in tweeën & process\n",
    "values_nan = df_out[df_out[\"value\"] == 999999999.0].index\n",
    "for val in values_nan:\n",
    "    df_out.loc[val, \"value\"] = np.nan\n",
    "df_out.sort_index()\n",
    "df_plot = df_out.set_index(df_out[\"datetime\"].apply(lambda x: datetime_from_epoch(x)))\n",
    "df_plot = df_plot[df_plot[\"objectid\"] == 8420]\n",
    "measurement_index = df_plot[\"measurementcode\"] == \"WATHTEVERWACHT\"\n",
    "df_plot_measurements = df_plot[measurement_index][[\"value\"]]\n",
    "df_plot_forecast = df_plot[~measurement_index][[\"value\"]]"
   ]
  },
  {
   "cell_type": "code",
   "execution_count": 14,
   "metadata": {},
   "outputs": [
    {
     "data": {
      "text/plain": [
       "<matplotlib.legend.Legend at 0x1ac186cbf50>"
      ]
     },
     "execution_count": 14,
     "metadata": {},
     "output_type": "execute_result"
    },
    {
     "data": {
      "image/png": "[encoded data removed]",
      "text/plain": [
       "<Figure size 640x480 with 1 Axes>"
      ]
     },
     "metadata": {},
     "output_type": "display_data"
    }
   ],
   "source": [
    "fig, ax = plt.subplots()\n",
    "df_plot_measurements.plot(color=\"C0\", ax=ax)\n",
    "df_plot_forecast.plot(color=\"C1\", ax=ax)\n",
    "ax.legend([\"Prediction\", \"Measurement\"])"
   ]
  }
 ],
 "metadata": {
  "kernelspec": {
   "display_name": "default",
   "language": "python",
   "name": "python3"
  },
  "language_info": {
   "codemirror_mode": {
    "name": "ipython",
    "version": 3
   },
   "file_extension": ".py",
   "mimetype": "text/x-python",
   "name": "python",
   "nbconvert_exporter": "python",
   "pygments_lexer": "ipython3",
   "version": "3.12.6"
  }
 },
 "nbformat": 4,
 "nbformat_minor": 2
}
