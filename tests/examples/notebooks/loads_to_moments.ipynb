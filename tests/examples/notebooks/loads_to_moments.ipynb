{
 "cells": [
  {
   "cell_type": "markdown",
   "metadata": {},
   "source": [
    "# Haal maxima van belastingen op"
   ]
  },
  {
   "cell_type": "markdown",
   "metadata": {},
   "source": [
    "#  importeer de benodigde functies"
   ]
  },
  {
   "cell_type": "code",
   "execution_count": 1,
   "metadata": {},
   "outputs": [],
   "source": [
    "from pathlib import Path\n",
    "\n",
    "import matplotlib.pyplot as plt\n",
    "import numpy as np\n",
    "\n",
    "from toolbox_continu_inzicht import Config, DataAdapter\n",
    "from toolbox_continu_inzicht.loads import LoadsWaterwebservicesRWS"
   ]
  },
  {
   "cell_type": "code",
   "execution_count": 2,
   "metadata": {},
   "outputs": [],
   "source": [
    "test_data_sets_path = Path.cwd() / \"data_sets\"\n",
    "c = Config(config_path=test_data_sets_path / \"loads_rws_config.yaml\")\n",
    "c.lees_config()\n",
    "data = DataAdapter(config=c)\n",
    "\n",
    "RWS_webservice = LoadsWaterwebservicesRWS(data_adapter=data)\n",
    "\n",
    "lst_data = await RWS_webservice.run(input=\"BelastingLocaties\", output=\"Waterstanden\")"
   ]
  },
  {
   "cell_type": "markdown",
   "metadata": {},
   "source": [
    "Configureer als volgt, zonder getij\n",
    "```yaml\n",
    "GlobalVariables:\n",
    "    rootdir: \"data_sets\"  \n",
    "    moments: [-24,0,24,48] \n",
    "\n",
    "    LoadsMaxima:\n",
    "        tide: False\n",
    "\n",
    "DataAdapter:\n",
    "    waterstanden: \n",
    "        type: csv\n",
    "        path: \"hidden_waterstanden.csv\"\n",
    "        sep: \";\"\n",
    "    maxima:   \n",
    "        type: csv\n",
    "        path: \"hidden_waterstanden_maxima.csv\"       \n",
    "```"
   ]
  },
  {
   "cell_type": "code",
   "execution_count": 3,
   "metadata": {},
   "outputs": [],
   "source": [
    "from toolbox_continu_inzicht.loads import LoadsToMoments"
   ]
  },
  {
   "cell_type": "code",
   "execution_count": 4,
   "metadata": {},
   "outputs": [],
   "source": [
    "test_data_sets_path = Path.cwd() / \"data_sets\"\n",
    "c = Config(config_path=test_data_sets_path / \"loads_to_moments_config.yaml\")\n",
    "c.lees_config()\n",
    "data = DataAdapter(config=c)\n",
    "\n",
    "maxima = LoadsToMoments(data_adapter=data)\n",
    "\n",
    "maxima.run(input=\"waterstanden\", output=\"maxima\")"
   ]
  },
  {
   "cell_type": "code",
   "execution_count": 5,
   "metadata": {},
   "outputs": [],
   "source": [
    "df_out = RWS_webservice.df_out"
   ]
  },
  {
   "cell_type": "code",
   "execution_count": 20,
   "metadata": {},
   "outputs": [],
   "source": [
    "# split de dataframe in tweeën & process\n",
    "values_nan = df_out[df_out[\"value\"] == -999].index\n",
    "for val in values_nan:\n",
    "    df_out.loc[val, \"value\"] = np.nan\n",
    "df_out.sort_index()\n",
    "df_plot = df_out.set_index(df_out[\"datetime\"])\n",
    "df_plot = df_plot[df_plot[\"measurement_location_id\"] == 8420]\n",
    "measurement_index = df_plot[\"value_type\"] == \"verwachting\"\n",
    "df_plot_measurements = df_plot[measurement_index][[\"value\"]]\n",
    "df_plot_forecast = df_plot[~measurement_index][[\"value\"]]"
   ]
  },
  {
   "cell_type": "code",
   "execution_count": 21,
   "metadata": {},
   "outputs": [],
   "source": [
    "df_plot_moments = maxima.df_out"
   ]
  },
  {
   "cell_type": "code",
   "execution_count": 22,
   "metadata": {},
   "outputs": [
    {
     "data": {
      "text/html": [
       "<div>\n",
       "<style scoped>\n",
       "    .dataframe tbody tr th:only-of-type {\n",
       "        vertical-align: middle;\n",
       "    }\n",
       "\n",
       "    .dataframe tbody tr th {\n",
       "        vertical-align: top;\n",
       "    }\n",
       "\n",
       "    .dataframe thead th {\n",
       "        text-align: right;\n",
       "    }\n",
       "</style>\n",
       "<table border=\"1\" class=\"dataframe\">\n",
       "  <thead>\n",
       "    <tr style=\"text-align: right;\">\n",
       "      <th></th>\n",
       "      <th>Unnamed: 0</th>\n",
       "      <th>measurement_location_id</th>\n",
       "      <th>measurement_location_code</th>\n",
       "      <th>measurement_location_description</th>\n",
       "      <th>parameter_id</th>\n",
       "      <th>parameter_code</th>\n",
       "      <th>unit</th>\n",
       "      <th>value</th>\n",
       "      <th>value_type</th>\n",
       "    </tr>\n",
       "    <tr>\n",
       "      <th>datetime</th>\n",
       "      <th></th>\n",
       "      <th></th>\n",
       "      <th></th>\n",
       "      <th></th>\n",
       "      <th></th>\n",
       "      <th></th>\n",
       "      <th></th>\n",
       "      <th></th>\n",
       "      <th></th>\n",
       "    </tr>\n",
       "  </thead>\n",
       "  <tbody>\n",
       "    <tr>\n",
       "      <th>2024-10-31 10:00:00+01:00</th>\n",
       "      <td>146</td>\n",
       "      <td>8420</td>\n",
       "      <td>LITO</td>\n",
       "      <td>Lith Dorp</td>\n",
       "      <td>4724</td>\n",
       "      <td>WATHTE</td>\n",
       "      <td>cm</td>\n",
       "      <td>85.0</td>\n",
       "      <td>meting</td>\n",
       "    </tr>\n",
       "    <tr>\n",
       "      <th>2024-11-01 10:00:00+01:00</th>\n",
       "      <td>290</td>\n",
       "      <td>8420</td>\n",
       "      <td>LITO</td>\n",
       "      <td>Lith Dorp</td>\n",
       "      <td>4724</td>\n",
       "      <td>WATHTE</td>\n",
       "      <td>cm</td>\n",
       "      <td>84.0</td>\n",
       "      <td>meting</td>\n",
       "    </tr>\n",
       "    <tr>\n",
       "      <th>2024-11-01 10:00:00+01:00</th>\n",
       "      <td>588</td>\n",
       "      <td>8420</td>\n",
       "      <td>LITO</td>\n",
       "      <td>Lith Dorp</td>\n",
       "      <td>4724</td>\n",
       "      <td>WATHTE</td>\n",
       "      <td>cm</td>\n",
       "      <td>88.0</td>\n",
       "      <td>meting</td>\n",
       "    </tr>\n",
       "    <tr>\n",
       "      <th>2024-11-02 10:00:00+01:00</th>\n",
       "      <td>732</td>\n",
       "      <td>8420</td>\n",
       "      <td>LITO</td>\n",
       "      <td>Lith Dorp</td>\n",
       "      <td>4724</td>\n",
       "      <td>WATHTE</td>\n",
       "      <td>cm</td>\n",
       "      <td>90.0</td>\n",
       "      <td>verwachting</td>\n",
       "    </tr>\n",
       "    <tr>\n",
       "      <th>2024-11-03 10:00:00+01:00</th>\n",
       "      <td>876</td>\n",
       "      <td>8420</td>\n",
       "      <td>LITO</td>\n",
       "      <td>Lith Dorp</td>\n",
       "      <td>4724</td>\n",
       "      <td>WATHTE</td>\n",
       "      <td>cm</td>\n",
       "      <td>68.0</td>\n",
       "      <td>verwachting</td>\n",
       "    </tr>\n",
       "  </tbody>\n",
       "</table>\n",
       "</div>"
      ],
      "text/plain": [
       "                           Unnamed: 0  measurement_location_id  \\\n",
       "datetime                                                         \n",
       "2024-10-31 10:00:00+01:00         146                     8420   \n",
       "2024-11-01 10:00:00+01:00         290                     8420   \n",
       "2024-11-01 10:00:00+01:00         588                     8420   \n",
       "2024-11-02 10:00:00+01:00         732                     8420   \n",
       "2024-11-03 10:00:00+01:00         876                     8420   \n",
       "\n",
       "                          measurement_location_code  \\\n",
       "datetime                                              \n",
       "2024-10-31 10:00:00+01:00                      LITO   \n",
       "2024-11-01 10:00:00+01:00                      LITO   \n",
       "2024-11-01 10:00:00+01:00                      LITO   \n",
       "2024-11-02 10:00:00+01:00                      LITO   \n",
       "2024-11-03 10:00:00+01:00                      LITO   \n",
       "\n",
       "                          measurement_location_description  parameter_id  \\\n",
       "datetime                                                                   \n",
       "2024-10-31 10:00:00+01:00                        Lith Dorp          4724   \n",
       "2024-11-01 10:00:00+01:00                        Lith Dorp          4724   \n",
       "2024-11-01 10:00:00+01:00                        Lith Dorp          4724   \n",
       "2024-11-02 10:00:00+01:00                        Lith Dorp          4724   \n",
       "2024-11-03 10:00:00+01:00                        Lith Dorp          4724   \n",
       "\n",
       "                          parameter_code unit  value   value_type  \n",
       "datetime                                                           \n",
       "2024-10-31 10:00:00+01:00         WATHTE   cm   85.0       meting  \n",
       "2024-11-01 10:00:00+01:00         WATHTE   cm   84.0       meting  \n",
       "2024-11-01 10:00:00+01:00         WATHTE   cm   88.0       meting  \n",
       "2024-11-02 10:00:00+01:00         WATHTE   cm   90.0  verwachting  \n",
       "2024-11-03 10:00:00+01:00         WATHTE   cm   68.0  verwachting  "
      ]
     },
     "execution_count": 22,
     "metadata": {},
     "output_type": "execute_result"
    }
   ],
   "source": [
    "df_plot_moments[df_plot_moments[\"measurement_location_id\"] == 8420]"
   ]
  },
  {
   "cell_type": "code",
   "execution_count": 23,
   "metadata": {},
   "outputs": [],
   "source": [
    "from datetime import timedelta"
   ]
  },
  {
   "cell_type": "code",
   "execution_count": 24,
   "metadata": {},
   "outputs": [
    {
     "data": {
      "text/plain": [
       "<matplotlib.legend.Legend at 0x2d46296ea80>"
      ]
     },
     "execution_count": 24,
     "metadata": {},
     "output_type": "execute_result"
    },
    {
     "data": {
      "image/png": "[encoded data removed]",
      "text/plain": [
       "<Figure size 640x480 with 1 Axes>"
      ]
     },
     "metadata": {},
     "output_type": "display_data"
    }
   ],
   "source": [
    "fig, ax = plt.subplots()\n",
    "df_plot_measurements.plot(color=\"C0\", ax=ax)\n",
    "df_plot_forecast.plot(color=\"C1\", ax=ax)\n",
    "for val in df_plot_moments[df_plot_moments[\"measurement_location_id\"] == 8420].index:\n",
    "    ax.axvline(val, color=\"C2\", label=\"moment\")\n",
    "\n",
    "time_series_moments = df_plot_moments[\n",
    "    df_plot_moments[\"measurement_location_id\"] == 8420\n",
    "].index\n",
    "# maak de grafiek iets breder om de lijnen te zien.\n",
    "ax.set_xlim(\n",
    "    (\n",
    "        min(time_series_moments) - timedelta(hours=1),\n",
    "        max(time_series_moments) + timedelta(hours=1),\n",
    "    )\n",
    ")\n",
    "ax.legend([\"Prediction\", \"Measurement\", \"moment\"])"
   ]
  },
  {
   "cell_type": "markdown",
   "metadata": {},
   "source": [
    "### Herhaal met getij"
   ]
  },
  {
   "cell_type": "markdown",
   "metadata": {},
   "source": [
    "Configureer als volgt, met getij\n",
    "```yaml\n",
    "GlobalVariables:\n",
    "    rootdir: \"data_sets\"  \n",
    "    moments: [-24,0,24,48] \n",
    "\n",
    "    LoadsMaxima:\n",
    "        tide: True\n",
    "\n",
    "DataAdapter:\n",
    "    waterstanden: \n",
    "        type: csv\n",
    "        path: \"hidden_waterstanden.csv\"\n",
    "        sep: \";\"\n",
    "    maxima:   \n",
    "        type: csv\n",
    "        path: \"hidden_waterstanden_maxima.csv\"       \n",
    "```"
   ]
  },
  {
   "cell_type": "code",
   "execution_count": 25,
   "metadata": {},
   "outputs": [],
   "source": [
    "from toolbox_continu_inzicht.loads import LoadsMatroos\n",
    "\n",
    "test_data_sets_path = Path.cwd() / \"data_sets\"\n",
    "c = Config(config_path=test_data_sets_path / \"loads_noos_matroos_fcst_config.yaml\")\n",
    "c.lees_config()\n",
    "data = DataAdapter(config=c)\n",
    "\n",
    "matroos_fsct = LoadsMatroos(data_adapter=data)\n",
    "await matroos_fsct.run(input=\"BelastingLocaties\", output=\"Waterstanden\")"
   ]
  },
  {
   "cell_type": "code",
   "execution_count": 26,
   "metadata": {},
   "outputs": [
    {
     "data": {
      "text/html": [
       "<div>\n",
       "<style scoped>\n",
       "    .dataframe tbody tr th:only-of-type {\n",
       "        vertical-align: middle;\n",
       "    }\n",
       "\n",
       "    .dataframe tbody tr th {\n",
       "        vertical-align: top;\n",
       "    }\n",
       "\n",
       "    .dataframe thead th {\n",
       "        text-align: right;\n",
       "    }\n",
       "</style>\n",
       "<table border=\"1\" class=\"dataframe\">\n",
       "  <thead>\n",
       "    <tr style=\"text-align: right;\">\n",
       "      <th></th>\n",
       "      <th>measurement_location_id</th>\n",
       "      <th>measurement_location_code</th>\n",
       "      <th>measurement_location_description</th>\n",
       "      <th>parameter_id</th>\n",
       "      <th>parameter_code</th>\n",
       "      <th>datetime</th>\n",
       "      <th>unit</th>\n",
       "      <th>value</th>\n",
       "      <th>value_type</th>\n",
       "    </tr>\n",
       "  </thead>\n",
       "  <tbody>\n",
       "    <tr>\n",
       "      <th>0</th>\n",
       "      <td>1</td>\n",
       "      <td>delfzijl</td>\n",
       "      <td>Delfzijl</td>\n",
       "      <td>4724</td>\n",
       "      <td>WATHTE</td>\n",
       "      <td>2024-10-31 09:00:00+00:00</td>\n",
       "      <td>cm</td>\n",
       "      <td>141.99</td>\n",
       "      <td>meting</td>\n",
       "    </tr>\n",
       "    <tr>\n",
       "      <th>1</th>\n",
       "      <td>1</td>\n",
       "      <td>delfzijl</td>\n",
       "      <td>Delfzijl</td>\n",
       "      <td>4724</td>\n",
       "      <td>WATHTE</td>\n",
       "      <td>2024-10-31 09:10:00+00:00</td>\n",
       "      <td>cm</td>\n",
       "      <td>146.14</td>\n",
       "      <td>meting</td>\n",
       "    </tr>\n",
       "    <tr>\n",
       "      <th>2</th>\n",
       "      <td>1</td>\n",
       "      <td>delfzijl</td>\n",
       "      <td>Delfzijl</td>\n",
       "      <td>4724</td>\n",
       "      <td>WATHTE</td>\n",
       "      <td>2024-10-31 09:20:00+00:00</td>\n",
       "      <td>cm</td>\n",
       "      <td>149.81</td>\n",
       "      <td>meting</td>\n",
       "    </tr>\n",
       "    <tr>\n",
       "      <th>3</th>\n",
       "      <td>1</td>\n",
       "      <td>delfzijl</td>\n",
       "      <td>Delfzijl</td>\n",
       "      <td>4724</td>\n",
       "      <td>WATHTE</td>\n",
       "      <td>2024-10-31 09:30:00+00:00</td>\n",
       "      <td>cm</td>\n",
       "      <td>155.00</td>\n",
       "      <td>meting</td>\n",
       "    </tr>\n",
       "    <tr>\n",
       "      <th>4</th>\n",
       "      <td>1</td>\n",
       "      <td>delfzijl</td>\n",
       "      <td>Delfzijl</td>\n",
       "      <td>4724</td>\n",
       "      <td>WATHTE</td>\n",
       "      <td>2024-10-31 09:40:00+00:00</td>\n",
       "      <td>cm</td>\n",
       "      <td>160.58</td>\n",
       "      <td>meting</td>\n",
       "    </tr>\n",
       "    <tr>\n",
       "      <th>...</th>\n",
       "      <td>...</td>\n",
       "      <td>...</td>\n",
       "      <td>...</td>\n",
       "      <td>...</td>\n",
       "      <td>...</td>\n",
       "      <td>...</td>\n",
       "      <td>...</td>\n",
       "      <td>...</td>\n",
       "      <td>...</td>\n",
       "    </tr>\n",
       "    <tr>\n",
       "      <th>1655</th>\n",
       "      <td>18</td>\n",
       "      <td>vlissingen</td>\n",
       "      <td>Vlissingen</td>\n",
       "      <td>4724</td>\n",
       "      <td>WATHTE</td>\n",
       "      <td>2024-11-03 05:20:00+00:00</td>\n",
       "      <td>cm</td>\n",
       "      <td>-20.29</td>\n",
       "      <td>verwachting</td>\n",
       "    </tr>\n",
       "    <tr>\n",
       "      <th>1656</th>\n",
       "      <td>18</td>\n",
       "      <td>vlissingen</td>\n",
       "      <td>Vlissingen</td>\n",
       "      <td>4724</td>\n",
       "      <td>WATHTE</td>\n",
       "      <td>2024-11-03 05:30:00+00:00</td>\n",
       "      <td>cm</td>\n",
       "      <td>-38.82</td>\n",
       "      <td>verwachting</td>\n",
       "    </tr>\n",
       "    <tr>\n",
       "      <th>1657</th>\n",
       "      <td>18</td>\n",
       "      <td>vlissingen</td>\n",
       "      <td>Vlissingen</td>\n",
       "      <td>4724</td>\n",
       "      <td>WATHTE</td>\n",
       "      <td>2024-11-03 05:40:00+00:00</td>\n",
       "      <td>cm</td>\n",
       "      <td>-56.22</td>\n",
       "      <td>verwachting</td>\n",
       "    </tr>\n",
       "    <tr>\n",
       "      <th>1658</th>\n",
       "      <td>18</td>\n",
       "      <td>vlissingen</td>\n",
       "      <td>Vlissingen</td>\n",
       "      <td>4724</td>\n",
       "      <td>WATHTE</td>\n",
       "      <td>2024-11-03 05:50:00+00:00</td>\n",
       "      <td>cm</td>\n",
       "      <td>-72.76</td>\n",
       "      <td>verwachting</td>\n",
       "    </tr>\n",
       "    <tr>\n",
       "      <th>1659</th>\n",
       "      <td>18</td>\n",
       "      <td>vlissingen</td>\n",
       "      <td>Vlissingen</td>\n",
       "      <td>4724</td>\n",
       "      <td>WATHTE</td>\n",
       "      <td>2024-11-03 06:00:00+00:00</td>\n",
       "      <td>cm</td>\n",
       "      <td>-88.31</td>\n",
       "      <td>verwachting</td>\n",
       "    </tr>\n",
       "  </tbody>\n",
       "</table>\n",
       "<p>1660 rows × 9 columns</p>\n",
       "</div>"
      ],
      "text/plain": [
       "      measurement_location_id measurement_location_code  \\\n",
       "0                           1                  delfzijl   \n",
       "1                           1                  delfzijl   \n",
       "2                           1                  delfzijl   \n",
       "3                           1                  delfzijl   \n",
       "4                           1                  delfzijl   \n",
       "...                       ...                       ...   \n",
       "1655                       18                vlissingen   \n",
       "1656                       18                vlissingen   \n",
       "1657                       18                vlissingen   \n",
       "1658                       18                vlissingen   \n",
       "1659                       18                vlissingen   \n",
       "\n",
       "     measurement_location_description  parameter_id parameter_code  \\\n",
       "0                            Delfzijl          4724         WATHTE   \n",
       "1                            Delfzijl          4724         WATHTE   \n",
       "2                            Delfzijl          4724         WATHTE   \n",
       "3                            Delfzijl          4724         WATHTE   \n",
       "4                            Delfzijl          4724         WATHTE   \n",
       "...                               ...           ...            ...   \n",
       "1655                       Vlissingen          4724         WATHTE   \n",
       "1656                       Vlissingen          4724         WATHTE   \n",
       "1657                       Vlissingen          4724         WATHTE   \n",
       "1658                       Vlissingen          4724         WATHTE   \n",
       "1659                       Vlissingen          4724         WATHTE   \n",
       "\n",
       "                      datetime unit   value   value_type  \n",
       "0    2024-10-31 09:00:00+00:00   cm  141.99       meting  \n",
       "1    2024-10-31 09:10:00+00:00   cm  146.14       meting  \n",
       "2    2024-10-31 09:20:00+00:00   cm  149.81       meting  \n",
       "3    2024-10-31 09:30:00+00:00   cm  155.00       meting  \n",
       "4    2024-10-31 09:40:00+00:00   cm  160.58       meting  \n",
       "...                        ...  ...     ...          ...  \n",
       "1655 2024-11-03 05:20:00+00:00   cm  -20.29  verwachting  \n",
       "1656 2024-11-03 05:30:00+00:00   cm  -38.82  verwachting  \n",
       "1657 2024-11-03 05:40:00+00:00   cm  -56.22  verwachting  \n",
       "1658 2024-11-03 05:50:00+00:00   cm  -72.76  verwachting  \n",
       "1659 2024-11-03 06:00:00+00:00   cm  -88.31  verwachting  \n",
       "\n",
       "[1660 rows x 9 columns]"
      ]
     },
     "execution_count": 26,
     "metadata": {},
     "output_type": "execute_result"
    }
   ],
   "source": [
    "df_plot_getij = matroos_fsct.df_out\n",
    "df_plot_getij"
   ]
  },
  {
   "cell_type": "code",
   "execution_count": 27,
   "metadata": {},
   "outputs": [
    {
     "data": {
      "text/plain": [
       "array([ 1,  2,  7, 18])"
      ]
     },
     "execution_count": 27,
     "metadata": {},
     "output_type": "execute_result"
    }
   ],
   "source": [
    "df_plot_getij.measurement_location_id.unique()"
   ]
  },
  {
   "cell_type": "code",
   "execution_count": 28,
   "metadata": {},
   "outputs": [],
   "source": [
    "test_data_sets_path = Path.cwd() / \"data_sets\"\n",
    "c = Config(config_path=test_data_sets_path / \"loads_to_moments_tide_config.yaml\")\n",
    "c.lees_config()\n",
    "data = DataAdapter(config=c)\n",
    "\n",
    "maxima_getij = LoadsToMoments(data_adapter=data)\n",
    "\n",
    "maxima_getij.run(input=\"waterstanden\", output=\"maxima\")"
   ]
  },
  {
   "cell_type": "code",
   "execution_count": 29,
   "metadata": {},
   "outputs": [],
   "source": [
    "df_plot_moments_getij = maxima_getij.df_out"
   ]
  },
  {
   "cell_type": "code",
   "execution_count": 30,
   "metadata": {},
   "outputs": [],
   "source": [
    "measurement_location_id = 7"
   ]
  },
  {
   "cell_type": "code",
   "execution_count": 31,
   "metadata": {},
   "outputs": [],
   "source": [
    "df_plot_getij[\"measurement_location_id\"] = df_plot_getij[\n",
    "    \"measurement_location_id\"\n",
    "].apply(lambda x: int(x))  # TODO fix this issue\n",
    "df_plot_measurements = df_plot_getij[\n",
    "    df_plot_getij[\"measurement_location_id\"] == measurement_location_id\n",
    "]\n",
    "df_plot_measurements = df_plot_measurements.set_index(\"datetime\")"
   ]
  },
  {
   "cell_type": "code",
   "execution_count": 32,
   "metadata": {},
   "outputs": [],
   "source": [
    "from datetime import datetime, timezone"
   ]
  },
  {
   "cell_type": "code",
   "execution_count": 33,
   "metadata": {},
   "outputs": [
    {
     "data": {
      "text/plain": [
       "<matplotlib.legend.Legend at 0x2d45b4df860>"
      ]
     },
     "execution_count": 33,
     "metadata": {},
     "output_type": "execute_result"
    },
    {
     "data": {
      "image/png": "[encoded data removed]",
      "text/plain": [
       "<Figure size 640x480 with 1 Axes>"
      ]
     },
     "metadata": {},
     "output_type": "display_data"
    }
   ],
   "source": [
    "fig, ax = plt.subplots()\n",
    "df_plot_measurements[\"value\"].plot(color=\"C0\", ax=ax, label=\"Verwachting\")\n",
    "\n",
    "for val in df_plot_moments_getij[\n",
    "    df_plot_moments_getij[\"measurement_location_id\"] == measurement_location_id\n",
    "].index:\n",
    "    ax.axvline(val, color=\"C2\", label=\"moment aangepast door getij\")\n",
    "\n",
    "time_series_getij = df_plot_moments_getij[\n",
    "    df_plot_moments_getij[\"measurement_location_id\"] == measurement_location_id\n",
    "].index\n",
    "# maak de grafiek iets breder om de lijnen te zien.\n",
    "ax.set_xlim(\n",
    "    (\n",
    "        min(time_series_getij) - timedelta(hours=1),\n",
    "        max(time_series_getij) + timedelta(hours=1),\n",
    "    )\n",
    ")\n",
    "dt_now = datetime.now(timezone.utc)\n",
    "t_now = datetime(\n",
    "    dt_now.year,\n",
    "    dt_now.month,\n",
    "    dt_now.day,\n",
    "    dt_now.hour,\n",
    "    0,\n",
    "    0,\n",
    ").replace(tzinfo=timezone.utc)\n",
    "for moment in c.global_variables[\"moments\"]:\n",
    "    ax.axvline(t_now + timedelta(hours=moment), color=\"C3\", ls=\"--\", label=\"Moment\")\n",
    "\n",
    "ax.set_xlim(\n",
    "    (\n",
    "        min(time_series_moments) - timedelta(hours=5),\n",
    "        max(time_series_moments) + timedelta(hours=5),\n",
    "    )\n",
    ")\n",
    "\n",
    "handles, labels = ax.get_legend_handles_labels()\n",
    "handles = handles[:2] + [handles[6]]\n",
    "labels = [\"Verwachting\"] + labels[4:6]\n",
    "ax.legend(handles=handles, labels=labels, bbox_to_anchor=(1, 1))"
   ]
  },
  {
   "cell_type": "code",
   "execution_count": null,
   "metadata": {},
   "outputs": [],
   "source": []
  }
 ],
 "metadata": {
  "kernelspec": {
   "display_name": "default",
   "language": "python",
   "name": "python3"
  },
  "language_info": {
   "codemirror_mode": {
    "name": "ipython",
    "version": 3
   },
   "file_extension": ".py",
   "mimetype": "text/x-python",
   "name": "python",
   "nbconvert_exporter": "python",
   "pygments_lexer": "ipython3",
   "version": "3.12.6"
  }
 },
 "nbformat": 4,
 "nbformat_minor": 2
}
