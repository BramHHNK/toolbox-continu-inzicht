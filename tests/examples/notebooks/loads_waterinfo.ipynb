{
 "cells": [
  {
   "cell_type": "markdown",
   "id": "0c085fc3",
   "metadata": {},
   "source": [
    "<div class='alert alert-block alert-info'>Ophalen belasting-waarden vanuit een Waterinfo service</div>"
   ]
  },
  {
   "cell_type": "code",
   "execution_count": 1,
   "id": "95120d01-7d5c-4220-a72d-78c8f1947398",
   "metadata": {},
   "outputs": [],
   "source": [
    "# importeer de benodigde bibliotheken\n",
    "import os\n",
    "from pathlib import Path\n",
    "\n",
    "# voor het plotten van de data\n",
    "import matplotlib.pyplot as plt\n",
    "import numpy as np\n",
    "\n",
    "# Vanuit toolbox gebruiken we standaard 'Config' en 'DataAdapter'.\n",
    "# De functie die we willen gebruiken om data op te halen is 'LoadsWaterinfo'\n",
    "from toolbox_continu_inzicht.base.config import Config\n",
    "from toolbox_continu_inzicht.base.data_adapter import DataAdapter\n",
    "from toolbox_continu_inzicht.loads import LoadsWaterinfo\n",
    "from toolbox_continu_inzicht import datetime_from_epoch\n",
    "\n",
    "# Hiermee kan je markdown printen tijdens uitvoeren van functie\n",
    "from IPython.display import display, Markdown"
   ]
  },
  {
   "cell_type": "markdown",
   "id": "90713712",
   "metadata": {},
   "source": [
    "**loads_waterinfo_config.yaml:**\n",
    "```Yaml\n",
    "GlobalVariables:\n",
    "    rootdir: \"data_sets\"   \n",
    "\n",
    "    csv:\n",
    "        delimiter: \",\"\n",
    "\n",
    "    LoadsWaterinfo:\n",
    "        datatype: \"waterhoogte\"\n",
    "        observedhours: 48\n",
    "        predictionhours: 48\n",
    "        momentsupdate: True\n",
    "        MISSING_VALUE: -9999.0\n",
    "        moments: [-24,0,24,48]\n",
    "\n",
    "DataAdapter: \n",
    "    locaties: \n",
    "        type: csv\n",
    "        path: \"locations_waterinfo.csv\"\n",
    "    waterstanden: \n",
    "        type: csv\n",
    "        path: \"waterstanden.csv\"\n",
    "```\n",
    "\n",
    "**locations_waterinfo.csv:**\n",
    "```csv\n",
    "id,name,code\n",
    "1,Rottedamse hoek,Rotterdamse-hoek(FL02)-1\n",
    "2,Dordrecht,Dordrecht(DORD)\n",
    "3,Moerdijk,Moerdijk(MOER)\n",
    "4,Pannerdense kop,Pannerdense-kop(PANN)\n",
    "5,IJsselkop,IJsselkop(IJSS)\n",
    "6,Den helder,Den-Helder(DENH)\n",
    "```"
   ]
  },
  {
   "cell_type": "code",
   "execution_count": 2,
   "id": "15da95fd",
   "metadata": {},
   "outputs": [
    {
     "data": {
      "text/markdown": [
       "*Maak config aan, deze gebruiken we om de adapter aan te maken.*"
      ],
      "text/plain": [
       "<IPython.core.display.Markdown object>"
      ]
     },
     "metadata": {},
     "output_type": "display_data"
    },
    {
     "data": {
      "text/markdown": [
       "*Maak DataAdapter aan, deze gebruiken bij de functie.*"
      ],
      "text/plain": [
       "<IPython.core.display.Markdown object>"
      ]
     },
     "metadata": {},
     "output_type": "display_data"
    }
   ],
   "source": [
    "# Path naar config bestand\n",
    "config_file = Path(\"data_sets/loads_waterinfo_config.yaml\")\n",
    "if os.path.exists(config_file):\n",
    "    # Maak config aan, deze gebruiken we om de adapter aan te maken\n",
    "    display(\n",
    "        Markdown(\"*Maak config aan, deze gebruiken we om de adapter aan te maken.*\")\n",
    "    )\n",
    "    config = Config(config_path=config_file)\n",
    "    config.lees_config()\n",
    "\n",
    "    display(Markdown(\"*Maak DataAdapter aan, deze gebruiken bij de functie.*\"))\n",
    "    data_adapter = DataAdapter(config=config)\n",
    "else:\n",
    "    display(Markdown(f\"**⚠️ Config file '{config_file}' not found.**\"))"
   ]
  },
  {
   "cell_type": "code",
   "execution_count": 3,
   "id": "6e55f45b",
   "metadata": {},
   "outputs": [
    {
     "data": {
      "text/markdown": [
       "Oude gegevens verwijderen"
      ],
      "text/plain": [
       "<IPython.core.display.Markdown object>"
      ]
     },
     "metadata": {},
     "output_type": "display_data"
    }
   ],
   "source": [
    "# Oude gegevens verwijderen\n",
    "display(Markdown(\"Oude gegevens verwijderen\"))\n",
    "\n",
    "output_info = config.data_adapters\n",
    "output_file = Path(\n",
    "    config.global_variables[\"rootdir\"] / Path(output_info[\"waterstanden\"][\"path\"])\n",
    ")\n",
    "if os.path.exists(output_file):\n",
    "    os.remove(output_file)"
   ]
  },
  {
   "cell_type": "code",
   "execution_count": 6,
   "id": "36656ef9",
   "metadata": {},
   "outputs": [
    {
     "data": {
      "text/markdown": [
       "Gebruik de 'LoadsWaterinfo' om gegevens uit Waterinfo te halen"
      ],
      "text/plain": [
       "<IPython.core.display.Markdown object>"
      ]
     },
     "metadata": {},
     "output_type": "display_data"
    },
    {
     "data": {
      "text/markdown": [
       "Voer de functie uit."
      ],
      "text/plain": [
       "<IPython.core.display.Markdown object>"
      ]
     },
     "metadata": {},
     "output_type": "display_data"
    }
   ],
   "source": [
    "# Gebruik de 'LoadsWaterinfo' om gegevens uit Waterinfo te halen\n",
    "display(Markdown(\"Gebruik de 'LoadsWaterinfo' om gegevens uit Waterinfo te halen\"))\n",
    "waterinfo = LoadsWaterinfo(\n",
    "    data_adapter=data_adapter, input=\"locaties\", output=\"waterstanden\"\n",
    ")\n",
    "\n",
    "# Omdat de data via een asynchrone functie opgehaald\n",
    "# wordt is de run ook asynchroon gemaakt\n",
    "display(Markdown(\"Voer de functie uit.\"))\n",
    "df_out = await waterinfo.run()"
   ]
  },
  {
   "cell_type": "code",
   "execution_count": 7,
   "id": "b80fb2d6",
   "metadata": {},
   "outputs": [
    {
     "data": {
      "text/markdown": [
       "*data_sets\\waterstanden_waterinfo.csv is aangemaakt.*"
      ],
      "text/plain": [
       "<IPython.core.display.Markdown object>"
      ]
     },
     "metadata": {},
     "output_type": "display_data"
    },
    {
     "data": {
      "text/markdown": [
       "**Controleer de opgehaalde waarden**"
      ],
      "text/plain": [
       "<IPython.core.display.Markdown object>"
      ]
     },
     "metadata": {},
     "output_type": "display_data"
    },
    {
     "name": "stdout",
     "output_type": "stream",
     "text": [
      "      objectid        objecttype  parameterid      datetime  value  \\\n",
      "0            1  measuringstation            1  1.729501e+12  -0.29   \n",
      "1            1  measuringstation            1  1.729502e+12  -0.29   \n",
      "2            1  measuringstation            1  1.729502e+12  -0.29   \n",
      "3            1  measuringstation            1  1.729503e+12  -0.30   \n",
      "4            1  measuringstation            1  1.729504e+12  -0.29   \n",
      "...        ...               ...          ...           ...    ...   \n",
      "4061         6  measuringstation           99  1.729843e+12  -0.06   \n",
      "4062         6  measuringstation           99  1.729844e+12  -0.02   \n",
      "4063         6  measuringstation           99  1.729844e+12   0.02   \n",
      "4064         6  measuringstation           99  1.729845e+12   0.06   \n",
      "4065         6  measuringstation           99  1.729846e+12   0.10   \n",
      "\n",
      "      calculating  \n",
      "0            True  \n",
      "1            True  \n",
      "2            True  \n",
      "3            True  \n",
      "4            True  \n",
      "...           ...  \n",
      "4061         True  \n",
      "4062         True  \n",
      "4063         True  \n",
      "4064         True  \n",
      "4065         True  \n",
      "\n",
      "[4066 rows x 6 columns]\n"
     ]
    }
   ],
   "source": [
    "# test of we data hebben opgehaald\n",
    "if os.path.exists(output_file):\n",
    "    display(Markdown(f\"*{output_file} is aangemaakt.*\"))\n",
    "else:\n",
    "    display(Markdown(f\"*{output_file} is niet aangemaakt.*\"))\n",
    "\n",
    "# controleer de opgehaalde waarden\n",
    "display(Markdown(\"**Controleer de opgehaalde waarden**\"))\n",
    "print(waterinfo.df_out)"
   ]
  },
  {
   "cell_type": "code",
   "execution_count": 14,
   "id": "f09fe722",
   "metadata": {},
   "outputs": [],
   "source": [
    "# split de dataframe in tweeën & process\n",
    "values_nan = df_out[df_out[\"value\"] == 999999999.0].index\n",
    "for val in values_nan:\n",
    "    df_out.loc[val, \"value\"] = np.nan\n",
    "df_out.sort_index()\n",
    "\n",
    "df_plot = df_out.set_index(df_out[\"datetime\"].apply(lambda x: datetime_from_epoch(x)))\n",
    "df_plot = df_plot[df_plot[\"objectid\"] == 2]\n",
    "\n",
    "measurement_index = df_plot[\"parameterid\"] == 1\n",
    "forecast_index = df_plot[\"parameterid\"] == 99\n",
    "df_plot_measurements = df_plot[measurement_index][[\"value\"]]\n",
    "df_plot_forecast = df_plot[forecast_index][[\"value\"]]"
   ]
  },
  {
   "cell_type": "code",
   "execution_count": 16,
   "id": "5b87c603",
   "metadata": {},
   "outputs": [
    {
     "data": {
      "text/html": [
       "<div>\n",
       "<style scoped>\n",
       "    .dataframe tbody tr th:only-of-type {\n",
       "        vertical-align: middle;\n",
       "    }\n",
       "\n",
       "    .dataframe tbody tr th {\n",
       "        vertical-align: top;\n",
       "    }\n",
       "\n",
       "    .dataframe thead th {\n",
       "        text-align: right;\n",
       "    }\n",
       "</style>\n",
       "<table border=\"1\" class=\"dataframe\">\n",
       "  <thead>\n",
       "    <tr style=\"text-align: right;\">\n",
       "      <th></th>\n",
       "      <th>value</th>\n",
       "    </tr>\n",
       "    <tr>\n",
       "      <th>datetime</th>\n",
       "      <th></th>\n",
       "    </tr>\n",
       "  </thead>\n",
       "  <tbody>\n",
       "    <tr>\n",
       "      <th>2024-10-21 09:00:00+00:00</th>\n",
       "      <td>0.33</td>\n",
       "    </tr>\n",
       "    <tr>\n",
       "      <th>2024-10-21 09:10:00+00:00</th>\n",
       "      <td>0.32</td>\n",
       "    </tr>\n",
       "    <tr>\n",
       "      <th>2024-10-21 09:20:00+00:00</th>\n",
       "      <td>0.31</td>\n",
       "    </tr>\n",
       "    <tr>\n",
       "      <th>2024-10-21 09:30:00+00:00</th>\n",
       "      <td>0.29</td>\n",
       "    </tr>\n",
       "    <tr>\n",
       "      <th>2024-10-21 09:40:00+00:00</th>\n",
       "      <td>0.28</td>\n",
       "    </tr>\n",
       "    <tr>\n",
       "      <th>...</th>\n",
       "      <td>...</td>\n",
       "    </tr>\n",
       "    <tr>\n",
       "      <th>2024-10-23 07:50:00+00:00</th>\n",
       "      <td>1.00</td>\n",
       "    </tr>\n",
       "    <tr>\n",
       "      <th>2024-10-23 08:00:00+00:00</th>\n",
       "      <td>0.99</td>\n",
       "    </tr>\n",
       "    <tr>\n",
       "      <th>2024-10-23 08:10:00+00:00</th>\n",
       "      <td>0.97</td>\n",
       "    </tr>\n",
       "    <tr>\n",
       "      <th>2024-10-23 08:20:00+00:00</th>\n",
       "      <td>0.96</td>\n",
       "    </tr>\n",
       "    <tr>\n",
       "      <th>2024-10-23 08:30:00+00:00</th>\n",
       "      <td>0.95</td>\n",
       "    </tr>\n",
       "  </tbody>\n",
       "</table>\n",
       "<p>286 rows × 1 columns</p>\n",
       "</div>"
      ],
      "text/plain": [
       "                           value\n",
       "datetime                        \n",
       "2024-10-21 09:00:00+00:00   0.33\n",
       "2024-10-21 09:10:00+00:00   0.32\n",
       "2024-10-21 09:20:00+00:00   0.31\n",
       "2024-10-21 09:30:00+00:00   0.29\n",
       "2024-10-21 09:40:00+00:00   0.28\n",
       "...                          ...\n",
       "2024-10-23 07:50:00+00:00   1.00\n",
       "2024-10-23 08:00:00+00:00   0.99\n",
       "2024-10-23 08:10:00+00:00   0.97\n",
       "2024-10-23 08:20:00+00:00   0.96\n",
       "2024-10-23 08:30:00+00:00   0.95\n",
       "\n",
       "[286 rows x 1 columns]"
      ]
     },
     "execution_count": 16,
     "metadata": {},
     "output_type": "execute_result"
    }
   ],
   "source": [
    "df_plot_measurements"
   ]
  },
  {
   "cell_type": "code",
   "execution_count": 17,
   "id": "a6dde566",
   "metadata": {},
   "outputs": [
    {
     "data": {
      "text/plain": [
       "<matplotlib.legend.Legend at 0x2ae8da96060>"
      ]
     },
     "execution_count": 17,
     "metadata": {},
     "output_type": "execute_result"
    },
    {
     "data": {
      "image/png": "[encoded data removed]",
      "text/plain": [
       "<Figure size 640x480 with 1 Axes>"
      ]
     },
     "metadata": {},
     "output_type": "display_data"
    }
   ],
   "source": [
    "fig, ax = plt.subplots()\n",
    "df_plot_measurements.plot(color=\"C0\", ax=ax)\n",
    "df_plot_forecast.plot(color=\"C1\", ax=ax)\n",
    "ax.legend([\"Prediction\", \"Measurement\"])"
   ]
  }
 ],
 "metadata": {
  "kernelspec": {
   "display_name": "default",
   "language": "python",
   "name": "python3"
  },
  "language_info": {
   "codemirror_mode": {
    "name": "ipython",
    "version": 3
   },
   "file_extension": ".py",
   "mimetype": "text/x-python",
   "name": "python",
   "nbconvert_exporter": "python",
   "pygments_lexer": "ipython3",
   "version": "3.12.6"
  }
 },
 "nbformat": 4,
 "nbformat_minor": 5
}
