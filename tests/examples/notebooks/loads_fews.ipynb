{
 "cells": [
  {
   "cell_type": "markdown",
   "id": "0c085fc3",
   "metadata": {},
   "source": [
    "<div class='alert alert-block alert-info'>Ophalen belasting-waarden vanuit een Fews rest service</div>"
   ]
  },
  {
   "cell_type": "code",
   "execution_count": 1,
   "id": "95120d01-7d5c-4220-a72d-78c8f1947398",
   "metadata": {},
   "outputs": [],
   "source": [
    "# importeer de benodigde bibliotheken\n",
    "import os\n",
    "from pathlib import Path\n",
    "\n",
    "# voor het plotten van de data\n",
    "import matplotlib.pyplot as plt\n",
    "import numpy as np\n",
    "\n",
    "# Vanuit toolbox gebruiken we standaard 'Config' en 'DataAdapter'.\n",
    "# De functie die we willen gebruiken om data op te halen is 'LoadsFews'\n",
    "from toolbox_continu_inzicht.base.config import Config\n",
    "from toolbox_continu_inzicht.base.data_adapter import DataAdapter\n",
    "from toolbox_continu_inzicht.loads import LoadsFews\n",
    "from toolbox_continu_inzicht import datetime_from_epoch\n",
    "\n",
    "# Hiermee kan je markdown printen tijdens uitvoeren van functie\n",
    "from IPython.display import display, Markdown"
   ]
  },
  {
   "cell_type": "markdown",
   "id": "90713712",
   "metadata": {},
   "source": [
    "**loads_fews_config.yaml:**\n",
    "```Yaml\n",
    "GlobalVariables:\n",
    "    rootdir: \"data_sets\"   \n",
    "\n",
    "    csv:\n",
    "        delimiter: \",\"\n",
    "\n",
    "    LoadsFews:\n",
    "        host: \"https:**********\"\n",
    "        port: 8443\n",
    "        region: \"fewspiservice\"\n",
    "        version: \"1.25\"\n",
    "        filter: \"HKV_WV_1\"\n",
    "        parameters: [\"WNSHDB1\"]  \n",
    "        MISSING_VALUE: -9999.0\n",
    "        moments: [-24,0,24,48]\n",
    "\n",
    "DataAdapter: \n",
    "    locaties: \n",
    "        type: csv\n",
    "        path: \"locations.csv\"\n",
    "    waterstanden: \n",
    "        type: csv\n",
    "        path: \"waterstanden.csv\"\n",
    "```\n",
    "\n",
    "**locations.csv:**\n",
    "```csv\n",
    "id,name\n",
    "1,VOV9345\n",
    "2,VOV32379\n",
    "```"
   ]
  },
  {
   "cell_type": "code",
   "execution_count": null,
   "id": "15da95fd",
   "metadata": {},
   "outputs": [],
   "source": [
    "# Path naar config bestand\n",
    "config_file = Path(\"data_sets/loads_fews_config.yaml\")\n",
    "if os.path.exists(config_file):\n",
    "    # Maak config aan, deze gebruiken we om de adapter aan te maken\n",
    "    display(\n",
    "        Markdown(\"*Maak config aan, deze gebruiken we om de adapter aan te maken.*\")\n",
    "    )\n",
    "    config = Config(config_path=config_file)\n",
    "    config.lees_config()\n",
    "\n",
    "    display(Markdown(\"*Maak DataAdapter aan, deze gebruiken bij de functie.*\"))\n",
    "    data_adapter = DataAdapter(config=config)\n",
    "else:\n",
    "    display(Markdown(f\"**⚠️ Config file '{config_file}' not found.**\"))"
   ]
  },
  {
   "cell_type": "code",
   "execution_count": null,
   "id": "6e55f45b",
   "metadata": {},
   "outputs": [],
   "source": [
    "# Oude gegevens verwijderen\n",
    "display(Markdown(\"Oude gegevens verwijderen\"))\n",
    "\n",
    "output_info = config.data_adapters\n",
    "output_file = Path(\n",
    "    config.global_variables[\"rootdir\"] / Path(output_info[\"waterstanden\"][\"path\"])\n",
    ")\n",
    "\n",
    "print(output_file)\n",
    "\n",
    "if os.path.exists(output_file):\n",
    "    os.remove(output_file)"
   ]
  },
  {
   "cell_type": "code",
   "execution_count": null,
   "id": "36656ef9",
   "metadata": {},
   "outputs": [],
   "source": [
    "# Gebruik de 'LoadsFews' om gegevens uit de rest-service van Fews te halen\n",
    "display(\n",
    "    Markdown(\"Gebruik de 'LoadsFews' om gegevens uit de rest-service van Fews te halen\")\n",
    ")\n",
    "fews = LoadsFews(data_adapter=data_adapter, input=\"locaties\", output=\"waterstanden\")\n",
    "\n",
    "# Omdat de data via een asynchrone functie opgehaald\n",
    "# wordt is de run ook asynchroon gemaakt\n",
    "display(Markdown(\"Voer de functie uit.\"))\n",
    "df_out = await fews.run()"
   ]
  },
  {
   "cell_type": "code",
   "execution_count": null,
   "id": "b80fb2d6",
   "metadata": {},
   "outputs": [],
   "source": [
    "# test of we data hebben opgehaald\n",
    "if os.path.exists(output_file):\n",
    "    display(Markdown(f\"*{output_file} is aangemaakt.*\"))\n",
    "else:\n",
    "    display(Markdown(f\"*{output_file} is niet aangemaakt.*\"))\n",
    "\n",
    "# controleer de opgehaalde waarden\n",
    "display(Markdown(\"**Controleer de opgehaalde waarden**\"))"
   ]
  },
  {
   "cell_type": "code",
   "execution_count": 31,
   "id": "3bbf827b",
   "metadata": {},
   "outputs": [],
   "source": [
    "# split de dataframe in tweeën & process\n",
    "values_nan = df_out[df_out[\"value\"] == 999999999.0].index\n",
    "for val in values_nan:\n",
    "    df_out.loc[val, \"value\"] = np.nan\n",
    "df_out.sort_index()\n",
    "\n",
    "df_plot = df_out.set_index(df_out[\"datetime\"].apply(lambda x: datetime_from_epoch(x)))\n",
    "df_plot = df_plot[df_plot[\"objectid\"] == 1]\n",
    "\n",
    "measurement_index = df_plot[\"parameterid\"] == 2\n",
    "df_plot_measurements = df_plot[measurement_index][[\"value\"]]\n",
    "df_plot_forecast = df_plot[~measurement_index][[\"value\"]]"
   ]
  },
  {
   "cell_type": "code",
   "execution_count": null,
   "id": "c6965ab0",
   "metadata": {},
   "outputs": [],
   "source": [
    "fig, ax = plt.subplots()\n",
    "df_plot_measurements.plot(color=\"C0\", ax=ax)\n",
    "df_plot_forecast.plot(color=\"C1\", ax=ax)\n",
    "ax.legend([\"Prediction\", \"Measurement\"])"
   ]
  }
 ],
 "metadata": {
  "kernelspec": {
   "display_name": "default",
   "language": "python",
   "name": "python3"
  },
  "language_info": {
   "codemirror_mode": {
    "name": "ipython",
    "version": 3
   },
   "file_extension": ".py",
   "mimetype": "text/x-python",
   "name": "python",
   "nbconvert_exporter": "python",
   "pygments_lexer": "ipython3",
   "version": "3.12.6"
  }
 },
 "nbformat": 4,
 "nbformat_minor": 5
}
