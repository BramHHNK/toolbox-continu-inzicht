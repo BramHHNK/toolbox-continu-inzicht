{
 "cells": [
  {
   "cell_type": "markdown",
   "metadata": {},
   "source": [
    "# Haal maxima van belastingen op"
   ]
  },
  {
   "cell_type": "markdown",
   "metadata": {},
   "source": [
    "#  importeer de benodigde functies"
   ]
  },
  {
   "cell_type": "code",
   "execution_count": 1,
   "metadata": {},
   "outputs": [],
   "source": [
    "from pathlib import Path\n",
    "\n",
    "import matplotlib.pyplot as plt\n",
    "import numpy as np\n",
    "\n",
    "from toolbox_continu_inzicht import Config, DataAdapter\n",
    "from toolbox_continu_inzicht.loads import LoadsWaterwebservicesRWS"
   ]
  },
  {
   "cell_type": "code",
   "execution_count": 2,
   "metadata": {},
   "outputs": [],
   "source": [
    "test_data_sets_path = Path.cwd() / \"data_sets\"\n",
    "c = Config(config_path=test_data_sets_path / \"loads_rws_config.yaml\")\n",
    "c.lees_config()\n",
    "data = DataAdapter(config=c)\n",
    "\n",
    "RWS_webservice = LoadsWaterwebservicesRWS(data_adapter=data)\n",
    "\n",
    "lst_data = await RWS_webservice.run(input=\"BelastingLocaties\", output=\"Waterstanden\")"
   ]
  },
  {
   "cell_type": "markdown",
   "metadata": {},
   "source": [
    "Configureer als volgt, zonder getij\n",
    "```yaml\n",
    "GlobalVariables:\n",
    "    rootdir: \"data_sets\"  \n",
    "    moments: [-24,0,24,48] \n",
    "\n",
    "    LoadsMaxima:\n",
    "        tide: False\n",
    "\n",
    "DataAdapter:\n",
    "    waterstanden: \n",
    "        type: csv\n",
    "        path: \"hidden_waterstanden.csv\"\n",
    "        sep: \";\"\n",
    "    maxima:   \n",
    "        type: csv\n",
    "        path: \"hidden_waterstanden_maxima.csv\"       \n",
    "```"
   ]
  },
  {
   "cell_type": "code",
   "execution_count": 3,
   "metadata": {},
   "outputs": [],
   "source": [
    "from toolbox_continu_inzicht.loads import LoadsToMoments"
   ]
  },
  {
   "cell_type": "code",
   "execution_count": 4,
   "metadata": {},
   "outputs": [],
   "source": [
    "test_data_sets_path = Path.cwd() / \"data_sets\"\n",
    "c = Config(config_path=test_data_sets_path / \"loads_to_moments_config.yaml\")\n",
    "c.lees_config()\n",
    "data = DataAdapter(config=c)\n",
    "\n",
    "maxima = LoadsToMoments(data_adapter=data)\n",
    "\n",
    "maxima.run(input=\"waterstanden\", output=\"maxima\")"
   ]
  },
  {
   "cell_type": "code",
   "execution_count": 5,
   "metadata": {},
   "outputs": [],
   "source": [
    "df_out = RWS_webservice.df_out"
   ]
  },
  {
   "cell_type": "code",
   "execution_count": 6,
   "metadata": {},
   "outputs": [],
   "source": [
    "# split de dataframe in tweeën & process\n",
    "values_nan = df_out[df_out[\"value\"] == -999].index\n",
    "for val in values_nan:\n",
    "    df_out.loc[val, \"value\"] = np.nan\n",
    "df_out.sort_index()\n",
    "df_plot = df_out.set_index(df_out[\"datetime\"])\n",
    "df_plot = df_plot[df_plot[\"measurement_location_id\"] == 8420]\n",
    "measurement_index = df_plot[\"parameter_code\"] == \"WATHTEVERWACHT\"\n",
    "df_plot_measurements = df_plot[measurement_index][[\"value\"]]\n",
    "df_plot_forecast = df_plot[~measurement_index][[\"value\"]]"
   ]
  },
  {
   "cell_type": "code",
   "execution_count": 7,
   "metadata": {},
   "outputs": [],
   "source": [
    "df_plot_moments = maxima.df_out"
   ]
  },
  {
   "cell_type": "code",
   "execution_count": 8,
   "metadata": {},
   "outputs": [
    {
     "data": {
      "text/html": [
       "<div>\n",
       "<style scoped>\n",
       "    .dataframe tbody tr th:only-of-type {\n",
       "        vertical-align: middle;\n",
       "    }\n",
       "\n",
       "    .dataframe tbody tr th {\n",
       "        vertical-align: top;\n",
       "    }\n",
       "\n",
       "    .dataframe thead th {\n",
       "        text-align: right;\n",
       "    }\n",
       "</style>\n",
       "<table border=\"1\" class=\"dataframe\">\n",
       "  <thead>\n",
       "    <tr style=\"text-align: right;\">\n",
       "      <th></th>\n",
       "      <th>Unnamed: 0</th>\n",
       "      <th>measurement_location_id</th>\n",
       "      <th>measurement_location_code</th>\n",
       "      <th>measurement_location_description</th>\n",
       "      <th>parameter_id</th>\n",
       "      <th>parameter_code</th>\n",
       "      <th>unit</th>\n",
       "      <th>value</th>\n",
       "      <th>value_type</th>\n",
       "    </tr>\n",
       "    <tr>\n",
       "      <th>datetime</th>\n",
       "      <th></th>\n",
       "      <th></th>\n",
       "      <th></th>\n",
       "      <th></th>\n",
       "      <th></th>\n",
       "      <th></th>\n",
       "      <th></th>\n",
       "      <th></th>\n",
       "      <th></th>\n",
       "    </tr>\n",
       "  </thead>\n",
       "  <tbody>\n",
       "    <tr>\n",
       "      <th>2024-10-31 08:00:00+01:00</th>\n",
       "      <td>149</td>\n",
       "      <td>8420</td>\n",
       "      <td>LITO</td>\n",
       "      <td>Lith Dorp</td>\n",
       "      <td>4724</td>\n",
       "      <td>WATHTE</td>\n",
       "      <td>cm</td>\n",
       "      <td>75.0</td>\n",
       "      <td>meting</td>\n",
       "    </tr>\n",
       "    <tr>\n",
       "      <th>2024-11-01 08:00:00+01:00</th>\n",
       "      <td>293</td>\n",
       "      <td>8420</td>\n",
       "      <td>LITO</td>\n",
       "      <td>Lith Dorp</td>\n",
       "      <td>4724</td>\n",
       "      <td>WATHTE</td>\n",
       "      <td>cm</td>\n",
       "      <td>69.0</td>\n",
       "      <td>meting</td>\n",
       "    </tr>\n",
       "    <tr>\n",
       "      <th>2024-11-01 08:00:00+01:00</th>\n",
       "      <td>596</td>\n",
       "      <td>8420</td>\n",
       "      <td>LITO</td>\n",
       "      <td>Lith Dorp</td>\n",
       "      <td>4724</td>\n",
       "      <td>WATHTEVERWACHT</td>\n",
       "      <td>cm</td>\n",
       "      <td>75.0</td>\n",
       "      <td>meting</td>\n",
       "    </tr>\n",
       "    <tr>\n",
       "      <th>2024-11-02 08:00:00+01:00</th>\n",
       "      <td>740</td>\n",
       "      <td>8420</td>\n",
       "      <td>LITO</td>\n",
       "      <td>Lith Dorp</td>\n",
       "      <td>4724</td>\n",
       "      <td>WATHTEVERWACHT</td>\n",
       "      <td>cm</td>\n",
       "      <td>77.0</td>\n",
       "      <td>verwachting</td>\n",
       "    </tr>\n",
       "    <tr>\n",
       "      <th>2024-11-03 08:00:00+01:00</th>\n",
       "      <td>884</td>\n",
       "      <td>8420</td>\n",
       "      <td>LITO</td>\n",
       "      <td>Lith Dorp</td>\n",
       "      <td>4724</td>\n",
       "      <td>WATHTEVERWACHT</td>\n",
       "      <td>cm</td>\n",
       "      <td>52.0</td>\n",
       "      <td>verwachting</td>\n",
       "    </tr>\n",
       "  </tbody>\n",
       "</table>\n",
       "</div>"
      ],
      "text/plain": [
       "                           Unnamed: 0  measurement_location_id  \\\n",
       "datetime                                                         \n",
       "2024-10-31 08:00:00+01:00         149                     8420   \n",
       "2024-11-01 08:00:00+01:00         293                     8420   \n",
       "2024-11-01 08:00:00+01:00         596                     8420   \n",
       "2024-11-02 08:00:00+01:00         740                     8420   \n",
       "2024-11-03 08:00:00+01:00         884                     8420   \n",
       "\n",
       "                          measurement_location_code  \\\n",
       "datetime                                              \n",
       "2024-10-31 08:00:00+01:00                      LITO   \n",
       "2024-11-01 08:00:00+01:00                      LITO   \n",
       "2024-11-01 08:00:00+01:00                      LITO   \n",
       "2024-11-02 08:00:00+01:00                      LITO   \n",
       "2024-11-03 08:00:00+01:00                      LITO   \n",
       "\n",
       "                          measurement_location_description  parameter_id  \\\n",
       "datetime                                                                   \n",
       "2024-10-31 08:00:00+01:00                        Lith Dorp          4724   \n",
       "2024-11-01 08:00:00+01:00                        Lith Dorp          4724   \n",
       "2024-11-01 08:00:00+01:00                        Lith Dorp          4724   \n",
       "2024-11-02 08:00:00+01:00                        Lith Dorp          4724   \n",
       "2024-11-03 08:00:00+01:00                        Lith Dorp          4724   \n",
       "\n",
       "                           parameter_code unit  value   value_type  \n",
       "datetime                                                            \n",
       "2024-10-31 08:00:00+01:00          WATHTE   cm   75.0       meting  \n",
       "2024-11-01 08:00:00+01:00          WATHTE   cm   69.0       meting  \n",
       "2024-11-01 08:00:00+01:00  WATHTEVERWACHT   cm   75.0       meting  \n",
       "2024-11-02 08:00:00+01:00  WATHTEVERWACHT   cm   77.0  verwachting  \n",
       "2024-11-03 08:00:00+01:00  WATHTEVERWACHT   cm   52.0  verwachting  "
      ]
     },
     "execution_count": 8,
     "metadata": {},
     "output_type": "execute_result"
    }
   ],
   "source": [
    "df_plot_moments[df_plot_moments[\"measurement_location_id\"] == 8420]"
   ]
  },
  {
   "cell_type": "code",
   "execution_count": 9,
   "metadata": {},
   "outputs": [],
   "source": [
    "from datetime import timedelta"
   ]
  },
  {
   "cell_type": "code",
   "execution_count": 10,
   "metadata": {},
   "outputs": [
    {
     "data": {
      "text/plain": [
       "<matplotlib.legend.Legend at 0x2afdf425d00>"
      ]
     },
     "execution_count": 10,
     "metadata": {},
     "output_type": "execute_result"
    },
    {
     "data": {
      "image/png": "[encoded data removed]",
      "text/plain": [
       "<Figure size 640x480 with 1 Axes>"
      ]
     },
     "metadata": {},
     "output_type": "display_data"
    }
   ],
   "source": [
    "fig, ax = plt.subplots()\n",
    "df_plot_measurements.plot(color=\"C0\", ax=ax)\n",
    "df_plot_forecast.plot(color=\"C1\", ax=ax)\n",
    "for val in df_plot_moments[df_plot_moments[\"measurement_location_id\"] == 8420].index:\n",
    "    ax.axvline(val, color=\"C2\", label=\"moment\")\n",
    "\n",
    "time_series_moments = df_plot_moments[\n",
    "    df_plot_moments[\"measurement_location_id\"] == 8420\n",
    "].index\n",
    "# maak de grafiek iets breder om de lijnen te zien.\n",
    "ax.set_xlim(\n",
    "    (\n",
    "        min(time_series_moments) - timedelta(hours=1),\n",
    "        max(time_series_moments) + timedelta(hours=1),\n",
    "    )\n",
    ")\n",
    "ax.legend([\"Prediction\", \"Measurement\", \"moment\"])"
   ]
  },
  {
   "cell_type": "markdown",
   "metadata": {},
   "source": [
    "### Herhaal met getij"
   ]
  },
  {
   "cell_type": "markdown",
   "metadata": {},
   "source": [
    "Configureer als volgt, met getij\n",
    "```yaml\n",
    "GlobalVariables:\n",
    "    rootdir: \"data_sets\"  \n",
    "    moments: [-24,0,24,48] \n",
    "\n",
    "    LoadsMaxima:\n",
    "        tide: True\n",
    "\n",
    "DataAdapter:\n",
    "    waterstanden: \n",
    "        type: csv\n",
    "        path: \"hidden_waterstanden.csv\"\n",
    "        sep: \";\"\n",
    "    maxima:   \n",
    "        type: csv\n",
    "        path: \"hidden_waterstanden_maxima.csv\"       \n",
    "```"
   ]
  },
  {
   "cell_type": "code",
   "execution_count": 27,
   "metadata": {},
   "outputs": [],
   "source": [
    "from toolbox_continu_inzicht.loads import LoadsMatroos\n",
    "\n",
    "test_data_sets_path = Path.cwd() / \"data_sets\"\n",
    "c = Config(config_path=test_data_sets_path / \"loads_noos_matroos_fcst_config.yaml\")\n",
    "c.lees_config()\n",
    "data = DataAdapter(config=c)\n",
    "\n",
    "matroos_fsct = LoadsMatroos(data_adapter=data)\n",
    "await matroos_fsct.run(input=\"BelastingLocaties\", output=\"Waterstanden\")"
   ]
  },
  {
   "cell_type": "code",
   "execution_count": 28,
   "metadata": {},
   "outputs": [
    {
     "data": {
      "text/html": [
       "<div>\n",
       "<style scoped>\n",
       "    .dataframe tbody tr th:only-of-type {\n",
       "        vertical-align: middle;\n",
       "    }\n",
       "\n",
       "    .dataframe tbody tr th {\n",
       "        vertical-align: top;\n",
       "    }\n",
       "\n",
       "    .dataframe thead th {\n",
       "        text-align: right;\n",
       "    }\n",
       "</style>\n",
       "<table border=\"1\" class=\"dataframe\">\n",
       "  <thead>\n",
       "    <tr style=\"text-align: right;\">\n",
       "      <th></th>\n",
       "      <th>measurement_location_id</th>\n",
       "      <th>measurement_location_code</th>\n",
       "      <th>measurement_location_description</th>\n",
       "      <th>parameter_id</th>\n",
       "      <th>parameter_code</th>\n",
       "      <th>datetime</th>\n",
       "      <th>unit</th>\n",
       "      <th>value</th>\n",
       "      <th>value_type</th>\n",
       "    </tr>\n",
       "  </thead>\n",
       "  <tbody>\n",
       "    <tr>\n",
       "      <th>0</th>\n",
       "      <td>2</td>\n",
       "      <td>denhelder</td>\n",
       "      <td>Den Helder</td>\n",
       "      <td>4724</td>\n",
       "      <td>WATHTE</td>\n",
       "      <td>2024-10-31 08:00:00+00:00</td>\n",
       "      <td>cm</td>\n",
       "      <td>13.64</td>\n",
       "      <td>meting</td>\n",
       "    </tr>\n",
       "    <tr>\n",
       "      <th>1</th>\n",
       "      <td>2</td>\n",
       "      <td>denhelder</td>\n",
       "      <td>Den Helder</td>\n",
       "      <td>4724</td>\n",
       "      <td>WATHTE</td>\n",
       "      <td>2024-10-31 08:10:00+00:00</td>\n",
       "      <td>cm</td>\n",
       "      <td>7.27</td>\n",
       "      <td>meting</td>\n",
       "    </tr>\n",
       "    <tr>\n",
       "      <th>2</th>\n",
       "      <td>2</td>\n",
       "      <td>denhelder</td>\n",
       "      <td>Den Helder</td>\n",
       "      <td>4724</td>\n",
       "      <td>WATHTE</td>\n",
       "      <td>2024-10-31 08:20:00+00:00</td>\n",
       "      <td>cm</td>\n",
       "      <td>1.18</td>\n",
       "      <td>meting</td>\n",
       "    </tr>\n",
       "    <tr>\n",
       "      <th>3</th>\n",
       "      <td>2</td>\n",
       "      <td>denhelder</td>\n",
       "      <td>Den Helder</td>\n",
       "      <td>4724</td>\n",
       "      <td>WATHTE</td>\n",
       "      <td>2024-10-31 08:30:00+00:00</td>\n",
       "      <td>cm</td>\n",
       "      <td>-4.84</td>\n",
       "      <td>meting</td>\n",
       "    </tr>\n",
       "    <tr>\n",
       "      <th>4</th>\n",
       "      <td>2</td>\n",
       "      <td>denhelder</td>\n",
       "      <td>Den Helder</td>\n",
       "      <td>4724</td>\n",
       "      <td>WATHTE</td>\n",
       "      <td>2024-10-31 08:40:00+00:00</td>\n",
       "      <td>cm</td>\n",
       "      <td>-10.83</td>\n",
       "      <td>meting</td>\n",
       "    </tr>\n",
       "    <tr>\n",
       "      <th>...</th>\n",
       "      <td>...</td>\n",
       "      <td>...</td>\n",
       "      <td>...</td>\n",
       "      <td>...</td>\n",
       "      <td>...</td>\n",
       "      <td>...</td>\n",
       "      <td>...</td>\n",
       "      <td>...</td>\n",
       "      <td>...</td>\n",
       "    </tr>\n",
       "    <tr>\n",
       "      <th>1607</th>\n",
       "      <td>18</td>\n",
       "      <td>vlissingen</td>\n",
       "      <td>Vlissingen</td>\n",
       "      <td>4724</td>\n",
       "      <td>WATHTE</td>\n",
       "      <td>2024-11-03 02:20:00+00:00</td>\n",
       "      <td>cm</td>\n",
       "      <td>194.03</td>\n",
       "      <td>verwachting</td>\n",
       "    </tr>\n",
       "    <tr>\n",
       "      <th>1608</th>\n",
       "      <td>18</td>\n",
       "      <td>vlissingen</td>\n",
       "      <td>Vlissingen</td>\n",
       "      <td>4724</td>\n",
       "      <td>WATHTE</td>\n",
       "      <td>2024-11-03 02:30:00+00:00</td>\n",
       "      <td>cm</td>\n",
       "      <td>187.79</td>\n",
       "      <td>verwachting</td>\n",
       "    </tr>\n",
       "    <tr>\n",
       "      <th>1609</th>\n",
       "      <td>18</td>\n",
       "      <td>vlissingen</td>\n",
       "      <td>Vlissingen</td>\n",
       "      <td>4724</td>\n",
       "      <td>WATHTE</td>\n",
       "      <td>2024-11-03 02:40:00+00:00</td>\n",
       "      <td>cm</td>\n",
       "      <td>181.53</td>\n",
       "      <td>verwachting</td>\n",
       "    </tr>\n",
       "    <tr>\n",
       "      <th>1610</th>\n",
       "      <td>18</td>\n",
       "      <td>vlissingen</td>\n",
       "      <td>Vlissingen</td>\n",
       "      <td>4724</td>\n",
       "      <td>WATHTE</td>\n",
       "      <td>2024-11-03 02:50:00+00:00</td>\n",
       "      <td>cm</td>\n",
       "      <td>174.82</td>\n",
       "      <td>verwachting</td>\n",
       "    </tr>\n",
       "    <tr>\n",
       "      <th>1611</th>\n",
       "      <td>18</td>\n",
       "      <td>vlissingen</td>\n",
       "      <td>Vlissingen</td>\n",
       "      <td>4724</td>\n",
       "      <td>WATHTE</td>\n",
       "      <td>2024-11-03 03:00:00+00:00</td>\n",
       "      <td>cm</td>\n",
       "      <td>167.10</td>\n",
       "      <td>verwachting</td>\n",
       "    </tr>\n",
       "  </tbody>\n",
       "</table>\n",
       "<p>1612 rows × 9 columns</p>\n",
       "</div>"
      ],
      "text/plain": [
       "     measurement_location_id measurement_location_code  \\\n",
       "0                          2                 denhelder   \n",
       "1                          2                 denhelder   \n",
       "2                          2                 denhelder   \n",
       "3                          2                 denhelder   \n",
       "4                          2                 denhelder   \n",
       "...                      ...                       ...   \n",
       "1607                      18                vlissingen   \n",
       "1608                      18                vlissingen   \n",
       "1609                      18                vlissingen   \n",
       "1610                      18                vlissingen   \n",
       "1611                      18                vlissingen   \n",
       "\n",
       "     measurement_location_description  parameter_id parameter_code  \\\n",
       "0                          Den Helder          4724         WATHTE   \n",
       "1                          Den Helder          4724         WATHTE   \n",
       "2                          Den Helder          4724         WATHTE   \n",
       "3                          Den Helder          4724         WATHTE   \n",
       "4                          Den Helder          4724         WATHTE   \n",
       "...                               ...           ...            ...   \n",
       "1607                       Vlissingen          4724         WATHTE   \n",
       "1608                       Vlissingen          4724         WATHTE   \n",
       "1609                       Vlissingen          4724         WATHTE   \n",
       "1610                       Vlissingen          4724         WATHTE   \n",
       "1611                       Vlissingen          4724         WATHTE   \n",
       "\n",
       "                      datetime unit   value   value_type  \n",
       "0    2024-10-31 08:00:00+00:00   cm   13.64       meting  \n",
       "1    2024-10-31 08:10:00+00:00   cm    7.27       meting  \n",
       "2    2024-10-31 08:20:00+00:00   cm    1.18       meting  \n",
       "3    2024-10-31 08:30:00+00:00   cm   -4.84       meting  \n",
       "4    2024-10-31 08:40:00+00:00   cm  -10.83       meting  \n",
       "...                        ...  ...     ...          ...  \n",
       "1607 2024-11-03 02:20:00+00:00   cm  194.03  verwachting  \n",
       "1608 2024-11-03 02:30:00+00:00   cm  187.79  verwachting  \n",
       "1609 2024-11-03 02:40:00+00:00   cm  181.53  verwachting  \n",
       "1610 2024-11-03 02:50:00+00:00   cm  174.82  verwachting  \n",
       "1611 2024-11-03 03:00:00+00:00   cm  167.10  verwachting  \n",
       "\n",
       "[1612 rows x 9 columns]"
      ]
     },
     "execution_count": 28,
     "metadata": {},
     "output_type": "execute_result"
    }
   ],
   "source": [
    "df_plot_getij = matroos_fsct.df_out\n",
    "df_plot_getij"
   ]
  },
  {
   "cell_type": "code",
   "execution_count": 43,
   "metadata": {},
   "outputs": [
    {
     "data": {
      "text/plain": [
       "array([ 2,  7,  1, 18])"
      ]
     },
     "execution_count": 43,
     "metadata": {},
     "output_type": "execute_result"
    }
   ],
   "source": [
    "df_plot_getij.measurement_location_id.unique()"
   ]
  },
  {
   "cell_type": "code",
   "execution_count": 29,
   "metadata": {},
   "outputs": [],
   "source": [
    "test_data_sets_path = Path.cwd() / \"data_sets\"\n",
    "c = Config(config_path=test_data_sets_path / \"loads_to_moments_tide_config.yaml\")\n",
    "c.lees_config()\n",
    "data = DataAdapter(config=c)\n",
    "\n",
    "maxima_getij = LoadsToMoments(data_adapter=data)\n",
    "\n",
    "maxima_getij.run(input=\"waterstanden\", output=\"maxima\")"
   ]
  },
  {
   "cell_type": "code",
   "execution_count": 30,
   "metadata": {},
   "outputs": [],
   "source": [
    "df_plot_moments_getij = maxima_getij.df_out"
   ]
  },
  {
   "cell_type": "code",
   "execution_count": 44,
   "metadata": {},
   "outputs": [],
   "source": [
    "measurement_location_id = 7"
   ]
  },
  {
   "cell_type": "code",
   "execution_count": 45,
   "metadata": {},
   "outputs": [],
   "source": [
    "df_plot_getij[\"measurement_location_id\"] = df_plot_getij[\n",
    "    \"measurement_location_id\"\n",
    "].apply(lambda x: int(x))  # TODO fix this issue\n",
    "df_plot_measurements = df_plot_getij[\n",
    "    df_plot_getij[\"measurement_location_id\"] == measurement_location_id\n",
    "]\n",
    "df_plot_measurements = df_plot_measurements.set_index(\"datetime\")"
   ]
  },
  {
   "cell_type": "code",
   "execution_count": 46,
   "metadata": {},
   "outputs": [],
   "source": [
    "from datetime import datetime, timezone"
   ]
  },
  {
   "cell_type": "code",
   "execution_count": 47,
   "metadata": {},
   "outputs": [
    {
     "data": {
      "text/plain": [
       "<matplotlib.legend.Legend at 0x2afe101d6a0>"
      ]
     },
     "execution_count": 47,
     "metadata": {},
     "output_type": "execute_result"
    },
    {
     "data": {
      "image/png": "[encoded data removed]",
      "text/plain": [
       "<Figure size 640x480 with 1 Axes>"
      ]
     },
     "metadata": {},
     "output_type": "display_data"
    }
   ],
   "source": [
    "fig, ax = plt.subplots()\n",
    "df_plot_measurements[\"value\"].plot(color=\"C0\", ax=ax, label=\"Verwachting\")\n",
    "\n",
    "for val in df_plot_moments_getij[\n",
    "    df_plot_moments_getij[\"measurement_location_id\"] == measurement_location_id\n",
    "].index:\n",
    "    ax.axvline(val, color=\"C2\", label=\"moment aangepast door getij\")\n",
    "\n",
    "time_series_getij = df_plot_moments_getij[\n",
    "    df_plot_moments_getij[\"measurement_location_id\"] == measurement_location_id\n",
    "].index\n",
    "# maak de grafiek iets breder om de lijnen te zien.\n",
    "ax.set_xlim(\n",
    "    (\n",
    "        min(time_series_getij) - timedelta(hours=1),\n",
    "        max(time_series_getij) + timedelta(hours=1),\n",
    "    )\n",
    ")\n",
    "dt_now = datetime.now(timezone.utc)\n",
    "t_now = datetime(\n",
    "    dt_now.year,\n",
    "    dt_now.month,\n",
    "    dt_now.day,\n",
    "    dt_now.hour,\n",
    "    0,\n",
    "    0,\n",
    ").replace(tzinfo=timezone.utc)\n",
    "for moment in c.global_variables[\"moments\"]:\n",
    "    ax.axvline(t_now + timedelta(hours=moment), color=\"C3\", ls=\"--\", label=\"Moment\")\n",
    "\n",
    "ax.set_xlim(\n",
    "    (\n",
    "        min(time_series_moments) - timedelta(hours=5),\n",
    "        max(time_series_moments) + timedelta(hours=5),\n",
    "    )\n",
    ")\n",
    "\n",
    "handles, labels = ax.get_legend_handles_labels()\n",
    "handles = handles[:2] + [handles[6]]\n",
    "labels = [\"Verwachting\"] + labels[4:6]\n",
    "ax.legend(handles=handles, labels=labels, bbox_to_anchor=(1, 1))"
   ]
  },
  {
   "cell_type": "code",
   "execution_count": null,
   "metadata": {},
   "outputs": [],
   "source": []
  }
 ],
 "metadata": {
  "kernelspec": {
   "display_name": "default",
   "language": "python",
   "name": "python3"
  },
  "language_info": {
   "codemirror_mode": {
    "name": "ipython",
    "version": 3
   },
   "file_extension": ".py",
   "mimetype": "text/x-python",
   "name": "python",
   "nbconvert_exporter": "python",
   "pygments_lexer": "ipython3",
   "version": "3.12.6"
  }
 },
 "nbformat": 4,
 "nbformat_minor": 2
}
