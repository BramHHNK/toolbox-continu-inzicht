{
 "cells": [
  {
   "cell_type": "code",
   "execution_count": 1,
   "id": "95120d01-7d5c-4220-a72d-78c8f1947398",
   "metadata": {},
   "outputs": [],
   "source": [
    "# importeer de benodigde bibliotheken\n",
    "import os\n",
    "import pandas as pd\n",
    "from pathlib import Path\n",
    "\n",
    "# Vanuit toolbox gebruiken we standaard 'Config' en 'DataAdapter'.\n",
    "# De functie die we willen gebruiken om data op te halen is 'LoadsWaterinfo'\n",
    "from toolbox_continu_inzicht.base.config import Config\n",
    "from toolbox_continu_inzicht.base.data_adapter import DataAdapter\n",
    "from toolbox_continu_inzicht.loads import LoadsWaterinfo, LoadsClassify, get_waterinfo_locations, get_waterinfo_thresholds\n",
    "\n",
    "# Hiermee kan je markdown printen tijdens uitvoeren van functie\n",
    "from IPython.display import display, Markdown"
   ]
  },
  {
   "cell_type": "code",
   "execution_count": 2,
   "id": "765a994e",
   "metadata": {},
   "outputs": [],
   "source": [
    "# ophalen waterstanden\n",
    "config_file = Path(\"data_sets/loads_waterinfo_config_workflow_1.yaml\")\n",
    "if os.path.exists(config_file):\n",
    "    config = Config(config_path=config_file)\n",
    "    config.lees_config()\n",
    "\n",
    "    data_adapter = DataAdapter(config=config)\n",
    "else:\n",
    "    display(Markdown(f\"**⚠️ Config file '{config_file}' not found.**\"))\n"
   ]
  },
  {
   "cell_type": "code",
   "execution_count": null,
   "id": "adc94484",
   "metadata": {},
   "outputs": [],
   "source": [
    "# bepaal input, output en datatype voor volgende stap\n",
    "adapter = config.data_adapters\n",
    "\n",
    "options = config.global_variables[\"LoadsWaterinfo\"]\n",
    "datatype = options[\"datatype\"]\n",
    "\n",
    "# invoerbestand locaties\n",
    "file_locations = Path(\n",
    "    config.global_variables[\"rootdir\"] / Path(adapter[\"locaties\"][\"path\"])\n",
    ")\n",
    "if os.path.exists(file_locations):\n",
    "    os.remove(file_locations)\n",
    "\n",
    "# uitvoerbestand waterstanden\n",
    "file_water_levels = Path(\n",
    "    config.global_variables[\"rootdir\"] / Path(adapter[\"waterstanden\"][\"path\"])\n",
    ")\n",
    "if os.path.exists(file_water_levels):\n",
    "    os.remove(file_water_levels)    \n",
    "\n",
    "# uitvoerbestand waterstanden\n",
    "file_thresholds = Path(\n",
    "    config.global_variables[\"rootdir\"] / Path(adapter[\"thresholds\"][\"path\"])\n",
    ")\n",
    "if os.path.exists(file_thresholds):\n",
    "    os.remove(file_thresholds)    \n",
    "\n",
    "display(Markdown(f\"** datatype: '{datatype}' **\"))\n",
    "display(Markdown(f\"** locatiebestand: '{file_locations}' **\"))\n",
    "display(Markdown(f\"** waterstandenbestand: '{file_water_levels}' **\"))\n",
    "display(Markdown(f\"** thresholdsbestand: '{file_thresholds}' **\"))"
   ]
  },
  {
   "cell_type": "code",
   "execution_count": null,
   "id": "aabe7c12",
   "metadata": {},
   "outputs": [],
   "source": [
    "# ophalen locaties\n",
    "df_locations = await get_waterinfo_locations(parameter_id=datatype)\n",
    "df_locations"
   ]
  },
  {
   "cell_type": "code",
   "execution_count": 5,
   "id": "c64ace0f",
   "metadata": {},
   "outputs": [],
   "source": [
    "locations=[\"Aadorp\",\"Houtrib\",\"Vliss\",\"Hoek\",\"Lobith\"]\n",
    "df_selection = df_locations[df_locations[\"name\"].str.contains(\"|\".join(locations))]\n",
    "df_selection = df_selection[[\"name\",\"location_code\"]].rename(columns={\"location_code\":\"code\"})\n",
    "\n",
    "# schrijf locaties naar csv bestand\n",
    "df_selection.to_csv(file_locations)"
   ]
  },
  {
   "cell_type": "code",
   "execution_count": 6,
   "id": "d66a5260",
   "metadata": {},
   "outputs": [],
   "source": [
    "# waterstanden opslaan\n",
    "waterinfo = LoadsWaterinfo(data_adapter=data_adapter, input=\"locaties\", output=\"waterstanden\")\n",
    "df_out = await waterinfo.run()"
   ]
  },
  {
   "cell_type": "code",
   "execution_count": 7,
   "id": "6d8ebcf6",
   "metadata": {},
   "outputs": [],
   "source": [
    "# thresholds ophalen\n",
    "\n",
    "df_all_thresholds = pd.DataFrame()\n",
    "\n",
    "for _, location in df_selection.iterrows():\n",
    "  df_thresholds = await get_waterinfo_thresholds(location[\"code\"], parameter_id=datatype)\n",
    "  df_thresholds = df_thresholds[[\"from\",\"to\",\"color\",\"label\"]]\n",
    "  df_thresholds = df_thresholds.rename(columns={\"from\":\"van\",\"to\":\"tot\",\"color\":\"kleur\"})\n",
    "  df_thresholds[\"code\"] = location[\"code\"]\n",
    "  \n",
    "  df_all_thresholds = pd.concat([df_all_thresholds,df_thresholds])\n",
    "\n",
    "# thresholds opslaan\n",
    "df_all_thresholds.to_csv(file_thresholds)"
   ]
  },
  {
   "cell_type": "code",
   "execution_count": 8,
   "id": "f4b9b0ee",
   "metadata": {},
   "outputs": [],
   "source": [
    "classify = LoadsClassify(data_adapter=data_adapter,input=\"thresholds\",input2=\"waterstanden\",output=\"classificatie\")\n",
    "df_classify = await classify.run()\n"
   ]
  }
 ],
 "metadata": {
  "kernelspec": {
   "display_name": "default",
   "language": "python",
   "name": "python3"
  },
  "language_info": {
   "codemirror_mode": {
    "name": "ipython",
    "version": 3
   },
   "file_extension": ".py",
   "mimetype": "text/x-python",
   "name": "python",
   "nbconvert_exporter": "python",
   "pygments_lexer": "ipython3",
   "version": "3.12.6"
  }
 },
 "nbformat": 4,
 "nbformat_minor": 5
}
