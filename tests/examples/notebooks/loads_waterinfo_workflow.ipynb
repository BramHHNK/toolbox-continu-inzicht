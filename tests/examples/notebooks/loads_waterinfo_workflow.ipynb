{
 "cells": [
  {
   "cell_type": "code",
   "execution_count": 1,
   "id": "95120d01-7d5c-4220-a72d-78c8f1947398",
   "metadata": {},
   "outputs": [],
   "source": [
    "# importeer de benodigde bibliotheken\n",
    "import os\n",
    "import pandas as pd\n",
    "from pathlib import Path\n",
    "\n",
    "# Vanuit toolbox gebruiken we standaard 'Config' en 'DataAdapter'.\n",
    "# De functie die we willen gebruiken om data op te halen is 'LoadsWaterinfo'\n",
    "from toolbox_continu_inzicht.base.config import Config\n",
    "from toolbox_continu_inzicht.base.data_adapter import DataAdapter\n",
    "from toolbox_continu_inzicht.loads import (\n",
    "    LoadsWaterinfo,\n",
    "    LoadsClassify,\n",
    "    get_waterinfo_locations,\n",
    "    get_waterinfo_thresholds,\n",
    ")\n",
    "\n",
    "# Hiermee kan je markdown printen tijdens uitvoeren van functie\n",
    "from IPython.display import display, Markdown"
   ]
  },
  {
   "cell_type": "code",
   "execution_count": 2,
   "id": "765a994e",
   "metadata": {},
   "outputs": [],
   "source": [
    "# ophalen waterstanden\n",
    "config_file = Path(\"data_sets/loads_waterinfo_config_workflow_1.yaml\")\n",
    "if os.path.exists(config_file):\n",
    "    config = Config(config_path=config_file)\n",
    "    config.lees_config()\n",
    "\n",
    "    data_adapter = DataAdapter(config=config)\n",
    "else:\n",
    "    display(Markdown(f\"**⚠️ Config file '{config_file}' not found.**\"))"
   ]
  },
  {
   "cell_type": "code",
   "execution_count": 3,
   "id": "adc94484",
   "metadata": {},
   "outputs": [
    {
     "data": {
      "text/markdown": [
       "** datatype: 'waterhoogte' **"
      ],
      "text/plain": [
       "<IPython.core.display.Markdown object>"
      ]
     },
     "metadata": {},
     "output_type": "display_data"
    },
    {
     "data": {
      "text/markdown": [
       "** locatiebestand: 'data_sets\\hidden_workflow_locaties.csv' **"
      ],
      "text/plain": [
       "<IPython.core.display.Markdown object>"
      ]
     },
     "metadata": {},
     "output_type": "display_data"
    },
    {
     "data": {
      "text/markdown": [
       "** waterstandenbestand: 'data_sets\\hidden_workflow_waterstanden.csv' **"
      ],
      "text/plain": [
       "<IPython.core.display.Markdown object>"
      ]
     },
     "metadata": {},
     "output_type": "display_data"
    },
    {
     "data": {
      "text/markdown": [
       "** thresholdsbestand: 'data_sets\\hidden_workflow_thresholds.csv' **"
      ],
      "text/plain": [
       "<IPython.core.display.Markdown object>"
      ]
     },
     "metadata": {},
     "output_type": "display_data"
    }
   ],
   "source": [
    "# bepaal input, output en datatype voor volgende stap\n",
    "adapter = config.data_adapters\n",
    "\n",
    "options = config.global_variables[\"LoadsWaterinfo\"]\n",
    "datatype = options[\"datatype\"]\n",
    "\n",
    "# invoerbestand locaties\n",
    "file_locations = Path(\n",
    "    config.global_variables[\"rootdir\"] / Path(adapter[\"locaties\"][\"path\"])\n",
    ")\n",
    "if os.path.exists(file_locations):\n",
    "    os.remove(file_locations)\n",
    "\n",
    "# uitvoerbestand waterstanden\n",
    "file_water_levels = Path(\n",
    "    config.global_variables[\"rootdir\"] / Path(adapter[\"waterstanden\"][\"path\"])\n",
    ")\n",
    "if os.path.exists(file_water_levels):\n",
    "    os.remove(file_water_levels)\n",
    "\n",
    "# uitvoerbestand waterstanden\n",
    "file_thresholds = Path(\n",
    "    config.global_variables[\"rootdir\"] / Path(adapter[\"thresholds\"][\"path\"])\n",
    ")\n",
    "if os.path.exists(file_thresholds):\n",
    "    os.remove(file_thresholds)\n",
    "\n",
    "display(Markdown(f\"** datatype: '{datatype}' **\"))\n",
    "display(Markdown(f\"** locatiebestand: '{file_locations}' **\"))\n",
    "display(Markdown(f\"** waterstandenbestand: '{file_water_levels}' **\"))\n",
    "display(Markdown(f\"** thresholdsbestand: '{file_thresholds}' **\"))"
   ]
  },
  {
   "cell_type": "code",
   "execution_count": 4,
   "id": "aabe7c12",
   "metadata": {},
   "outputs": [
    {
     "data": {
      "text/html": [
       "<div>\n",
       "<style scoped>\n",
       "    .dataframe tbody tr th:only-of-type {\n",
       "        vertical-align: middle;\n",
       "    }\n",
       "\n",
       "    .dataframe tbody tr th {\n",
       "        vertical-align: top;\n",
       "    }\n",
       "\n",
       "    .dataframe thead th {\n",
       "        text-align: right;\n",
       "    }\n",
       "</style>\n",
       "<table border=\"1\" class=\"dataframe\">\n",
       "  <thead>\n",
       "    <tr style=\"text-align: right;\">\n",
       "      <th></th>\n",
       "      <th>name</th>\n",
       "      <th>location_code</th>\n",
       "      <th>x</th>\n",
       "      <th>y</th>\n",
       "    </tr>\n",
       "    <tr>\n",
       "      <th>id</th>\n",
       "      <th></th>\n",
       "      <th></th>\n",
       "      <th></th>\n",
       "      <th></th>\n",
       "    </tr>\n",
       "  </thead>\n",
       "  <tbody>\n",
       "    <tr>\n",
       "      <th>0</th>\n",
       "      <td>Aadorp</td>\n",
       "      <td>Aadorp(AADP)</td>\n",
       "      <td>747296.179521</td>\n",
       "      <td>5.808689e+06</td>\n",
       "    </tr>\n",
       "    <tr>\n",
       "      <th>1</th>\n",
       "      <td>ADM Noordervaart</td>\n",
       "      <td>ADM-Noordervaart(NVAA)</td>\n",
       "      <td>693210.501109</td>\n",
       "      <td>5.684665e+06</td>\n",
       "    </tr>\n",
       "    <tr>\n",
       "      <th>2</th>\n",
       "      <td>Almen</td>\n",
       "      <td>Almen(ALME)</td>\n",
       "      <td>724633.256000</td>\n",
       "      <td>5.784570e+06</td>\n",
       "    </tr>\n",
       "    <tr>\n",
       "      <th>3</th>\n",
       "      <td>Amaliahaven</td>\n",
       "      <td>Amaliahaven(AMHV)</td>\n",
       "      <td>568361.253568</td>\n",
       "      <td>5.757300e+06</td>\n",
       "    </tr>\n",
       "    <tr>\n",
       "      <th>4</th>\n",
       "      <td>Amerongen beneden</td>\n",
       "      <td>Amerongen-beneden(AMRO)</td>\n",
       "      <td>665152.504311</td>\n",
       "      <td>5.760974e+06</td>\n",
       "    </tr>\n",
       "    <tr>\n",
       "      <th>...</th>\n",
       "      <td>...</td>\n",
       "      <td>...</td>\n",
       "      <td>...</td>\n",
       "      <td>...</td>\n",
       "    </tr>\n",
       "    <tr>\n",
       "      <th>318</th>\n",
       "      <td>Zaltbommel</td>\n",
       "      <td>Zaltbommel(ZALT)</td>\n",
       "      <td>654720.682813</td>\n",
       "      <td>5.742862e+06</td>\n",
       "    </tr>\n",
       "    <tr>\n",
       "      <th>319</th>\n",
       "      <td>Zandkreekdam OS</td>\n",
       "      <td>Zandkreekdam-OS(ZKO)</td>\n",
       "      <td>560102.885493</td>\n",
       "      <td>5.710490e+06</td>\n",
       "    </tr>\n",
       "    <tr>\n",
       "      <th>320</th>\n",
       "      <td>Zandkreekdam VM</td>\n",
       "      <td>Zandkreekdam-VM(ZKV)</td>\n",
       "      <td>559971.039694</td>\n",
       "      <td>5.710455e+06</td>\n",
       "    </tr>\n",
       "    <tr>\n",
       "      <th>321</th>\n",
       "      <td>Zutphen Noord</td>\n",
       "      <td>Zutphen-Noord(ZUTP)</td>\n",
       "      <td>717538.491100</td>\n",
       "      <td>5.782865e+06</td>\n",
       "    </tr>\n",
       "    <tr>\n",
       "      <th>322</th>\n",
       "      <td>Zwartsluis buiten</td>\n",
       "      <td>Zwartsluis-buiten(ZWBU)</td>\n",
       "      <td>708258.215108</td>\n",
       "      <td>5.836429e+06</td>\n",
       "    </tr>\n",
       "  </tbody>\n",
       "</table>\n",
       "<p>323 rows × 4 columns</p>\n",
       "</div>"
      ],
      "text/plain": [
       "                  name            location_code              x             y\n",
       "id                                                                          \n",
       "0               Aadorp             Aadorp(AADP)  747296.179521  5.808689e+06\n",
       "1     ADM Noordervaart   ADM-Noordervaart(NVAA)  693210.501109  5.684665e+06\n",
       "2                Almen              Almen(ALME)  724633.256000  5.784570e+06\n",
       "3          Amaliahaven        Amaliahaven(AMHV)  568361.253568  5.757300e+06\n",
       "4    Amerongen beneden  Amerongen-beneden(AMRO)  665152.504311  5.760974e+06\n",
       "..                 ...                      ...            ...           ...\n",
       "318         Zaltbommel         Zaltbommel(ZALT)  654720.682813  5.742862e+06\n",
       "319    Zandkreekdam OS     Zandkreekdam-OS(ZKO)  560102.885493  5.710490e+06\n",
       "320    Zandkreekdam VM     Zandkreekdam-VM(ZKV)  559971.039694  5.710455e+06\n",
       "321      Zutphen Noord      Zutphen-Noord(ZUTP)  717538.491100  5.782865e+06\n",
       "322  Zwartsluis buiten  Zwartsluis-buiten(ZWBU)  708258.215108  5.836429e+06\n",
       "\n",
       "[323 rows x 4 columns]"
      ]
     },
     "execution_count": 4,
     "metadata": {},
     "output_type": "execute_result"
    }
   ],
   "source": [
    "# ophalen locaties\n",
    "df_locations = await get_waterinfo_locations(parameter_id=datatype)\n",
    "df_locations"
   ]
  },
  {
   "cell_type": "code",
   "execution_count": 5,
   "id": "c64ace0f",
   "metadata": {},
   "outputs": [],
   "source": [
    "locations = [\"Aadorp\", \"Houtrib\", \"Vliss\", \"Hoek\", \"Lobith\"]\n",
    "df_selection = df_locations[df_locations[\"name\"].str.contains(\"|\".join(locations))]\n",
    "df_selection = df_selection[[\"name\", \"location_code\"]].rename(\n",
    "    columns={\"location_code\": \"code\"}\n",
    ")\n",
    "\n",
    "# schrijf locaties naar csv bestand\n",
    "df_selection.to_csv(file_locations)"
   ]
  },
  {
   "cell_type": "code",
   "execution_count": 6,
   "id": "d66a5260",
   "metadata": {},
   "outputs": [],
   "source": [
    "# waterstanden opslaan\n",
    "waterinfo = LoadsWaterinfo(\n",
    "    data_adapter=data_adapter, input=\"locaties\", output=\"waterstanden\"\n",
    ")\n",
    "df_out = await waterinfo.run()"
   ]
  },
  {
   "cell_type": "code",
   "execution_count": 7,
   "id": "6d8ebcf6",
   "metadata": {},
   "outputs": [],
   "source": [
    "# thresholds ophalen\n",
    "\n",
    "df_all_thresholds = pd.DataFrame()\n",
    "\n",
    "for _, location in df_selection.iterrows():\n",
    "    df_thresholds = await get_waterinfo_thresholds(\n",
    "        location[\"code\"], parameter_id=datatype\n",
    "    )\n",
    "    df_thresholds = df_thresholds[[\"from\", \"to\", \"color\", \"label\"]]\n",
    "    df_thresholds = df_thresholds.rename(\n",
    "        columns={\"from\": \"van\", \"to\": \"tot\", \"color\": \"kleur\"}\n",
    "    )\n",
    "    df_thresholds[\"code\"] = location[\"code\"]\n",
    "\n",
    "    df_all_thresholds = pd.concat([df_all_thresholds, df_thresholds])\n",
    "\n",
    "# thresholds opslaan\n",
    "df_all_thresholds.to_csv(file_thresholds)"
   ]
  },
  {
   "cell_type": "code",
   "execution_count": 8,
   "id": "f4b9b0ee",
   "metadata": {},
   "outputs": [],
   "source": [
    "classify = LoadsClassify(\n",
    "    data_adapter=data_adapter,\n",
    "    input=\"thresholds\",\n",
    "    input2=\"waterstanden\",\n",
    "    output=\"classificatie\",\n",
    ")\n",
    "df_classify = await classify.run()"
   ]
  }
 ],
 "metadata": {
  "kernelspec": {
   "display_name": "default",
   "language": "python",
   "name": "python3"
  },
  "language_info": {
   "codemirror_mode": {
    "name": "ipython",
    "version": 3
   },
   "file_extension": ".py",
   "mimetype": "text/x-python",
   "name": "python",
   "nbconvert_exporter": "python",
   "pygments_lexer": "ipython3",
   "version": "3.12.6"
  }
 },
 "nbformat": 4,
 "nbformat_minor": 5
}
