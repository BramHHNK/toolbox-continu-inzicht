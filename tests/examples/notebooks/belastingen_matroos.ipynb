{
 "cells": [
  {
   "cell_type": "markdown",
   "metadata": {},
   "source": [
    "# Belastingen uit matroos"
   ]
  },
  {
   "cell_type": "markdown",
   "metadata": {},
   "source": [
    "#  importeer de benodigde functies"
   ]
  },
  {
   "cell_type": "code",
   "execution_count": 1,
   "metadata": {},
   "outputs": [],
   "source": [
    "from pathlib import Path\n"
   ]
  },
  {
   "cell_type": "markdown",
   "metadata": {},
   "source": [
    "## 1. Voorbeeld met CSV\n",
    "Lees de configuratie in:\n",
    "\n",
    "Dit leest een configuratie bestand `belasting_fews_config.yaml` in. \n",
    "```yaml\n",
    "GlobalVariables:\n",
    "    rootdir: \"data_sets\" \n",
    "    moments: [-24,0,24,48]  \n",
    "\n",
    "    csv:\n",
    "        delimiter: \",\"\n",
    "\n",
    "    BelastingWaterwebservicesRWS:\n",
    "        MISSING_VALUE: 999999999.0 \n",
    "\n",
    "DataAdapter: \n",
    "    locaties: \n",
    "        type: csv\n",
    "        path: \"belastingen_rws.csv\"\n",
    "    waterstanden: \n",
    "        type: csv\n",
    "        path: \"waterstanden.csv\"\n",
    "...\n",
    "\n",
    "```"
   ]
  },
  {
   "cell_type": "code",
   "execution_count": 2,
   "metadata": {},
   "outputs": [],
   "source": [
    "test_data_sets_path = Path.cwd() / \"data_sets\"\n",
    "c = Config(config_path=test_data_sets_path / \"belasting_matroos_config.yaml\")\n",
    "c.lees_config()"
   ]
  },
  {
   "cell_type": "markdown",
   "metadata": {},
   "source": [
    "Zet de data adapter klaar en geef deze de configuratie mee "
   ]
  },
  {
   "cell_type": "code",
   "execution_count": 3,
   "metadata": {},
   "outputs": [],
   "source": [
    "from toolbox_continu_inzicht import DataAdapter\n",
    "\n",
    "data = DataAdapter(config=c)"
   ]
  },
  {
   "cell_type": "markdown",
   "metadata": {},
   "source": [
    "Run de module met CSV"
   ]
  },
  {
   "cell_type": "code",
   "execution_count": 4,
   "metadata": {},
   "outputs": [],
   "source": [
    "from toolbox_continu_inzicht.belastingen import BelastingMatroos\n",
    "\n",
    "matroos = BelastingMatroos(\n",
    "    data_adapter=data, input=\"BelastingLocaties\", output=\"Waterstanden\"\n",
    ")"
   ]
  },
  {
   "cell_type": "code",
   "execution_count": 5,
   "metadata": {},
   "outputs": [],
   "source": [
    "matroos.df_in"
   ]
  },
  {
   "cell_type": "code",
   "execution_count": 6,
   "metadata": {},
   "outputs": [],
   "source": [
    "ds = await matroos.run()"
   ]
  },
  {
   "cell_type": "code",
   "execution_count": 9,
   "metadata": {},
   "outputs": [],
   "source": [
    "df = matroos.df_out"
   ]
  },
  {
   "cell_type": "code",
   "execution_count": 15,
   "metadata": {},
   "outputs": [],
   "source": [
    "df_plot = df[df[\"objectid\"] == \"hoekvanholland\"]"
   ]
  },
  {
   "cell_type": "code",
   "execution_count": 21,
   "metadata": {},
   "outputs": [
    {
     "data": {
      "text/html": [
       "<div>\n",
       "<style scoped>\n",
       "    .dataframe tbody tr th:only-of-type {\n",
       "        vertical-align: middle;\n",
       "    }\n",
       "\n",
       "    .dataframe tbody tr th {\n",
       "        vertical-align: top;\n",
       "    }\n",
       "\n",
       "    .dataframe thead th {\n",
       "        text-align: right;\n",
       "    }\n",
       "</style>\n",
       "<table border=\"1\" class=\"dataframe\">\n",
       "  <thead>\n",
       "    <tr style=\"text-align: right;\">\n",
       "      <th></th>\n",
       "      <th>objectid</th>\n",
       "      <th>objecttype</th>\n",
       "      <th>parameterid</th>\n",
       "      <th>datetime</th>\n",
       "      <th>value</th>\n",
       "      <th>calculating</th>\n",
       "      <th>measurementcode</th>\n",
       "    </tr>\n",
       "    <tr>\n",
       "      <th>datetime</th>\n",
       "      <th></th>\n",
       "      <th></th>\n",
       "      <th></th>\n",
       "      <th></th>\n",
       "      <th></th>\n",
       "      <th></th>\n",
       "      <th></th>\n",
       "    </tr>\n",
       "  </thead>\n",
       "  <tbody>\n",
       "    <tr>\n",
       "      <th>2024-10-17 15:00:00+00:00</th>\n",
       "      <td>hoekvanholland</td>\n",
       "      <td>measuringstation</td>\n",
       "      <td>1</td>\n",
       "      <td>1.729177e+12</td>\n",
       "      <td>1.00</td>\n",
       "      <td>True</td>\n",
       "      <td>observed</td>\n",
       "    </tr>\n",
       "    <tr>\n",
       "      <th>2024-10-17 15:10:00+00:00</th>\n",
       "      <td>hoekvanholland</td>\n",
       "      <td>measuringstation</td>\n",
       "      <td>1</td>\n",
       "      <td>1.729178e+12</td>\n",
       "      <td>0.94</td>\n",
       "      <td>True</td>\n",
       "      <td>observed</td>\n",
       "    </tr>\n",
       "    <tr>\n",
       "      <th>2024-10-17 15:20:00+00:00</th>\n",
       "      <td>hoekvanholland</td>\n",
       "      <td>measuringstation</td>\n",
       "      <td>1</td>\n",
       "      <td>1.729178e+12</td>\n",
       "      <td>0.86</td>\n",
       "      <td>True</td>\n",
       "      <td>observed</td>\n",
       "    </tr>\n",
       "    <tr>\n",
       "      <th>2024-10-17 15:30:00+00:00</th>\n",
       "      <td>hoekvanholland</td>\n",
       "      <td>measuringstation</td>\n",
       "      <td>1</td>\n",
       "      <td>1.729179e+12</td>\n",
       "      <td>0.76</td>\n",
       "      <td>True</td>\n",
       "      <td>observed</td>\n",
       "    </tr>\n",
       "    <tr>\n",
       "      <th>2024-10-17 15:40:00+00:00</th>\n",
       "      <td>hoekvanholland</td>\n",
       "      <td>measuringstation</td>\n",
       "      <td>1</td>\n",
       "      <td>1.729180e+12</td>\n",
       "      <td>0.66</td>\n",
       "      <td>True</td>\n",
       "      <td>observed</td>\n",
       "    </tr>\n",
       "    <tr>\n",
       "      <th>...</th>\n",
       "      <td>...</td>\n",
       "      <td>...</td>\n",
       "      <td>...</td>\n",
       "      <td>...</td>\n",
       "      <td>...</td>\n",
       "      <td>...</td>\n",
       "      <td>...</td>\n",
       "    </tr>\n",
       "    <tr>\n",
       "      <th>2024-10-18 14:20:00+00:00</th>\n",
       "      <td>hoekvanholland</td>\n",
       "      <td>measuringstation</td>\n",
       "      <td>1</td>\n",
       "      <td>1.729261e+12</td>\n",
       "      <td>1.41</td>\n",
       "      <td>True</td>\n",
       "      <td>observed</td>\n",
       "    </tr>\n",
       "    <tr>\n",
       "      <th>2024-10-18 14:30:00+00:00</th>\n",
       "      <td>hoekvanholland</td>\n",
       "      <td>measuringstation</td>\n",
       "      <td>1</td>\n",
       "      <td>1.729262e+12</td>\n",
       "      <td>1.34</td>\n",
       "      <td>True</td>\n",
       "      <td>observed</td>\n",
       "    </tr>\n",
       "    <tr>\n",
       "      <th>2024-10-18 14:40:00+00:00</th>\n",
       "      <td>hoekvanholland</td>\n",
       "      <td>measuringstation</td>\n",
       "      <td>1</td>\n",
       "      <td>1.729262e+12</td>\n",
       "      <td>1.26</td>\n",
       "      <td>True</td>\n",
       "      <td>observed</td>\n",
       "    </tr>\n",
       "    <tr>\n",
       "      <th>2024-10-18 14:50:00+00:00</th>\n",
       "      <td>hoekvanholland</td>\n",
       "      <td>measuringstation</td>\n",
       "      <td>1</td>\n",
       "      <td>1.729263e+12</td>\n",
       "      <td>1.21</td>\n",
       "      <td>True</td>\n",
       "      <td>observed</td>\n",
       "    </tr>\n",
       "    <tr>\n",
       "      <th>2024-10-18 15:00:00+00:00</th>\n",
       "      <td>hoekvanholland</td>\n",
       "      <td>measuringstation</td>\n",
       "      <td>1</td>\n",
       "      <td>1.729264e+12</td>\n",
       "      <td>1.17</td>\n",
       "      <td>True</td>\n",
       "      <td>observed</td>\n",
       "    </tr>\n",
       "  </tbody>\n",
       "</table>\n",
       "<p>145 rows × 7 columns</p>\n",
       "</div>"
      ],
      "text/plain": [
       "                                 objectid        objecttype  parameterid  \\\n",
       "datetime                                                                   \n",
       "2024-10-17 15:00:00+00:00  hoekvanholland  measuringstation            1   \n",
       "2024-10-17 15:10:00+00:00  hoekvanholland  measuringstation            1   \n",
       "2024-10-17 15:20:00+00:00  hoekvanholland  measuringstation            1   \n",
       "2024-10-17 15:30:00+00:00  hoekvanholland  measuringstation            1   \n",
       "2024-10-17 15:40:00+00:00  hoekvanholland  measuringstation            1   \n",
       "...                                   ...               ...          ...   \n",
       "2024-10-18 14:20:00+00:00  hoekvanholland  measuringstation            1   \n",
       "2024-10-18 14:30:00+00:00  hoekvanholland  measuringstation            1   \n",
       "2024-10-18 14:40:00+00:00  hoekvanholland  measuringstation            1   \n",
       "2024-10-18 14:50:00+00:00  hoekvanholland  measuringstation            1   \n",
       "2024-10-18 15:00:00+00:00  hoekvanholland  measuringstation            1   \n",
       "\n",
       "                               datetime  value  calculating measurementcode  \n",
       "datetime                                                                     \n",
       "2024-10-17 15:00:00+00:00  1.729177e+12   1.00         True        observed  \n",
       "2024-10-17 15:10:00+00:00  1.729178e+12   0.94         True        observed  \n",
       "2024-10-17 15:20:00+00:00  1.729178e+12   0.86         True        observed  \n",
       "2024-10-17 15:30:00+00:00  1.729179e+12   0.76         True        observed  \n",
       "2024-10-17 15:40:00+00:00  1.729180e+12   0.66         True        observed  \n",
       "...                                 ...    ...          ...             ...  \n",
       "2024-10-18 14:20:00+00:00  1.729261e+12   1.41         True        observed  \n",
       "2024-10-18 14:30:00+00:00  1.729262e+12   1.34         True        observed  \n",
       "2024-10-18 14:40:00+00:00  1.729262e+12   1.26         True        observed  \n",
       "2024-10-18 14:50:00+00:00  1.729263e+12   1.21         True        observed  \n",
       "2024-10-18 15:00:00+00:00  1.729264e+12   1.17         True        observed  \n",
       "\n",
       "[145 rows x 7 columns]"
      ]
     },
     "execution_count": 21,
     "metadata": {},
     "output_type": "execute_result"
    }
   ],
   "source": [
    "df_plot"
   ]
  },
  {
   "cell_type": "code",
   "execution_count": 17,
   "metadata": {},
   "outputs": [],
   "source": [
    "from toolbox_continu_inzicht.utils.datetime_functions import datetime_from_epoch\n",
    "\n",
    "df_plot = df_plot.set_index(df_plot[\"datetime\"].apply(lambda x: datetime_from_epoch(x)))"
   ]
  },
  {
   "cell_type": "code",
   "execution_count": 19,
   "metadata": {},
   "outputs": [
    {
     "data": {
      "text/plain": [
       "<Axes: xlabel='datetime'>"
      ]
     },
     "execution_count": 19,
     "metadata": {},
     "output_type": "execute_result"
    },
    {
     "data": {
      "image/png": "[encoded data removed]",
      "text/plain": [
       "<Figure size 640x480 with 1 Axes>"
      ]
     },
     "metadata": {},
     "output_type": "display_data"
    }
   ],
   "source": [
    "df_plot[[\"value\"]].plot()"
   ]
  },
  {
   "cell_type": "code",
   "execution_count": null,
   "metadata": {},
   "outputs": [],
   "source": []
  }
 ],
 "metadata": {
  "kernelspec": {
   "display_name": "default",
   "language": "python",
   "name": "python3"
  },
  "language_info": {
   "codemirror_mode": {
    "name": "ipython",
    "version": 3
   },
   "file_extension": ".py",
   "mimetype": "text/x-python",
   "name": "python",
   "nbconvert_exporter": "python",
   "pygments_lexer": "ipython3",
   "version": "3.12.6"
  }
 },
 "nbformat": 4,
 "nbformat_minor": 2
}
