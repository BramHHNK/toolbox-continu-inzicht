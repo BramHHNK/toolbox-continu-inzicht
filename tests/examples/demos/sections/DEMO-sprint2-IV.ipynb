{
 "cells": [
  {
   "attachments": {},
   "cell_type": "markdown",
   "metadata": {},
   "source": [
    "# DEMO sprint 2 - Deel 4 (belastingen secties)\n",
    "\n",
    "Gebruikmakend van:\n",
    "- csv bestanden voor uitwisselen van data"
   ]
  },
  {
   "attachments": {},
   "cell_type": "markdown",
   "metadata": {},
   "source": [
    "### Benodigde generieke Python packages"
   ]
  },
  {
   "cell_type": "code",
   "execution_count": null,
   "metadata": {},
   "outputs": [],
   "source": [
    "from pathlib import Path"
   ]
  },
  {
   "attachments": {},
   "cell_type": "markdown",
   "metadata": {},
   "source": [
    "### Definitie configuratie: Database bestanden "
   ]
  },
  {
   "attachments": {},
   "cell_type": "markdown",
   "metadata": {},
   "source": [
    "GlobalVariables:\n",
    "    rootdir: \"data_demo\"  \n",
    "    moments: [-24,0,24,48]\n",
    "    \n",
    "    SectionsLoads:\n",
    "        MISSING_VALUE: -9999.0 \n",
    "\n",
    "DataAdapter: \n",
    "    default_options:\n",
    "        csv:\n",
    "            sep: \",\"\n",
    "    Dijkvakken: \n",
    "        type: csv\n",
    "        path: \"dijkvakken.csv\"\n",
    "    Dijkvak_belastinglocatie: \n",
    "        type: csv\n",
    "        path: \"dijkvak_belastinglocatie.csv\"      \n",
    "    Waterstanden: \n",
    "        type: csv\n",
    "        path: \"waterstanden_waterinfo.csv\"\n",
    "    Waterstanden_per_dijkvak: \n",
    "        type: csv\n",
    "        path: \"waterstanden_per_dijkvak.csv\"  "
   ]
  },
  {
   "attachments": {},
   "cell_type": "markdown",
   "metadata": {},
   "source": [
    "### Lees configuratie in en maak dictionary base.Config aan"
   ]
  },
  {
   "cell_type": "code",
   "execution_count": null,
   "metadata": {},
   "outputs": [],
   "source": [
    "from toolbox_continu_inzicht import Config\n",
    "\n",
    "yaml_config_file = \"demo_sprint2-IV.yaml\"\n",
    "path = Path.joinpath(Path.cwd(), \"data_demo\", yaml_config_file)\n",
    "c = Config(config_path=path)\n",
    "c.lees_config()"
   ]
  },
  {
   "attachments": {},
   "cell_type": "markdown",
   "metadata": {},
   "source": [
    "### Geef config mee aan base.Adapter"
   ]
  },
  {
   "cell_type": "code",
   "execution_count": null,
   "metadata": {},
   "outputs": [],
   "source": [
    "from toolbox_continu_inzicht import DataAdapter\n",
    "\n",
    "data = DataAdapter(config=c)\n",
    "print(f\"Folder met data: {data.config.config_path}\")\n",
    "print(f\"Globale variabelen: {data.config.global_variables}\")\n",
    "for data_adapter in data.config.data_adapters:\n",
    "    print(f\"Data apdater: {data_adapter}\")"
   ]
  },
  {
   "attachments": {},
   "cell_type": "markdown",
   "metadata": {},
   "source": [
    "### Laad en run module (functie) SectionsLoads voor bepalen waterstand per sectie"
   ]
  },
  {
   "cell_type": "code",
   "execution_count": null,
   "metadata": {},
   "outputs": [],
   "source": [
    "from toolbox_continu_inzicht.sections import SectionsLoads\n",
    "\n",
    "sections_loads = SectionsLoads(data_adapter=data)\n",
    "ds = sections_loads.run(\n",
    "    input=[\"Dijkvakken\", \"Waterstanden\", \"Dijkvak_belastinglocatie\"],\n",
    "    output=\"Waterstanden_per_dijkvak\",\n",
    ")"
   ]
  },
  {
   "cell_type": "code",
   "execution_count": null,
   "metadata": {},
   "outputs": [],
   "source": [
    "sectie_waterlevels = sections_loads.df_out\n",
    "sectie_waterlevels"
   ]
  },
  {
   "attachments": {},
   "cell_type": "markdown",
   "metadata": {},
   "source": [
    "<!-- values_nan = df_out[df_out[\"value\"] == -999].index\n",
    "for val in values_nan:\n",
    "    df_out.loc[val, \"value\"] = np.nan\n",
    "df_out.sort_index()\n",
    "df_plot = df_out.set_index(df_out[\"datetime\"])\n",
    "df_plot = df_plot[df_plot[\"measurement_location_id\"] == 8420]\n",
    "measurement_index = df_plot[\"value_type\"] == \"verwachting\"\n",
    "df_plot_measurements = df_plot[measurement_index][[\"value\"]]\n",
    "df_plot_forecast = df_plot[~measurement_index][[\"value\"]]\n",
    "fig, ax = plt.subplots()\n",
    "df_plot_measurements.plot(color=\"C0\", ax=ax)\n",
    "df_plot_forecast.plot(color=\"C1\", ax=ax)\n",
    "ax.legend([\"Prediction\", \"Measurement\"]) -->"
   ]
  }
 ],
 "metadata": {
  "kernelspec": {
   "display_name": "Python 3",
   "language": "python",
   "name": "python3"
  },
  "language_info": {
   "codemirror_mode": {
    "name": "ipython",
    "version": 3
   },
   "file_extension": ".py",
   "mimetype": "text/x-python",
   "name": "python",
   "nbconvert_exporter": "python",
   "pygments_lexer": "ipython3",
   "version": "3.12.6"
  }
 },
 "nbformat": 4,
 "nbformat_minor": 2
}
