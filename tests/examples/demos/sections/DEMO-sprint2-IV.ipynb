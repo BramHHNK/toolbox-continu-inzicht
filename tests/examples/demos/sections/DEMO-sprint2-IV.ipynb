{
 "cells": [
  {
   "attachments": {},
   "cell_type": "markdown",
   "metadata": {},
   "source": [
    "# DEMO sprint 2 - Deel 4 (belastingen secties)\n",
    "\n",
    "Gebruikmakend van:\n",
    "- csv bestanden voor uitwisselen van data"
   ]
  },
  {
   "attachments": {},
   "cell_type": "markdown",
   "metadata": {},
   "source": [
    "### Benodigde generieke Python packages"
   ]
  },
  {
   "cell_type": "code",
   "execution_count": 1,
   "metadata": {},
   "outputs": [],
   "source": [
    "from pathlib import Path"
   ]
  },
  {
   "attachments": {},
   "cell_type": "markdown",
   "metadata": {},
   "source": [
    "### Definitie configuratie: Database bestanden "
   ]
  },
  {
   "attachments": {},
   "cell_type": "markdown",
   "metadata": {},
   "source": [
    "GlobalVariables:\n",
    "    rootdir: \"data_demo\"  \n",
    "    moments: [-24,0,24,48]\n",
    "    \n",
    "    SectionsLoads:\n",
    "        MISSING_VALUE: -9999.0 \n",
    "\n",
    "DataAdapter: \n",
    "    default_options:\n",
    "        csv:\n",
    "            sep: \",\"\n",
    "    Dijkvakken: \n",
    "        type: csv\n",
    "        path: \"dijkvakken.csv\"\n",
    "    Dijkvak_belastinglocatie: \n",
    "        type: csv\n",
    "        path: \"dijkvak_belastinglocatie.csv\"      \n",
    "    Waterstanden: \n",
    "        type: csv\n",
    "        path: \"waterstanden_waterinfo.csv\"\n",
    "    Waterstanden_per_dijkvak: \n",
    "        type: csv\n",
    "        path: \"waterstanden_per_dijkvak.csv\"  "
   ]
  },
  {
   "attachments": {},
   "cell_type": "markdown",
   "metadata": {},
   "source": [
    "### Lees configuratie in en maak dictionary base.Config aan"
   ]
  },
  {
   "cell_type": "code",
   "execution_count": 2,
   "metadata": {},
   "outputs": [],
   "source": [
    "from toolbox_continu_inzicht import Config\n",
    "\n",
    "yaml_config_file = \"demo_sprint2-IV.yaml\"\n",
    "path = Path.joinpath(Path.cwd(), \"data_demo\", yaml_config_file)\n",
    "c = Config(config_path=path)\n",
    "c.lees_config()"
   ]
  },
  {
   "attachments": {},
   "cell_type": "markdown",
   "metadata": {},
   "source": [
    "### Geef config mee aan base.Adapter"
   ]
  },
  {
   "cell_type": "code",
   "execution_count": 3,
   "metadata": {},
   "outputs": [
    {
     "name": "stdout",
     "output_type": "stream",
     "text": [
      "Folder met data: c:\\Data\\Python\\toolbox-continu-inzicht\\tests\\demos\\sections\\data_demo\\demo_sprint2-IV.yaml\n",
      "Globale variabelen: {'rootdir': 'data_demo', 'moments': [-24, 0, 24, 48], 'SectionsLoads': {'MISSING_VALUE': -9999.0}}\n",
      "Data apdater: default_options\n",
      "Data apdater: Dijkvakken\n",
      "Data apdater: Dijkvak_belastinglocatie\n",
      "Data apdater: Waterstanden\n",
      "Data apdater: Waterstanden_per_dijkvak\n"
     ]
    }
   ],
   "source": [
    "from toolbox_continu_inzicht import DataAdapter\n",
    "\n",
    "data = DataAdapter(config=c)\n",
    "print(f\"Folder met data: {data.config.config_path}\")\n",
    "print(f\"Globale variabelen: {data.config.global_variables}\")\n",
    "for data_adapter in data.config.data_adapters:\n",
    "    print(f\"Data apdater: {data_adapter}\")"
   ]
  },
  {
   "attachments": {},
   "cell_type": "markdown",
   "metadata": {},
   "source": [
    "### Laad en run module (functie) SectionsLoads voor bepalen waterstand per sectie"
   ]
  },
  {
   "cell_type": "code",
   "execution_count": 4,
   "metadata": {},
   "outputs": [],
   "source": [
    "from toolbox_continu_inzicht.sections import SectionsLoads\n",
    "\n",
    "sections_loads = SectionsLoads(data_adapter=data)\n",
    "ds = sections_loads.run(\n",
    "    input=[\"Dijkvakken\", \"Waterstanden\", \"Dijkvak_belastinglocatie\"],\n",
    "    output=\"Waterstanden_per_dijkvak\",\n",
    ")"
   ]
  },
  {
   "cell_type": "code",
   "execution_count": 5,
   "metadata": {},
   "outputs": [
    {
     "data": {
      "text/html": [
       "<div>\n",
       "<style scoped>\n",
       "    .dataframe tbody tr th:only-of-type {\n",
       "        vertical-align: middle;\n",
       "    }\n",
       "\n",
       "    .dataframe tbody tr th {\n",
       "        vertical-align: top;\n",
       "    }\n",
       "\n",
       "    .dataframe thead th {\n",
       "        text-align: right;\n",
       "    }\n",
       "</style>\n",
       "<table border=\"1\" class=\"dataframe\">\n",
       "  <thead>\n",
       "    <tr style=\"text-align: right;\">\n",
       "      <th></th>\n",
       "      <th>id</th>\n",
       "      <th>name</th>\n",
       "      <th>date_time</th>\n",
       "      <th>value</th>\n",
       "      <th>unit</th>\n",
       "      <th>parameter_id</th>\n",
       "      <th>value_type</th>\n",
       "    </tr>\n",
       "  </thead>\n",
       "  <tbody>\n",
       "    <tr>\n",
       "      <th>0</th>\n",
       "      <td>1</td>\n",
       "      <td>IJ12.18400.21100</td>\n",
       "      <td>2024-11-10 09:00:00+00:00</td>\n",
       "      <td>774.0</td>\n",
       "      <td>cm</td>\n",
       "      <td>4724.0</td>\n",
       "      <td>meting</td>\n",
       "    </tr>\n",
       "    <tr>\n",
       "      <th>1</th>\n",
       "      <td>1</td>\n",
       "      <td>IJ12.18400.21100</td>\n",
       "      <td>2024-11-10 09:10:00+00:00</td>\n",
       "      <td>775.0</td>\n",
       "      <td>cm</td>\n",
       "      <td>4724.0</td>\n",
       "      <td>meting</td>\n",
       "    </tr>\n",
       "    <tr>\n",
       "      <th>2</th>\n",
       "      <td>1</td>\n",
       "      <td>IJ12.18400.21100</td>\n",
       "      <td>2024-11-10 09:20:00+00:00</td>\n",
       "      <td>775.0</td>\n",
       "      <td>cm</td>\n",
       "      <td>4724.0</td>\n",
       "      <td>meting</td>\n",
       "    </tr>\n",
       "    <tr>\n",
       "      <th>3</th>\n",
       "      <td>1</td>\n",
       "      <td>IJ12.18400.21100</td>\n",
       "      <td>2024-11-10 09:30:00+00:00</td>\n",
       "      <td>775.0</td>\n",
       "      <td>cm</td>\n",
       "      <td>4724.0</td>\n",
       "      <td>meting</td>\n",
       "    </tr>\n",
       "    <tr>\n",
       "      <th>4</th>\n",
       "      <td>1</td>\n",
       "      <td>IJ12.18400.21100</td>\n",
       "      <td>2024-11-10 09:40:00+00:00</td>\n",
       "      <td>775.0</td>\n",
       "      <td>cm</td>\n",
       "      <td>4724.0</td>\n",
       "      <td>meting</td>\n",
       "    </tr>\n",
       "    <tr>\n",
       "      <th>...</th>\n",
       "      <td>...</td>\n",
       "      <td>...</td>\n",
       "      <td>...</td>\n",
       "      <td>...</td>\n",
       "      <td>...</td>\n",
       "      <td>...</td>\n",
       "      <td>...</td>\n",
       "    </tr>\n",
       "    <tr>\n",
       "      <th>616</th>\n",
       "      <td>11</td>\n",
       "      <td>37_Buitendijk_Hamse_Polders_1</td>\n",
       "      <td>NaN</td>\n",
       "      <td>NaN</td>\n",
       "      <td>NaN</td>\n",
       "      <td>NaN</td>\n",
       "      <td>NaN</td>\n",
       "    </tr>\n",
       "    <tr>\n",
       "      <th>617</th>\n",
       "      <td>12</td>\n",
       "      <td>36_Buitendijk_Nieuwe_Zwaluwe_P_1</td>\n",
       "      <td>NaN</td>\n",
       "      <td>NaN</td>\n",
       "      <td>NaN</td>\n",
       "      <td>NaN</td>\n",
       "      <td>NaN</td>\n",
       "    </tr>\n",
       "    <tr>\n",
       "      <th>618</th>\n",
       "      <td>13</td>\n",
       "      <td>48_DOT_03a</td>\n",
       "      <td>NaN</td>\n",
       "      <td>NaN</td>\n",
       "      <td>NaN</td>\n",
       "      <td>NaN</td>\n",
       "      <td>NaN</td>\n",
       "    </tr>\n",
       "    <tr>\n",
       "      <th>619</th>\n",
       "      <td>14</td>\n",
       "      <td>48_DOT_03b</td>\n",
       "      <td>NaN</td>\n",
       "      <td>NaN</td>\n",
       "      <td>NaN</td>\n",
       "      <td>NaN</td>\n",
       "      <td>NaN</td>\n",
       "    </tr>\n",
       "    <tr>\n",
       "      <th>620</th>\n",
       "      <td>15</td>\n",
       "      <td>48_DOT_03c</td>\n",
       "      <td>NaN</td>\n",
       "      <td>NaN</td>\n",
       "      <td>NaN</td>\n",
       "      <td>NaN</td>\n",
       "      <td>NaN</td>\n",
       "    </tr>\n",
       "  </tbody>\n",
       "</table>\n",
       "<p>621 rows × 7 columns</p>\n",
       "</div>"
      ],
      "text/plain": [
       "     id                              name                  date_time  value  \\\n",
       "0     1                  IJ12.18400.21100  2024-11-10 09:00:00+00:00  774.0   \n",
       "1     1                  IJ12.18400.21100  2024-11-10 09:10:00+00:00  775.0   \n",
       "2     1                  IJ12.18400.21100  2024-11-10 09:20:00+00:00  775.0   \n",
       "3     1                  IJ12.18400.21100  2024-11-10 09:30:00+00:00  775.0   \n",
       "4     1                  IJ12.18400.21100  2024-11-10 09:40:00+00:00  775.0   \n",
       "..   ..                               ...                        ...    ...   \n",
       "616  11     37_Buitendijk_Hamse_Polders_1                        NaN    NaN   \n",
       "617  12  36_Buitendijk_Nieuwe_Zwaluwe_P_1                        NaN    NaN   \n",
       "618  13                        48_DOT_03a                        NaN    NaN   \n",
       "619  14                        48_DOT_03b                        NaN    NaN   \n",
       "620  15                        48_DOT_03c                        NaN    NaN   \n",
       "\n",
       "    unit  parameter_id value_type  \n",
       "0     cm        4724.0     meting  \n",
       "1     cm        4724.0     meting  \n",
       "2     cm        4724.0     meting  \n",
       "3     cm        4724.0     meting  \n",
       "4     cm        4724.0     meting  \n",
       "..   ...           ...        ...  \n",
       "616  NaN           NaN        NaN  \n",
       "617  NaN           NaN        NaN  \n",
       "618  NaN           NaN        NaN  \n",
       "619  NaN           NaN        NaN  \n",
       "620  NaN           NaN        NaN  \n",
       "\n",
       "[621 rows x 7 columns]"
      ]
     },
     "execution_count": 5,
     "metadata": {},
     "output_type": "execute_result"
    }
   ],
   "source": [
    "sectie_waterlevels = sections_loads.df_out\n",
    "sectie_waterlevels"
   ]
  },
  {
   "attachments": {},
   "cell_type": "markdown",
   "metadata": {},
   "source": [
    "<!-- values_nan = df_out[df_out[\"value\"] == -999].index\n",
    "for val in values_nan:\n",
    "    df_out.loc[val, \"value\"] = np.nan\n",
    "df_out.sort_index()\n",
    "df_plot = df_out.set_index(df_out[\"datetime\"])\n",
    "df_plot = df_plot[df_plot[\"measurement_location_id\"] == 8420]\n",
    "measurement_index = df_plot[\"value_type\"] == \"verwachting\"\n",
    "df_plot_measurements = df_plot[measurement_index][[\"value\"]]\n",
    "df_plot_forecast = df_plot[~measurement_index][[\"value\"]]\n",
    "fig, ax = plt.subplots()\n",
    "df_plot_measurements.plot(color=\"C0\", ax=ax)\n",
    "df_plot_forecast.plot(color=\"C1\", ax=ax)\n",
    "ax.legend([\"Prediction\", \"Measurement\"]) -->"
   ]
  }
 ],
 "metadata": {
  "kernelspec": {
   "display_name": "Python 3",
   "language": "python",
   "name": "python3"
  },
  "language_info": {
   "codemirror_mode": {
    "name": "ipython",
    "version": 3
   },
   "file_extension": ".py",
   "mimetype": "text/x-python",
   "name": "python",
   "nbconvert_exporter": "python",
   "pygments_lexer": "ipython3",
   "version": "3.12.6"
  },
  "orig_nbformat": 4
 },
 "nbformat": 4,
 "nbformat_minor": 2
}
