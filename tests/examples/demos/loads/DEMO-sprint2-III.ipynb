{
 "cells": [
  {
   "attachments": {},
   "cell_type": "markdown",
   "metadata": {},
   "source": [
    "# DEMO sprint 2 - Deel 3 (belastingen classificeren)\n",
    "\n",
    "Gebruikmakend van:\n",
    "- csv bestanden voor uitwisselen van data"
   ]
  },
  {
   "attachments": {},
   "cell_type": "markdown",
   "metadata": {},
   "source": [
    "### Benodigde generieke Python packages"
   ]
  },
  {
   "cell_type": "code",
   "execution_count": null,
   "metadata": {},
   "outputs": [],
   "source": [
    "from pathlib import Path"
   ]
  },
  {
   "attachments": {},
   "cell_type": "markdown",
   "metadata": {},
   "source": [
    "### Definitie configuratie: Database bestanden "
   ]
  },
  {
   "attachments": {},
   "cell_type": "markdown",
   "metadata": {},
   "source": [
    "GlobalVariables:\n",
    "    rootdir: \"data_demo\" \n",
    "    moments: [-24,0,24,48]  \n",
    "\n",
    "    LoadsMaxima:\n",
    "        tide: False   \n",
    "\n",
    "DataAdapter: \n",
    "    default_options:\n",
    "        csv:\n",
    "            sep: \",\"\n",
    "    Waterstanden_WaterInfo: \n",
    "        type: csv\n",
    "        path: \"waterstanden_waterinfo.csv\"\n",
    "    Waterstanden_WaterInfo_Maxima:   \n",
    "        type: csv\n",
    "        path: \"waterstanden_waterinfo_maxima.csv\"    "
   ]
  },
  {
   "attachments": {},
   "cell_type": "markdown",
   "metadata": {},
   "source": [
    "### Lees configuratie in en maak dictionary base.Config aan"
   ]
  },
  {
   "cell_type": "code",
   "execution_count": null,
   "metadata": {},
   "outputs": [],
   "source": [
    "from toolbox_continu_inzicht import Config\n",
    "\n",
    "yaml_config_file = \"demo_sprint2-III.yaml\"\n",
    "path = Path.joinpath(Path.cwd(), \"data_demo\", yaml_config_file)\n",
    "c = Config(config_path=path)\n",
    "c.lees_config()"
   ]
  },
  {
   "attachments": {},
   "cell_type": "markdown",
   "metadata": {},
   "source": [
    "### Geef config mee aan base.Adapter"
   ]
  },
  {
   "cell_type": "code",
   "execution_count": null,
   "metadata": {},
   "outputs": [],
   "source": [
    "from toolbox_continu_inzicht import DataAdapter\n",
    "\n",
    "data = DataAdapter(config=c)\n",
    "print(f\"Folder met data: {data.config.config_path}\")\n",
    "print(f\"Globale variabelen: {data.config.global_variables}\")\n",
    "for data_adapter in data.config.data_adapters:\n",
    "    print(f\"Data apdater: {data_adapter}\")"
   ]
  },
  {
   "attachments": {},
   "cell_type": "markdown",
   "metadata": {},
   "source": [
    "### Invoerbestand (CSV) met data van waterstanden per belastinglocatie\n",
    "Verplichte velden (schema):\n",
    "- measurement_location_id: int64\n",
    "- measurement_location_code: object (string)\n",
    "- measurement_location_description: object (string)\n",
    "- parameter_id: int64\n",
    "- parameter_code: object (string)\n",
    "- parameter_description: object (string)\n",
    "- unit: object (string)\n",
    "- date_time: object (datetime)\n",
    "- value: float\n",
    "- value_type: object (string)"
   ]
  },
  {
   "attachments": {},
   "cell_type": "markdown",
   "metadata": {},
   "source": [
    "### Laad en run module (functie) LoadsToMoments voor inlezen waterstand reeksen en bepalen waterstanden per moment"
   ]
  },
  {
   "cell_type": "code",
   "execution_count": null,
   "metadata": {},
   "outputs": [],
   "source": [
    "from toolbox_continu_inzicht.loads import LoadsToMoments\n",
    "\n",
    "moments = LoadsToMoments(data_adapter=data)\n",
    "ds = moments.run(input=\"Waterstanden_WaterInfo\", output=\"Waterstanden_WaterInfo_Maxima\")"
   ]
  },
  {
   "cell_type": "code",
   "execution_count": null,
   "metadata": {},
   "outputs": [],
   "source": [
    "waterlevels = moments.df_in\n",
    "waterlevels"
   ]
  },
  {
   "cell_type": "code",
   "execution_count": null,
   "metadata": {},
   "outputs": [],
   "source": [
    "waterlevels_moments = moments.df_out\n",
    "waterlevels_moments"
   ]
  },
  {
   "attachments": {},
   "cell_type": "markdown",
   "metadata": {},
   "source": [
    "### Laad module (functie) LoadsClassify voor bepalen classificatie van waterstanden per moment"
   ]
  },
  {
   "cell_type": "code",
   "execution_count": null,
   "metadata": {},
   "outputs": [],
   "source": [
    "from toolbox_continu_inzicht.loads import LoadsClassify\n",
    "\n",
    "classify = LoadsClassify(data_adapter=data)"
   ]
  },
  {
   "attachments": {},
   "cell_type": "markdown",
   "metadata": {},
   "source": [
    "### Run module (functie) LoadsClassify voor bepalen classificatie van waterstanden per moment\n",
    "LET OP: volgorde van de input!!! Eerst de klassegrenzen en daarna de waterstanden\n",
    "\n",
    "Klassegrenzen:\\\n",
    "measurement_location_id,lower_boundary,upper_boundary,color,label\\\n",
    "1,0.0,695.0,\"#daeef3\",\"normaal\"\\\n",
    "1,695.0,1155.0,\"#b6dde8\",\"licht verhoogd\"\\\n",
    "1,1155.0,1250.0,\"#4bacc6\",\"verhoogd\"\\\n",
    "1,1250.0,1430.0,\"#31849b\",\"hoog water\"\\\n",
    "1,1430.0,10000.0,\"#002060\",\"extreem hoog water\""
   ]
  },
  {
   "cell_type": "code",
   "execution_count": null,
   "metadata": {},
   "outputs": [],
   "source": [
    "ds = classify.run(\n",
    "    input=[\"WaterInfo_Klassengrenzen\", \"Waterstanden_WaterInfo_Maxima\"],\n",
    "    output=\"Waterstanden_WaterInfo_Klassen\",\n",
    ")"
   ]
  },
  {
   "cell_type": "code",
   "execution_count": null,
   "metadata": {},
   "outputs": [],
   "source": [
    "waterlevels_classes = classify.df_out\n",
    "waterlevels_classes"
   ]
  },
  {
   "attachments": {},
   "cell_type": "markdown",
   "metadata": {},
   "source": [
    "<!-- values_nan = df_out[df_out[\"value\"] == -999].index\n",
    "for val in values_nan:\n",
    "    df_out.loc[val, \"value\"] = np.nan\n",
    "df_out.sort_index()\n",
    "df_plot = df_out.set_index(df_out[\"datetime\"])\n",
    "df_plot = df_plot[df_plot[\"measurement_location_id\"] == 8420]\n",
    "measurement_index = df_plot[\"value_type\"] == \"verwachting\"\n",
    "df_plot_measurements = df_plot[measurement_index][[\"value\"]]\n",
    "df_plot_forecast = df_plot[~measurement_index][[\"value\"]]\n",
    "fig, ax = plt.subplots()\n",
    "df_plot_measurements.plot(color=\"C0\", ax=ax)\n",
    "df_plot_forecast.plot(color=\"C1\", ax=ax)\n",
    "ax.legend([\"Prediction\", \"Measurement\"]) -->"
   ]
  }
 ],
 "metadata": {
  "kernelspec": {
   "display_name": "Python 3",
   "language": "python",
   "name": "python3"
  },
  "language_info": {
   "codemirror_mode": {
    "name": "ipython",
    "version": 3
   },
   "file_extension": ".py",
   "mimetype": "text/x-python",
   "name": "python",
   "nbconvert_exporter": "python",
   "pygments_lexer": "ipython3",
   "version": "3.12.6"
  }
 },
 "nbformat": 4,
 "nbformat_minor": 2
}
