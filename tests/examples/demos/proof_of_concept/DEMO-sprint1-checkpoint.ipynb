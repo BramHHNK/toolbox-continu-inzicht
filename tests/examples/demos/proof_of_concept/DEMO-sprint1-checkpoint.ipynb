{
 "cells": [
  {
   "attachments": {},
   "cell_type": "markdown",
   "metadata": {},
   "source": [
    "# DEMO sprint 1"
   ]
  },
  {
   "attachments": {},
   "cell_type": "markdown",
   "metadata": {},
   "source": [
    "## Voorbeeld met:\n",
    "####    - inlezen data uit CSV, waarden keer twee, wegschrijven naar netCDF \n",
    "####    - inlezen data uit NetCDF, waarden delen door twee en wegschrijven naar CSV"
   ]
  },
  {
   "attachments": {},
   "cell_type": "markdown",
   "metadata": {},
   "source": [
    "### Benodigde generieke Python packages"
   ]
  },
  {
   "cell_type": "code",
   "execution_count": 1,
   "metadata": {},
   "outputs": [],
   "source": [
    "from pathlib import Path"
   ]
  },
  {
   "attachments": {},
   "cell_type": "markdown",
   "metadata": {},
   "source": [
    "### Definitie configuratie"
   ]
  },
  {
   "attachments": {},
   "cell_type": "markdown",
   "metadata": {},
   "source": [
    "GlobalVariables:\n",
    "    rootdir: 'data_demo'\n",
    "    csv:\n",
    "        delimiter: \",\"\n",
    "\n",
    "DataAdapter:\n",
    "    CSV_in: \n",
    "        type: csv\n",
    "        path: 'demo.csv'\n",
    "    CSV_out: \n",
    "        type: csv\n",
    "        path: 'demo_out.csv'\n",
    "    NetCDF_out:\n",
    "        type: netcdf\n",
    "        path: 'demo_out.nc'"
   ]
  },
  {
   "attachments": {},
   "cell_type": "markdown",
   "metadata": {},
   "source": [
    "### Lees configuratie in en maak dictionary base.Config aan"
   ]
  },
  {
   "cell_type": "code",
   "execution_count": 2,
   "metadata": {},
   "outputs": [],
   "source": [
    "from toolbox_continu_inzicht import Config\n",
    "\n",
    "yaml_config_file = \"demo.yaml\"\n",
    "path = Path.joinpath(Path.cwd(), \"data_demo\", yaml_config_file)\n",
    "c = Config(config_path=path)\n",
    "c.lees_config()"
   ]
  },
  {
   "attachments": {},
   "cell_type": "markdown",
   "metadata": {},
   "source": [
    "### Geef config mee aan base.Adapter"
   ]
  },
  {
   "cell_type": "code",
   "execution_count": 3,
   "metadata": {},
   "outputs": [
    {
     "name": "stdout",
     "output_type": "stream",
     "text": [
      "Folder met data: c:\\Data\\Python\\toolbox-continu-inzicht\\tests\\demos\\proof_of_concept\\data_demo\\demo.yaml\n",
      "Globale variabelen: {'rootdir': 'data_demo', 'csv': {'delimiter': ','}}\n",
      "Data apdater: CSV_in\n",
      "Data apdater: CSV_out\n",
      "Data apdater: NetCDF_out\n"
     ]
    }
   ],
   "source": [
    "from toolbox_continu_inzicht import DataAdapter\n",
    "\n",
    "data = DataAdapter(config=c)\n",
    "print(f\"Folder met data: {data.config.config_path}\")\n",
    "print(f\"Globale variabelen: {data.config.global_variables}\")\n",
    "for data_adapter in data.config.data_adapters:\n",
    "    print(f\"Data apdater: {data_adapter}\")"
   ]
  },
  {
   "attachments": {},
   "cell_type": "markdown",
   "metadata": {},
   "source": [
    "### Laad module (functie) WaardesKeerTwee met data_adapter"
   ]
  },
  {
   "cell_type": "code",
   "execution_count": 4,
   "metadata": {},
   "outputs": [],
   "source": [
    "from toolbox_continu_inzicht.proof_of_concept import ValuesTimesTwo\n",
    "\n",
    "times_two = ValuesTimesTwo(data_adapter=data)"
   ]
  },
  {
   "attachments": {},
   "cell_type": "markdown",
   "metadata": {},
   "source": [
    "### CSV databestand"
   ]
  },
  {
   "attachments": {},
   "cell_type": "markdown",
   "metadata": {},
   "source": [
    "objectid,objecttype,parameterid,datetime,value\\\n",
    "1,measuringstation,1,1,1\\\n",
    "2,measuringstation,1,1,2"
   ]
  },
  {
   "attachments": {},
   "cell_type": "markdown",
   "metadata": {},
   "source": [
    "### Run module (functie) en controleer de resultaten"
   ]
  },
  {
   "cell_type": "code",
   "execution_count": 5,
   "metadata": {},
   "outputs": [
    {
     "name": "stdout",
     "output_type": "stream",
     "text": [
      "Data ingelezen vanuit CSV:\n",
      "   objectid        objecttype  parameterid  date_time  value\n",
      "0         1  measuringstation            1          1      1\n",
      "1         2  measuringstation            1          1      2\n",
      "\n",
      "Data weggeschreven naar NetCDF:\n",
      "   objectid        objecttype  parameterid  date_time  value\n",
      "0       1.0  measuringstation          1.0        1.0    2.0\n",
      "1       2.0  measuringstation          1.0        1.0    4.0\n"
     ]
    }
   ],
   "source": [
    "ds = times_two.run(input=\"CSV_in\", output=\"NetCDF_out\")\n",
    "\n",
    "print(\"Data ingelezen vanuit CSV:\")\n",
    "print(times_two.df_in)\n",
    "\n",
    "print(\"\")\n",
    "print(\"Data weggeschreven naar NetCDF:\")\n",
    "print(times_two.df_out)"
   ]
  },
  {
   "attachments": {},
   "cell_type": "markdown",
   "metadata": {},
   "source": [
    "### Laad data vanuit NetCDF bestand"
   ]
  },
  {
   "cell_type": "code",
   "execution_count": 6,
   "metadata": {},
   "outputs": [
    {
     "data": {
      "text/html": [
       "<div>\n",
       "<style scoped>\n",
       "    .dataframe tbody tr th:only-of-type {\n",
       "        vertical-align: middle;\n",
       "    }\n",
       "\n",
       "    .dataframe tbody tr th {\n",
       "        vertical-align: top;\n",
       "    }\n",
       "\n",
       "    .dataframe thead th {\n",
       "        text-align: right;\n",
       "    }\n",
       "</style>\n",
       "<table border=\"1\" class=\"dataframe\">\n",
       "  <thead>\n",
       "    <tr style=\"text-align: right;\">\n",
       "      <th></th>\n",
       "      <th>index</th>\n",
       "      <th>objecttype</th>\n",
       "      <th>objectid</th>\n",
       "      <th>parameterid</th>\n",
       "      <th>date_time</th>\n",
       "      <th>value</th>\n",
       "    </tr>\n",
       "  </thead>\n",
       "  <tbody>\n",
       "    <tr>\n",
       "      <th>0</th>\n",
       "      <td>0</td>\n",
       "      <td>measuringstation</td>\n",
       "      <td>1.0</td>\n",
       "      <td>1.0</td>\n",
       "      <td>1.0</td>\n",
       "      <td>2.0</td>\n",
       "    </tr>\n",
       "    <tr>\n",
       "      <th>1</th>\n",
       "      <td>1</td>\n",
       "      <td>measuringstation</td>\n",
       "      <td>2.0</td>\n",
       "      <td>1.0</td>\n",
       "      <td>1.0</td>\n",
       "      <td>4.0</td>\n",
       "    </tr>\n",
       "  </tbody>\n",
       "</table>\n",
       "</div>"
      ],
      "text/plain": [
       "   index        objecttype  objectid  parameterid  date_time  value\n",
       "0      0  measuringstation       1.0          1.0        1.0    2.0\n",
       "1      1  measuringstation       2.0          1.0        1.0    4.0"
      ]
     },
     "execution_count": 6,
     "metadata": {},
     "output_type": "execute_result"
    }
   ],
   "source": [
    "import xarray as xr\n",
    "\n",
    "netcdf_file = \"demo_out.nc\"\n",
    "path = Path.joinpath(Path.cwd(), \"data_demo\", netcdf_file)\n",
    "df = xr.open_dataset(path).to_dataframe().reset_index()\n",
    "df"
   ]
  },
  {
   "attachments": {},
   "cell_type": "markdown",
   "metadata": {},
   "source": [
    "### Laad module (functie) WaardesDelenTwee met data_adapter"
   ]
  },
  {
   "cell_type": "code",
   "execution_count": 8,
   "metadata": {},
   "outputs": [],
   "source": [
    "from toolbox_continu_inzicht.proof_of_concept import ValuesDivideTwo\n",
    "\n",
    "divide_by_two = ValuesDivideTwo(data_adapter=data)"
   ]
  },
  {
   "attachments": {},
   "cell_type": "markdown",
   "metadata": {},
   "source": [
    "### Run module (functie) en controleer de resultaten"
   ]
  },
  {
   "cell_type": "code",
   "execution_count": 9,
   "metadata": {},
   "outputs": [
    {
     "name": "stdout",
     "output_type": "stream",
     "text": [
      "Data ingelezen vanuit NetCDF:\n",
      "             objecttype  objectid  parameterid  date_time  value\n",
      "index                                                           \n",
      "0      measuringstation       1.0          1.0        1.0    2.0\n",
      "1      measuringstation       2.0          1.0        1.0    4.0\n",
      "\n",
      "Data weggeschreven naar CSV:\n",
      "             objecttype  objectid  parameterid  date_time  value\n",
      "index                                                           \n",
      "0      measuringstation       1.0          1.0        1.0    1.0\n",
      "1      measuringstation       2.0          1.0        1.0    2.0\n"
     ]
    }
   ],
   "source": [
    "ds = divide_by_two.run(input=\"NetCDF_out\", output=\"CSV_out\")\n",
    "\n",
    "print(\"Data ingelezen vanuit NetCDF:\")\n",
    "print(divide_by_two.df_in)\n",
    "\n",
    "print(\"\")\n",
    "print(\"Data weggeschreven naar CSV:\")\n",
    "print(divide_by_two.df_out)"
   ]
  }
 ],
 "metadata": {
  "kernelspec": {
   "display_name": "Python 3 (ipykernel)",
   "language": "python",
   "name": "python3"
  },
  "language_info": {
   "codemirror_mode": {
    "name": "ipython",
    "version": 3
   },
   "file_extension": ".py",
   "mimetype": "text/x-python",
   "name": "python",
   "nbconvert_exporter": "python",
   "pygments_lexer": "ipython3",
   "version": "3.12.6"
  }
 },
 "nbformat": 4,
 "nbformat_minor": 4
}
