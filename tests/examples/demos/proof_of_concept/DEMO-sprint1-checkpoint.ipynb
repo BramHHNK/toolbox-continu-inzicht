{
 "cells": [
  {
   "attachments": {},
   "cell_type": "markdown",
   "metadata": {},
   "source": [
    "# DEMO sprint 1"
   ]
  },
  {
   "attachments": {},
   "cell_type": "markdown",
   "metadata": {},
   "source": [
    "## Voorbeeld met:\n",
    "####    - inlezen data uit CSV, waarden keer twee, wegschrijven naar netCDF \n",
    "####    - inlezen data uit NetCDF, waarden delen door twee en wegschrijven naar CSV"
   ]
  },
  {
   "attachments": {},
   "cell_type": "markdown",
   "metadata": {},
   "source": [
    "### Benodigde generieke Python packages"
   ]
  },
  {
   "cell_type": "code",
   "execution_count": null,
   "metadata": {},
   "outputs": [],
   "source": [
    "from pathlib import Path"
   ]
  },
  {
   "attachments": {},
   "cell_type": "markdown",
   "metadata": {},
   "source": [
    "### Definitie configuratie"
   ]
  },
  {
   "attachments": {},
   "cell_type": "markdown",
   "metadata": {},
   "source": [
    "GlobalVariables:\n",
    "    rootdir: 'data_demo'\n",
    "    csv:\n",
    "        delimiter: \",\"\n",
    "\n",
    "DataAdapter:\n",
    "    CSV_in: \n",
    "        type: csv\n",
    "        path: 'demo.csv'\n",
    "    CSV_out: \n",
    "        type: csv\n",
    "        path: 'demo_out.csv'\n",
    "    NetCDF_out:\n",
    "        type: netcdf\n",
    "        path: 'demo_out.nc'"
   ]
  },
  {
   "attachments": {},
   "cell_type": "markdown",
   "metadata": {},
   "source": [
    "### Lees configuratie in en maak dictionary base.Config aan"
   ]
  },
  {
   "cell_type": "code",
   "execution_count": null,
   "metadata": {},
   "outputs": [],
   "source": [
    "from toolbox_continu_inzicht import Config\n",
    "\n",
    "yaml_config_file = \"demo.yaml\"\n",
    "path = Path.joinpath(Path.cwd(), \"data_demo\", yaml_config_file)\n",
    "c = Config(config_path=path)\n",
    "c.lees_config()"
   ]
  },
  {
   "attachments": {},
   "cell_type": "markdown",
   "metadata": {},
   "source": [
    "### Geef config mee aan base.Adapter"
   ]
  },
  {
   "cell_type": "code",
   "execution_count": null,
   "metadata": {},
   "outputs": [],
   "source": [
    "from toolbox_continu_inzicht import DataAdapter\n",
    "\n",
    "data = DataAdapter(config=c)\n",
    "print(f\"Folder met data: {data.config.config_path}\")\n",
    "print(f\"Globale variabelen: {data.config.global_variables}\")\n",
    "for data_adapter in data.config.data_adapters:\n",
    "    print(f\"Data apdater: {data_adapter}\")"
   ]
  },
  {
   "attachments": {},
   "cell_type": "markdown",
   "metadata": {},
   "source": [
    "### Laad module (functie) WaardesKeerTwee met data_adapter"
   ]
  },
  {
   "cell_type": "code",
   "execution_count": null,
   "metadata": {},
   "outputs": [],
   "source": [
    "from toolbox_continu_inzicht.proof_of_concept import ValuesTimesTwo\n",
    "\n",
    "times_two = ValuesTimesTwo(data_adapter=data)"
   ]
  },
  {
   "attachments": {},
   "cell_type": "markdown",
   "metadata": {},
   "source": [
    "### CSV databestand"
   ]
  },
  {
   "attachments": {},
   "cell_type": "markdown",
   "metadata": {},
   "source": [
    "objectid,objecttype,parameterid,datetime,value\\\n",
    "1,measuringstation,1,1,1\\\n",
    "2,measuringstation,1,1,2"
   ]
  },
  {
   "attachments": {},
   "cell_type": "markdown",
   "metadata": {},
   "source": [
    "### Run module (functie) en controleer de resultaten"
   ]
  },
  {
   "cell_type": "code",
   "execution_count": null,
   "metadata": {},
   "outputs": [],
   "source": [
    "ds = times_two.run(input=\"CSV_in\", output=\"NetCDF_out\")\n",
    "\n",
    "print(\"Data ingelezen vanuit CSV:\")\n",
    "print(times_two.df_in)\n",
    "\n",
    "print(\"\")\n",
    "print(\"Data weggeschreven naar NetCDF:\")\n",
    "print(times_two.df_out)"
   ]
  },
  {
   "attachments": {},
   "cell_type": "markdown",
   "metadata": {},
   "source": [
    "### Laad data vanuit NetCDF bestand"
   ]
  },
  {
   "cell_type": "code",
   "execution_count": null,
   "metadata": {},
   "outputs": [],
   "source": [
    "import xarray as xr\n",
    "\n",
    "netcdf_file = \"demo_out.nc\"\n",
    "path = Path.joinpath(Path.cwd(), \"data_demo\", netcdf_file)\n",
    "df = xr.open_dataset(path).to_dataframe().reset_index()\n",
    "df"
   ]
  },
  {
   "attachments": {},
   "cell_type": "markdown",
   "metadata": {},
   "source": [
    "### Laad module (functie) WaardesDelenTwee met data_adapter"
   ]
  },
  {
   "cell_type": "code",
   "execution_count": null,
   "metadata": {},
   "outputs": [],
   "source": [
    "from toolbox_continu_inzicht.proof_of_concept import ValuesDivideTwo\n",
    "\n",
    "divide_by_two = ValuesDivideTwo(data_adapter=data)"
   ]
  },
  {
   "attachments": {},
   "cell_type": "markdown",
   "metadata": {},
   "source": [
    "### Run module (functie) en controleer de resultaten"
   ]
  },
  {
   "cell_type": "code",
   "execution_count": null,
   "metadata": {},
   "outputs": [],
   "source": [
    "ds = divide_by_two.run(input=\"NetCDF_out\", output=\"CSV_out\")\n",
    "\n",
    "print(\"Data ingelezen vanuit NetCDF:\")\n",
    "print(divide_by_two.df_in)\n",
    "\n",
    "print(\"\")\n",
    "print(\"Data weggeschreven naar CSV:\")\n",
    "print(divide_by_two.df_out)"
   ]
  }
 ],
 "metadata": {
  "kernelspec": {
   "display_name": "Python 3 (ipykernel)",
   "language": "python",
   "name": "python3"
  },
  "language_info": {
   "codemirror_mode": {
    "name": "ipython",
    "version": 3
   },
   "file_extension": ".py",
   "mimetype": "text/x-python",
   "name": "python",
   "nbconvert_exporter": "python",
   "pygments_lexer": "ipython3",
   "version": "3.12.6"
  }
 },
 "nbformat": 4,
 "nbformat_minor": 4
}
