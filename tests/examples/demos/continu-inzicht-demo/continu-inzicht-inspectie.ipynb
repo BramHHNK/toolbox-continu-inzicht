{
 "cells": [
  {
   "cell_type": "markdown",
   "metadata": {},
   "source": [
    "# DEMO sprint 5 - Deel 1 (Inspectieresultaten)"
   ]
  },
  {
   "cell_type": "markdown",
   "metadata": {},
   "source": [
    "### Benodigde Python packages"
   ]
  },
  {
   "cell_type": "code",
   "execution_count": null,
   "metadata": {},
   "outputs": [],
   "source": [
    "# import algemeen\n",
    "from pathlib import Path\n",
    "\n",
    "import geopandas as gpd\n",
    "\n",
    "# imports base modules\n",
    "from toolbox_continu_inzicht.base.config import Config\n",
    "from toolbox_continu_inzicht.base.data_adapter import DataAdapter\n",
    "from toolbox_continu_inzicht.inspections import InspectionsToDatabase\n",
    "from toolbox_continu_inzicht.inspections.filter import Filter\n",
    "from toolbox_continu_inzicht.inspections.inspections import ClassifyInspections"
   ]
  },
  {
   "cell_type": "markdown",
   "metadata": {},
   "source": [
    "### Definitie configuratie"
   ]
  },
  {
   "cell_type": "markdown",
   "metadata": {},
   "source": [
    "**Inlezen configuratie**\n",
    "<details>\n",
    "<summary>Configuratie bekijken</summary>   \n",
    "\n",
    "<pre style=\"font-size: 10pt\">\n",
    "GlobalVariables:\n",
    "    rootdir: \"data\"\n",
    "    moments: [-24,0,24,48]\n",
    "\n",
    "    ClassifyInspections:\n",
    "        classify_column: \"conditiescore\"\n",
    "\n",
    "    Filter:\n",
    "        query: \"Status_waarneming=='Afgerond'\"\n",
    "        drop_columns:\n",
    "            - \"Drop\"\n",
    "\n",
    "    InspectionsToDatabase:\n",
    "        index: 1\n",
    "\n",
    "DataAdapter:\n",
    "    default_options:\n",
    "        csv:\n",
    "            sep: \";\"\n",
    "\n",
    "    inspectie_points_csv:\n",
    "        type: csv\n",
    "        path: \"continu-inzicht-inspectie-data.csv\"\n",
    "\n",
    "    inspectie_points_styling_csv:\n",
    "        type: csv\n",
    "        path: \"continu-inzicht-inspectie-styling.csv\"\n",
    "\n",
    "    inspectie_points_layer_csv:\n",
    "        type: csv\n",
    "        path: \"continu-inzicht-inspectie-layer.csv\"\n",
    "\n",
    "    inspectie_points_filtered_csv:\n",
    "        type: csv\n",
    "        path: \"hidden_inspectie_filter.csv\"\n",
    "        index: False\n",
    "\n",
    "    inspectie_points_filtered_geojson:\n",
    "        type: shape\n",
    "        path: \"hidden-inspectie-filtered.geojson\"\n",
    "        index: False\n",
    "\n",
    "    inspectie_points_filtered_styled_geojson:\n",
    "        type: shape\n",
    "        path: \"hidden-inspectie-filtered-styled.geojson\"\n",
    "\n",
    "    inspectie_points_styled_legenda_csv:\n",
    "        type: csv\n",
    "        path: \"hidden-inspectie-styled-legenda.csv\"\n",
    "        index: False\n",
    "\n",
    "    inspectie_points_filtered_styled_ci_to_database:\n",
    "        type: postgis\n",
    "        schema: continuinzicht_demo_realtime\n",
    "        database: \"continuinzicht\"\n",
    "        table: demo_inspectie_resultaten\n",
    "        if_exists: replace\n",
    "\n",
    "    inspectie_layers_ci_to_database:\n",
    "        type: postgresql_database\n",
    "        schema: continuinzicht_demo_realtime\n",
    "        database: \"continuinzicht\"\n",
    "        table: layers\n",
    "        if_exists: append\n",
    "\n",
    "</pre>\n",
    "</details>"
   ]
  },
  {
   "cell_type": "markdown",
   "metadata": {},
   "source": [
    "### Lees configuratie in en maak dictionary base.Config aan"
   ]
  },
  {
   "cell_type": "code",
   "execution_count": null,
   "metadata": {},
   "outputs": [],
   "source": [
    "# lees configuratiebestand\n",
    "yaml_config_file = \"continu-inzicht-demo-inspectie.yaml\"\n",
    "data_path = Path.joinpath(Path.cwd(), \"data\", yaml_config_file)\n",
    "\n",
    "config = Config(config_path=data_path)\n",
    "config.lees_config()"
   ]
  },
  {
   "cell_type": "markdown",
   "metadata": {},
   "source": [
    "### Geef config mee aan base.Adapter"
   ]
  },
  {
   "cell_type": "code",
   "execution_count": null,
   "metadata": {},
   "outputs": [],
   "source": [
    "# data adapter aanmaken\n",
    "data_adapter = DataAdapter(config=config)"
   ]
  },
  {
   "cell_type": "markdown",
   "metadata": {},
   "source": [
    "### Lees CSV met inspectiedata met behulp van data-adapter en filter deze"
   ]
  },
  {
   "cell_type": "code",
   "execution_count": null,
   "metadata": {},
   "outputs": [],
   "source": [
    "# lees csv met inspecties en filter inspecties\n",
    "filter = Filter(data_adapter=data_adapter)\n",
    "filter.run(input=\"inspectie_points_csv\", output=\"inspectie_points_filtered_csv\")\n",
    "filter.df_out"
   ]
  },
  {
   "cell_type": "markdown",
   "metadata": {},
   "source": [
    "### Sla gefilterde inspectiedata op als geojson"
   ]
  },
  {
   "cell_type": "code",
   "execution_count": null,
   "metadata": {},
   "outputs": [],
   "source": [
    "# sla inspecties op als geojson\n",
    "# stel geometry samen\n",
    "geometry = gpd.points_from_xy(filter.df_out[\"X\"], filter.df_out[\"Y\"])\n",
    "\n",
    "# zet de juiste projectie (EPSG:4326 wordt verwacht)\n",
    "gdf_in = gpd.GeoDataFrame(filter.df_out, geometry=geometry)\n",
    "gdf_in = gdf_in.set_crs(epsg=28992)\n",
    "gdf_in = gdf_in.to_crs(epsg=4326)\n",
    "\n",
    "# alle attribuut namen in kleine letters zonder spaties\n",
    "gdf_in.columns = gdf_in.columns.str.lower().str.replace(\" \", \"_\")\n",
    "\n",
    "# Eventuele URLs naar foto's in attribuut 'Image_URL' opslaan\n",
    "# gdf_in = gdf_in.rename(columns={\"foto_url\": \"Image_URL\"})\n",
    "\n",
    "output_file = Path(config.global_variables[\"rootdir\"]) / Path(\n",
    "    config.data_adapters[\"inspectie_points_filtered_geojson\"][\"path\"]\n",
    ")\n",
    "\n",
    "gdf_in.to_file(output_file, driver=\"GeoJSON\")\n",
    "print(output_file)"
   ]
  },
  {
   "cell_type": "markdown",
   "metadata": {},
   "source": [
    "### Pas styling toe op data in geosjon"
   ]
  },
  {
   "cell_type": "code",
   "execution_count": null,
   "metadata": {},
   "outputs": [],
   "source": [
    "# lees gefilterde inspectie data in en classificeer a.d.v. styling csv\n",
    "classify_inspections = ClassifyInspections(data_adapter=data_adapter)\n",
    "classify_inspections.run(\n",
    "    input=[\"inspectie_points_filtered_geojson\", \"inspectie_points_styling_csv\"],\n",
    "    output=[\n",
    "        \"inspectie_points_filtered_styled_geojson\",\n",
    "        \"inspectie_points_styled_legenda_csv\",\n",
    "    ],\n",
    ")"
   ]
  },
  {
   "cell_type": "markdown",
   "metadata": {},
   "source": [
    "### Schrijf inspectie data (met styling) naar CI database met data-adapter"
   ]
  },
  {
   "cell_type": "code",
   "execution_count": null,
   "metadata": {},
   "outputs": [],
   "source": [
    "# schrijf inspectie data weg naar de CI database (via een data-adapter) -> aparte tabel\n",
    "gdf_in = data_adapter.input(\"inspectie_points_filtered_styled_geojson\")\n",
    "data_adapter.output(\"inspectie_points_filtered_styled_ci_to_database\", gdf_in)"
   ]
  },
  {
   "cell_type": "markdown",
   "metadata": {},
   "source": [
    "### Schrijf kaartlagen configuratie naar CI database met data-adapter"
   ]
  },
  {
   "cell_type": "code",
   "execution_count": null,
   "metadata": {},
   "outputs": [],
   "source": [
    "# schrijf kaartlagen menu en styling naar de CI database (via een data-adapter)\n",
    "inspections_to_database = InspectionsToDatabase(data_adapter=data_adapter)\n",
    "inspections_to_database.run(\n",
    "    input=[\n",
    "        \"inspectie_points_filtered_styled_geojson\",\n",
    "        \"inspectie_points_styled_legenda_csv\",\n",
    "        \"inspectie_points_layer_csv\",\n",
    "    ],\n",
    "    output=\"inspectie_layers_ci_to_database\",\n",
    ")"
   ]
  }
 ],
 "metadata": {
  "kernelspec": {
   "display_name": "default",
   "language": "python",
   "name": "python3"
  },
  "language_info": {
   "codemirror_mode": {
    "name": "ipython",
    "version": 3
   },
   "file_extension": ".py",
   "mimetype": "text/x-python",
   "name": "python",
   "nbconvert_exporter": "python",
   "pygments_lexer": "ipython3",
   "version": "3.13.2"
  }
 },
 "nbformat": 4,
 "nbformat_minor": 2
}
