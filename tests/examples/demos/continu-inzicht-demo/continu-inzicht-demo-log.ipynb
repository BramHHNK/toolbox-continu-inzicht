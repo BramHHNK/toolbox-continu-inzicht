{
 "cells": [
  {
   "cell_type": "markdown",
   "metadata": {},
   "source": [
    "# DEMO sprint 5 - Deel 2 (Log)"
   ]
  },
  {
   "cell_type": "markdown",
   "metadata": {},
   "source": [
    "### Benodigde Python packages"
   ]
  },
  {
   "cell_type": "code",
   "execution_count": 14,
   "metadata": {},
   "outputs": [],
   "source": [
    "# import algemeen\n",
    "from pathlib import Path\n",
    "\n",
    "# imports base modules\n",
    "from toolbox_continu_inzicht import Config, DataAdapter"
   ]
  },
  {
   "cell_type": "markdown",
   "metadata": {},
   "source": [
    "### Definitie configuratie"
   ]
  },
  {
   "cell_type": "markdown",
   "metadata": {},
   "source": [
    "**Inlezen configuratie**\n",
    "<details>\n",
    "<summary>Configuratie bekijken</summary>   \n",
    "\n",
    "<pre style=\"font-size: 10pt\">\n",
    "GlobalVariables:\n",
    "    rootdir: \"data\"\n",
    "    moments: [-24,0,24,48]\n",
    "    logging:\n",
    "        name: test_log\n",
    "        level: WARNING\n",
    "        mode: w\n",
    "        file: hidden_logfile.log\n",
    "\n",
    "DataAdapter:\n",
    "    default_options:\n",
    "        csv:\n",
    "            sep: \",\"\n",
    "\n",
    "    CSV_in:\n",
    "        type: csv\n",
    "        path: 'demo.csv'\n",
    "\n",
    "</pre>\n",
    "</details>"
   ]
  },
  {
   "cell_type": "code",
   "execution_count": 15,
   "metadata": {},
   "outputs": [],
   "source": [
    "# lees configuratiebestand\n",
    "yaml_config_file = \"continu-inzicht-demo-log.yaml\"\n",
    "data_path = Path.joinpath(Path.cwd(), \"data\", yaml_config_file)\n",
    "\n",
    "config = Config(config_path=data_path)\n",
    "config.lees_config()"
   ]
  },
  {
   "cell_type": "markdown",
   "metadata": {},
   "source": [
    "### Lees configuratie in en maak dictionary base.Config aan"
   ]
  },
  {
   "cell_type": "code",
   "execution_count": 16,
   "metadata": {},
   "outputs": [],
   "source": [
    "# data adapter aanmaken\n",
    "data_adapter = DataAdapter(config=config)"
   ]
  },
  {
   "cell_type": "markdown",
   "metadata": {},
   "source": [
    "### Test logmeldingen"
   ]
  },
  {
   "cell_type": "code",
   "execution_count": 17,
   "metadata": {},
   "outputs": [
    {
     "name": "stderr",
     "output_type": "stream",
     "text": [
      "2025-05-20 09:58:33 WARNING - 3623659146: test\n"
     ]
    }
   ],
   "source": [
    "data_adapter.logger.info(\"test\")\n",
    "data_adapter.logger.warning(\"test\")"
   ]
  },
  {
   "cell_type": "markdown",
   "metadata": {},
   "source": [
    "### Lees CSV bestand met data in via data-adapter"
   ]
  },
  {
   "cell_type": "code",
   "execution_count": 18,
   "metadata": {},
   "outputs": [
    {
     "data": {
      "text/html": [
       "<div>\n",
       "<style scoped>\n",
       "    .dataframe tbody tr th:only-of-type {\n",
       "        vertical-align: middle;\n",
       "    }\n",
       "\n",
       "    .dataframe tbody tr th {\n",
       "        vertical-align: top;\n",
       "    }\n",
       "\n",
       "    .dataframe thead th {\n",
       "        text-align: right;\n",
       "    }\n",
       "</style>\n",
       "<table border=\"1\" class=\"dataframe\">\n",
       "  <thead>\n",
       "    <tr style=\"text-align: right;\">\n",
       "      <th></th>\n",
       "      <th>objectid</th>\n",
       "      <th>objecttype</th>\n",
       "      <th>parameterid</th>\n",
       "      <th>date_time</th>\n",
       "      <th>value</th>\n",
       "    </tr>\n",
       "  </thead>\n",
       "  <tbody>\n",
       "    <tr>\n",
       "      <th>0</th>\n",
       "      <td>1</td>\n",
       "      <td>measuringstation</td>\n",
       "      <td>1</td>\n",
       "      <td>1</td>\n",
       "      <td>1</td>\n",
       "    </tr>\n",
       "    <tr>\n",
       "      <th>1</th>\n",
       "      <td>2</td>\n",
       "      <td>measuringstation</td>\n",
       "      <td>1</td>\n",
       "      <td>1</td>\n",
       "      <td>2</td>\n",
       "    </tr>\n",
       "  </tbody>\n",
       "</table>\n",
       "</div>"
      ],
      "text/plain": [
       "   objectid        objecttype  parameterid  date_time  value\n",
       "0         1  measuringstation            1          1      1\n",
       "1         2  measuringstation            1          1      2"
      ]
     },
     "execution_count": 18,
     "metadata": {},
     "output_type": "execute_result"
    }
   ],
   "source": [
    "data_adapter.input(\"CSV_in\")"
   ]
  },
  {
   "cell_type": "markdown",
   "metadata": {},
   "source": [
    "### Check de log"
   ]
  },
  {
   "cell_type": "code",
   "execution_count": 19,
   "metadata": {},
   "outputs": [
    {
     "data": {
      "text/plain": [
       "<Logger test_log (WARNING)>"
      ]
     },
     "execution_count": 19,
     "metadata": {},
     "output_type": "execute_result"
    }
   ],
   "source": [
    "get_log = data_adapter.logger\n",
    "get_log"
   ]
  },
  {
   "cell_type": "markdown",
   "metadata": {},
   "source": [
    "### Pas het log niveau aan"
   ]
  },
  {
   "cell_type": "code",
   "execution_count": 20,
   "metadata": {},
   "outputs": [],
   "source": [
    "config.global_variables[\"logging\"][\"level\"] = \"DEBUG\""
   ]
  },
  {
   "cell_type": "markdown",
   "metadata": {},
   "source": [
    "### Lees CSV bestand met data in via data-adapter opnieuw in en check de log"
   ]
  },
  {
   "cell_type": "code",
   "execution_count": 21,
   "metadata": {},
   "outputs": [
    {
     "name": "stderr",
     "output_type": "stream",
     "text": [
      "2025-05-20 09:59:33 DEBUG - data_adapter: Logging is ingesteld.\n",
      "2025-05-20 09:59:33 DEBUG - data_adapter: DataAdapter input: function_input_config={'type': 'csv', 'path': 'demo.csv', 'sep': ',', 'abs_path': WindowsPath('data/demo.csv'), 'environment': 'debug', 'postgresql_host': '172.17.20.150', 'postgresql_port': '5432', 'postgresql_user': 'HKV_tst_ontwikkelaars', 'postgresql_password': 'KW58nuOtojnwJyI0tbie', 'vitaal_user': 'wsvv', 'vitaal_password': '82gqiYjpaJuqI'}\n"
     ]
    },
    {
     "data": {
      "text/plain": [
       "<Logger test_log (DEBUG)>"
      ]
     },
     "execution_count": 21,
     "metadata": {},
     "output_type": "execute_result"
    }
   ],
   "source": [
    "# data adapter aanmaken\n",
    "data_adapter = DataAdapter(config=config)\n",
    "data_adapter.input(\"CSV_in\")\n",
    "get_log = data_adapter.logger\n",
    "get_log"
   ]
  },
  {
   "cell_type": "code",
   "execution_count": null,
   "metadata": {},
   "outputs": [],
   "source": []
  }
 ],
 "metadata": {
  "kernelspec": {
   "display_name": "default",
   "language": "python",
   "name": "python3"
  },
  "language_info": {
   "codemirror_mode": {
    "name": "ipython",
    "version": 3
   },
   "file_extension": ".py",
   "mimetype": "text/x-python",
   "name": "python",
   "nbconvert_exporter": "python",
   "pygments_lexer": "ipython3",
   "version": "3.13.2"
  }
 },
 "nbformat": 4,
 "nbformat_minor": 2
}
