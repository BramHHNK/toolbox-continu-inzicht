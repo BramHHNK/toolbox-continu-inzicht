{
 "cells": [
  {
   "cell_type": "markdown",
   "metadata": {},
   "source": [
    "# DEMO sprint 5 - Deel 2 (Log)"
   ]
  },
  {
   "cell_type": "markdown",
   "metadata": {},
   "source": [
    "### Benodigde Python packages"
   ]
  },
  {
   "cell_type": "code",
   "execution_count": null,
   "metadata": {},
   "outputs": [],
   "source": [
    "# import algemeen\n",
    "from pathlib import Path\n",
    "\n",
    "# imports base modules\n",
    "from toolbox_continu_inzicht import Config, DataAdapter"
   ]
  },
  {
   "cell_type": "markdown",
   "metadata": {},
   "source": [
    "### Definitie configuratie"
   ]
  },
  {
   "cell_type": "markdown",
   "metadata": {},
   "source": [
    "**Inlezen configuratie**\n",
    "<details>\n",
    "<summary>Configuratie bekijken</summary>   \n",
    "\n",
    "<pre style=\"font-size: 10pt\">\n",
    "GlobalVariables:\n",
    "    rootdir: \"data\"\n",
    "    moments: [-24,0,24,48]\n",
    "    logging:\n",
    "        name: test_log\n",
    "        level: WARNING\n",
    "        mode: w\n",
    "        file: hidden_logfile.log\n",
    "\n",
    "DataAdapter:\n",
    "    default_options:\n",
    "        csv:\n",
    "            sep: \",\"\n",
    "\n",
    "    CSV_in:\n",
    "        type: csv\n",
    "        path: 'demo.csv'\n",
    "\n",
    "</pre>\n",
    "</details>"
   ]
  },
  {
   "cell_type": "code",
   "execution_count": null,
   "metadata": {},
   "outputs": [],
   "source": [
    "# lees configuratiebestand\n",
    "yaml_config_file = \"continu-inzicht-demo-log.yaml\"\n",
    "data_path = Path.joinpath(Path.cwd(), \"data\", yaml_config_file)\n",
    "\n",
    "config = Config(config_path=data_path)\n",
    "config.lees_config()"
   ]
  },
  {
   "cell_type": "markdown",
   "metadata": {},
   "source": [
    "### Lees configuratie in en maak dictionary base.Config aan"
   ]
  },
  {
   "cell_type": "code",
   "execution_count": null,
   "metadata": {},
   "outputs": [],
   "source": [
    "# data adapter aanmaken\n",
    "data_adapter = DataAdapter(config=config)"
   ]
  },
  {
   "cell_type": "markdown",
   "metadata": {},
   "source": [
    "### Test logmeldingen"
   ]
  },
  {
   "cell_type": "code",
   "execution_count": null,
   "metadata": {},
   "outputs": [],
   "source": [
    "data_adapter.logger.info(\"test\")\n",
    "data_adapter.logger.warning(\"test\")"
   ]
  },
  {
   "cell_type": "markdown",
   "metadata": {},
   "source": [
    "### Lees CSV bestand met data in via data-adapter"
   ]
  },
  {
   "cell_type": "code",
   "execution_count": null,
   "metadata": {},
   "outputs": [],
   "source": [
    "data_adapter.input(\"CSV_in\")"
   ]
  },
  {
   "cell_type": "markdown",
   "metadata": {},
   "source": [
    "### Check de log"
   ]
  },
  {
   "cell_type": "code",
   "execution_count": null,
   "metadata": {},
   "outputs": [],
   "source": [
    "get_log = data_adapter.logger\n",
    "get_log"
   ]
  },
  {
   "cell_type": "markdown",
   "metadata": {},
   "source": [
    "### Pas het log niveau aan"
   ]
  },
  {
   "cell_type": "code",
   "execution_count": null,
   "metadata": {},
   "outputs": [],
   "source": [
    "config.global_variables[\"logging\"][\"level\"] = \"DEBUG\""
   ]
  },
  {
   "cell_type": "markdown",
   "metadata": {},
   "source": [
    "### Lees CSV bestand met data in via data-adapter opnieuw in en check de log"
   ]
  },
  {
   "cell_type": "code",
   "execution_count": null,
   "metadata": {},
   "outputs": [],
   "source": [
    "# data adapter aanmaken\n",
    "data_adapter = DataAdapter(config=config)\n",
    "data_adapter.input(\"CSV_in\")\n",
    "get_log = data_adapter.logger\n",
    "get_log"
   ]
  },
  {
   "cell_type": "code",
   "execution_count": null,
   "metadata": {},
   "outputs": [],
   "source": []
  }
 ],
 "metadata": {
  "kernelspec": {
   "display_name": "default",
   "language": "python",
   "name": "python3"
  },
  "language_info": {
   "codemirror_mode": {
    "name": "ipython",
    "version": 3
   },
   "file_extension": ".py",
   "mimetype": "text/x-python",
   "name": "python",
   "nbconvert_exporter": "python",
   "pygments_lexer": "ipython3",
   "version": "3.13.2"
  }
 },
 "nbformat": 4,
 "nbformat_minor": 2
}
