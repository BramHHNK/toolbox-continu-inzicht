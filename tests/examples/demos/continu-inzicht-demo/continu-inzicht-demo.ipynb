{
 "cells": [
  {
   "cell_type": "markdown",
   "metadata": {},
   "source": [
    "## Continu Inzicht Demo (Real time)\n",
    "> https://tscontinuinzicht.hkvservices.nl/ci-demo"
   ]
  },
  {
   "cell_type": "markdown",
   "metadata": {},
   "source": [
    "### Deze notebook wordt gebruikt voor het vullen van Continu Inzicht Demo database\n",
    "- tijdstippen van de momenten bijwerken in de momenten tabel\n",
    "- waterstanden van de meetstations opslaan in de data tabel\n",
    "- van alle waterstanden de waterstand voor de momenten halen >> momenten: [-24,0,24,48]\n",
    "- classificeren van waterstanden per meetstation en opslaan in de statustabel\n",
    "- bepalen van de maatgegevende waterstand per dijkvak"
   ]
  },
  {
   "cell_type": "markdown",
   "metadata": {},
   "source": [
    "**Imports**"
   ]
  },
  {
   "cell_type": "code",
   "execution_count": null,
   "metadata": {},
   "outputs": [],
   "source": [
    "# import algemeen\n",
    "from pathlib import Path\n",
    "\n",
    "# imports base modules\n",
    "from toolbox_continu_inzicht import Config\n",
    "from toolbox_continu_inzicht import DataAdapter"
   ]
  },
  {
   "cell_type": "markdown",
   "metadata": {},
   "source": [
    "**Inlezen configuratie**\n",
    "<details>\n",
    "<summary>Configuratie bekijken</summary>   \n",
    "\n",
    "```text\n",
    "    GlobalVariables:\n",
    "        rootdir: \"data\"     \n",
    "        calc_time: \"2024-11-19\"\n",
    "        moments: [-24,0,24,48]     \n",
    "\n",
    "        LoadsWaterinfo:    \n",
    "                parameters: [\"waterhoogte\"]\n",
    "                MISSING_VALUE: 999\n",
    "\n",
    "        LoadsMatroos:\n",
    "            website: \"noos\"\n",
    "            model: \"fews_rmm_km\"\n",
    "            parameters: [\"WATHTE\"]              \n",
    "\n",
    "        LoadsFews:\n",
    "            host: \"https://fews.hhnk.nl\"\n",
    "            port: 443\n",
    "            region: \"fewspiservice\"\n",
    "            version: \"1.25\"\n",
    "            filter: \"\"\n",
    "            parameters: [ \"WATHTE [m][NAP][OW]\" ]    \n",
    "            uurdata: true,\n",
    "            addnearestmoments: true,\n",
    "            addmaxmoment: false       \n",
    "\n",
    "        LoadsFewsLimburg:\n",
    "            host: \"http://109.232.44.231\"\n",
    "            port: 443\n",
    "            region: \"fewspiservice\"\n",
    "            version: \"1.25\"\n",
    "            filter: \"App_Maas\"\n",
    "            parameters: [ \"WATHTE\" ]    \n",
    "            uurdata: true,\n",
    "            addnearestmoments: true,\n",
    "            addmaxmoment: false           \n",
    "\n",
    "        LoadsWaterwebservicesRWS:        \n",
    "            parameters: [\"WATHTE\"]\n",
    "            MISSING_VALUE: -999           \n",
    "\n",
    "        DataAdapter: \n",
    "\n",
    "            default_options:\n",
    "                csv:\n",
    "                    sep: \",\"\n",
    "\n",
    "            in_measuringstation_waterinfo: \n",
    "                type: ci_postgresql_from_measuringstations\n",
    "                database: \"geoserver\"\n",
    "                schema: \"continuinzicht_demo_realtime\"\n",
    "                source: \"waterinfo\"        \n",
    "\n",
    "            in_measuringstation_matroos: \n",
    "                type: ci_postgresql_from_measuringstations\n",
    "                database: \"geoserver\"\n",
    "                schema: \"continuinzicht_demo_realtime\"\n",
    "                source: \"matroos\"\n",
    "\n",
    "            in_measuringstation_fews_hhnk:\n",
    "                type: ci_postgresql_from_measuringstations\n",
    "                database: \"geoserver\"\n",
    "                schema: \"continuinzicht_demo_realtime\"\n",
    "                source: \"fews_hhnk\"   \n",
    "\n",
    "            in_measuringstation_fews_limburg:          \n",
    "                type: ci_postgresql_from_measuringstations\n",
    "                database: \"geoserver\"\n",
    "                schema: \"continuinzicht_demo_realtime\"\n",
    "                source: \"fews_limburg\" \n",
    "\n",
    "            out_waterstanden_ci_postgresql_001: \n",
    "                type: ci_postgresql_to_data\n",
    "                database: \"geoserver\"\n",
    "                schema: \"continuinzicht_demo_realtime\"\n",
    "                objecttype: \"measuringstation\"     \n",
    "                unit_conversion_factor: 0.001  \n",
    "\n",
    "            out_waterstanden_ci_postgresql_1: \n",
    "                type: ci_postgresql_to_data\n",
    "                database: \"geoserver\"\n",
    "                schema: \"continuinzicht_demo_realtime\"\n",
    "                objecttype: \"measuringstation\"     \n",
    "                unit_conversion_factor: 1           \n",
    "\n",
    "            in_measuringstation_data_table: \n",
    "                type: ci_postgresql_measuringstation_data_table\n",
    "                database: geoserver        \n",
    "                schema: continuinzicht_demo_realtime    \n",
    "\n",
    "            in_measuringstation_conditions_table: \n",
    "                type: ci_postgresql_from_conditions\n",
    "                database: \"geoserver\"\n",
    "                schema: \"continuinzicht_demo_realtime\"   \n",
    "\n",
    "            out_measuringstation_states_table:   \n",
    "                type: ci_postgresql_to_states\n",
    "                database: \"geoserver\"\n",
    "                schema: \"continuinzicht_demo_realtime\"  \n",
    "                objecttype: \"measuringstation\"                    \n",
    "\n",
    "            in_section_table: \n",
    "                type: ci_postgresql_from_sections\n",
    "                database: \"geoserver\"\n",
    "                schema: \"continuinzicht_demo_realtime\" \n",
    "\n",
    "            in_sectionfractions_table: \n",
    "                type: ci_postgresql_from_sectionfractions\n",
    "                database: \"geoserver\"\n",
    "                schema: \"continuinzicht_demo_realtime\"           \n",
    "\n",
    "            out_moments_table:   \n",
    "                type: ci_postgresql_to_moments\n",
    "                database: \"geoserver\"\n",
    "                schema: \"continuinzicht_demo_realtime\"  \n",
    "\n",
    "            out_waterstanden_section_ci_postgresql: \n",
    "                type: ci_postgresql_to_data\n",
    "                database: \"geoserver\"\n",
    "                schema: \"continuinzicht_demo_realtime\"\n",
    "                objecttype: \"section\"             \n",
    "\n",
    "            df_moment_waterstanden: \n",
    "                type: python\n",
    "\n",
    "```\n",
    "</details>"
   ]
  },
  {
   "cell_type": "code",
   "execution_count": null,
   "metadata": {},
   "outputs": [],
   "source": [
    "# Lees configuratiebestand\n",
    "yaml_config_file = \"continu-inzicht-demo.yaml\"\n",
    "data_path = Path.joinpath(Path.cwd(), \"data\", yaml_config_file)\n",
    "\n",
    "config = Config(config_path=data_path)\n",
    "config.lees_config()"
   ]
  },
  {
   "cell_type": "markdown",
   "metadata": {},
   "source": [
    "**Aanmaken adapter**"
   ]
  },
  {
   "cell_type": "code",
   "execution_count": null,
   "metadata": {},
   "outputs": [],
   "source": [
    "# data adapter aanmaken\n",
    "data_adapter = DataAdapter(config=config)"
   ]
  },
  {
   "cell_type": "markdown",
   "metadata": {},
   "source": [
    "**Start Continu Inzicht berekening**"
   ]
  },
  {
   "cell_type": "code",
   "execution_count": null,
   "metadata": {},
   "outputs": [],
   "source": [
    "from toolbox_continu_inzicht.helpers import calculation_start\n",
    "\n",
    "start, end = calculation_start(\n",
    "    data_adapter=data_adapter, output=\"calculation_start_config\", calc_time=None\n",
    ")\n",
    "print(f\"{start} - {end}\")"
   ]
  },
  {
   "cell_type": "markdown",
   "metadata": {},
   "source": [
    "**Ophalen waterstanden via Waterinfo**"
   ]
  },
  {
   "cell_type": "code",
   "execution_count": null,
   "metadata": {},
   "outputs": [],
   "source": [
    "# Waterinfo waterstanden\n",
    "# Vanuit WRIJ: vak 48-1_5, waarschijnlijk 100% gekoppeld aan Lobith – data uit RWS Waterinfo\n",
    "# https://waterinfo.rws.nl/api/chart/get?mapType=waterhoogte&locationCodes=Lobith(LOBI)&values=-48%2C48\n",
    "\n",
    "from toolbox_continu_inzicht.loads import LoadsWaterinfo\n",
    "\n",
    "waterinfo = LoadsWaterinfo(data_adapter=data_adapter)\n",
    "waterinfo.run(\n",
    "    input=\"in_measuringstation_waterinfo\", output=\"out_waterstanden_ci_postgresql_001\"\n",
    ")\n",
    "df_out = waterinfo.df_out"
   ]
  },
  {
   "cell_type": "markdown",
   "metadata": {},
   "source": [
    "**Ophalen waterstanden via Noos Matroos**"
   ]
  },
  {
   "cell_type": "code",
   "execution_count": null,
   "metadata": {},
   "outputs": [],
   "source": [
    "# Noos Matroos waterstanden\n",
    "# Vanuit WSBD: vak 34-2_31, waarschijnlijk gekoppeld aan 2 stations vanuit NOOS Matroos (Hollandsch Diep km 993 en Hollandsch Diep km km 993)\n",
    "# https://noos.matroos.rws.nl/direct/get_series.php?source=fews_rmm_km&unit=waterlevel&loc=Hollandsch%20Diep%20km%20994&anal_time=0000-00-00T00%3A00%3A00Z&tstart=2024-11-18T00%3A00%3A00.000Z&tstop=2024-11-22T00%3A00%3A00.000Z&format=dd\n",
    "from toolbox_continu_inzicht.loads import LoadsMatroos\n",
    "\n",
    "matroos = LoadsMatroos(data_adapter=data_adapter)\n",
    "df_output = matroos.run(\n",
    "    input=\"in_measuringstation_matroos\", output=\"out_waterstanden_ci_postgresql_001\"\n",
    ")"
   ]
  },
  {
   "cell_type": "markdown",
   "metadata": {},
   "source": [
    "**Ophalen waterstanden via Fews (HHNK)**"
   ]
  },
  {
   "cell_type": "code",
   "execution_count": null,
   "metadata": {},
   "outputs": [],
   "source": [
    "# Fews HHNK waterstanden\n",
    "# Vanuit HHNK: vak 6a gekoppeld aan FEWS HHNK locatie MPN-N-24\n",
    "# https://fews.hhnk.nl/FewsWebServices/rest/fewspiservice/v1/timeseries?locationIds=MPN-N-24&parameterIds=WATHTE%20%5Bm%5D%5BNAP%5D%5BOW%5D\n",
    "from toolbox_continu_inzicht.loads import LoadsFews\n",
    "\n",
    "fews_hhnk = LoadsFews(data_adapter=data_adapter)\n",
    "fews_hhnk.run(\n",
    "    input=\"in_measuringstation_fews_hhnk\", output=\"out_waterstanden_ci_postgresql_1\"\n",
    ")\n",
    "df_out = fews_hhnk.df_out"
   ]
  },
  {
   "cell_type": "markdown",
   "metadata": {},
   "source": [
    "**Ophalen waterstanden via Fews (Limburg)**"
   ]
  },
  {
   "cell_type": "code",
   "execution_count": null,
   "metadata": {},
   "outputs": [],
   "source": [
    "# Fews Limburg waterstanden\n",
    "# Vanuit WL: vak 76-1_VAK037 gekoppeld Roermond boven als die bestaat in RWS Waterwebservices\n",
    "# http://109.232.44.231/FewsWebServices/rest/fewspiservice/v1/timeseries?filterId=App_Maas&locationIds=Maas%20km%2079.00%2CMaas%20km%2080.00&parameterIds=WATHTE\n",
    "\n",
    "# from toolbox_continu_inzicht.loads import LoadsFews\n",
    "# fews_hhnk = LoadsFews(data_adapter=data_adapter)\n",
    "# fews_hhnk.run(input=\"in_measuringstation_fews_limburg\", output=\"out_waterstanden_ci_postgresql\")\n",
    "# df_out = fews_hhnk.df_out\n"
   ]
  },
  {
   "cell_type": "markdown",
   "metadata": {},
   "source": [
    "**Ophalen waterstanden via RWS Waterwebservices**"
   ]
  },
  {
   "cell_type": "code",
   "execution_count": null,
   "metadata": {},
   "outputs": [],
   "source": [
    "# Fews Limburg waterstanden\n",
    "# Vanuit WL: vak 76-1_VAK037 gekoppeld Roermond boven als die bestaat in RWS Waterwebservices\n",
    "# http://109.232.44.231/FewsWebServices/rest/fewspiservice/v1/timeseries?filterId=App_Maas&locationIds=Maas%20km%2079.00%2CMaas%20km%2080.00&parameterIds=WATHTE\n",
    "\n",
    "from toolbox_continu_inzicht.loads import LoadsWaterwebservicesRWS\n",
    "\n",
    "waterwebservices = LoadsWaterwebservicesRWS(data_adapter=data_adapter)\n",
    "waterwebservices.run(\n",
    "    input=\"in_measuringstation_fews_limburg\",\n",
    "    output=\"out_waterstanden_ci_postgresql_001\",\n",
    ")\n",
    "df_out = waterwebservices.df_out"
   ]
  },
  {
   "cell_type": "markdown",
   "metadata": {},
   "source": [
    "**van alle waterstanden alleen de waterstanden van opgegeven momenten halen**"
   ]
  },
  {
   "cell_type": "code",
   "execution_count": null,
   "metadata": {},
   "outputs": [],
   "source": [
    "from toolbox_continu_inzicht.loads import LoadsToMoments\n",
    "\n",
    "# - waterstanden van de meetstations per moment ophalen\n",
    "# - dataframe moments toevoegen aan adapter voor vervolg functies\n",
    "\n",
    "load_moments = LoadsToMoments(data_adapter=data_adapter)\n",
    "load_moments.run(\n",
    "    input=\"in_measuringstation_data_table\", output=\"df_moment_waterstanden\"\n",
    ")\n",
    "\n",
    "if load_moments.df_out is not None:\n",
    "    df_moments = load_moments.df_out.reset_index(drop=False)\n",
    "    df_moments[\"date_time\"] = df_moments[\"date_time\"].astype(object)\n",
    "\n",
    "    # dataframe moments toevoegen aan adapter\n",
    "    data_adapter.set_dataframe_adapter(\"df_moment_waterstanden\", df_moments)\n",
    "\n",
    "    # print(df_moments[[\"hours\",\"measurement_location_id\",\"value_type\"]])"
   ]
  },
  {
   "cell_type": "markdown",
   "metadata": {},
   "source": [
    "**Status bepalen voor de meetstations**"
   ]
  },
  {
   "cell_type": "code",
   "execution_count": null,
   "metadata": {},
   "outputs": [],
   "source": [
    "from toolbox_continu_inzicht.loads import LoadsClassify\n",
    "\n",
    "# - via opgegeven waterstandsgrenzen wordt per meetstation de status bepaald\n",
    "\n",
    "loads_classify = LoadsClassify(data_adapter=data_adapter)\n",
    "loads_classify.run(\n",
    "    input=[\"in_measuringstation_conditions_table\", \"df_moment_waterstanden\"],\n",
    "    output=\"out_measuringstation_states_table\",\n",
    ")"
   ]
  },
  {
   "cell_type": "markdown",
   "metadata": {},
   "source": [
    "**Waterstanden bepalen voor de dijkvakken**"
   ]
  },
  {
   "cell_type": "code",
   "execution_count": null,
   "metadata": {},
   "outputs": [],
   "source": [
    "from toolbox_continu_inzicht.sections import SectionsLoads\n",
    "\n",
    "# - er wordt via de bovenliggende en onderliggende meetstation\n",
    "#   en de fractie per meetstation (opgegeven in 'section fraction')\n",
    "#   bepaald wat de maatgevende waterstand voor de dijkvak is.\n",
    "\n",
    "if df_moments is not None:\n",
    "    sections_loads = SectionsLoads(data_adapter=data_adapter)\n",
    "    sections_loads.run(\n",
    "        input=[\n",
    "            \"in_section_table\",\n",
    "            \"df_moment_waterstanden\",\n",
    "            \"in_sectionfractions_table\",\n",
    "        ],\n",
    "        output=\"out_waterstanden_section_ci_postgresql\",\n",
    "    )"
   ]
  },
  {
   "cell_type": "markdown",
   "metadata": {},
   "source": [
    "**Faalkans bepalen voor de dijkvakken**"
   ]
  },
  {
   "cell_type": "code",
   "execution_count": null,
   "metadata": {},
   "outputs": [],
   "source": [
    "from toolbox_continu_inzicht.sections import SectionsTechnicalFailureprobability\n",
    "\n",
    "sections_failureprobability = SectionsTechnicalFailureprobability(\n",
    "    data_adapter=data_adapter\n",
    ")\n",
    "sections_failureprobability.run(\n",
    "    input=[\"in_fragilitycurves_table\", \"in_section_load_from_data_table\"],\n",
    "    output=\"out_section_technical_failure_probability_data\",\n",
    ")"
   ]
  },
  {
   "cell_type": "code",
   "execution_count": null,
   "metadata": {},
   "outputs": [],
   "source": [
    "from toolbox_continu_inzicht.sections import SectionsFailureprobability\n",
    "\n",
    "sections_failureprobability = SectionsFailureprobability(data_adapter=data_adapter)\n",
    "sections_failureprobability.run(\n",
    "    input=[\"in_fragilitycurves_table\", \"in_section_load_from_data_table\"],\n",
    "    output=\"out_section_failure_probability_data\",\n",
    ")"
   ]
  },
  {
   "cell_type": "code",
   "execution_count": null,
   "metadata": {},
   "outputs": [],
   "source": [
    "from toolbox_continu_inzicht.sections import SectionsClassify\n",
    "\n",
    "sections_classify = SectionsClassify(data_adapter=data_adapter)\n",
    "sections_classify.run(\n",
    "    input=[\"in_section_conditions\", \"in_section_data_failure_probability\"],\n",
    "    output=\"out_section_states\",\n",
    ")"
   ]
  },
  {
   "cell_type": "markdown",
   "metadata": {},
   "source": [
    "**Beeindig de berekening**"
   ]
  },
  {
   "cell_type": "code",
   "execution_count": null,
   "metadata": {},
   "outputs": [],
   "source": [
    "from toolbox_continu_inzicht.helpers import calculation_end\n",
    "\n",
    "calculation_end(data_adapter=data_adapter, output=\"calculation_end_config\")"
   ]
  }
 ],
 "metadata": {
  "kernelspec": {
   "display_name": "default",
   "language": "python",
   "name": "python3"
  },
  "language_info": {
   "codemirror_mode": {
    "name": "ipython",
    "version": 3
   },
   "file_extension": ".py",
   "mimetype": "text/x-python",
   "name": "python",
   "nbconvert_exporter": "python",
   "pygments_lexer": "ipython3",
   "version": "3.12.6"
  }
 },
 "nbformat": 4,
 "nbformat_minor": 2
}
