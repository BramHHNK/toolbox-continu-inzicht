{
 "cells": [
  {
   "cell_type": "code",
   "execution_count": null,
   "metadata": {},
   "outputs": [],
   "source": [
    "from pathlib import Path\n",
    "\n",
    "import matplotlib.pyplot as plt\n",
    "\n",
    "from toolbox_continu_inzicht import Config, DataAdapter"
   ]
  },
  {
   "cell_type": "code",
   "execution_count": null,
   "metadata": {},
   "outputs": [],
   "source": [
    "path = Path.cwd() / \"data\"\n",
    "config = Config(config_path=path / \"integrate_statistics_demo.yaml\")\n",
    "config.lees_config()\n",
    "data_adapter = DataAdapter(config=config)"
   ]
  },
  {
   "cell_type": "code",
   "execution_count": null,
   "metadata": {},
   "outputs": [],
   "source": [
    "from toolbox_continu_inzicht.fragility_curves import IntegrateFragilityCurve"
   ]
  },
  {
   "cell_type": "code",
   "execution_count": null,
   "metadata": {},
   "outputs": [],
   "source": [
    "integrate_statistics_per_section = IntegrateFragilityCurve(data_adapter=data_adapter)\n",
    "integrate_statistics_per_section.run(\n",
    "    input=[\"exceedance_curve_csv\", \"fragility_curve_csv\"], output=\"result\"\n",
    ")"
   ]
  },
  {
   "cell_type": "code",
   "execution_count": null,
   "metadata": {},
   "outputs": [],
   "source": [
    "fig, ax = plt.subplots()\n",
    "ax.bar(\n",
    "    integrate_statistics_per_section.df_out[\"hydraulicload\"],\n",
    "    integrate_statistics_per_section.df_out[\"probability_contribution\"],\n",
    "    width=0.1,\n",
    ")\n",
    "ax.set_xlim([1, 6])\n",
    "ax.set_title(\"Faalkansbijdrage (jaar)\")\n",
    "ax.set_xlabel(\"Waterstand (m+NAP)\")\n",
    "ax.set_ylabel(\"Faalkansbijdrage\")\n",
    "ax.yaxis.set_major_formatter(plt.FuncFormatter(lambda x, _: f\"{x:.1e}\"))\n",
    "\n",
    "print(\n",
    "    f\"Faalkansbijdrage: {integrate_statistics_per_section.df_out['probability_contribution'].sum():.3e}\"\n",
    ")"
   ]
  }
 ],
 "metadata": {
  "kernelspec": {
   "display_name": "default",
   "language": "python",
   "name": "python3"
  },
  "language_info": {
   "codemirror_mode": {
    "name": "ipython",
    "version": 3
   },
   "file_extension": ".py",
   "mimetype": "text/x-python",
   "name": "python",
   "nbconvert_exporter": "python",
   "pygments_lexer": "ipython3",
   "version": "3.13.2"
  }
 },
 "nbformat": 4,
 "nbformat_minor": 2
}
