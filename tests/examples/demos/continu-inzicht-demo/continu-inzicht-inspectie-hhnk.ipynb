{
 "cells": [
  {
   "cell_type": "code",
   "execution_count": 1,
   "metadata": {},
   "outputs": [],
   "source": [
    "from pathlib import Path\n",
    "import geopandas as gpd\n",
    "import json\n",
    "\n",
    "from toolbox_continu_inzicht.base.config import Config\n",
    "from toolbox_continu_inzicht.base.data_adapter import DataAdapter\n",
    "from toolbox_continu_inzicht.inspections.filter import Filter\n",
    "from shapely.geometry import LineString\n",
    "from toolbox_continu_inzicht.inspections.inspections import ClassifyInspections"
   ]
  },
  {
   "cell_type": "code",
   "execution_count": 2,
   "metadata": {},
   "outputs": [],
   "source": [
    "# lees configuratiebestand\n",
    "yaml_config_file = \"continu-inzicht-inspectie-hhnk.yaml\"\n",
    "data_path = Path.joinpath(Path.cwd(), \"data\", yaml_config_file)\n",
    "\n",
    "config = Config(config_path=data_path)\n",
    "config.lees_config()"
   ]
  },
  {
   "cell_type": "code",
   "execution_count": 3,
   "metadata": {},
   "outputs": [],
   "source": [
    "# data adapter aanmaken\n",
    "data_adapter = DataAdapter(config=config)"
   ]
  },
  {
   "cell_type": "markdown",
   "metadata": {},
   "source": [
    "# HHNK inspectie voorbeeld lines"
   ]
  },
  {
   "cell_type": "code",
   "execution_count": 4,
   "metadata": {},
   "outputs": [],
   "source": [
    "# lees csv met inspecties en filter inspecties\n",
    "filter = Filter(data_adapter=data_adapter)\n",
    "filter.run(input=\"inspectie_lines_csv\", output=\"inspectie_lines_filtered_csv\")"
   ]
  },
  {
   "cell_type": "code",
   "execution_count": 5,
   "metadata": {},
   "outputs": [],
   "source": [
    "# sla inspecties op als geojson\n",
    "df_in = data_adapter.input(\"inspectie_lines_filtered_csv\")\n",
    "df_in[\"line\"] = df_in.apply(\n",
    "    lambda row: LineString(\n",
    "        [\n",
    "            (row[\"EXT_MIN_X\"], row[\"EXT_MIN_Y\"]),\n",
    "            (row[\"INSIDE_X\"], row[\"INSIDE_Y\"]),\n",
    "            (row[\"EXT_MAX_X\"], row[\"EXT_MAX_Y\"]),\n",
    "        ]\n",
    "    ),\n",
    "    axis=1,\n",
    ")\n",
    "\n",
    "# lijst met kolommen die niet in de geojson moeten komen\n",
    "drop_columns = [\n",
    "    \"EXT_MAX_X\",\n",
    "    \"EXT_MAX_Y\",\n",
    "    \"EXT_MIN_X\",\n",
    "    \"EXT_MIN_Y\",\n",
    "    \"INSIDE_X\",\n",
    "    \"INSIDE_Y\",\n",
    "    \"SHAPE_Length\",\n",
    "]\n",
    "\n",
    "df_in = df_in.drop(columns=drop_columns)\n",
    "\n",
    "gdf_in = gpd.GeoDataFrame(df_in, geometry=\"line\")\n",
    "gdf_in = gdf_in.set_crs(epsg=28992)\n",
    "gdf_in = gdf_in.to_crs(epsg=4326)\n",
    "\n",
    "gdf_in.columns = gdf_in.columns.str.lower().str.replace(\" \", \"_\")\n",
    "gdf_in = gdf_in.rename(columns={\"foto_url\": \"image_url\"})\n",
    "gdf_in = gdf_in.rename(columns={\"foto_omgeving_url\": \"image_url_omgeving\"})\n",
    "\n",
    "output_file = Path(config.global_variables[\"rootdir\"]) / Path(\n",
    "    config.data_adapters[\"inspectie_lines_filtered_geojson\"][\"path\"]\n",
    ")\n",
    "\n",
    "gdf_in.to_file(output_file, driver=\"GeoJSON\")"
   ]
  },
  {
   "cell_type": "code",
   "execution_count": 6,
   "metadata": {},
   "outputs": [],
   "source": [
    "# lees gefilterde inspecties en classificeer ze\n",
    "classify_inspections = ClassifyInspections(data_adapter=data_adapter)\n",
    "classify_inspections.run(\n",
    "    input=[\"inspectie_lines_filtered_geojson\", \"inspectie_lines_styling_csv\"],\n",
    "    output=[\n",
    "        \"inspectie_lines_filtered_styled_geojson\",\n",
    "        \"inspectie_lines_styled_legenda_csv\",\n",
    "    ],\n",
    ")"
   ]
  },
  {
   "cell_type": "code",
   "execution_count": 7,
   "metadata": {},
   "outputs": [],
   "source": [
    "gdf_in = data_adapter.input(\"inspectie_lines_filtered_styled_geojson\")\n",
    "data_adapter.output(\"inspectie_lines_filtered_styled_ci_to_database\", gdf_in)"
   ]
  },
  {
   "cell_type": "code",
   "execution_count": 8,
   "metadata": {},
   "outputs": [],
   "source": [
    "df_in = data_adapter.input(\"inspectie_lines_styled_legenda_csv\")\n",
    "df_in.fillna(\"\", inplace=True)\n",
    "\n",
    "df = data_adapter.input(\"inspectie_lines_layer_csv\")\n",
    "df[\"group_name\"] = \"HHNK Inspecties\"\n",
    "df[\"layer_name\"] = \"Steenbekleding (lijnen)\"\n",
    "df[\"layer_legend\"] = json.dumps([value for key, value in df_in.T.to_dict().items()])\n",
    "df[\"layer_table\"] = config.data_adapters[\n",
    "    \"inspectie_lines_filtered_styled_ci_to_database\"\n",
    "][\"table\"]\n",
    "df[\"layer_type\"] = \"table\"\n",
    "data_adapter.output(\"inspectie_layers_ci_to_database\", df)"
   ]
  },
  {
   "cell_type": "markdown",
   "metadata": {},
   "source": [
    "# HHNK inspectie voorbeeld points"
   ]
  },
  {
   "cell_type": "code",
   "execution_count": 9,
   "metadata": {},
   "outputs": [],
   "source": [
    "# lees csv met inspecties en filter inspecties\n",
    "filter = Filter(data_adapter=data_adapter)\n",
    "filter.run(input=\"inspectie_points_csv\", output=\"inspectie_points_filtered_csv\")"
   ]
  },
  {
   "cell_type": "code",
   "execution_count": 10,
   "metadata": {},
   "outputs": [],
   "source": [
    "# sla inspecties op als geojson\n",
    "df_in = data_adapter.input(\"inspectie_points_filtered_csv\")\n",
    "geometry = gpd.points_from_xy(df_in[\"POINT_X\"], df_in[\"POINT_Y\"])\n",
    "\n",
    "# lijst met kolommen die niet in de geojson moeten komen\n",
    "drop_columns = [\"POINT_X\", \"POINT_Y\"]\n",
    "\n",
    "df_in = df_in.drop(columns=drop_columns)\n",
    "\n",
    "gdf_in = gpd.GeoDataFrame(df_in, geometry=geometry)\n",
    "gdf_in = gdf_in.set_crs(epsg=28992)\n",
    "gdf_in = gdf_in.to_crs(epsg=4326)\n",
    "\n",
    "gdf_in.columns = gdf_in.columns.str.lower().str.replace(\" \", \"_\")\n",
    "gdf_in = gdf_in.rename(columns={\"foto_url\": \"image_url\"})\n",
    "gdf_in = gdf_in.rename(columns={\"foto_omgeving_url\": \"image_url_omgeving\"})\n",
    "\n",
    "output_file = Path(config.global_variables[\"rootdir\"]) / Path(\n",
    "    config.data_adapters[\"inspectie_points_filtered_geojson\"][\"path\"]\n",
    ")\n",
    "\n",
    "gdf_in.to_file(output_file, driver=\"GeoJSON\")"
   ]
  },
  {
   "cell_type": "code",
   "execution_count": 11,
   "metadata": {},
   "outputs": [],
   "source": [
    "# lees gefilterde inspecties en classificeer ze\n",
    "classify_inspections = ClassifyInspections(data_adapter=data_adapter)\n",
    "classify_inspections.run(\n",
    "    input=[\"inspectie_points_filtered_geojson\", \"inspectie_points_styling_csv\"],\n",
    "    output=[\n",
    "        \"inspectie_points_filtered_styled_geojson\",\n",
    "        \"inspectie_points_styled_legenda_csv\",\n",
    "    ],\n",
    ")"
   ]
  },
  {
   "cell_type": "code",
   "execution_count": 12,
   "metadata": {},
   "outputs": [],
   "source": [
    "gdf_in = data_adapter.input(\"inspectie_points_filtered_styled_geojson\")\n",
    "data_adapter.output(\"inspectie_points_filtered_styled_ci_to_database\", gdf_in)"
   ]
  },
  {
   "cell_type": "code",
   "execution_count": 13,
   "metadata": {},
   "outputs": [],
   "source": [
    "df_in = data_adapter.input(\"inspectie_points_styled_legenda_csv\")\n",
    "df_in.fillna(\"\", inplace=True)\n",
    "\n",
    "df = data_adapter.input(\"inspectie_points_layer_csv\")\n",
    "df[\"group_name\"] = \"HHNK Inspecties\"\n",
    "df[\"layer_name\"] = \"Steenbekleding (punten)\"\n",
    "df[\"layer_legend\"] = json.dumps([value for key, value in df_in.T.to_dict().items()])\n",
    "df[\"layer_table\"] = config.data_adapters[\n",
    "    \"inspectie_points_filtered_styled_ci_to_database\"\n",
    "][\"table\"]\n",
    "df[\"layer_type\"] = \"table\"\n",
    "data_adapter.output(\"inspectie_layers_ci_to_database\", df)"
   ]
  }
 ],
 "metadata": {
  "kernelspec": {
   "display_name": "default",
   "language": "python",
   "name": "python3"
  },
  "language_info": {
   "codemirror_mode": {
    "name": "ipython",
    "version": 3
   },
   "file_extension": ".py",
   "mimetype": "text/x-python",
   "name": "python",
   "nbconvert_exporter": "python",
   "pygments_lexer": "ipython3",
   "version": "3.13.2"
  }
 },
 "nbformat": 4,
 "nbformat_minor": 2
}
