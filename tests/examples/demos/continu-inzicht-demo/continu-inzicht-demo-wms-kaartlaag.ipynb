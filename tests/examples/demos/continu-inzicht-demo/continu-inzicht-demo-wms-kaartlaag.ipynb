{
 "cells": [
  {
   "cell_type": "markdown",
   "metadata": {},
   "source": [
    "# DEMO sprint 5 - Deel 2 (WMS kaartlagen)"
   ]
  },
  {
   "cell_type": "markdown",
   "metadata": {},
   "source": [
    "### Benodigde Python packages"
   ]
  },
  {
   "cell_type": "code",
   "execution_count": null,
   "metadata": {},
   "outputs": [],
   "source": [
    "# import algemeen\n",
    "from pathlib import Path\n",
    "\n",
    "# imports base modules\n",
    "from toolbox_continu_inzicht.base.config import Config\n",
    "from toolbox_continu_inzicht.base.data_adapter import DataAdapter"
   ]
  },
  {
   "cell_type": "markdown",
   "metadata": {},
   "source": [
    "### Definitie configuratie"
   ]
  },
  {
   "cell_type": "markdown",
   "metadata": {},
   "source": [
    "**Inlezen configuratie**\n",
    "<details>\n",
    "<summary>Configuratie bekijken</summary>   \n",
    "\n",
    "<pre style=\"font-size: 10pt\">\n",
    "GlobalVariables:\n",
    "    rootdir: \"data\"\n",
    "    moments: [-24,0,24,48]\n",
    "    \n",
    "    InspectionsToDatabase:\n",
    "        index: 0\n",
    "\n",
    "DataAdapter:\n",
    "    default_options:\n",
    "        csv:\n",
    "            sep: \";\"\n",
    "\n",
    "    wms_layer_csv:\n",
    "        type: csv\n",
    "        path: \"continu-inzicht-wms-layer.csv\"\n",
    "\n",
    "    wms_inspectie_layers_ci_to_database:\n",
    "        type: postgresql_database\n",
    "        schema: continuinzicht_demo_realtime\n",
    "        database: \"continuinzicht\"\n",
    "        table: layers\n",
    "        if_exists: append\n",
    "\n",
    "</pre>\n",
    "</details>"
   ]
  },
  {
   "cell_type": "code",
   "execution_count": null,
   "metadata": {},
   "outputs": [],
   "source": [
    "# lees configuratiebestand\n",
    "yaml_config_file = \"continu-inzicht-demo-wms-kaartlaag.yaml\"\n",
    "data_path = Path.joinpath(Path.cwd(), \"data\", yaml_config_file)\n",
    "\n",
    "config = Config(config_path=data_path)\n",
    "config.lees_config()"
   ]
  },
  {
   "cell_type": "markdown",
   "metadata": {},
   "source": [
    "### Lees configuratie in en maak dictionary base.Config aan"
   ]
  },
  {
   "cell_type": "code",
   "execution_count": null,
   "metadata": {},
   "outputs": [],
   "source": [
    "# data adapter aanmaken\n",
    "data_adapter = DataAdapter(config=config)"
   ]
  },
  {
   "cell_type": "markdown",
   "metadata": {},
   "source": [
    "### We willen de volgende WMS data toevoegen als kaartlaag (waterschappen grenzen PDOK)\n",
    "WMS url: https://service.pdok.nl/hwh/waterschapsgrenzenimso/wms/v1_0?service=WMS"
   ]
  },
  {
   "cell_type": "code",
   "execution_count": null,
   "metadata": {},
   "outputs": [],
   "source": [
    "# lees csv met WMS layer informatie\n",
    "df_wms_laag = data_adapter.input(\"wms_layer_csv\")\n",
    "df_wms_laag"
   ]
  },
  {
   "cell_type": "markdown",
   "metadata": {},
   "source": [
    "### Schrijf kaartlagen configuratie naar CI database met data-adapter"
   ]
  },
  {
   "cell_type": "code",
   "execution_count": null,
   "metadata": {},
   "outputs": [],
   "source": [
    "# schrijf kaartlagen menu naar de CI database (via een data-adapter)\n",
    "data_adapter.output(\"wms_inspectie_layers_ci_to_database\", df_wms_laag)"
   ]
  }
 ],
 "metadata": {
  "kernelspec": {
   "display_name": "default",
   "language": "python",
   "name": "python3"
  },
  "language_info": {
   "codemirror_mode": {
    "name": "ipython",
    "version": 3
   },
   "file_extension": ".py",
   "mimetype": "text/x-python",
   "name": "python",
   "nbconvert_exporter": "python",
   "pygments_lexer": "ipython3",
   "version": "3.13.2"
  }
 },
 "nbformat": 4,
 "nbformat_minor": 2
}
