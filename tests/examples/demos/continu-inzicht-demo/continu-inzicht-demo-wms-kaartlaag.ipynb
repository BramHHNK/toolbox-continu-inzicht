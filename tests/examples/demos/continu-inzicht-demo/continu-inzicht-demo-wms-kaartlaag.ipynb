{
 "cells": [
  {
   "cell_type": "markdown",
   "metadata": {},
   "source": [
    "# DEMO sprint 5 - Deel 2 (WMS kaartlagen)"
   ]
  },
  {
   "cell_type": "markdown",
   "metadata": {},
   "source": [
    "### Benodigde Python packages"
   ]
  },
  {
   "cell_type": "code",
   "execution_count": 6,
   "metadata": {},
   "outputs": [],
   "source": [
    "# import algemeen\n",
    "from pathlib import Path\n",
    "\n",
    "# imports base modules\n",
    "from toolbox_continu_inzicht.base.config import Config\n",
    "from toolbox_continu_inzicht.base.data_adapter import DataAdapter"
   ]
  },
  {
   "cell_type": "markdown",
   "metadata": {},
   "source": [
    "### Definitie configuratie"
   ]
  },
  {
   "cell_type": "markdown",
   "metadata": {},
   "source": [
    "**Inlezen configuratie**\n",
    "<details>\n",
    "<summary>Configuratie bekijken</summary>   \n",
    "\n",
    "<pre style=\"font-size: 10pt\">\n",
    "GlobalVariables:\n",
    "    rootdir: \"data\"\n",
    "    moments: [-24,0,24,48]\n",
    "    \n",
    "    InspectionsToDatabase:\n",
    "        index: 0\n",
    "\n",
    "DataAdapter:\n",
    "    default_options:\n",
    "        csv:\n",
    "            sep: \";\"\n",
    "\n",
    "    wms_layer_csv:\n",
    "        type: csv\n",
    "        path: \"continu-inzicht-wms-layer.csv\"\n",
    "\n",
    "    wms_inspectie_layers_ci_to_database:\n",
    "        type: postgresql_database\n",
    "        schema: continuinzicht_demo_realtime\n",
    "        database: \"continuinzicht\"\n",
    "        table: layers\n",
    "        if_exists: append\n",
    "\n",
    "</pre>\n",
    "</details>"
   ]
  },
  {
   "cell_type": "code",
   "execution_count": 7,
   "metadata": {},
   "outputs": [],
   "source": [
    "# lees configuratiebestand\n",
    "yaml_config_file = \"continu-inzicht-demo-wms-kaartlaag.yaml\"\n",
    "data_path = Path.joinpath(Path.cwd(), \"data\", yaml_config_file)\n",
    "\n",
    "config = Config(config_path=data_path)\n",
    "config.lees_config()"
   ]
  },
  {
   "cell_type": "markdown",
   "metadata": {},
   "source": [
    "### Lees configuratie in en maak dictionary base.Config aan"
   ]
  },
  {
   "cell_type": "code",
   "execution_count": 8,
   "metadata": {},
   "outputs": [],
   "source": [
    "# data adapter aanmaken\n",
    "data_adapter = DataAdapter(config=config)"
   ]
  },
  {
   "cell_type": "markdown",
   "metadata": {},
   "source": [
    "### We willen de volgende WMS data toevoegen als kaartlaag (waterschappen grenzen PDOK)\n",
    "WMS url: https://service.pdok.nl/hwh/waterschapsgrenzenimso/wms/v1_0?service=WMS"
   ]
  },
  {
   "cell_type": "code",
   "execution_count": 9,
   "metadata": {},
   "outputs": [
    {
     "data": {
      "text/html": [
       "<div>\n",
       "<style scoped>\n",
       "    .dataframe tbody tr th:only-of-type {\n",
       "        vertical-align: middle;\n",
       "    }\n",
       "\n",
       "    .dataframe tbody tr th {\n",
       "        vertical-align: top;\n",
       "    }\n",
       "\n",
       "    .dataframe thead th {\n",
       "        text-align: right;\n",
       "    }\n",
       "</style>\n",
       "<table border=\"1\" class=\"dataframe\">\n",
       "  <thead>\n",
       "    <tr style=\"text-align: right;\">\n",
       "      <th></th>\n",
       "      <th>group_name</th>\n",
       "      <th>layer_name</th>\n",
       "      <th>layer_visible</th>\n",
       "      <th>layer_type</th>\n",
       "      <th>layer_table</th>\n",
       "      <th>layer_wms_url</th>\n",
       "      <th>layer_wms_layer</th>\n",
       "      <th>layer_wms_style</th>\n",
       "      <th>layer_data</th>\n",
       "      <th>layer_wms_legend_url</th>\n",
       "    </tr>\n",
       "  </thead>\n",
       "  <tbody>\n",
       "    <tr>\n",
       "      <th>0</th>\n",
       "      <td>DEMO WMS Kaartlagen</td>\n",
       "      <td>LIWO slachtofferrisico (actueel)</td>\n",
       "      <td>False</td>\n",
       "      <td>wms</td>\n",
       "      <td>NaN</td>\n",
       "      <td>https://basisinformatie-overstromingen.nl/geos...</td>\n",
       "      <td>overstromingsrisico_primair_slachtofferrisico_...</td>\n",
       "      <td>LIWO_Basis_Slachtofferrisico</td>\n",
       "      <td>NaN</td>\n",
       "      <td>https://basisinformatie-overstromingen.nl/geos...</td>\n",
       "    </tr>\n",
       "  </tbody>\n",
       "</table>\n",
       "</div>"
      ],
      "text/plain": [
       "            group_name                        layer_name  layer_visible  \\\n",
       "0  DEMO WMS Kaartlagen  LIWO slachtofferrisico (actueel)          False   \n",
       "\n",
       "  layer_type  layer_table                                      layer_wms_url  \\\n",
       "0        wms          NaN  https://basisinformatie-overstromingen.nl/geos...   \n",
       "\n",
       "                                     layer_wms_layer  \\\n",
       "0  overstromingsrisico_primair_slachtofferrisico_...   \n",
       "\n",
       "                layer_wms_style  layer_data  \\\n",
       "0  LIWO_Basis_Slachtofferrisico         NaN   \n",
       "\n",
       "                                layer_wms_legend_url  \n",
       "0  https://basisinformatie-overstromingen.nl/geos...  "
      ]
     },
     "execution_count": 9,
     "metadata": {},
     "output_type": "execute_result"
    }
   ],
   "source": [
    "# lees csv met WMS layer informatie\n",
    "df_wms_laag = data_adapter.input(\"wms_layer_csv\")\n",
    "df_wms_laag"
   ]
  },
  {
   "cell_type": "markdown",
   "metadata": {},
   "source": [
    "### Schrijf kaartlagen configuratie naar CI database met data-adapter"
   ]
  },
  {
   "cell_type": "code",
   "execution_count": 10,
   "metadata": {},
   "outputs": [],
   "source": [
    "# schrijf kaartlagen menu naar de CI database (via een data-adapter)\n",
    "data_adapter.output(\"wms_inspectie_layers_ci_to_database\", df_wms_laag)"
   ]
  }
 ],
 "metadata": {
  "kernelspec": {
   "display_name": "default",
   "language": "python",
   "name": "python3"
  },
  "language_info": {
   "codemirror_mode": {
    "name": "ipython",
    "version": 3
   },
   "file_extension": ".py",
   "mimetype": "text/x-python",
   "name": "python",
   "nbconvert_exporter": "python",
   "pygments_lexer": "ipython3",
   "version": "3.13.2"
  }
 },
 "nbformat": 4,
 "nbformat_minor": 2
}
