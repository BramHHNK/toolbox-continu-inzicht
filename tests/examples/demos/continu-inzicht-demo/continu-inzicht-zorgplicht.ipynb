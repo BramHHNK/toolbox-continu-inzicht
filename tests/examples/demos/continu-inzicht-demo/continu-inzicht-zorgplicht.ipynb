{
 "cells": [
  {
   "cell_type": "code",
   "execution_count": 1,
   "metadata": {},
   "outputs": [],
   "source": [
    "# import algemeen\n",
    "from pathlib import Path\n",
    "import math\n",
    "import pandas as pd\n",
    "\n",
    "# imports base modules\n",
    "from toolbox_continu_inzicht import Config, DataAdapter\n"
   ]
  },
  {
   "cell_type": "code",
   "execution_count": 2,
   "metadata": {},
   "outputs": [],
   "source": [
    "# lees configuratiebestand\n",
    "yaml_config_file = \"continu-inzicht-demo-zorgplicht-create-db.yaml\"\n",
    "data_path = Path.joinpath(Path.cwd(), \"data\", yaml_config_file)\n",
    "\n",
    "config = Config(config_path=data_path)\n",
    "config.lees_config()"
   ]
  },
  {
   "cell_type": "code",
   "execution_count": 3,
   "metadata": {},
   "outputs": [],
   "source": [
    "# data adapter aanmaken\n",
    "data_adapter = DataAdapter(config=config)"
   ]
  },
  {
   "cell_type": "markdown",
   "metadata": {},
   "source": [
    "**Reset database**"
   ]
  },
  {
   "cell_type": "code",
   "execution_count": 4,
   "metadata": {},
   "outputs": [],
   "source": [
    "from toolbox_continu_inzicht.helpers import reset_database\n",
    "\n",
    "tables = [\n",
    "    {\"name\": \"conditions\", \"reset_index\": True},\n",
    "    {\"name\": \"expertjudgements\", \"reset_index\": True},\n",
    "    {\"name\": \"failuremechanism\", \"reset_index\": True},\n",
    "    {\"name\": \"fragilitycurves\", \"reset_index\": True},\n",
    "    {\"name\": \"fragilitycurves_data\", \"reset_index\": False},\n",
    "    {\"name\": \"fragilitycurves_intergrate\", \"reset_index\": True},\n",
    "    {\"name\": \"fragilitycurves_intergrate_data\", \"reset_index\": False},\n",
    "    {\"name\": \"hydraulicload_locations\", \"reset_index\": True},\n",
    "    {\"name\": \"sections\", \"reset_index\": True},\n",
    "    {\"name\": \"statistics\", \"reset_index\": True},\n",
    "    {\"name\": \"statistics_data\", \"reset_index\": False},\n",
    "    {\"name\": \"variants\", \"reset_index\": True},\n",
    "]\n",
    "\n",
    "try:\n",
    "    reset_database(data_adapter=data_adapter, tables=tables, output=\"reset_database\")\n",
    "\n",
    "except Exception as e:\n",
    "    print(f\"{e}\")"
   ]
  },
  {
   "cell_type": "markdown",
   "metadata": {},
   "source": [
    "**Faalmechanismes toevoegen**"
   ]
  },
  {
   "cell_type": "code",
   "execution_count": 5,
   "metadata": {},
   "outputs": [],
   "source": [
    "df_failuremechanism = data_adapter.input(input=\"in_failuremechanism_csv\")\n",
    "\n",
    "# sla de faalmechanismes op in de CI database (tabel \"failuremechanism\") via de data_adapter \"out_failuremechanism_table\"\n",
    "data_adapter.output(output=\"out_failuremechanism_table\", df=df_failuremechanism)"
   ]
  },
  {
   "cell_type": "markdown",
   "metadata": {},
   "source": [
    "**Condities toevoegen**"
   ]
  },
  {
   "cell_type": "code",
   "execution_count": 6,
   "metadata": {},
   "outputs": [],
   "source": [
    "df_conditions = data_adapter.input(input=\"in_conditions_csv\")\n",
    "\n",
    "# sla de condities op in de CI database (tabel \"conditions\") via de data_adapter \"out_conditions_table\"\n",
    "data_adapter.output(output=\"out_conditions_table\", df=df_conditions)"
   ]
  },
  {
   "cell_type": "markdown",
   "metadata": {},
   "source": [
    "**Dijkvakken toevoegen**"
   ]
  },
  {
   "cell_type": "code",
   "execution_count": 7,
   "metadata": {},
   "outputs": [],
   "source": [
    "# lees de secties uit een geojson-bestand via de data_adapter \"in_sections_geojson\"\n",
    "df_secties = data_adapter.input(input=\"in_sections_geojson\")\n",
    "\n",
    "# Hernoem de kolom \"oude_naam\" naar \"nieuwe_naam\"\n",
    "df_secties = df_secties.rename(\n",
    "    columns={\n",
    "        \"stationid\": \"hydraulicload_location_id\",\n",
    "        \"belasting\": \"overleefde_belasting\",\n",
    "    }\n",
    ")\n",
    "\n",
    "# sla de secties op in de CI database (tabel \"sections\") via de data_adapter \"out_sections_table\"\n",
    "data_adapter.output(output=\"out_sections_table\", df=df_secties)"
   ]
  },
  {
   "cell_type": "markdown",
   "metadata": {},
   "source": [
    "**Hydraulic load locaties toevoegen**"
   ]
  },
  {
   "cell_type": "code",
   "execution_count": 8,
   "metadata": {},
   "outputs": [],
   "source": [
    "df_measuringstations = data_adapter.input(input=\"in_hydraulicload_locations_geojson\")\n",
    "\n",
    "\n",
    "# sla de meetstations op in de CI database (tabel \"hydraulicload_locations\") via de data_adapter \"out_measuringstations_table\"\n",
    "data_adapter.output(output=\"out_hydraulicload_locations_table\", df=df_measuringstations)"
   ]
  },
  {
   "cell_type": "markdown",
   "metadata": {},
   "source": [
    "**Statistics toevoegen**"
   ]
  },
  {
   "cell_type": "code",
   "execution_count": 9,
   "metadata": {},
   "outputs": [],
   "source": [
    "df_statistics = data_adapter.input(input=\"in_statistics_csv\")\n",
    "\n",
    "# sla de statistics op in de CI database (tabel \"statistics\" en \"statistics_data\") via de data_adapter \"out_statistics_table\"\n",
    "data_adapter.output(output=\"out_statistics_table\", df=df_statistics)"
   ]
  },
  {
   "cell_type": "markdown",
   "metadata": {},
   "source": [
    "**Varianten toevoegen**"
   ]
  },
  {
   "cell_type": "code",
   "execution_count": 10,
   "metadata": {},
   "outputs": [],
   "source": [
    "df_variants = data_adapter.input(input=\"in_variants_csv\")\n",
    "\n",
    "# sla de varianten op in de CI database (tabel \"variants\") via de data_adapter \"out_variants_table\"\n",
    "data_adapter.output(output=\"out_variants_table\", df=df_variants)"
   ]
  },
  {
   "cell_type": "markdown",
   "metadata": {},
   "source": [
    "**Fragility curves toevoegen**"
   ]
  },
  {
   "cell_type": "code",
   "execution_count": 11,
   "metadata": {},
   "outputs": [],
   "source": [
    "df_fragilitycurves = data_adapter.input(input=\"in_fragilitycurves_csv\")\n",
    "\n",
    "# sla de statistics op in de CI database (tabel \"fragilitycurves\" en \"fragilitycurves_data\") via de data_adapter \"out_fragilitycurves_table\"\n",
    "data_adapter.output(output=\"out_fragilitycurves_table\", df=df_fragilitycurves)"
   ]
  },
  {
   "cell_type": "markdown",
   "metadata": {},
   "source": [
    "**Beheerdersoordelen toevoegen**"
   ]
  },
  {
   "cell_type": "code",
   "execution_count": 12,
   "metadata": {},
   "outputs": [],
   "source": [
    "df_expertjudgements = data_adapter.input(input=\"in_expertjudgements_csv\")\n",
    "\n",
    "# sla de beheerdersoordelen op in de CI database (tabel \"expertjudgements\") via de data_adapter \"out_expertjudgements_table\"\n",
    "data_adapter.output(output=\"out_expertjudgements_table\", df=df_expertjudgements)"
   ]
  },
  {
   "cell_type": "markdown",
   "metadata": {},
   "source": [
    "**Fragilitycurves intergrate toevoegen**\n",
    "\n",
    "Controleer of er voor de afgeleide beheerdersoordelen de fragility curves \n",
    "Overgenomen zijn van de basis beheerdersoordeel.\n",
    "\n",
    "Als er een 'Load_limit' en 'probability_contribution_reductionfactor' zijn opgegeven worden deze gebruikt om de curve aan te passen\n"
   ]
  },
  {
   "cell_type": "code",
   "execution_count": 13,
   "metadata": {},
   "outputs": [],
   "source": [
    "from toolbox_continu_inzicht.base.fragility_curve import FragilityCurve\n",
    "\n",
    "# ophalen alle door te rekenen berekeningen.\n",
    "df_calculate_list = data_adapter.input(\"in_calculate_list\")\n",
    "\n",
    "# Filter toepassen op de DataFrame (bijv. leeftijd groter dan 24)\n",
    "df_filtered = df_calculate_list[~df_calculate_list[\"has_fragilitycurves\"]]\n",
    "\n",
    "for index, calculate_item in df_filtered.iterrows():\n",
    "    try:\n",
    "        section_id = int(calculate_item[\"section_id\"])\n",
    "        expertjudgement_id = int(calculate_item[\"expertjudgement_id\"])\n",
    "        has_fragilitycurves = bool(calculate_item[\"has_fragilitycurves\"])\n",
    "        has_fragilitycurves_base = bool(calculate_item[\"has_fragilitycurves_base\"])\n",
    "\n",
    "        fragilitycurves_id = int(calculate_item[\"fragilitycurves_id\"])\n",
    "        fragilitycurves_base_id = int(calculate_item[\"fragilitycurves_base_id\"])\n",
    "\n",
    "        failuremechanism_id = calculate_item[\"failuremechanism_id\"]\n",
    "        statistics_id = int(calculate_item[\"statistic_id\"])\n",
    "        hydraulicload_location_id = int(calculate_item[\"hydraulicload_location_id\"])\n",
    "\n",
    "        has_intergrate = bool(calculate_item[\"has_intergrate\"])\n",
    "        intergrate_id = calculate_item[\"intergrate_id\"]\n",
    "        load_limit = calculate_item[\"load_limit\"]\n",
    "        probability_contribution_reductionfactor = calculate_item[\n",
    "            \"probability_contribution_reductionfactor\"\n",
    "        ]\n",
    "\n",
    "        if math.isnan(intergrate_id):\n",
    "            intergrate_id = int(0)\n",
    "        else:\n",
    "            intergrate_id = int(intergrate_id)\n",
    "\n",
    "        if math.isnan(load_limit):\n",
    "            load_limit = float(0)\n",
    "        else:\n",
    "            load_limit = float(load_limit)\n",
    "\n",
    "        if math.isnan(probability_contribution_reductionfactor):\n",
    "            probability_contribution_reductionfactor = float(1)\n",
    "        else:\n",
    "            probability_contribution_reductionfactor = float(\n",
    "                probability_contribution_reductionfactor\n",
    "            )\n",
    "\n",
    "        # TODO?\n",
    "        if math.isnan(failuremechanism_id):\n",
    "            failuremechanism_id = int(1)\n",
    "        else:\n",
    "            failuremechanism_id = int(failuremechanism_id)\n",
    "\n",
    "        # bepaal curve parameters\n",
    "        config.data_adapters[\"in_fragilitycurves_data\"][\"section_id\"] = section_id\n",
    "        config.data_adapters[\"in_fragilitycurves_data\"][\"failuremechanism_id\"] = (\n",
    "            failuremechanism_id\n",
    "        )\n",
    "        config.data_adapters[\"in_fragilitycurves_data\"][\"fragilitycurves_id\"] = (\n",
    "            fragilitycurves_base_id\n",
    "        )\n",
    "\n",
    "        # laad basis curve\n",
    "        fragility_curve = FragilityCurve(data_adapter=data_adapter)\n",
    "        fragility_curve.load(\"in_fragilitycurves_data\")\n",
    "        df_fragility_curve = fragility_curve.as_dataframe()\n",
    "\n",
    "        # moet er nog een curve afgeleid worden\n",
    "        if has_fragilitycurves_base:\n",
    "            if has_intergrate:\n",
    "                # eventueel fragilitycurve aanpassen\n",
    "                load_limit_curve = df_fragility_curve[\"hydraulicload\"].min()\n",
    "                if load_limit > load_limit_curve:\n",
    "                    fragility_curve.reliability_update(\n",
    "                        update_level=load_limit,\n",
    "                        trust_factor=probability_contribution_reductionfactor,\n",
    "                    )\n",
    "\n",
    "            df_fragility_curve[\"id\"] = fragilitycurves_id\n",
    "            df_fragility_curve[\"name\"] = f\"fragilitycurve_{fragilitycurves_id}\"\n",
    "            df_fragility_curve[\"section_id\"] = section_id\n",
    "            df_fragility_curve[\"failuremechanism_id\"] = failuremechanism_id\n",
    "\n",
    "            data_adapter.output(output=\"out_fragilitycurves_new\", df=df_fragility_curve)\n",
    "\n",
    "    except Exception as e:\n",
    "        print(f\"FL: {calculate_item}: {e}\")"
   ]
  },
  {
   "cell_type": "markdown",
   "metadata": {},
   "source": [
    "**Toevoegen ontbrekende integrate**\n",
    "\n",
    "Als deze initieel niet zijn toegevoegd kunnen deze toegevoegd worden met 'probability_contribution_reductionfactor' op 1.0 en de 'load_limit' op laagste waterstand"
   ]
  },
  {
   "cell_type": "code",
   "execution_count": 14,
   "metadata": {},
   "outputs": [],
   "source": [
    "# ophalen alle door te rekenen berekeningen.\n",
    "df_calculate_list = data_adapter.input(\"in_calculate_list\")\n",
    "\n",
    "# Filter toepassen op de DataFrame (bijv. leeftijd groter dan 24)\n",
    "df_filtered = df_calculate_list[~df_calculate_list[\"has_intergrate\"]]\n",
    "\n",
    "for index, calculate_item in df_filtered.iterrows():\n",
    "    try:\n",
    "        section_id = int(calculate_item[\"section_id\"])\n",
    "        expertjudgement_id = int(calculate_item[\"expertjudgement_id\"])\n",
    "        fragilitycurves_id = int(calculate_item[\"fragilitycurves_id\"])\n",
    "        fragilitycurves_base_id = int(calculate_item[\"fragilitycurves_base_id\"])\n",
    "        failuremechanism_id = calculate_item[\"failuremechanism_id\"]\n",
    "\n",
    "        # bepaal curve parameters\n",
    "        config.data_adapters[\"in_fragilitycurves_data\"][\"section_id\"] = section_id\n",
    "        config.data_adapters[\"in_fragilitycurves_data\"][\"failuremechanism_id\"] = (\n",
    "            failuremechanism_id\n",
    "        )\n",
    "        config.data_adapters[\"in_fragilitycurves_data\"][\"fragilitycurves_id\"] = (\n",
    "            fragilitycurves_base_id\n",
    "        )\n",
    "\n",
    "        # laad basis curve\n",
    "        fragility_curve = FragilityCurve(data_adapter=data_adapter)\n",
    "        fragility_curve.load(\"in_fragilitycurves_data\")\n",
    "        df_fragility_curve = fragility_curve.as_dataframe()\n",
    "        # intergrate toevoegen expertjudgement_id, section_id, failuremechanism_id, load_limit, probability_contribution_reductionfactor\n",
    "\n",
    "        load_limit = df_fragility_curve[\"hydraulicload\"].min()\n",
    "        probability_contribution_reductionfactor = 1.0\n",
    "\n",
    "        data = {\n",
    "            \"expertjudgement_id\": [expertjudgement_id],\n",
    "            \"section_id\": [section_id],\n",
    "            \"failuremechanism_id\": [failuremechanism_id],\n",
    "            \"load_limit\": [load_limit],\n",
    "            \"probability_contribution_reductionfactor\": [\n",
    "                probability_contribution_reductionfactor\n",
    "            ],\n",
    "        }\n",
    "\n",
    "        # DataFrame maken\n",
    "        df_intergrate = pd.DataFrame(data)\n",
    "\n",
    "        data_adapter.output(\n",
    "            output=\"out_fragilitycurves_intergrate_new\", df=df_intergrate\n",
    "        )\n",
    "\n",
    "    except Exception as e:\n",
    "        print(f\"FL: {calculate_item}: {e}\")"
   ]
  },
  {
   "cell_type": "markdown",
   "metadata": {},
   "source": [
    "**Voeg de data van de Integrate toe in de database**\n",
    "\n",
    "Voor de ontbrekende intergrate (data) wordt met de fragility curve en de statistieken wordt de data van de intergrate toegevoegd in de database."
   ]
  },
  {
   "cell_type": "code",
   "execution_count": 15,
   "metadata": {},
   "outputs": [],
   "source": [
    "from toolbox_continu_inzicht.fragility_curves import IntegrateFragilityCurve\n",
    "\n",
    "integrate_fragility_curve = IntegrateFragilityCurve(data_adapter=data_adapter)\n",
    "\n",
    "# ophalen alle door te rekenen berekeningen.\n",
    "df_calculate_list = data_adapter.input(\"in_calculate_list\")\n",
    "\n",
    "# Filter toepassen op de DataFrame\n",
    "df_filtered = df_calculate_list[~df_calculate_list[\"has_intergrate_data\"]]\n",
    "\n",
    "for index, calculate_item in df_filtered.iterrows():\n",
    "    try:\n",
    "        section_id = int(calculate_item[\"section_id\"])\n",
    "        expertjudgement_id = int(calculate_item[\"expertjudgement_id\"])\n",
    "        has_fragilitycurves = bool(calculate_item[\"has_fragilitycurves\"])\n",
    "        has_fragilitycurves_base = bool(calculate_item[\"has_fragilitycurves_base\"])\n",
    "\n",
    "        fragilitycurves_id = int(calculate_item[\"fragilitycurves_id\"])\n",
    "        fragilitycurves_base_id = int(calculate_item[\"fragilitycurves_base_id\"])\n",
    "\n",
    "        failuremechanism_id = calculate_item[\"failuremechanism_id\"]\n",
    "        statistics_id = int(calculate_item[\"statistic_id\"])\n",
    "        hydraulicload_location_id = int(calculate_item[\"hydraulicload_location_id\"])\n",
    "\n",
    "        has_intergrate = bool(calculate_item[\"has_intergrate\"])\n",
    "        intergrate_id = calculate_item[\"intergrate_id\"]\n",
    "        load_limit = calculate_item[\"load_limit\"]\n",
    "\n",
    "        # bepaal curve parameters\n",
    "        config.data_adapters[\"in_fragilitycurves_data\"][\"section_id\"] = section_id\n",
    "        config.data_adapters[\"in_fragilitycurves_data\"][\"failuremechanism_id\"] = (\n",
    "            failuremechanism_id\n",
    "        )\n",
    "        config.data_adapters[\"in_fragilitycurves_data\"][\"fragilitycurves_id\"] = (\n",
    "            fragilitycurves_base_id\n",
    "        )\n",
    "\n",
    "        # bepaal statistiek parameters\n",
    "        config.data_adapters[\"in_statistics_data\"][\"statistics_id\"] = statistics_id\n",
    "        config.data_adapters[\"in_statistics_data\"][\"hydraulicload_location_id\"] = (\n",
    "            hydraulicload_location_id\n",
    "        )\n",
    "\n",
    "        # maak de intergrate\n",
    "        integrate_fragility_curve.run(\n",
    "            input=[\"in_statistics_data\", \"in_fragilitycurves_data\"],\n",
    "            output=\"df_integrate_fragility_curve\",\n",
    "        )\n",
    "\n",
    "        df_integrate_fragility_curve = integrate_fragility_curve.df_out\n",
    "        df_integrate_fragility_curve[\"intergrate_id\"] = intergrate_id\n",
    "\n",
    "        data_adapter.output(\n",
    "            output=\"out_fragilitycurves_intergrate_data\",\n",
    "            df=df_integrate_fragility_curve,\n",
    "        )\n",
    "\n",
    "    except Exception as e:\n",
    "        print(f\"FL: {calculate_item}: {e}\")"
   ]
  }
 ],
 "metadata": {
  "kernelspec": {
   "display_name": "default",
   "language": "python",
   "name": "python3"
  },
  "language_info": {
   "codemirror_mode": {
    "name": "ipython",
    "version": 3
   },
   "file_extension": ".py",
   "mimetype": "text/x-python",
   "name": "python",
   "nbconvert_exporter": "python",
   "pygments_lexer": "ipython3",
   "version": "3.13.2"
  }
 },
 "nbformat": 4,
 "nbformat_minor": 2
}
