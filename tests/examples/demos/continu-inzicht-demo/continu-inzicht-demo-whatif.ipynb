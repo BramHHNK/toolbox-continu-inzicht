{
 "cells": [
  {
   "cell_type": "markdown",
   "metadata": {},
   "source": [
    "## Continu Inzicht Demo (What-if)\n",
    "> https://tscontinuinzicht.hkvservices.nl/ci-demo"
   ]
  },
  {
   "cell_type": "markdown",
   "metadata": {},
   "source": [
    "**Imports**"
   ]
  },
  {
   "cell_type": "code",
   "execution_count": null,
   "metadata": {},
   "outputs": [],
   "source": [
    "# import algemeen\n",
    "from datetime import datetime, timedelta, timezone\n",
    "from pathlib import Path\n",
    "\n",
    "import pandas as pd\n",
    "\n",
    "# imports base modules\n",
    "from toolbox_continu_inzicht import Config, DataAdapter\n",
    "from toolbox_continu_inzicht.utils.datetime_functions import datetime_from_epoch"
   ]
  },
  {
   "cell_type": "markdown",
   "metadata": {},
   "source": [
    "**Inlezen configuratie**\n",
    "<details>\n",
    "<summary>Configuratie bekijken</summary>   \n",
    "\n",
    "<pre style=\"font-size: 10pt\">\n",
    "GlobalVariables:\n",
    "    rootdir: \"data\"\n",
    "    calc_time: \"1901-01-01\"\n",
    "    moments: [-24,0,24,48]\n",
    "\n",
    "    FragilityCurveOvertoppingMultiple:\n",
    "        gh_onz_mu: 0.96 # default waardes, kunnen worden overschreven\n",
    "        gh_onz_sigma: 0.27\n",
    "        gp_onz_mu_tp: 1.03\n",
    "        gp_onz_sigma_tp: 0.13\n",
    "        gp_onz_mu_tspec: 1.03\n",
    "        gp_onz_sigma_tspec: 0.13\n",
    "        gh_onz_aantal: 7\n",
    "        gp_onz_aantal: 7\n",
    "        tp_tspec: 1.1\n",
    "        lower_limit_coarse: 4.0\n",
    "        upper_limit_coarse: 2.0\n",
    "        upper_limit_fine: 1.0\n",
    "        hstap: 0.05\n",
    "\n",
    "DataAdapter:\n",
    "\n",
    "    out_moments_table:\n",
    "        type: ci_postgresql_to_moments\n",
    "        database: \"continuinzicht\"\n",
    "        schema: \"continuinzicht_demo_whatif\"\n",
    "\n",
    "    ci_from_scenario:\n",
    "        type: ci_postgresql_whatif_from_scenario\n",
    "        database: \"continuinzicht\"\n",
    "        schema: \"continuinzicht_demo_whatif\"\n",
    "\n",
    "    out_simulation_table:\n",
    "        type: ci_postgresql_to_simulation\n",
    "        database: \"continuinzicht\"\n",
    "        schema: \"continuinzicht_demo_whatif\"\n",
    "\n",
    "    calculation_start_config:\n",
    "        type: ci_postgresql_to_calculation_start\n",
    "        database: \"continuinzicht\"\n",
    "        schema: \"continuinzicht_demo_whatif\"\n",
    "\n",
    "    ci_from_loads:\n",
    "        type: ci_postgresql_whatif_load\n",
    "        database: \"continuinzicht\"\n",
    "        schema: \"continuinzicht_demo_whatif\"\n",
    "\n",
    "    ci_to_data:\n",
    "        type: ci_postgresql_measuringstation_to_data\n",
    "        database: \"continuinzicht\"\n",
    "        schema: \"continuinzicht_demo_whatif\"\n",
    "        objecttype: \"measuringstation\"\n",
    "        unit_conversion_factor: 1\n",
    "\n",
    "    in_measuringstation_data_table:\n",
    "        type: ci_postgresql_measuringstation_data_table\n",
    "        database: \"continuinzicht\"\n",
    "        schema: \"continuinzicht_demo_whatif\"\n",
    "\n",
    "    in_measuringstation_conditions_table:\n",
    "        type: ci_postgresql_from_conditions\n",
    "        database: \"continuinzicht\"\n",
    "        schema: \"continuinzicht_demo_whatif\"\n",
    "\n",
    "    out_measuringstation_states_table:\n",
    "        type: ci_postgresql_to_states\n",
    "        database: \"continuinzicht\"\n",
    "        schema: \"continuinzicht_demo_whatif\"\n",
    "        objecttype: \"measuringstation\"\n",
    "\n",
    "    in_section_table:\n",
    "        type: ci_postgresql_from_sections\n",
    "        database: \"continuinzicht\"\n",
    "        schema: \"continuinzicht_demo_whatif\"\n",
    "\n",
    "    in_sectionfractions_table:\n",
    "        type: ci_postgresql_from_sectionfractions\n",
    "        database: \"continuinzicht\"\n",
    "        schema: \"continuinzicht_demo_whatif\"\n",
    "\n",
    "    out_waterstanden_section_ci_postgresql:\n",
    "        type: ci_postgresql_section_load_to_data\n",
    "        database: \"continuinzicht\"\n",
    "        schema: \"continuinzicht_demo_whatif\"\n",
    "        objecttype: \"section\"\n",
    "\n",
    "    in_section_slopes:\n",
    "        type: ci_postgresql_slopes\n",
    "        database: \"continuinzicht\"\n",
    "        schema: \"continuinzicht_demo_whatif\"\n",
    "\n",
    "    in_section_profiles:\n",
    "        type: ci_postgresql_profiles\n",
    "        database: \"continuinzicht\"\n",
    "        schema: \"continuinzicht_demo_whatif\"\n",
    "\n",
    "    in_section_bedlevel_fetch:\n",
    "        type: ci_postgresql_bedlevelfetch\n",
    "        database: \"continuinzicht\"\n",
    "        schema: \"continuinzicht_demo_whatif\"\n",
    "\n",
    "    out_section_fragility_curves:\n",
    "        type: ci_postgresql_fragilitycurves_table\n",
    "        database: \"continuinzicht\"\n",
    "        schema: \"continuinzicht_demo_whatif\"\n",
    "    \n",
    "        out_section_fragility_curves:\n",
    "        type: ci_postgresql_fragilitycurves_table\n",
    "        database: \"continuinzicht\"\n",
    "        schema: \"continuinzicht_demo_whatif\"\n",
    "\n",
    "    in_fragility_curve:\n",
    "        type: ci_postgresql_fragilitycurves\n",
    "        database: \"continuinzicht\"\n",
    "        schema: \"continuinzicht_demo_whatif\"\n",
    "\n",
    "    in_sections:\n",
    "        type: ci_postgresql_from_sections\n",
    "        database: \"continuinzicht\"\n",
    "        schema: \"continuinzicht_demo_whatif\"\n",
    "\n",
    "    in_failuremechanisms:\n",
    "        type: ci_postgresql_failuremechanisms\n",
    "        database: \"continuinzicht\"\n",
    "        schema: \"continuinzicht_demo_whatif\"\n",
    "\n",
    "    in_measures:\n",
    "        type: ci_postgresql_measures\n",
    "        database: \"continuinzicht\"\n",
    "        schema: \"continuinzicht_demo_whatif\"\n",
    "\n",
    "    df_combined_curves:\n",
    "        type: \"python\"\n",
    "\n",
    "    in_fragilitycurves_table:\n",
    "        type: ci_postgresql_fragilitycurves_table\n",
    "        database: \"continuinzicht\"\n",
    "        schema: \"continuinzicht_demo_whatif\"\n",
    "        measureid: 0\n",
    "\n",
    "    in_section_load_from_data_table:\n",
    "        type: ci_postgresql_section_load_from_data_table\n",
    "        database: \"continuinzicht\"\n",
    "        schema: \"continuinzicht_demo_whatif\"\n",
    "\n",
    "    out_section_measure_failure_probability_data:\n",
    "        type: ci_postgresql_section_to_data\n",
    "        database: \"continuinzicht\"\n",
    "        schema: \"continuinzicht_demo_whatif\"\n",
    "        parameter_id: 101\n",
    "\n",
    "    in_measure_fragilitycurves_table:\n",
    "        type: ci_postgresql_measure_fragilitycurves_table\n",
    "        database: \"continuinzicht\"\n",
    "        schema: \"continuinzicht_demo_whatif\"\n",
    "\n",
    "    in_section_load_from_data_table:\n",
    "        type: ci_postgresql_section_load_from_data_table\n",
    "        database: \"continuinzicht\"\n",
    "        schema: \"continuinzicht_demo_whatif\"\n",
    "    \n",
    "    out_section_technical_failure_probability_data:\n",
    "        type: ci_postgresql_section_to_data\n",
    "        database: \"continuinzicht\"\n",
    "        schema: \"continuinzicht_demo_whatif\"\n",
    "        parameter_id: 100\n",
    "    \n",
    "    in_expert_judgement_table:\n",
    "        type: ci_postgresql_section_expert_judgement_table\n",
    "        database: \"continuinzicht\"\n",
    "        schema: \"continuinzicht_demo_whatif\"\n",
    "\n",
    "    out_section_expert_judgement_failure_probability_data:\n",
    "        type: ci_postgresql_section_to_data\n",
    "        database: \"continuinzicht\"\n",
    "        schema: \"continuinzicht_demo_whatif\"\n",
    "        parameter_id: 102\n",
    "\n",
    "    in_section_data_failure_probability:\n",
    "        type: ci_postgresql_section_failure_probability_from_data_table\n",
    "        database: \"continuinzicht\"\n",
    "        schema: \"continuinzicht_demo_whatif\"\n",
    "\n",
    "    out_section_failure_probability_data:\n",
    "        type: ci_postgresql_section_to_data\n",
    "        database: \"continuinzicht\"\n",
    "        schema: \"continuinzicht_demo_whatif\"\n",
    "        parameter_id: 5    \n",
    "\n",
    "    in_section_conditions:\n",
    "        type: ci_postgresql_section_thresholds_from_conditions_table\n",
    "        database: \"continuinzicht\"\n",
    "        schema: \"continuinzicht_demo_whatif\"\n",
    "\n",
    "    out_section_states:\n",
    "        type: ci_postgresql_section_to_states\n",
    "        database: \"continuinzicht\"\n",
    "        schema: \"continuinzicht_demo_whatif\"\n",
    "\n",
    "    calculation_end_config:\n",
    "        type: ci_postgresql_to_calculation_end\n",
    "        database: \"continuinzicht\"\n",
    "        schema: \"continuinzicht_demo_whatif\"\n",
    "\n",
    "    df_moment_waterstanden:\n",
    "        type: python\n",
    "\n",
    "</pre>\n",
    "</details>"
   ]
  },
  {
   "cell_type": "code",
   "execution_count": null,
   "metadata": {},
   "outputs": [],
   "source": [
    "# lees configuratiebestand\n",
    "yaml_config_file = \"continu-inzicht-demo-whatif.yaml\"\n",
    "data_path = Path.joinpath(Path.cwd(), \"data\", yaml_config_file)\n",
    "\n",
    "config = Config(config_path=data_path)\n",
    "config.lees_config()"
   ]
  },
  {
   "cell_type": "markdown",
   "metadata": {},
   "source": [
    "**Aanmaken adapter**"
   ]
  },
  {
   "cell_type": "code",
   "execution_count": null,
   "metadata": {},
   "outputs": [],
   "source": [
    "# data adapter aanmaken\n",
    "data_adapter = DataAdapter(config=config)"
   ]
  },
  {
   "cell_type": "markdown",
   "metadata": {},
   "source": [
    "**Controleer of er al een berekening gaande is**\n",
    "<div style=\"width:40%; display:inline-table;\">\n",
    "    Adapter config:\n",
    "    <pre style=\"font-size: 10pt;border:none\">\n",
    "    <b>in_ci_status:</b>\n",
    "        type: ci_postgresql_calc_status\n",
    "        database: \"continuinzicht\"\n",
    "        schema: \"continuinzicht_demo_whatif\"\n",
    "        source: \"waterinfo\"\n",
    "    </pre>\n",
    "</div>"
   ]
  },
  {
   "cell_type": "code",
   "execution_count": null,
   "metadata": {},
   "outputs": [],
   "source": [
    "# De adapter 'ci_postgresql_calc_status' geeft de huidige rekenstatus en eventuele ui aanpassingen terug\n",
    "df_in = data_adapter.input(\"in_ci_status\")\n",
    "\n",
    "# controleer het resultaat op is_calculating = True\n",
    "is_calculating = df_in[df_in[\"is_calculating\"]]\n",
    "if len(is_calculating) > 0:\n",
    "    print(\"Er wordt al gerekend, toch doorgaan?\")\n",
    "    raise SystemExit(\"Er wordt al gerekend!\")\n",
    "else:\n",
    "    print(\"Er wordt niet gerekend\")"
   ]
  },
  {
   "cell_type": "markdown",
   "metadata": {},
   "source": [
    "**Huidig moment (datum/tijd) in what-if kiezen**"
   ]
  },
  {
   "cell_type": "code",
   "execution_count": null,
   "metadata": {},
   "outputs": [],
   "source": [
    "# zet de reken datum/tijd van what-if berekening en zet deze globaal in de data_adapter\n",
    "year = 2024\n",
    "month = 1\n",
    "day = 2\n",
    "hour = 23\n",
    "minute = 0\n",
    "second = 0\n",
    "\n",
    "# LET OP altijd in UTC tijd zetten\n",
    "calc_time = datetime(year, month, day, hour, minute, second).replace(\n",
    "    tzinfo=timezone.utc\n",
    ")\n",
    "\n",
    "# zet de reken datum/tijd via de data_adapter in de globale variabelen\n",
    "data_adapter.set_global_variable(key=\"calc_time\", value=calc_time)\n",
    "\n",
    "print(f\"Huidige rekentijd: {calc_time} {calc_time.tzinfo} voor berekening.\")"
   ]
  },
  {
   "cell_type": "markdown",
   "metadata": {},
   "source": [
    "**Bepalen datum/tijd per moment**"
   ]
  },
  {
   "cell_type": "code",
   "execution_count": null,
   "metadata": {},
   "outputs": [],
   "source": [
    "# lees reken datum/tijd en momenten uit de globale variabelen\n",
    "calc_time = data_adapter.config.global_variables[\"calc_time\"]\n",
    "moments = data_adapter.config.global_variables[\"moments\"]\n",
    "\n",
    "# initialiseer eerste datum/tijd en de laatste datum/tijd\n",
    "min_date_time = calc_time\n",
    "max_date_time = calc_time\n",
    "\n",
    "# definieer een lege tabel met (reken)momenten voor in de CI database (tabel 'moments')\n",
    "records = []\n",
    "\n",
    "# stap door alle momenten en bepaal de eerste datum/tijd en de laatste datum/tijd door de reken datum/tijd te corrigeren met de momenten\n",
    "for moment in moments:\n",
    "    moment_time = calc_time + timedelta(hours=moment)\n",
    "    min_date_time = min(min_date_time, moment_time)\n",
    "    max_date_time = max(max_date_time, moment_time)\n",
    "\n",
    "    # definieer een (reken)moment voor de CI database (tabel 'moments')\n",
    "    record = {\"moment_id\": moment, \"date_time\": moment_time, \"calc_time\": moment_time}\n",
    "\n",
    "    # voeg de rij toe aan de tabel voor de CI database (tabel 'moments')\n",
    "    records.append(record)\n",
    "\n",
    "# sla de (reken)momenten op in de CI database (tabel 'moments') via de data_adapter 'out_moments_table'\n",
    "data_adapter.output(output=\"out_moments_table\", df=pd.DataFrame.from_records(records))\n",
    "\n",
    "# print feedback naar het scherm: eerste datum/tijd en de laatste datum/tijd\n",
    "print(f\"min: {min_date_time} {min_date_time.tzinfo}\")\n",
    "print(f\"max: {max_date_time} {max_date_time.tzinfo}\")"
   ]
  },
  {
   "cell_type": "markdown",
   "metadata": {},
   "source": [
    "**Scenario kiezen**"
   ]
  },
  {
   "cell_type": "code",
   "execution_count": null,
   "metadata": {},
   "outputs": [],
   "source": [
    "# definieer het scenario dat gebruikt moet worden\n",
    "scenario_name = \"Voorbeeld1\"\n",
    "\n",
    "# lees reken datum/tijd en moments uit de globale variabelen\n",
    "calc_time = config.global_variables[\"calc_time\"]\n",
    "moments = config.global_variables[\"moments\"]\n",
    "\n",
    "# ophalen van lijst met alle scenario's uit CI database (tabel 'scenarios') via de data_adapter 'ci_postgresql_from_scenarios'\n",
    "df_scenarios = data_adapter.input(input=\"ci_from_scenario\")\n",
    "\n",
    "# definieer een lege tabel met de simulatie eigenschappen voor in de CI database (tabel 'simulation')\n",
    "records = []\n",
    "\n",
    "# definieer de simulatie eigenschappen voor de CI database (tabel 'simulation')\n",
    "result = df_scenarios.loc[\n",
    "    df_scenarios[\"scenario_name\"] == scenario_name,\n",
    "    [\n",
    "        \"scenario_id\",\n",
    "        \"scenario_time_step\",\n",
    "        \"scenario_min_date_time\",\n",
    "        \"scenario_max_date_time\",\n",
    "    ],\n",
    "]\n",
    "\n",
    "if not result.empty:\n",
    "    scenarioid = result.iloc[0][\"scenario_id\"]\n",
    "    timestep = result.iloc[0][\"scenario_time_step\"]\n",
    "    min_calc_time = datetime_from_epoch(result.iloc[0][\"scenario_min_date_time\"])\n",
    "    max_calc_time = datetime_from_epoch(result.iloc[0][\"scenario_max_date_time\"])\n",
    "\n",
    "    # stap door alle momenten en bepaal de eerste datum/tijd en de laatste datum/tijd door de reken datum/tijd te corrigeren met de momenten\n",
    "    min_date_time = calc_time\n",
    "    max_date_time = calc_time\n",
    "    for moment in moments:\n",
    "        moment_time = calc_time + timedelta(hours=moment)\n",
    "        min_date_time = min(min_date_time, moment_time)\n",
    "        max_date_time = max(max_date_time, moment_time)\n",
    "\n",
    "    starttime = min_date_time\n",
    "    endtime = max_date_time\n",
    "\n",
    "    # controleer of momenten binnen bereik van het gekozen what-if scenario vallen\n",
    "    if starttime > min_calc_time and endtime < max_calc_time:\n",
    "        record = {\n",
    "            \"id\": 1,\n",
    "            \"scenarioid\": scenarioid,\n",
    "            \"datetime\": calc_time,\n",
    "            \"starttime\": starttime,\n",
    "            \"endtime\": endtime,\n",
    "            \"timestep\": timestep,\n",
    "            \"active\": True,\n",
    "        }\n",
    "\n",
    "        # voeg de rij toe aan de tabel voor de CI database (tabel 'simulation')\n",
    "        records.append(record)\n",
    "\n",
    "        # sla het gekozen scenario op in de CI database (tabel 'simulation')\n",
    "        data_adapter.output(\n",
    "            output=\"out_simulation_table\", df=pd.DataFrame.from_records(records)\n",
    "        )\n",
    "    else:\n",
    "        print(\n",
    "            f\"Er gaat iets mis! De berekende momenten op basis van het gekozen huidige moment ({calc_time} {calc_time.tzinfo} ), vallen buiten het bereik van het gekozen scenario!\"\n",
    "        )\n",
    "\n",
    "else:\n",
    "    scenarioid = None\n",
    "    print(\n",
    "        f\"Er gaat iets mis! Het scenario: {scenario_name}, bestaat niet in de CI database!\"\n",
    "    )"
   ]
  },
  {
   "cell_type": "markdown",
   "metadata": {},
   "source": [
    "**Start what-if berekening**"
   ]
  },
  {
   "cell_type": "code",
   "execution_count": null,
   "metadata": {},
   "outputs": [],
   "source": [
    "from toolbox_continu_inzicht.helpers import calculation_start\n",
    "\n",
    "start, end = calculation_start(\n",
    "    data_adapter=data_adapter, output=\"calculation_start_config\", calc_time=calc_time\n",
    ")\n",
    "print(f\"{start} - {end}\")"
   ]
  },
  {
   "cell_type": "markdown",
   "metadata": {},
   "source": [
    "**What-if belastingen inlezen en wegschrijven naar data tabel**"
   ]
  },
  {
   "cell_type": "code",
   "execution_count": null,
   "metadata": {},
   "outputs": [],
   "source": [
    "from toolbox_continu_inzicht.loads import LoadsCIWhatIf\n",
    "\n",
    "loads_whatif = LoadsCIWhatIf(data_adapter=data_adapter)\n",
    "loads_whatif.run(input=\"ci_from_loads\", output=\"ci_to_data\")"
   ]
  },
  {
   "cell_type": "markdown",
   "metadata": {},
   "source": [
    "**Van alle belastingen alleen de belastingen van opgegeven momenten halen**"
   ]
  },
  {
   "cell_type": "code",
   "execution_count": null,
   "metadata": {},
   "outputs": [],
   "source": [
    "from toolbox_continu_inzicht.loads import LoadsToMoments\n",
    "\n",
    "load_moments = LoadsToMoments(data_adapter=data_adapter)\n",
    "load_moments.run(\n",
    "    input=\"in_measuringstation_data_table\", output=\"df_moment_waterstanden\"\n",
    ")\n",
    "\n",
    "if load_moments.df_out is not None:\n",
    "    df_moments = load_moments.df_out.reset_index(drop=False)\n",
    "    df_moments[\"date_time\"] = df_moments[\"date_time\"].astype(object)\n",
    "\n",
    "    # dataframe moments toevoegen aan adapter\n",
    "    data_adapter.set_dataframe_adapter(\"df_moment_waterstanden\", df_moments)"
   ]
  },
  {
   "cell_type": "markdown",
   "metadata": {},
   "source": [
    "**Status bepalen voor de meetstations**"
   ]
  },
  {
   "cell_type": "code",
   "execution_count": null,
   "metadata": {},
   "outputs": [],
   "source": [
    "from toolbox_continu_inzicht.loads import LoadsClassify\n",
    "\n",
    "# - via opgegeven waterstandsgrenzen wordt per meetstation de status bepaald\n",
    "\n",
    "loads_classify = LoadsClassify(data_adapter=data_adapter)\n",
    "loads_classify.run(\n",
    "    input=[\"in_measuringstation_conditions_table\", \"df_moment_waterstanden\"],\n",
    "    output=\"out_measuringstation_states_table\",\n",
    ")"
   ]
  },
  {
   "cell_type": "markdown",
   "metadata": {},
   "source": [
    "**Belastingen bepalen voor secties**"
   ]
  },
  {
   "cell_type": "code",
   "execution_count": null,
   "metadata": {},
   "outputs": [],
   "source": [
    "from toolbox_continu_inzicht.sections import SectionsLoads\n",
    "\n",
    "# - er wordt via de bovenliggende en onderliggende meetstation\n",
    "#   en de fractie per meetstation (opgegeven in 'section fraction')\n",
    "#   bepaald wat de maatgevende waterstand voor een dijkvak is.\n",
    "\n",
    "if df_moments is not None:\n",
    "    sections_loads = SectionsLoads(data_adapter=data_adapter)\n",
    "    sections_loads.run(\n",
    "        input=[\n",
    "            \"in_section_table\",\n",
    "            \"df_moment_waterstanden\",\n",
    "            \"in_sectionfractions_table\",\n",
    "        ],\n",
    "        output=\"out_waterstanden_section_ci_postgresql\",\n",
    "    )"
   ]
  },
  {
   "cell_type": "markdown",
   "metadata": {},
   "source": [
    "**Genereer fragility curves voor GEKB (Overloop en overslag)**"
   ]
  },
  {
   "cell_type": "code",
   "execution_count": null,
   "metadata": {},
   "outputs": [],
   "source": [
    "from toolbox_continu_inzicht.fragility_curves import FragilityCurveOvertoppingMultiple\n",
    "\n",
    "fragility_curve_overtopping = FragilityCurveOvertoppingMultiple(\n",
    "    data_adapter=data_adapter\n",
    ")\n",
    "\n",
    "fragility_curve_overtopping.run(\n",
    "    input=[\"in_section_slopes\", \"in_section_profiles\", \"in_section_bedlevel_fetch\"],\n",
    "    output=\"out_section_fragility_curves\",\n",
    ")"
   ]
  },
  {
   "cell_type": "markdown",
   "metadata": {},
   "source": [
    "**Genereer gecombineerde fragility curves (COMB)**"
   ]
  },
  {
   "cell_type": "code",
   "execution_count": null,
   "metadata": {},
   "outputs": [],
   "source": [
    "from toolbox_continu_inzicht.fragility_curves import CombineFragilityCurvesIndependent\n",
    "\n",
    "df_sections = data_adapter.input(\"in_sections\")\n",
    "df_failuremechanisms = data_adapter.input(\"in_failuremechanisms\")\n",
    "df_measures = data_adapter.input(\"in_measures\")\n",
    "df_fragility_curve = data_adapter.input(\"in_fragility_curve\")\n",
    "\n",
    "for _, row_section in df_sections.iterrows():\n",
    "    for _, row_measure in df_measures.iterrows():\n",
    "        input_list = []\n",
    "\n",
    "        for _, row_failuremechanisms in df_failuremechanisms.iterrows():\n",
    "            timedep = 0\n",
    "            degradatie_id = 0\n",
    "            section_id = row_section[\"id\"]\n",
    "            measure_id = row_measure[\"id\"]\n",
    "            failuremechanism_id = row_failuremechanisms[\"id\"]\n",
    "            failuremechanism_name = row_failuremechanisms[\"name\"]\n",
    "\n",
    "            df = df_fragility_curve[\n",
    "                (df_fragility_curve[\"section_id\"] == section_id)\n",
    "                & (df_fragility_curve[\"failuremechanismid\"] == failuremechanism_id)\n",
    "                & (df_fragility_curve[\"measureid\"] == measure_id)\n",
    "                & (df_fragility_curve[\"timedep\"] == timedep)\n",
    "                & (df_fragility_curve[\"degradatieid\"] == degradatie_id)\n",
    "            ]\n",
    "\n",
    "            if len(df) > 0:\n",
    "                input_name = f\"df_{failuremechanism_name}\"\n",
    "                data_adapter.set_dataframe_adapter(\n",
    "                    input_name, df, if_not_exist=\"create\"\n",
    "                )\n",
    "                input_list.append(input_name)\n",
    "\n",
    "        if len(input_list) > 0:\n",
    "            combine_fragility_curves = CombineFragilityCurvesIndependent(\n",
    "                data_adapter=data_adapter\n",
    "            )\n",
    "            combine_fragility_curves.run(\n",
    "                input=input_list,\n",
    "                output=\"df_combined_curves\",\n",
    "            )\n",
    "\n",
    "            df_out = combine_fragility_curves.df_out\n",
    "\n",
    "            if df_out is not None:\n",
    "                df_out[\"section_id\"] = section_id\n",
    "                df_out[\"measureid\"] = measure_id\n",
    "                df_out[\"timedep\"] = timedep\n",
    "                df_out[\"degradatieid\"] = degradatie_id\n",
    "\n",
    "                # opslaan\n",
    "                data_adapter.output(\"out_section_fragility_curves\", df_out)"
   ]
  },
  {
   "cell_type": "markdown",
   "metadata": {},
   "source": [
    "**Bepaal technische faalkans voor secties**"
   ]
  },
  {
   "cell_type": "code",
   "execution_count": null,
   "metadata": {},
   "outputs": [],
   "source": [
    "from toolbox_continu_inzicht.sections import SectionsTechnicalFailureprobability\n",
    "\n",
    "sections_failureprobability = SectionsTechnicalFailureprobability(\n",
    "    data_adapter=data_adapter\n",
    ")\n",
    "sections_failureprobability.run(\n",
    "    input=[\"in_fragilitycurves_table\", \"in_section_load_from_data_table\"],\n",
    "    output=\"out_section_technical_failure_probability_data\",\n",
    ")"
   ]
  },
  {
   "cell_type": "markdown",
   "metadata": {},
   "source": [
    "**Bepaal faalkans door beheerdersoordeel voor secties**"
   ]
  },
  {
   "cell_type": "code",
   "execution_count": null,
   "metadata": {},
   "outputs": [],
   "source": [
    "from toolbox_continu_inzicht.sections import SectionsExpertJudgementFailureprobability\n",
    "\n",
    "sections_failureprobability = SectionsExpertJudgementFailureprobability(\n",
    "    data_adapter=data_adapter\n",
    ")\n",
    "\n",
    "sections_failureprobability.run(\n",
    "    input=\"in_expert_judgement_table\",\n",
    "    output=\"out_section_expert_judgement_failure_probability_data\",\n",
    ")"
   ]
  },
  {
   "cell_type": "markdown",
   "metadata": {},
   "source": [
    "**Bepaal de maatgevende faalkans voor secties**"
   ]
  },
  {
   "cell_type": "code",
   "execution_count": null,
   "metadata": {},
   "outputs": [],
   "source": [
    "from toolbox_continu_inzicht.sections import SectionsCriticalFailureprobability\n",
    "\n",
    "sections_failureprobability = SectionsCriticalFailureprobability(\n",
    "    data_adapter=data_adapter\n",
    ")\n",
    "sections_failureprobability.run(\n",
    "    input=\"in_section_data_failure_probability\",\n",
    "    output=\"out_section_failure_probability_data\",\n",
    ")"
   ]
  },
  {
   "cell_type": "markdown",
   "metadata": {},
   "source": [
    "**Bepaal de status van secties**"
   ]
  },
  {
   "cell_type": "code",
   "execution_count": null,
   "metadata": {},
   "outputs": [],
   "source": [
    "from toolbox_continu_inzicht.sections import SectionsClassify\n",
    "\n",
    "sections_classify = SectionsClassify(data_adapter=data_adapter)\n",
    "sections_classify.run(\n",
    "    input=[\"in_section_conditions\", \"in_section_data_failure_probability\"],\n",
    "    output=\"out_section_states\",\n",
    ")"
   ]
  },
  {
   "cell_type": "markdown",
   "metadata": {},
   "source": [
    "**Einde what-if berekening**"
   ]
  },
  {
   "cell_type": "code",
   "execution_count": null,
   "metadata": {},
   "outputs": [],
   "source": [
    "from toolbox_continu_inzicht.helpers import calculation_end\n",
    "\n",
    "calculation_end(data_adapter=data_adapter, output=\"calculation_end_config\")"
   ]
  }
 ],
 "metadata": {
  "kernelspec": {
   "display_name": "default",
   "language": "python",
   "name": "python3"
  },
  "language_info": {
   "codemirror_mode": {
    "name": "ipython",
    "version": 3
   },
   "file_extension": ".py",
   "mimetype": "text/x-python",
   "name": "python",
   "nbconvert_exporter": "python",
   "pygments_lexer": "ipython3",
   "version": "3.13.2"
  }
 },
 "nbformat": 4,
 "nbformat_minor": 2
}
