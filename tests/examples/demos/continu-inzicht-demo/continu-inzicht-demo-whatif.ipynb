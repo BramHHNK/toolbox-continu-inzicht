{
 "cells": [
  {
   "cell_type": "markdown",
   "metadata": {},
   "source": [
    "## Continu Inzicht Demo (What-if)\n",
    "> https://tscontinuinzicht.hkvservices.nl/ci-demo"
   ]
  },
  {
   "cell_type": "markdown",
   "metadata": {},
   "source": [
    "**Imports**"
   ]
  },
  {
   "cell_type": "code",
   "execution_count": 1,
   "metadata": {},
   "outputs": [
    {
     "name": "stderr",
     "output_type": "stream",
     "text": [
      "d:\\Users\\Thonus\\mijnSoftware\\Toolbox Continu Inzicht\\toolbox-continu-inzicht\\.pixi\\envs\\default\\Lib\\site-packages\\tqdm\\auto.py:21: TqdmWarning: IProgress not found. Please update jupyter and ipywidgets. See https://ipywidgets.readthedocs.io/en/stable/user_install.html\n",
      "  from .autonotebook import tqdm as notebook_tqdm\n"
     ]
    }
   ],
   "source": [
    "# import algemeen\n",
    "from datetime import datetime, timedelta, timezone\n",
    "from pathlib import Path\n",
    "\n",
    "import pandas as pd\n",
    "\n",
    "# imports base modules\n",
    "from toolbox_continu_inzicht import Config, DataAdapter\n",
    "from toolbox_continu_inzicht.utils.datetime_functions import datetime_from_epoch"
   ]
  },
  {
   "cell_type": "markdown",
   "metadata": {},
   "source": [
    "**Inlezen configuratie**\n",
    "<details>\n",
    "<summary>Configuratie bekijken</summary>   \n",
    "\n",
    "<pre style=\"font-size: 10pt\">\n",
    "GlobalVariables:\n",
    "    rootdir: \"data\"\n",
    "    calc_time: \"2024-11-19\"\n",
    "    moments: [-24,0,24,48]\n",
    "\n",
    "    LoadsWaterinfo:\n",
    "            parameters: [\"waterhoogte\"]\n",
    "            MISSING_VALUE: 999\n",
    "\n",
    "    LoadsMatroos:\n",
    "        website: \"noos\"\n",
    "        model: \"fews_rmm_km\"\n",
    "        parameters: [\"WATHTE\"]\n",
    "\n",
    "    LoadsFews:\n",
    "        host: \"https://fews.hhnk.nl\"\n",
    "        port: 443\n",
    "        region: \"fewspiservice\"\n",
    "        version: \"1.25\"\n",
    "        filter: \"\"\n",
    "        parameters: [ \"WATHTE [m][NAP][OW]\" ]\n",
    "        uurdata: true,\n",
    "        addnearestmoments: true,\n",
    "        addmaxmoment: false\n",
    "\n",
    "    LoadsFewsLimburg:\n",
    "        host: \"http://109.232.44.231\"\n",
    "        port: 443\n",
    "        region: \"fewspiservice\"\n",
    "        version: \"1.25\"\n",
    "        filter: \"App_Maas\"\n",
    "        parameters: [ \"WATHTE\" ]\n",
    "        uurdata: true,\n",
    "        addnearestmoments: true,\n",
    "        addmaxmoment: false\n",
    "\n",
    "    LoadsWaterwebservicesRWS:\n",
    "        parameters: [\"WATHTE\"]\n",
    "        MISSING_VALUE: -999\n",
    "\n",
    "DataAdapter:\n",
    "\n",
    "    calculation_start_config:\n",
    "        type: ci_postgresql_to_calculation_start\n",
    "        database: \"geoserver\"\n",
    "        schema: \"continuinzicht_demo_realtime\"\n",
    "\n",
    "    calculation_end_config:\n",
    "        type: ci_postgresql_to_calculation_end\n",
    "        database: \"geoserver\"\n",
    "        schema: \"continuinzicht_demo_realtime\"\n",
    "\n",
    "    in_measuringstation_waterinfo:\n",
    "        type: ci_postgresql_from_measuringstations\n",
    "        database: \"geoserver\"\n",
    "        schema: \"continuinzicht_demo_realtime\"\n",
    "        source: \"waterinfo\"\n",
    "\n",
    "    in_measuringstation_matroos:\n",
    "        type: ci_postgresql_from_measuringstations\n",
    "        database: \"geoserver\"\n",
    "        schema: \"continuinzicht_demo_realtime\"\n",
    "        source: \"matroos\"\n",
    "\n",
    "    in_measuringstation_fews_hhnk:\n",
    "        type: ci_postgresql_from_measuringstations\n",
    "        database: \"geoserver\"\n",
    "        schema: \"continuinzicht_demo_realtime\"\n",
    "        source: \"fews_hhnk\"\n",
    "\n",
    "    in_measuringstation_fews_limburg:\n",
    "        type: ci_postgresql_from_measuringstations\n",
    "        database: \"geoserver\"\n",
    "        schema: \"continuinzicht_demo_realtime\"\n",
    "        source: \"fews_limburg\"\n",
    "\n",
    "    out_waterstanden_ci_postgresql_001:\n",
    "        type: ci_postgresql_measuringstation_to_data\n",
    "        database: \"geoserver\"\n",
    "        schema: \"continuinzicht_demo_realtime\"\n",
    "        unit_conversion_factor: 0.01\n",
    "\n",
    "    out_waterstanden_ci_postgresql_1:\n",
    "        type: ci_postgresql_measuringstation_to_data\n",
    "        database: \"geoserver\"\n",
    "        schema: \"continuinzicht_demo_realtime\"\n",
    "        unit_conversion_factor: 1\n",
    "\n",
    "    in_measuringstation_data_table:\n",
    "        type: ci_postgresql_measuringstation_data_table\n",
    "        database: geoserver\n",
    "        schema: continuinzicht_demo_realtime\n",
    "\n",
    "    in_measuringstation_conditions_table:\n",
    "        type: ci_postgresql_from_conditions\n",
    "        database: \"geoserver\"\n",
    "        schema: \"continuinzicht_demo_realtime\"\n",
    "\n",
    "    out_measuringstation_states_table:\n",
    "        type: ci_postgresql_to_states\n",
    "        database: \"geoserver\"\n",
    "        schema: \"continuinzicht_demo_realtime\"\n",
    "        objecttype: \"measuringstation\"\n",
    "\n",
    "    in_section_table:\n",
    "        type: ci_postgresql_from_sections\n",
    "        database: \"geoserver\"\n",
    "        schema: \"continuinzicht_demo_realtime\"\n",
    "\n",
    "    in_sectionfractions_table:\n",
    "        type: ci_postgresql_from_sectionfractions\n",
    "        database: \"geoserver\"\n",
    "        schema: \"continuinzicht_demo_realtime\"\n",
    "\n",
    "    out_waterstanden_section_ci_postgresql:\n",
    "        type: ci_postgresql_section_load_to_data\n",
    "        database: \"geoserver\"\n",
    "        schema: \"continuinzicht_demo_realtime\"        \n",
    "\n",
    "    df_moment_waterstanden:\n",
    "        type: python\n",
    "\n",
    "    in_fragilitycurves_table:\n",
    "        type: ci_postgresql_fragilitycurves_table\n",
    "        database: geoserver\n",
    "        schema: continuinzicht_demo_realtime\n",
    "        measureid: 0\n",
    "\n",
    "    in_measure_fragilitycurves_table:\n",
    "        type: ci_postgresql_measure_fragilitycurves_table\n",
    "        database: geoserver\n",
    "        schema: continuinzicht_demo_realtime                \n",
    "\n",
    "    in_section_load_from_data_table:\n",
    "        type: ci_postgresql_section_load_from_data_table\n",
    "        database: geoserver\n",
    "        schema: continuinzicht_demo_realtime\n",
    "\n",
    "    out_section_failure_probability_data:\n",
    "        type: ci_postgresql_section_to_data\n",
    "        database: geoserver\n",
    "        schema: continuinzicht_demo_realtime\n",
    "        parameter_id: 5\n",
    "\n",
    "    out_section_technical_failure_probability_data:\n",
    "        type: ci_postgresql_section_to_data\n",
    "        database: geoserver\n",
    "        schema: continuinzicht_demo_realtime\n",
    "        parameter_id: 100\n",
    "\n",
    "    out_section_measure_failure_probability_data:\n",
    "        type: ci_postgresql_section_to_data\n",
    "        database: geoserver\n",
    "        schema: continuinzicht_demo_realtime\n",
    "        parameter_id: 101        \n",
    "\n",
    "    in_section_conditions:\n",
    "        type: ci_postgresql_section_thresholds_from_conditions_table\n",
    "        database: geoserver\n",
    "        schema: continuinzicht_demo_realtime\n",
    "\n",
    "    in_section_data_failure_probability:\n",
    "        type: ci_postgresql_section_failure_probability_from_data_table\n",
    "        database: geoserver\n",
    "        schema: continuinzicht_demo_realtime\n",
    "\n",
    "    out_section_states:\n",
    "        type: ci_postgresql_section_to_states\n",
    "        database: geoserver\n",
    "        schema: continuinzicht_demo_realtime\n",
    "</pre>\n",
    "</details>"
   ]
  },
  {
   "cell_type": "code",
   "execution_count": 2,
   "metadata": {},
   "outputs": [],
   "source": [
    "# lees configuratiebestand\n",
    "yaml_config_file = \"continu-inzicht-demo-whatif.yaml\"\n",
    "data_path = Path.joinpath(Path.cwd(), \"data\", yaml_config_file)\n",
    "\n",
    "config = Config(config_path=data_path)\n",
    "config.lees_config()"
   ]
  },
  {
   "cell_type": "markdown",
   "metadata": {},
   "source": [
    "**Aanmaken adapter**"
   ]
  },
  {
   "cell_type": "code",
   "execution_count": 3,
   "metadata": {},
   "outputs": [],
   "source": [
    "# data adapter aanmaken\n",
    "data_adapter = DataAdapter(config=config)"
   ]
  },
  {
   "cell_type": "markdown",
   "metadata": {},
   "source": [
    "**Huidig moment (datum/tijd) in what-if kiezen**"
   ]
  },
  {
   "cell_type": "code",
   "execution_count": 4,
   "metadata": {},
   "outputs": [
    {
     "name": "stdout",
     "output_type": "stream",
     "text": [
      "Huidige rekentijd: 2024-01-02 12:00:00+00:00 UTC voor berekening.\n"
     ]
    }
   ],
   "source": [
    "# zet de reken datum/tijd van what-if berekening en zet deze globaal in de data_adapter\n",
    "year = 2024\n",
    "month = 1\n",
    "day = 2\n",
    "hour = 12\n",
    "minute = 0\n",
    "second = 0\n",
    "\n",
    "# LET OP altijd in UTC tijd zetten\n",
    "calc_time = datetime(year, month, day, hour, minute, second).replace(\n",
    "    tzinfo=timezone.utc\n",
    ")\n",
    "\n",
    "# zet de reken datum/tijd via de data_adapter in de globale variabelen\n",
    "data_adapter.set_global_variable(key=\"calc_time\", value=calc_time)\n",
    "\n",
    "print(f\"Huidige rekentijd: {calc_time} {calc_time.tzinfo} voor berekening.\")"
   ]
  },
  {
   "cell_type": "markdown",
   "metadata": {},
   "source": [
    "**Bepalen datum/tijd per moment**"
   ]
  },
  {
   "cell_type": "code",
   "execution_count": 5,
   "metadata": {},
   "outputs": [
    {
     "name": "stdout",
     "output_type": "stream",
     "text": [
      "min: 2024-01-01 12:00:00+00:00 UTC\n",
      "max: 2024-01-04 12:00:00+00:00 UTC\n"
     ]
    }
   ],
   "source": [
    "# lees reken datum/tijd en momenten uit de globale variabelen\n",
    "calc_time = data_adapter.config.global_variables[\"calc_time\"]\n",
    "moments = data_adapter.config.global_variables[\"moments\"]\n",
    "\n",
    "# initialiseer eerste datum/tijd en de laatste datum/tijd\n",
    "min_date_time = calc_time\n",
    "max_date_time = calc_time\n",
    "\n",
    "# definieer een lege tabel met (reken)momenten voor in de CI database (tabel 'moments')\n",
    "records = []\n",
    "\n",
    "# stap door alle momenten en bepaal de eerste datum/tijd en de laatste datum/tijd door de reken datum/tijd te corrigeren met de momenten\n",
    "for moment in moments:\n",
    "    moment_time = calc_time + timedelta(hours=moment)\n",
    "    min_date_time = min(min_date_time, moment_time)\n",
    "    max_date_time = max(max_date_time, moment_time)\n",
    "\n",
    "    # definieer een (reken)moment voor de CI database (tabel 'moments')\n",
    "    record = {\"moment_id\": moment, \"date_time\": moment_time, \"calc_time\": moment_time}\n",
    "\n",
    "    # voeg de rij toe aan de tabel voor de CI database (tabel 'moments')\n",
    "    records.append(record)\n",
    "\n",
    "# sla de (reken)momenten op in de CI database (tabel 'moments') via de data_adapter 'out_moments_table'\n",
    "data_adapter.output(output=\"out_moments_table\", df=pd.DataFrame.from_records(records))\n",
    "\n",
    "# print feedback naar het scherm: eerste datum/tijd en de laatste datum/tijd\n",
    "print(f\"min: {min_date_time} {min_date_time.tzinfo}\")\n",
    "print(f\"max: {max_date_time} {max_date_time.tzinfo}\")"
   ]
  },
  {
   "cell_type": "markdown",
   "metadata": {},
   "source": [
    "**Scenario kiezen**"
   ]
  },
  {
   "cell_type": "code",
   "execution_count": 6,
   "metadata": {},
   "outputs": [],
   "source": [
    "# definieer het scenario dat gebruikt moet worden\n",
    "scenario_name = \"Voorbeeld1\"\n",
    "\n",
    "# lees reken datum/tijd en moments uit de globale variabelen\n",
    "calc_time = config.global_variables[\"calc_time\"]\n",
    "moments = config.global_variables[\"moments\"]\n",
    "\n",
    "# ophalen van lijst met alle scenario's uit CI database (tabel 'scenarios') via de data_adapter 'ci_postgresql_from_scenarios'\n",
    "df_scenarios = data_adapter.input(input=\"ci_from_scenario\")\n",
    "\n",
    "# definieer een lege tabel met de simulatie eigenschappen voor in de CI database (tabel 'simulation')\n",
    "records = []\n",
    "\n",
    "# definieer de simulatie eigenschappen voor de CI database (tabel 'simulation')\n",
    "result = df_scenarios.loc[\n",
    "    df_scenarios[\"scenario_name\"] == scenario_name,\n",
    "    [\n",
    "        \"scenario_id\",\n",
    "        \"scenario_time_step\",\n",
    "        \"scenario_min_date_time\",\n",
    "        \"scenario_max_date_time\",\n",
    "    ],\n",
    "]\n",
    "\n",
    "if not result.empty:\n",
    "    scenarioid = result.iloc[0][\"scenario_id\"]\n",
    "    timestep = result.iloc[0][\"scenario_time_step\"]\n",
    "    min_calc_time = datetime_from_epoch(result.iloc[0][\"scenario_min_date_time\"])\n",
    "    max_calc_time = datetime_from_epoch(result.iloc[0][\"scenario_max_date_time\"])\n",
    "\n",
    "    # stap door alle momenten en bepaal de eerste datum/tijd en de laatste datum/tijd door de reken datum/tijd te corrigeren met de momenten\n",
    "    min_date_time = calc_time\n",
    "    max_date_time = calc_time\n",
    "    for moment in moments:\n",
    "        moment_time = calc_time + timedelta(hours=moment)\n",
    "        min_date_time = min(min_date_time, moment_time)\n",
    "        max_date_time = max(max_date_time, moment_time)\n",
    "\n",
    "    starttime = min_date_time\n",
    "    endtime = max_date_time\n",
    "\n",
    "    # controleer of momenten binnen bereik van het gekozen what-if scenario vallen\n",
    "    if starttime > min_calc_time and endtime < max_calc_time:\n",
    "        record = {\n",
    "            \"id\": 1,\n",
    "            \"scenarioid\": scenarioid,\n",
    "            \"datetime\": calc_time,\n",
    "            \"starttime\": starttime,\n",
    "            \"endtime\": endtime,\n",
    "            \"timestep\": timestep,\n",
    "            \"active\": True,\n",
    "        }\n",
    "\n",
    "        # voeg de rij toe aan de tabel voor de CI database (tabel 'simulation')\n",
    "        records.append(record)\n",
    "\n",
    "        # sla het gekozen scenario op in de CI database (tabel 'simulation')\n",
    "        data_adapter.output(\n",
    "            output=\"out_simulation_table\", df=pd.DataFrame.from_records(records)\n",
    "        )\n",
    "    else:\n",
    "        print(\n",
    "            f\"Er gaat iets mis! De berekende momenten op basis van het gekozen huidige moment ({calc_time} {calc_time.tzinfo} ), vallen buiten het bereik van het gekozen scenario!\"\n",
    "        )\n",
    "\n",
    "else:\n",
    "    scenarioid = None\n",
    "    print(\n",
    "        f\"Er gaat iets mis! Het scenario: {scenario_name}, bestaat niet in de CI database!\"\n",
    "    )"
   ]
  },
  {
   "cell_type": "markdown",
   "metadata": {},
   "source": [
    "**Start berekening**"
   ]
  },
  {
   "cell_type": "code",
   "execution_count": 7,
   "metadata": {},
   "outputs": [
    {
     "name": "stdout",
     "output_type": "stream",
     "text": [
      "2024-01-01 12:00:00+00:00 - 2024-01-04 12:00:00+00:00\n"
     ]
    }
   ],
   "source": [
    "from toolbox_continu_inzicht.helpers import calculation_start\n",
    "\n",
    "start, end = calculation_start(\n",
    "    data_adapter=data_adapter, output=\"calculation_start_config\", calc_time=calc_time\n",
    ")\n",
    "print(f\"{start} - {end}\")"
   ]
  },
  {
   "cell_type": "markdown",
   "metadata": {},
   "source": [
    "**What-if belastingen inlezen en wegschrijven naar data tabel**"
   ]
  },
  {
   "cell_type": "code",
   "execution_count": 20,
   "metadata": {},
   "outputs": [],
   "source": [
    "from toolbox_continu_inzicht.loads import LoadsCIWhatIf\n",
    "\n",
    "loads_whatif = LoadsCIWhatIf(data_adapter=data_adapter)\n",
    "loads_whatif.run(input=\"ci_from_loads\", output=\"ci_to_data\")"
   ]
  },
  {
   "cell_type": "markdown",
   "metadata": {},
   "source": [
    "**Van alle belastingen alleen de belastingen van opgegeven momenten halen**"
   ]
  },
  {
   "cell_type": "code",
   "execution_count": 21,
   "metadata": {},
   "outputs": [
    {
     "ename": "",
     "evalue": "",
     "output_type": "error",
     "traceback": [
      "\u001b[1;31mThe Kernel crashed while executing code in the current cell or a previous cell. \n",
      "\u001b[1;31mPlease review the code in the cell(s) to identify a possible cause of the failure. \n",
      "\u001b[1;31mClick <a href='https://aka.ms/vscodeJupyterKernelCrash'>here</a> for more info. \n",
      "\u001b[1;31mView Jupyter <a href='command:jupyter.viewOutput'>log</a> for further details."
     ]
    }
   ],
   "source": [
    "from toolbox_continu_inzicht.loads import LoadsToMoments\n",
    "\n",
    "load_moments = LoadsToMoments(data_adapter=data_adapter)\n",
    "load_moments.run(\n",
    "    input=\"in_measuringstation_data_table\", output=\"df_moment_waterstanden\"\n",
    ")\n",
    "\n",
    "if load_moments.df_out is not None:\n",
    "    df_moments = load_moments.df_out.reset_index(drop=False)\n",
    "    df_moments[\"date_time\"] = df_moments[\"date_time\"].astype(object)\n",
    "\n",
    "    # dataframe moments toevoegen aan adapter\n",
    "    data_adapter.set_dataframe_adapter(\"df_moment_waterstanden\", df_moments)"
   ]
  },
  {
   "cell_type": "code",
   "execution_count": 13,
   "metadata": {},
   "outputs": [
    {
     "data": {
      "text/plain": [
       "9"
      ]
     },
     "execution_count": 13,
     "metadata": {},
     "output_type": "execute_result"
    }
   ],
   "source": [
    "a = data_adapter.config.data_adapters[\"df_moment_waterstanden\"]\n",
    "len(a)"
   ]
  },
  {
   "cell_type": "markdown",
   "metadata": {},
   "source": [
    "**Status bepalen voor de meetstations**"
   ]
  },
  {
   "cell_type": "code",
   "execution_count": 10,
   "metadata": {},
   "outputs": [],
   "source": [
    "from toolbox_continu_inzicht.loads import LoadsClassify\n",
    "\n",
    "# - via opgegeven waterstandsgrenzen wordt per meetstation de status bepaald\n",
    "\n",
    "loads_classify = LoadsClassify(data_adapter=data_adapter)\n",
    "loads_classify.run(\n",
    "    input=[\"in_measuringstation_conditions_table\", \"df_moment_waterstanden\"],\n",
    "    output=\"out_measuringstation_states_table\",\n",
    ")"
   ]
  },
  {
   "cell_type": "markdown",
   "metadata": {},
   "source": [
    "**Waterstanden bepalen voor de dijkvakken**"
   ]
  },
  {
   "cell_type": "code",
   "execution_count": null,
   "metadata": {},
   "outputs": [],
   "source": [
    "from toolbox_continu_inzicht.sections import SectionsLoads\n",
    "\n",
    "# - er wordt via de bovenliggende en onderliggende meetstation\n",
    "#   en de fractie per meetstation (opgegeven in 'section fraction')\n",
    "#   bepaald wat de maatgevende waterstand voor een dijkvak is.\n",
    "\n",
    "if df_moments is not None:\n",
    "    sections_loads = SectionsLoads(data_adapter=data_adapter)\n",
    "    sections_loads.run(\n",
    "        input=[\n",
    "            \"in_section_table\",\n",
    "            \"df_moment_waterstanden\",\n",
    "            \"in_sectionfractions_table\",\n",
    "        ],\n",
    "        output=\"out_waterstanden_section_ci_postgresql\",\n",
    "    )"
   ]
  },
  {
   "cell_type": "code",
   "execution_count": 13,
   "metadata": {},
   "outputs": [],
   "source": [
    "from toolbox_continu_inzicht.sections import SectionsTechnicalFailureprobability\n",
    "\n",
    "sections_failureprobability = SectionsTechnicalFailureprobability(\n",
    "    data_adapter=data_adapter\n",
    ")\n",
    "sections_failureprobability.run(\n",
    "    input=[\"in_fragilitycurves_table\", \"in_section_load_from_data_table\"],\n",
    "    output=\"out_section_technical_failure_probability_data\",\n",
    ")"
   ]
  },
  {
   "cell_type": "code",
   "execution_count": 14,
   "metadata": {},
   "outputs": [],
   "source": [
    "from toolbox_continu_inzicht.sections import SectionsMeasureFailureprobability\n",
    "\n",
    "sections_failureprobability = SectionsMeasureFailureprobability(\n",
    "    data_adapter=data_adapter\n",
    ")\n",
    "sections_failureprobability.run(\n",
    "    input=[\"in_measure_fragilitycurves_table\", \"in_section_load_from_data_table\"],\n",
    "    output=\"out_section_measure_failure_probability_data\",\n",
    ")"
   ]
  },
  {
   "cell_type": "code",
   "execution_count": 15,
   "metadata": {},
   "outputs": [],
   "source": [
    "from toolbox_continu_inzicht.sections import SectionsFailureprobability\n",
    "\n",
    "sections_failureprobability = SectionsFailureprobability(data_adapter=data_adapter)\n",
    "sections_failureprobability.run(\n",
    "    input=\"in_section_data_failure_probability\",\n",
    "    output=\"out_section_failure_probability_data\",\n",
    ")"
   ]
  },
  {
   "cell_type": "code",
   "execution_count": 16,
   "metadata": {},
   "outputs": [],
   "source": [
    "from toolbox_continu_inzicht.sections import SectionsClassify\n",
    "\n",
    "sections_classify = SectionsClassify(data_adapter=data_adapter)\n",
    "sections_classify.run(\n",
    "    input=[\"in_section_conditions\", \"in_section_data_failure_probability\"],\n",
    "    output=\"out_section_states\",\n",
    ")"
   ]
  },
  {
   "cell_type": "code",
   "execution_count": 11,
   "metadata": {},
   "outputs": [],
   "source": [
    "from toolbox_continu_inzicht.helpers import calculation_end\n",
    "\n",
    "calculation_end(data_adapter=data_adapter, output=\"calculation_end_config\")"
   ]
  }
 ],
 "metadata": {
  "kernelspec": {
   "display_name": "default",
   "language": "python",
   "name": "python3"
  },
  "language_info": {
   "codemirror_mode": {
    "name": "ipython",
    "version": 3
   },
   "file_extension": ".py",
   "mimetype": "text/x-python",
   "name": "python",
   "nbconvert_exporter": "python",
   "pygments_lexer": "ipython3",
   "version": "3.12.8"
  }
 },
 "nbformat": 4,
 "nbformat_minor": 2
}
