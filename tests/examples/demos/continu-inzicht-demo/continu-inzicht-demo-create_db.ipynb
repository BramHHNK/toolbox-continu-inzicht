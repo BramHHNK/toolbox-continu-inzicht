{
 "cells": [
  {
   "cell_type": "markdown",
   "metadata": {},
   "source": [
    "## Continu Inzicht Demo (Create DB tables)\n",
    "> https://tscontinuinzicht.hkvservices.nl/ci-demo"
   ]
  },
  {
   "cell_type": "markdown",
   "metadata": {},
   "source": [
    "**Imports**"
   ]
  },
  {
   "cell_type": "code",
   "execution_count": 1,
   "metadata": {},
   "outputs": [
    {
     "name": "stderr",
     "output_type": "stream",
     "text": [
      "d:\\Users\\Thonus\\mijnSoftware\\Toolbox Continu Inzicht\\toolbox-continu-inzicht\\.pixi\\envs\\default\\Lib\\site-packages\\tqdm\\auto.py:21: TqdmWarning: IProgress not found. Please update jupyter and ipywidgets. See https://ipywidgets.readthedocs.io/en/stable/user_install.html\n",
      "  from .autonotebook import tqdm as notebook_tqdm\n"
     ]
    }
   ],
   "source": [
    "# import algemeen\n",
    "from pathlib import Path\n",
    "\n",
    "# imports base modules\n",
    "from toolbox_continu_inzicht import Config, DataAdapter"
   ]
  },
  {
   "cell_type": "markdown",
   "metadata": {},
   "source": [
    "**Inlezen configuratie**\n",
    "<details>\n",
    "<summary>Configuratie bekijken</summary>   \n",
    "\n",
    "<pre style=\"font-size: 10pt\">\n",
    "GlobalVariables:\n",
    "    rootdir: \"data\"\n",
    "    calc_time: \"2024-11-19\"\n",
    "    moments: [-24,0,24,48]\n",
    "\n",
    "    LoadsWaterinfo:\n",
    "            parameters: [\"waterhoogte\"]\n",
    "            MISSING_VALUE: 999\n",
    "\n",
    "    LoadsMatroos:\n",
    "        website: \"noos\"\n",
    "        model: \"fews_rmm_km\"\n",
    "        parameters: [\"WATHTE\"]\n",
    "\n",
    "    LoadsFews:\n",
    "        host: \"https://fews.hhnk.nl\"\n",
    "        port: 443\n",
    "        region: \"fewspiservice\"\n",
    "        version: \"1.25\"\n",
    "        filter: \"\"\n",
    "        parameters: [ \"WATHTE [m][NAP][OW]\" ]\n",
    "        uurdata: true,\n",
    "        addnearestmoments: true,\n",
    "        addmaxmoment: false\n",
    "\n",
    "    LoadsFewsLimburg:\n",
    "        host: \"http://109.232.44.231\"\n",
    "        port: 443\n",
    "        region: \"fewspiservice\"\n",
    "        version: \"1.25\"\n",
    "        filter: \"App_Maas\"\n",
    "        parameters: [ \"WATHTE\" ]\n",
    "        uurdata: true,\n",
    "        addnearestmoments: true,\n",
    "        addmaxmoment: false\n",
    "\n",
    "    LoadsWaterwebservicesRWS:\n",
    "        parameters: [\"WATHTE\"]\n",
    "        MISSING_VALUE: -999\n",
    "\n",
    "DataAdapter:\n",
    "\n",
    "    calculation_start_config:\n",
    "        type: ci_postgresql_to_calculation_start\n",
    "        database: \"geoserver\"\n",
    "        schema: \"continuinzicht_demo_realtime\"\n",
    "\n",
    "    calculation_end_config:\n",
    "        type: ci_postgresql_to_calculation_end\n",
    "        database: \"geoserver\"\n",
    "        schema: \"continuinzicht_demo_realtime\"\n",
    "\n",
    "    in_measuringstation_waterinfo:\n",
    "        type: ci_postgresql_from_measuringstations\n",
    "        database: \"geoserver\"\n",
    "        schema: \"continuinzicht_demo_realtime\"\n",
    "        source: \"waterinfo\"\n",
    "\n",
    "    in_measuringstation_matroos:\n",
    "        type: ci_postgresql_from_measuringstations\n",
    "        database: \"geoserver\"\n",
    "        schema: \"continuinzicht_demo_realtime\"\n",
    "        source: \"matroos\"\n",
    "\n",
    "    in_measuringstation_fews_hhnk:\n",
    "        type: ci_postgresql_from_measuringstations\n",
    "        database: \"geoserver\"\n",
    "        schema: \"continuinzicht_demo_realtime\"\n",
    "        source: \"fews_hhnk\"\n",
    "\n",
    "    in_measuringstation_fews_limburg:\n",
    "        type: ci_postgresql_from_measuringstations\n",
    "        database: \"geoserver\"\n",
    "        schema: \"continuinzicht_demo_realtime\"\n",
    "        source: \"fews_limburg\"\n",
    "\n",
    "    out_waterstanden_ci_postgresql_001:\n",
    "        type: ci_postgresql_measuringstation_to_data\n",
    "        database: \"geoserver\"\n",
    "        schema: \"continuinzicht_demo_realtime\"\n",
    "        unit_conversion_factor: 0.01\n",
    "\n",
    "    out_waterstanden_ci_postgresql_1:\n",
    "        type: ci_postgresql_measuringstation_to_data\n",
    "        database: \"geoserver\"\n",
    "        schema: \"continuinzicht_demo_realtime\"\n",
    "        unit_conversion_factor: 1\n",
    "\n",
    "    in_measuringstation_data_table:\n",
    "        type: ci_postgresql_measuringstation_data_table\n",
    "        database: geoserver\n",
    "        schema: continuinzicht_demo_realtime\n",
    "\n",
    "    in_measuringstation_conditions_table:\n",
    "        type: ci_postgresql_from_conditions\n",
    "        database: \"geoserver\"\n",
    "        schema: \"continuinzicht_demo_realtime\"\n",
    "\n",
    "    out_measuringstation_states_table:\n",
    "        type: ci_postgresql_to_states\n",
    "        database: \"geoserver\"\n",
    "        schema: \"continuinzicht_demo_realtime\"\n",
    "        objecttype: \"measuringstation\"\n",
    "\n",
    "    in_section_table:\n",
    "        type: ci_postgresql_from_sections\n",
    "        database: \"geoserver\"\n",
    "        schema: \"continuinzicht_demo_realtime\"\n",
    "\n",
    "    in_sectionfractions_table:\n",
    "        type: ci_postgresql_from_sectionfractions\n",
    "        database: \"geoserver\"\n",
    "        schema: \"continuinzicht_demo_realtime\"\n",
    "\n",
    "    out_waterstanden_section_ci_postgresql:\n",
    "        type: ci_postgresql_section_load_to_data\n",
    "        database: \"geoserver\"\n",
    "        schema: \"continuinzicht_demo_realtime\"        \n",
    "\n",
    "    df_moment_waterstanden:\n",
    "        type: python\n",
    "\n",
    "    in_fragilitycurves_table:\n",
    "        type: ci_postgresql_fragilitycurves_table\n",
    "        database: geoserver\n",
    "        schema: continuinzicht_demo_realtime\n",
    "        measureid: 0\n",
    "\n",
    "    in_measure_fragilitycurves_table:\n",
    "        type: ci_postgresql_measure_fragilitycurves_table\n",
    "        database: geoserver\n",
    "        schema: continuinzicht_demo_realtime                \n",
    "\n",
    "    in_section_load_from_data_table:\n",
    "        type: ci_postgresql_section_load_from_data_table\n",
    "        database: geoserver\n",
    "        schema: continuinzicht_demo_realtime\n",
    "\n",
    "    out_section_failure_probability_data:\n",
    "        type: ci_postgresql_section_to_data\n",
    "        database: geoserver\n",
    "        schema: continuinzicht_demo_realtime\n",
    "        parameter_id: 5\n",
    "\n",
    "    out_section_technical_failure_probability_data:\n",
    "        type: ci_postgresql_section_to_data\n",
    "        database: geoserver\n",
    "        schema: continuinzicht_demo_realtime\n",
    "        parameter_id: 100\n",
    "\n",
    "    out_section_measure_failure_probability_data:\n",
    "        type: ci_postgresql_section_to_data\n",
    "        database: geoserver\n",
    "        schema: continuinzicht_demo_realtime\n",
    "        parameter_id: 101        \n",
    "\n",
    "    in_section_conditions:\n",
    "        type: ci_postgresql_section_thresholds_from_conditions_table\n",
    "        database: geoserver\n",
    "        schema: continuinzicht_demo_realtime\n",
    "\n",
    "    in_section_data_failure_probability:\n",
    "        type: ci_postgresql_section_failure_probability_from_data_table\n",
    "        database: geoserver\n",
    "        schema: continuinzicht_demo_realtime\n",
    "\n",
    "    out_section_states:\n",
    "        type: ci_postgresql_section_to_states\n",
    "        database: geoserver\n",
    "        schema: continuinzicht_demo_realtime\n",
    "</pre>\n",
    "</details>"
   ]
  },
  {
   "cell_type": "code",
   "execution_count": 2,
   "metadata": {},
   "outputs": [],
   "source": [
    "# lees configuratiebestand\n",
    "yaml_config_file = \"continu-inzicht-demo-create-db.yaml\"\n",
    "data_path = Path.joinpath(Path.cwd(), \"data\", yaml_config_file)\n",
    "\n",
    "config = Config(config_path=data_path)\n",
    "config.lees_config()"
   ]
  },
  {
   "cell_type": "markdown",
   "metadata": {},
   "source": [
    "**Aanmaken adapter**"
   ]
  },
  {
   "cell_type": "code",
   "execution_count": 3,
   "metadata": {},
   "outputs": [],
   "source": [
    "# data adapter aanmaken\n",
    "data_adapter = DataAdapter(config=config)"
   ]
  },
  {
   "cell_type": "markdown",
   "metadata": {},
   "source": [
    "**Waterkeringsystemen inlezen uit shape-bestand en wegschrijven naar de database**"
   ]
  },
  {
   "cell_type": "code",
   "execution_count": 5,
   "metadata": {},
   "outputs": [
    {
     "ename": "UserWarning",
     "evalue": "Adapter met de naam 'in_dikesystems_geojson' niet gevonden in de configuratie (yaml).",
     "output_type": "error",
     "traceback": [
      "\u001b[1;31m---------------------------------------------------------------------------\u001b[0m",
      "\u001b[1;31mUserWarning\u001b[0m                               Traceback (most recent call last)",
      "Cell \u001b[1;32mIn[5], line 2\u001b[0m\n\u001b[0;32m      1\u001b[0m \u001b[38;5;66;03m# lees de waterkeringsystemen uit een shape-bestand via de data_adapter 'in_dikesystems_geojson'\u001b[39;00m\n\u001b[1;32m----> 2\u001b[0m df_waterkeringsystemen \u001b[38;5;241m=\u001b[39m \u001b[43mdata_adapter\u001b[49m\u001b[38;5;241;43m.\u001b[39;49m\u001b[43minput\u001b[49m\u001b[43m(\u001b[49m\u001b[38;5;28;43minput\u001b[39;49m\u001b[38;5;241;43m=\u001b[39;49m\u001b[38;5;124;43m\"\u001b[39;49m\u001b[38;5;124;43min_dikesystems_geojson\u001b[39;49m\u001b[38;5;124;43m\"\u001b[39;49m\u001b[43m)\u001b[49m\n\u001b[0;32m      4\u001b[0m \u001b[38;5;66;03m# sla de waterkeringsystemen op in de CI database (tabel 'dikesystems') via de data_adapter 'out_dikesystems_table'\u001b[39;00m\n\u001b[0;32m      5\u001b[0m data_adapter\u001b[38;5;241m.\u001b[39moutput(output\u001b[38;5;241m=\u001b[39m\u001b[38;5;124m\"\u001b[39m\u001b[38;5;124mout_dikesystems_table\u001b[39m\u001b[38;5;124m\"\u001b[39m, df\u001b[38;5;241m=\u001b[39mdf_waterkeringsystemen)\n",
      "File \u001b[1;32mD:\\Users\\Thonus\\mijnSoftware\\Toolbox Continu Inzicht\\toolbox-continu-inzicht\\src\\toolbox_continu_inzicht\\base\\data_adapter.py:138\u001b[0m, in \u001b[0;36mDataAdapter.input\u001b[1;34m(self, input, schema)\u001b[0m\n\u001b[0;32m    135\u001b[0m \u001b[38;5;28;01melse\u001b[39;00m:\n\u001b[0;32m    136\u001b[0m     \u001b[38;5;66;03m# Adapter sleutel staat niet in het yaml-bestand\u001b[39;00m\n\u001b[0;32m    137\u001b[0m     message \u001b[38;5;241m=\u001b[39m \u001b[38;5;124mf\u001b[39m\u001b[38;5;124m\"\u001b[39m\u001b[38;5;124mAdapter met de naam \u001b[39m\u001b[38;5;124m'\u001b[39m\u001b[38;5;132;01m{\u001b[39;00m\u001b[38;5;28minput\u001b[39m\u001b[38;5;132;01m}\u001b[39;00m\u001b[38;5;124m'\u001b[39m\u001b[38;5;124m niet gevonden in de configuratie (yaml).\u001b[39m\u001b[38;5;124m\"\u001b[39m\n\u001b[1;32m--> 138\u001b[0m     \u001b[38;5;28;01mraise\u001b[39;00m \u001b[38;5;167;01mUserWarning\u001b[39;00m(message)\n\u001b[0;32m    140\u001b[0m \u001b[38;5;28;01mreturn\u001b[39;00m df\n",
      "\u001b[1;31mUserWarning\u001b[0m: Adapter met de naam 'in_dikesystems_geojson' niet gevonden in de configuratie (yaml)."
     ]
    }
   ],
   "source": [
    "# lees de waterkeringsystemen uit een shape-bestand via de data_adapter 'in_dikesystems_geojson'\n",
    "df_waterkeringsystemen = data_adapter.input(input=\"in_dikesystems_geojson\")\n",
    "\n",
    "# sla de waterkeringsystemen op in de CI database (tabel 'dikesystems') via de data_adapter 'out_dikesystems_table'\n",
    "data_adapter.output(output=\"out_dikesystems_table\", df=df_waterkeringsystemen)"
   ]
  },
  {
   "cell_type": "markdown",
   "metadata": {},
   "source": [
    "**Segmenten inlezen uit shape-bestand en wegschrijven naar de database**"
   ]
  },
  {
   "cell_type": "code",
   "execution_count": 11,
   "metadata": {},
   "outputs": [],
   "source": [
    "# lees de segmenten uit een shape-bestand via de data_adapter 'in_segments_geojson'\n",
    "df_segmenten = data_adapter.input(input=\"in_segments_geojson\")\n",
    "\n",
    "# sla de segmenten op in de CI database (tabel 'segments') via de data_adapter 'out_segments_table'\n",
    "data_adapter.output(output=\"out_segments_table\", df=df_segmenten)"
   ]
  },
  {
   "cell_type": "markdown",
   "metadata": {},
   "source": [
    "**Secties inlezen uit shape-bestand en wegschrijven naar de database**"
   ]
  },
  {
   "cell_type": "code",
   "execution_count": null,
   "metadata": {},
   "outputs": [],
   "source": [
    "# lees de secties uit een shape-bestand via de data_adapter 'in_sections_geojson'\n",
    "df_secties = data_adapter.input(input=\"in_sections_geojson\")\n",
    "\n",
    "# sla de secties op in de CI database (tabel 'sections') via de data_adapter 'out_sections_table'\n",
    "data_adapter.output(output=\"out_sections_table\", df=df_secties)"
   ]
  },
  {
   "cell_type": "markdown",
   "metadata": {},
   "source": [
    "**Meetlocaties inlezen uit CSV en wegschrijven naar de database**"
   ]
  },
  {
   "cell_type": "markdown",
   "metadata": {},
   "source": [
    "**What-if scenario's inlezen uit CSV en wegschrijven naar de database**"
   ]
  },
  {
   "cell_type": "markdown",
   "metadata": {},
   "source": [
    "**What-if waterstanden inlezen uit CSV en wegschrijven naar de database**"
   ]
  }
 ],
 "metadata": {
  "kernelspec": {
   "display_name": "default",
   "language": "python",
   "name": "python3"
  },
  "language_info": {
   "codemirror_mode": {
    "name": "ipython",
    "version": 3
   },
   "file_extension": ".py",
   "mimetype": "text/x-python",
   "name": "python",
   "nbconvert_exporter": "python",
   "pygments_lexer": "ipython3",
   "version": "3.12.6"
  }
 },
 "nbformat": 4,
 "nbformat_minor": 2
}
