{
 "cells": [
  {
   "cell_type": "markdown",
   "metadata": {},
   "source": [
    "## Continu Inzicht Demo (Create DB tables)\n",
    "> https://tscontinuinzicht.hkvservices.nl/ci-demo"
   ]
  },
  {
   "cell_type": "markdown",
   "metadata": {},
   "source": [
    "**Imports**"
   ]
  },
  {
   "cell_type": "code",
   "execution_count": null,
   "metadata": {},
   "outputs": [],
   "source": [
    "# import algemeen\n",
    "from pathlib import Path\n",
    "\n",
    "# imports base modules\n",
    "from toolbox_continu_inzicht import Config, DataAdapter"
   ]
  },
  {
   "cell_type": "markdown",
   "metadata": {},
   "source": [
    "**Inlezen configuratie**\n",
    "<details>\n",
    "<summary>Configuratie bekijken</summary>   \n",
    "\n",
    "<pre style=\"font-size: 10pt\">\n",
    "GlobalVariables:\n",
    "    rootdir: \"data\"\n",
    "    calc_time: \"2024-11-19\"\n",
    "    moments: [-24,0,24,48]\n",
    "\n",
    "    LoadsWaterinfo:\n",
    "            parameters: [\"waterhoogte\"]\n",
    "            MISSING_VALUE: 999\n",
    "\n",
    "    LoadsMatroos:\n",
    "        website: \"noos\"\n",
    "        model: \"fews_rmm_km\"\n",
    "        parameters: [\"WATHTE\"]\n",
    "\n",
    "    LoadsFews:\n",
    "        host: \"https://fews.hhnk.nl\"\n",
    "        port: 443\n",
    "        region: \"fewspiservice\"\n",
    "        version: \"1.25\"\n",
    "        filter: \"\"\n",
    "        parameters: [ \"WATHTE [m][NAP][OW]\" ]\n",
    "        uurdata: true,\n",
    "        addnearestmoments: true,\n",
    "        addmaxmoment: false\n",
    "\n",
    "    LoadsFewsLimburg:\n",
    "        host: \"http://109.232.44.231\"\n",
    "        port: 443\n",
    "        region: \"fewspiservice\"\n",
    "        version: \"1.25\"\n",
    "        filter: \"App_Maas\"\n",
    "        parameters: [ \"WATHTE\" ]\n",
    "        uurdata: true,\n",
    "        addnearestmoments: true,\n",
    "        addmaxmoment: false\n",
    "\n",
    "    LoadsWaterwebservicesRWS:\n",
    "        parameters: [\"WATHTE\"]\n",
    "        MISSING_VALUE: -999\n",
    "\n",
    "DataAdapter:\n",
    "\n",
    "    calculation_start_config:\n",
    "        type: ci_postgresql_to_calculation_start\n",
    "        database: \"geoserver\"\n",
    "        schema: \"continuinzicht_demo_realtime\"\n",
    "\n",
    "    calculation_end_config:\n",
    "        type: ci_postgresql_to_calculation_end\n",
    "        database: \"geoserver\"\n",
    "        schema: \"continuinzicht_demo_realtime\"\n",
    "\n",
    "    in_measuringstation_waterinfo:\n",
    "        type: ci_postgresql_from_measuringstations\n",
    "        database: \"geoserver\"\n",
    "        schema: \"continuinzicht_demo_realtime\"\n",
    "        source: \"waterinfo\"\n",
    "\n",
    "    in_measuringstation_matroos:\n",
    "        type: ci_postgresql_from_measuringstations\n",
    "        database: \"geoserver\"\n",
    "        schema: \"continuinzicht_demo_realtime\"\n",
    "        source: \"matroos\"\n",
    "\n",
    "    in_measuringstation_fews_hhnk:\n",
    "        type: ci_postgresql_from_measuringstations\n",
    "        database: \"geoserver\"\n",
    "        schema: \"continuinzicht_demo_realtime\"\n",
    "        source: \"fews_hhnk\"\n",
    "\n",
    "    in_measuringstation_fews_limburg:\n",
    "        type: ci_postgresql_from_measuringstations\n",
    "        database: \"geoserver\"\n",
    "        schema: \"continuinzicht_demo_realtime\"\n",
    "        source: \"fews_limburg\"\n",
    "\n",
    "    out_waterstanden_ci_postgresql_001:\n",
    "        type: ci_postgresql_measuringstation_to_data\n",
    "        database: \"geoserver\"\n",
    "        schema: \"continuinzicht_demo_realtime\"\n",
    "        unit_conversion_factor: 0.01\n",
    "\n",
    "    out_waterstanden_ci_postgresql_1:\n",
    "        type: ci_postgresql_measuringstation_to_data\n",
    "        database: \"geoserver\"\n",
    "        schema: \"continuinzicht_demo_realtime\"\n",
    "        unit_conversion_factor: 1\n",
    "\n",
    "    in_measuringstation_data_table:\n",
    "        type: ci_postgresql_measuringstation_data_table\n",
    "        database: geoserver\n",
    "        schema: continuinzicht_demo_realtime\n",
    "\n",
    "    in_measuringstation_conditions_table:\n",
    "        type: ci_postgresql_from_conditions\n",
    "        database: \"geoserver\"\n",
    "        schema: \"continuinzicht_demo_realtime\"\n",
    "\n",
    "    out_measuringstation_states_table:\n",
    "        type: ci_postgresql_to_states\n",
    "        database: \"geoserver\"\n",
    "        schema: \"continuinzicht_demo_realtime\"\n",
    "        objecttype: \"measuringstation\"\n",
    "\n",
    "    in_section_table:\n",
    "        type: ci_postgresql_from_sections\n",
    "        database: \"geoserver\"\n",
    "        schema: \"continuinzicht_demo_realtime\"\n",
    "\n",
    "    in_sectionfractions_table:\n",
    "        type: ci_postgresql_from_sectionfractions\n",
    "        database: \"geoserver\"\n",
    "        schema: \"continuinzicht_demo_realtime\"\n",
    "\n",
    "    out_waterstanden_section_ci_postgresql:\n",
    "        type: ci_postgresql_section_load_to_data\n",
    "        database: \"geoserver\"\n",
    "        schema: \"continuinzicht_demo_realtime\"        \n",
    "\n",
    "    df_moment_waterstanden:\n",
    "        type: python\n",
    "\n",
    "    in_fragilitycurves_table:\n",
    "        type: ci_postgresql_fragilitycurves_table\n",
    "        database: geoserver\n",
    "        schema: continuinzicht_demo_realtime\n",
    "        measureid: 0\n",
    "\n",
    "    in_measure_fragilitycurves_table:\n",
    "        type: ci_postgresql_measure_fragilitycurves_table\n",
    "        database: geoserver\n",
    "        schema: continuinzicht_demo_realtime                \n",
    "\n",
    "    in_section_load_from_data_table:\n",
    "        type: ci_postgresql_section_load_from_data_table\n",
    "        database: geoserver\n",
    "        schema: continuinzicht_demo_realtime\n",
    "\n",
    "    out_section_failure_probability_data:\n",
    "        type: ci_postgresql_section_to_data\n",
    "        database: geoserver\n",
    "        schema: continuinzicht_demo_realtime\n",
    "        parameter_id: 5\n",
    "\n",
    "    out_section_technical_failure_probability_data:\n",
    "        type: ci_postgresql_section_to_data\n",
    "        database: geoserver\n",
    "        schema: continuinzicht_demo_realtime\n",
    "        parameter_id: 100\n",
    "\n",
    "    out_section_measure_failure_probability_data:\n",
    "        type: ci_postgresql_section_to_data\n",
    "        database: geoserver\n",
    "        schema: continuinzicht_demo_realtime\n",
    "        parameter_id: 101        \n",
    "\n",
    "    in_section_conditions:\n",
    "        type: ci_postgresql_section_thresholds_from_conditions_table\n",
    "        database: geoserver\n",
    "        schema: continuinzicht_demo_realtime\n",
    "\n",
    "    in_section_data_failure_probability:\n",
    "        type: ci_postgresql_section_failure_probability_from_data_table\n",
    "        database: geoserver\n",
    "        schema: continuinzicht_demo_realtime\n",
    "\n",
    "    out_section_states:\n",
    "        type: ci_postgresql_section_to_states\n",
    "        database: geoserver\n",
    "        schema: continuinzicht_demo_realtime\n",
    "</pre>\n",
    "</details>"
   ]
  },
  {
   "cell_type": "code",
   "execution_count": null,
   "metadata": {},
   "outputs": [],
   "source": [
    "# lees configuratiebestand\n",
    "yaml_config_file = \"continu-inzicht-demo-create-db.yaml\"\n",
    "data_path = Path.joinpath(Path.cwd(), \"data\", yaml_config_file)\n",
    "\n",
    "config = Config(config_path=data_path)\n",
    "config.lees_config()"
   ]
  },
  {
   "cell_type": "markdown",
   "metadata": {},
   "source": [
    "**Aanmaken adapter**"
   ]
  },
  {
   "cell_type": "code",
   "execution_count": null,
   "metadata": {},
   "outputs": [],
   "source": [
    "# data adapter aanmaken\n",
    "data_adapter = DataAdapter(config=config)"
   ]
  },
  {
   "cell_type": "markdown",
   "metadata": {},
   "source": [
    "**Waterkeringsystemen inlezen uit shape-bestand en wegschrijven naar de database**"
   ]
  },
  {
   "cell_type": "code",
   "execution_count": null,
   "metadata": {},
   "outputs": [],
   "source": [
    "# lees de waterkeringsystemen uit een shape-bestand via de data_adapter 'in_dikesystems_geojson'\n",
    "df_waterkeringsystemen = data_adapter.input(input=\"in_dikesystems_geojson\")\n",
    "\n",
    "# sla de waterkeringsystemen op in de CI database (tabel 'dikesystems') via de data_adapter 'out_dikesystems_table'\n",
    "data_adapter.output(output=\"out_dikesystems_table\", df=df_waterkeringsystemen)"
   ]
  },
  {
   "cell_type": "markdown",
   "metadata": {},
   "source": [
    "**Segmenten inlezen uit shape-bestand en wegschrijven naar de database**"
   ]
  },
  {
   "cell_type": "code",
   "execution_count": null,
   "metadata": {},
   "outputs": [],
   "source": [
    "# lees de segmenten uit een shape-bestand via de data_adapter 'in_segments_geojson'\n",
    "df_segmenten = data_adapter.input(input=\"in_segments_geojson\")\n",
    "\n",
    "# sla de segmenten op in de CI database (tabel 'segments') via de data_adapter 'out_segments_table'\n",
    "data_adapter.output(output=\"out_segments_table\", df=df_segmenten)"
   ]
  },
  {
   "cell_type": "markdown",
   "metadata": {},
   "source": [
    "**Secties inlezen uit shape-bestand en wegschrijven naar de database**"
   ]
  },
  {
   "cell_type": "code",
   "execution_count": null,
   "metadata": {},
   "outputs": [],
   "source": [
    "# lees de secties uit een shape-bestand via de data_adapter 'in_sections_geojson'\n",
    "df_secties = data_adapter.input(input=\"in_sections_geojson\")\n",
    "\n",
    "# sla de secties op in de CI database (tabel 'sections') via de data_adapter 'out_sections_table'\n",
    "data_adapter.output(output=\"out_sections_table\", df=df_secties)"
   ]
  },
  {
   "cell_type": "markdown",
   "metadata": {},
   "source": [
    "**Meetlocaties inlezen uit CSV en wegschrijven naar de database**"
   ]
  },
  {
   "cell_type": "markdown",
   "metadata": {},
   "source": [
    "**What-if scenario's inlezen uit CSV en wegschrijven naar de database**"
   ]
  },
  {
   "cell_type": "markdown",
   "metadata": {},
   "source": [
    "**What-if waterstanden inlezen uit CSV en wegschrijven naar de database**"
   ]
  }
 ],
 "metadata": {
  "kernelspec": {
   "display_name": "default",
   "language": "python",
   "name": "python3"
  },
  "language_info": {
   "codemirror_mode": {
    "name": "ipython",
    "version": 3
   },
   "file_extension": ".py",
   "mimetype": "text/x-python",
   "name": "python",
   "nbconvert_exporter": "python",
   "pygments_lexer": "ipython3",
   "version": "3.12.6"
  }
 },
 "nbformat": 4,
 "nbformat_minor": 2
}
