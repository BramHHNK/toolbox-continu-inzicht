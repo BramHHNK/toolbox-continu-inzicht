{
 "cells": [
  {
   "cell_type": "markdown",
   "metadata": {},
   "source": [
    "## Continu Inzicht Demo (Create DB tables)\n",
    "> https://tscontinuinzicht.hkvservices.nl/ci-demo"
   ]
  },
  {
   "cell_type": "markdown",
   "metadata": {},
   "source": [
    "**Imports**"
   ]
  },
  {
   "cell_type": "code",
   "execution_count": null,
   "metadata": {},
   "outputs": [],
   "source": [
    "# import algemeen\n",
    "from pathlib import Path\n",
    "\n",
    "# imports base modules\n",
    "from toolbox_continu_inzicht import Config, DataAdapter"
   ]
  },
  {
   "cell_type": "markdown",
   "metadata": {},
   "source": [
    "**Inlezen configuratie**\n",
    "<details>\n",
    "<summary>Configuratie bekijken</summary>   \n",
    "\n",
    "<pre style=\"font-size: 10pt\">\n",
    "GlobalVariables:\n",
    "    rootdir: \"data\"\n",
    "\n",
    "DataAdapter:\n",
    "    default_options:\n",
    "        csv:\n",
    "            sep: \",\"\n",
    "\n",
    "    in_dikesystems_geojson:\n",
    "        type: shape\n",
    "        path: \"dikesystems.geojson\"\n",
    "\n",
    "    out_dikesystems_table:\n",
    "        type: ci_postgresql_dikesystem\n",
    "        database: \"continuinzicht\"\n",
    "        schema: \"continuinzicht_demo_whatif\"\n",
    "\n",
    "    in_segments_geojson:\n",
    "        type: shape\n",
    "        path: \"segments.geojson\"\n",
    "\n",
    "    out_segments_table:\n",
    "        type: ci_postgresql_segment\n",
    "        database: \"continuinzicht\"\n",
    "        schema: \"continuinzicht_demo_whatif\"\n",
    "\n",
    "    in_sections_geojson:\n",
    "        type: shape\n",
    "        path: \"sections.geojson\"\n",
    "\n",
    "    out_sections_table:\n",
    "        type: ci_postgresql_section\n",
    "        database: \"continuinzicht\"\n",
    "        schema: \"continuinzicht_demo_whatif\"\n",
    "\n",
    "    in_measuringstations_csv:\n",
    "        type: csv\n",
    "        path: \"measuringstations.csv\"\n",
    "\n",
    "    out_measuringstations_table:\n",
    "        type: ci_postgresql_measuringstation\n",
    "        database: \"continuinzicht\"\n",
    "        schema: \"continuinzicht_demo_whatif\"\n",
    "\n",
    "    in_conditions_csv:\n",
    "        type: csv\n",
    "        path: \"conditions.csv\"\n",
    "\n",
    "    out_conditions_table:\n",
    "        type: ci_postgresql_conditions\n",
    "        database: \"continuinzicht\"\n",
    "        schema: \"continuinzicht_demo_whatif\"\n",
    "\n",
    "    in_sectionfractions_csv:\n",
    "        type: csv\n",
    "        path: \"sectionfractions.csv\"\n",
    "\n",
    "    out_sectionfractions_table:\n",
    "        type: ci_postgresql_sectionfractions\n",
    "        database: \"continuinzicht\"\n",
    "        schema: \"continuinzicht_demo_whatif\"\n",
    "\n",
    "    in_scenarios_csv:\n",
    "        type: csv\n",
    "        path: \"scenarios.csv\"\n",
    "\n",
    "    out_scenarios_table:\n",
    "        type: ci_postgresql_to_scenarios\n",
    "        database: \"continuinzicht\"\n",
    "        schema: \"continuinzicht_demo_whatif\"\n",
    "\n",
    "    in_loads_csv:\n",
    "        type: csv\n",
    "        path: \"loads.csv\"\n",
    "\n",
    "    out_loads_table:\n",
    "        type: ci_postgresql_to_load\n",
    "        database: \"continuinzicht\"\n",
    "        schema: \"continuinzicht_demo_whatif\"\n",
    "\n",
    "    in_fragilitycurves_csv:\n",
    "        type: csv\n",
    "        path: \"fragilitycurves.csv\"\n",
    "\n",
    "    out_fragilitycurves_table:\n",
    "        type: ci_postgresql_to_fragilitycurves\n",
    "        database: \"continuinzicht\"\n",
    "        schema: \"continuinzicht_demo_whatif\"\n",
    "\n",
    "</pre>\n",
    "</details>"
   ]
  },
  {
   "cell_type": "code",
   "execution_count": null,
   "metadata": {},
   "outputs": [],
   "source": [
    "# lees configuratiebestand\n",
    "yaml_config_file = \"continu-inzicht-demo-create-db.yaml\"\n",
    "data_path = Path.joinpath(Path.cwd(), \"data\", yaml_config_file)\n",
    "\n",
    "config = Config(config_path=data_path)\n",
    "config.lees_config()"
   ]
  },
  {
   "cell_type": "markdown",
   "metadata": {},
   "source": [
    "**Aanmaken adapter**"
   ]
  },
  {
   "cell_type": "code",
   "execution_count": null,
   "metadata": {},
   "outputs": [],
   "source": [
    "# data adapter aanmaken\n",
    "data_adapter = DataAdapter(config=config)"
   ]
  },
  {
   "cell_type": "markdown",
   "metadata": {},
   "source": [
    "**Waterkeringsystemen inlezen uit geosjon-bestand en wegschrijven naar de database**"
   ]
  },
  {
   "cell_type": "code",
   "execution_count": null,
   "metadata": {},
   "outputs": [],
   "source": [
    "# lees de waterkeringsystemen uit een geosjon-bestand via de data_adapter 'in_dikesystems_geojson'\n",
    "df_waterkeringsystemen = data_adapter.input(input=\"in_dikesystems_geojson\")\n",
    "\n",
    "# sla de waterkeringsystemen op in de CI database (tabel 'dikesystems') via de data_adapter 'out_dikesystems_table'\n",
    "data_adapter.output(output=\"out_dikesystems_table\", df=df_waterkeringsystemen)"
   ]
  },
  {
   "cell_type": "markdown",
   "metadata": {},
   "source": [
    "**Segmenten inlezen uit geosjon-bestand en wegschrijven naar de database**"
   ]
  },
  {
   "cell_type": "code",
   "execution_count": null,
   "metadata": {},
   "outputs": [],
   "source": [
    "# lees de segmenten uit een geosjon-bestand via de data_adapter 'in_segments_geojson'\n",
    "df_segmenten = data_adapter.input(input=\"in_segments_geojson\")\n",
    "\n",
    "# sla de segmenten op in de CI database (tabel 'segments') via de data_adapter 'out_segments_table'\n",
    "data_adapter.output(output=\"out_segments_table\", df=df_segmenten)"
   ]
  },
  {
   "cell_type": "markdown",
   "metadata": {},
   "source": [
    "**Secties inlezen uit geosjon-bestand en wegschrijven naar de database**"
   ]
  },
  {
   "cell_type": "code",
   "execution_count": null,
   "metadata": {},
   "outputs": [],
   "source": [
    "# lees de secties uit een geosjon-bestand via de data_adapter 'in_sections_geojson'\n",
    "df_secties = data_adapter.input(input=\"in_sections_geojson\")\n",
    "\n",
    "# sla de secties op in de CI database (tabel 'sections') via de data_adapter 'out_sections_table'\n",
    "data_adapter.output(output=\"out_sections_table\", df=df_secties)"
   ]
  },
  {
   "cell_type": "markdown",
   "metadata": {},
   "source": [
    "**Meetlocaties inlezen uit CSV en wegschrijven naar de database**"
   ]
  },
  {
   "cell_type": "code",
   "execution_count": null,
   "metadata": {},
   "outputs": [],
   "source": [
    "# lees meetlocaties uit een CSV bestand via de data_adapter 'in_measuringstations_csv'\n",
    "df_measuringstations = data_adapter.input(input=\"in_measuringstations_csv\")\n",
    "\n",
    "# sla de meetlocaties op in de CI database (tabel 'measuringstations') via de data_adapter 'out_measuringstations_table'\n",
    "data_adapter.output(output=\"out_measuringstations_table\", df=df_measuringstations)"
   ]
  },
  {
   "cell_type": "markdown",
   "metadata": {},
   "source": [
    "**Condities van meetlocaties inlezen uit CSV en wegschrijven naar de database**"
   ]
  },
  {
   "cell_type": "code",
   "execution_count": null,
   "metadata": {},
   "outputs": [],
   "source": [
    "# lees condities van meetlocaties uit een CSV bestand via de data_adapter 'in_conditions_csv'\n",
    "df_conditions = data_adapter.input(input=\"in_conditions_csv\")\n",
    "\n",
    "# sla de condities van meetlocaties op in de CI database (tabel 'conditions') via de data_adapter 'out_conditions_table'\n",
    "data_adapter.output(output=\"out_conditions_table\", df=df_conditions)"
   ]
  },
  {
   "cell_type": "markdown",
   "metadata": {},
   "source": [
    "**(Interpolatie)fracties voor belastingen per vak inlezen uit CSV en wegschrijven naar de database**"
   ]
  },
  {
   "cell_type": "code",
   "execution_count": null,
   "metadata": {},
   "outputs": [],
   "source": [
    "# lees (interpolatie)fracties meetlocaties per sectie uit een CSV bestand via de data_adapter 'in_sectionfractions_csv'\n",
    "df_sectionfractions = data_adapter.input(input=\"in_sectionfractions_csv\")\n",
    "\n",
    "# sla de (interpolatie)fracties meetlocaties per sectie op in de CI database (tabel 'sectionfractions') via de data_adapter 'out_sectionfractions_table'\n",
    "data_adapter.output(output=\"out_sectionfractions_table\", df=df_sectionfractions)"
   ]
  },
  {
   "cell_type": "markdown",
   "metadata": {},
   "source": [
    "**What-if scenario's inlezen uit CSV en wegschrijven naar de database**"
   ]
  },
  {
   "cell_type": "code",
   "execution_count": null,
   "metadata": {},
   "outputs": [],
   "source": [
    "# lees de what-if scenario's uit een CSV bestand via de data_adapter 'in_scenarios_csv'\n",
    "df_what_if_scenarios = data_adapter.input(input=\"in_scenarios_csv\")\n",
    "\n",
    "# sla de what-if scenarios op in de CI database (tabel 'scenarios') via de data_adapter 'out_scenarios_table'\n",
    "data_adapter.output(output=\"out_scenarios_table\", df=df_what_if_scenarios)"
   ]
  },
  {
   "cell_type": "markdown",
   "metadata": {},
   "source": [
    "**What-if belastingen inlezen uit CSV en wegschrijven naar de database**"
   ]
  },
  {
   "cell_type": "code",
   "execution_count": null,
   "metadata": {},
   "outputs": [],
   "source": [
    "# lees de what-if belastingen uit een CSV bestand via de data_adapter 'in_loads_csv'\n",
    "df_what_if_loads = data_adapter.input(input=\"in_loads_csv\")\n",
    "\n",
    "# sla de what-if waterstanden op in de CI database (tabel 'waterlevels') via de data_adapter 'out_loads_table'\n",
    "data_adapter.output(output=\"out_loads_table\", df=df_what_if_loads)"
   ]
  },
  {
   "cell_type": "markdown",
   "metadata": {},
   "source": [
    "**Fragility curves inlezen uit CSV en wegschrijven naar database**"
   ]
  },
  {
   "cell_type": "code",
   "execution_count": null,
   "metadata": {},
   "outputs": [],
   "source": [
    "# lees de fragility curves uit een CSV bestand via de data_adapter 'in_fragilitycurves_csv'\n",
    "df_what_if_fragilitycurves = data_adapter.input(input=\"in_fragilitycurves_csv\")\n",
    "\n",
    "# sla de fragility curves op in de CI database (tabel 'fragilitycurves') via de data_adapter 'out_fragilitycurves_table'\n",
    "data_adapter.output(output=\"out_fragilitycurves_table\", df=df_what_if_fragilitycurves)"
   ]
  }
 ],
 "metadata": {
  "kernelspec": {
   "display_name": "default",
   "language": "python",
   "name": "python3"
  },
  "language_info": {
   "codemirror_mode": {
    "name": "ipython",
    "version": 3
   },
   "file_extension": ".py",
   "mimetype": "text/x-python",
   "name": "python",
   "nbconvert_exporter": "python",
   "pygments_lexer": "ipython3",
   "version": "3.12.8"
  }
 },
 "nbformat": 4,
 "nbformat_minor": 2
}
