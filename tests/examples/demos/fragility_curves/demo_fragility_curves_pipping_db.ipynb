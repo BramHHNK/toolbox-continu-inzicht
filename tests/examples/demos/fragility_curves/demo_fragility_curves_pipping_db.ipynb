{
 "cells": [
  {
   "cell_type": "code",
   "execution_count": null,
   "metadata": {},
   "outputs": [],
   "source": [
    "from pathlib import Path\n",
    "\n",
    "from toolbox_continu_inzicht import Config, DataAdapter\n",
    "from toolbox_continu_inzicht.fragility_curves import (\n",
    "    FragilityCurvePipingMultiple,\n",
    ")"
   ]
  },
  {
   "cell_type": "code",
   "execution_count": null,
   "metadata": {},
   "outputs": [],
   "source": [
    "path = Path.cwd() / \"data_sets\"\n",
    "config = Config(config_path=path / \"demo_fragility_multiple_curves_piping_db.yaml\")\n",
    "config.lees_config()\n",
    "data_adapter = DataAdapter(config=config)"
   ]
  },
  {
   "cell_type": "markdown",
   "metadata": {},
   "source": [
    "```yaml\n",
    "GlobalVariables:\n",
    "    rootdir: \"data_sets\"\n",
    "    moments: [-24,0,24,48]\n",
    "\n",
    "DataAdapter:\n",
    "    probabilistic_input:\n",
    "        type: excel\n",
    "        file: \"invoer_multiple_piping_sections.xlsx\"\n",
    "    probabilistic_db:\n",
    "        type: ci_postgresql_probablistic_piping\n",
    "        database: \"geoserver\"\n",
    "        schema: \"continuinzicht_demo_realtime\"\n",
    "    hydraulicload:\n",
    "        type: csv\n",
    "        file: \"hydraulicload.csv\"\n",
    "    fragility_curves:\n",
    "        type: ci_postgresql_fragilitycurves_table\n",
    "        database: \"geoserver\"\n",
    "        schema: \"continuinzicht_demo_realtime\"\n",
    "    fragility_curves_csv:\n",
    "        type: csv\n",
    "        file: \"fragility_multiple_curves_piping.csv\"\n",
    "```"
   ]
  },
  {
   "cell_type": "markdown",
   "metadata": {},
   "source": [
    "Werkt wel mel met excel "
   ]
  },
  {
   "cell_type": "code",
   "execution_count": null,
   "metadata": {},
   "outputs": [],
   "source": [
    "fragility_curves_overtopping = FragilityCurvePipingMultiple(data_adapter=data_adapter)\n",
    "fragility_curves_overtopping.run(\n",
    "    input=[\"probabilistic_input\", \"hydraulicload\"],\n",
    "    output=\"fragility_curves_csv\",\n",
    ")"
   ]
  },
  {
   "cell_type": "code",
   "execution_count": null,
   "metadata": {},
   "outputs": [],
   "source": [
    "df = fragility_curves_overtopping.df_out\n",
    "df = df[df[\"section_id\"] == 1]"
   ]
  },
  {
   "cell_type": "code",
   "execution_count": null,
   "metadata": {},
   "outputs": [],
   "source": [
    "df.set_index(\"hydraulicload\")[\"failure_probability\"].plot()"
   ]
  },
  {
   "cell_type": "markdown",
   "metadata": {},
   "source": [
    "En met db"
   ]
  },
  {
   "cell_type": "code",
   "execution_count": null,
   "metadata": {},
   "outputs": [],
   "source": [
    "fragility_curves_overtopping.run(\n",
    "    input=[\"probabilistic_db\", \"hydraulicload\"],\n",
    "    output=\"fragility_curves_csv\",\n",
    ")"
   ]
  },
  {
   "cell_type": "code",
   "execution_count": null,
   "metadata": {},
   "outputs": [],
   "source": [
    "fragility_curves_overtopping.df_out"
   ]
  },
  {
   "cell_type": "code",
   "execution_count": null,
   "metadata": {},
   "outputs": [],
   "source": []
  }
 ],
 "metadata": {
  "kernelspec": {
   "display_name": "default",
   "language": "python",
   "name": "python3"
  },
  "language_info": {
   "codemirror_mode": {
    "name": "ipython",
    "version": 3
   },
   "file_extension": ".py",
   "mimetype": "text/x-python",
   "name": "python",
   "nbconvert_exporter": "python",
   "pygments_lexer": "ipython3",
   "version": "3.12.8"
  }
 },
 "nbformat": 4,
 "nbformat_minor": 2
}
