{
 "cells": [
  {
   "cell_type": "code",
   "execution_count": null,
   "metadata": {},
   "outputs": [],
   "source": [
    "from pathlib import Path\n",
    "\n",
    "import matplotlib.pyplot as plt\n",
    "\n",
    "from toolbox_continu_inzicht import Config, DataAdapter\n",
    "from toolbox_continu_inzicht.fragility_curves import (\n",
    "    ChangeCrestHeightFragilityCurveOvertopping,\n",
    "    FragilityCurveOvertoppingMultiple,\n",
    "    ShiftFragilityCurveOvertopping,\n",
    ")"
   ]
  },
  {
   "cell_type": "code",
   "execution_count": null,
   "metadata": {},
   "outputs": [],
   "source": [
    "path = Path.cwd() / \"data_sets\"\n",
    "config = Config(config_path=path / \"demo_fragility_multiple_curves_overtopping_db.yaml\")\n",
    "config.lees_config()\n",
    "data_adapter = DataAdapter(config=config)"
   ]
  },
  {
   "cell_type": "markdown",
   "metadata": {},
   "source": [
    "```yaml\n",
    "GlobalVariables:\n",
    "    rootdir: \"data_sets\"\n",
    "    moments: [-24,0,24,48]\n",
    "\n",
    "    FragilityCurveOvertoppingMultiple:\n",
    "        gh_onz_mu: 0.96 # default waarde\n",
    "\n",
    "DataAdapter:\n",
    "    slopes:\n",
    "        type: ci_postgresql_slopes\n",
    "        database: \"geoserver\"\n",
    "        schema: \"continuinzicht_demo_realtime\"\n",
    "\n",
    "    profiles:\n",
    "        type: ci_postgresql_profiles\n",
    "        database: \"geoserver\"\n",
    "        schema: \"continuinzicht_demo_realtime\"\n",
    "    \n",
    "    bedlevel:\n",
    "        type: ci_postgresql_bedlevelfetch\n",
    "        database: \"geoserver\"\n",
    "        schema: \"continuinzicht_demo_realtime\"\n",
    "    \n",
    "    fragility_curves:\n",
    "        type: ci_postgresql_fragilitycurves_table\n",
    "        database: \"geoserver\"\n",
    "        schema: \"continuinzicht_demo_realtime\"\n",
    "\n",
    "    read_fc:\n",
    "        type: ci_postgresql_fragilitycurves_table\n",
    "        database: \"geoserver\"\n",
    "        schema: \"continuinzicht_demo_realtime\"\n",
    "\n",
    "```"
   ]
  },
  {
   "cell_type": "code",
   "execution_count": null,
   "metadata": {},
   "outputs": [],
   "source": [
    "fragility_curves_overtopping = FragilityCurveOvertoppingMultiple(\n",
    "    data_adapter=data_adapter\n",
    ")\n",
    "fragility_curves_overtopping.run(\n",
    "    input=[\"slopes\", \"profiles\", \"bedlevel\"],\n",
    "    output=\"fragility_curves\",\n",
    ")"
   ]
  },
  {
   "cell_type": "code",
   "execution_count": null,
   "metadata": {},
   "outputs": [],
   "source": [
    "df = fragility_curves_overtopping.df_out\n",
    "df = df[df[\"section_id\"] == 27]\n",
    "df"
   ]
  },
  {
   "cell_type": "code",
   "execution_count": null,
   "metadata": {},
   "outputs": [],
   "source": [
    "ids = fragility_curves_overtopping.df_out.section_id.unique()\n",
    "df = fragility_curves_overtopping.df_out.set_index(\"hydraulicload\")\n",
    "df = df[df[\"section_id\"] == 27]"
   ]
  },
  {
   "cell_type": "code",
   "execution_count": null,
   "metadata": {},
   "outputs": [],
   "source": [
    "df"
   ]
  },
  {
   "cell_type": "code",
   "execution_count": null,
   "metadata": {},
   "outputs": [],
   "source": [
    "shift_fragility_curves_overtopping = FragilityCurveOvertoppingMultiple(\n",
    "    data_adapter=data_adapter\n",
    ")\n",
    "shift_fragility_curves_overtopping.fragility_curve_function = (\n",
    "    ShiftFragilityCurveOvertopping\n",
    ")\n",
    "shift_fragility_curves_overtopping.measure_id = 1\n",
    "shift_fragility_curves_overtopping.effect = 0.5\n",
    "shift_fragility_curves_overtopping.run(\n",
    "    input=[\"slopes\", \"profiles\", \"bedlevel\"],\n",
    "    output=\"fragility_curves\",\n",
    ")"
   ]
  },
  {
   "cell_type": "code",
   "execution_count": null,
   "metadata": {},
   "outputs": [],
   "source": [
    "df_shift = shift_fragility_curves_overtopping.df_out.set_index(\"hydraulicload\")\n",
    "df_shift = df_shift[df_shift[\"section_id\"] == 27]"
   ]
  },
  {
   "cell_type": "code",
   "execution_count": null,
   "metadata": {},
   "outputs": [],
   "source": [
    "fig, ax = plt.subplots(1, 1)\n",
    "id = 27\n",
    "df[df[\"section_id\"] == id][\"failure_probability\"].plot(\n",
    "    color=\"C0\", ls=\"--\", label=f\"section {id}\", ax=ax\n",
    ")\n",
    "df_shift[df_shift[\"section_id\"] == id][\"failure_probability\"].plot(color=\"C0\", ax=ax)\n",
    "ax.legend()\n",
    "ax.set_ylabel(\"failure probability\")"
   ]
  },
  {
   "cell_type": "code",
   "execution_count": null,
   "metadata": {},
   "outputs": [],
   "source": [
    "change_crest_fragility_curves_overtopping = FragilityCurveOvertoppingMultiple(\n",
    "    data_adapter=data_adapter\n",
    ")\n",
    "change_crest_fragility_curves_overtopping.fragility_curve_function = (\n",
    "    ChangeCrestHeightFragilityCurveOvertopping\n",
    ")\n",
    "shift_fragility_curves_overtopping.measure_id = 2\n",
    "change_crest_fragility_curves_overtopping.effect = 0.5\n",
    "change_crest_fragility_curves_overtopping.run(\n",
    "    input=[\"slopes\", \"profiles\", \"bedlevel\"],\n",
    "    output=\"fragility_curves\",\n",
    ")"
   ]
  },
  {
   "cell_type": "code",
   "execution_count": null,
   "metadata": {},
   "outputs": [],
   "source": [
    "df_change_crest = change_crest_fragility_curves_overtopping.df_out.set_index(\n",
    "    \"hydraulicload\"\n",
    ")\n",
    "df_change_crest = df_change_crest[df_change_crest[\"section_id\"] == 27]"
   ]
  },
  {
   "cell_type": "code",
   "execution_count": null,
   "metadata": {},
   "outputs": [],
   "source": [
    "fig, ax = plt.subplots(1, 1)\n",
    "id = 27\n",
    "df[df[\"section_id\"] == id][\"failure_probability\"].plot(\n",
    "    ls=\"--\", label=f\"section {id}\", ax=ax, alpha=0.25, color=\"C0\"\n",
    ")\n",
    "df_shift[df_shift[\"section_id\"] == id][\"failure_probability\"].plot(\n",
    "    ax=ax, ls=\"-.\", color=\"C0\"\n",
    ")\n",
    "df_change_crest[df_change_crest[\"section_id\"] == id][\"failure_probability\"].plot(\n",
    "    ax=ax, alpha=0.5, color=\"C0\"\n",
    ")\n",
    "ax.legend(labels=[\"original\", \"shift\", \"change crest\"])\n",
    "ax.set_ylabel(\"failure probability\")"
   ]
  },
  {
   "cell_type": "code",
   "execution_count": null,
   "metadata": {},
   "outputs": [],
   "source": []
  }
 ],
 "metadata": {
  "kernelspec": {
   "display_name": "default",
   "language": "python",
   "name": "python3"
  },
  "language_info": {
   "codemirror_mode": {
    "name": "ipython",
    "version": 3
   },
   "file_extension": ".py",
   "mimetype": "text/x-python",
   "name": "python",
   "nbconvert_exporter": "python",
   "pygments_lexer": "ipython3",
   "version": "3.12.8"
  }
 },
 "nbformat": 4,
 "nbformat_minor": 2
}
