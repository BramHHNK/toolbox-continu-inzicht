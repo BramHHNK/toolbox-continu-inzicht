{
 "cells": [
  {
   "cell_type": "code",
   "execution_count": 1,
   "metadata": {},
   "outputs": [
    {
     "name": "stderr",
     "output_type": "stream",
     "text": [
      "c:\\Data\\Python\\TBCI\\toolbox-continu-inzicht\\.pixi\\envs\\default\\Lib\\site-packages\\tqdm\\auto.py:21: TqdmWarning: IProgress not found. Please update jupyter and ipywidgets. See https://ipywidgets.readthedocs.io/en/stable/user_install.html\n",
      "  from .autonotebook import tqdm as notebook_tqdm\n"
     ]
    }
   ],
   "source": [
    "from pathlib import Path\n",
    "\n",
    "from toolbox_continu_inzicht import Config, DataAdapter\n",
    "from toolbox_continu_inzicht.fragility_curves import (\n",
    "    ChangeCrestHeightFragilityCurveOvertopping,\n",
    "    FragilityCurvesOvertopping,\n",
    "    ShiftFragilityCurveOvertopping,\n",
    ")"
   ]
  },
  {
   "cell_type": "code",
   "execution_count": 2,
   "metadata": {},
   "outputs": [],
   "source": [
    "path = Path.cwd() / \"data_sets\"\n",
    "config = Config(config_path=path / \"demo_fragility_multiple_curves_overtopping_db.yaml\")\n",
    "config.lees_config()\n",
    "data_adapter = DataAdapter(config=config)"
   ]
  },
  {
   "cell_type": "markdown",
   "metadata": {},
   "source": [
    "```yaml\n",
    "GlobalVariables:\n",
    "    rootdir: \"data_sets\"\n",
    "    moments: [-24,0,24,48]\n",
    "\n",
    "    FragilityCurvesOvertopping:\n",
    "        gh_onz_mu: 0.96 # default waarde\n",
    "\n",
    "DataAdapter:\n",
    "    slopes:\n",
    "        type: ci_postgresql_slopes\n",
    "        database: \"geoserver\"\n",
    "        schema: \"continuinzicht_demo_realtime\"\n",
    "\n",
    "    profiles:\n",
    "        type: ci_postgresql_profiles\n",
    "        database: \"geoserver\"\n",
    "        schema: \"continuinzicht_demo_realtime\"\n",
    "    \n",
    "    bedlevel:\n",
    "        type: ci_postgresql_bedlevelfetch\n",
    "        database: \"geoserver\"\n",
    "        schema: \"continuinzicht_demo_realtime\"\n",
    "    \n",
    "    fragility_curves:\n",
    "        type: ci_postgresql_fragilitycurves_table\n",
    "        database: \"geoserver\"\n",
    "        schema: \"continuinzicht_demo_realtime\"\n",
    "\n",
    "    read_fc:\n",
    "        type: ci_postgresql_fragilitycurves_table\n",
    "        database: \"geoserver\"\n",
    "        schema: \"continuinzicht_demo_realtime\"\n",
    "\n",
    "```"
   ]
  },
  {
   "cell_type": "code",
   "execution_count": 3,
   "metadata": {},
   "outputs": [],
   "source": [
    "fragility_curves_overtopping = FragilityCurvesOvertopping(data_adapter=data_adapter)\n",
    "fragility_curves_overtopping.run(\n",
    "    input=[\"slopes\", \"profiles\", \"bedlevel\"],\n",
    "    output=\"fragility_curves\",\n",
    ")"
   ]
  },
  {
   "cell_type": "code",
   "execution_count": 4,
   "metadata": {},
   "outputs": [
    {
     "data": {
      "text/html": [
       "<div>\n",
       "<style scoped>\n",
       "    .dataframe tbody tr th:only-of-type {\n",
       "        vertical-align: middle;\n",
       "    }\n",
       "\n",
       "    .dataframe tbody tr th {\n",
       "        vertical-align: top;\n",
       "    }\n",
       "\n",
       "    .dataframe thead th {\n",
       "        text-align: right;\n",
       "    }\n",
       "</style>\n",
       "<table border=\"1\" class=\"dataframe\">\n",
       "  <thead>\n",
       "    <tr style=\"text-align: right;\">\n",
       "      <th></th>\n",
       "      <th>waterlevels</th>\n",
       "      <th>failure_probability</th>\n",
       "      <th>section_id</th>\n",
       "      <th>failuremechanismid</th>\n",
       "    </tr>\n",
       "  </thead>\n",
       "  <tbody>\n",
       "    <tr>\n",
       "      <th>0</th>\n",
       "      <td>9.95</td>\n",
       "      <td>0.000000</td>\n",
       "      <td>27</td>\n",
       "      <td>2</td>\n",
       "    </tr>\n",
       "    <tr>\n",
       "      <th>1</th>\n",
       "      <td>10.05</td>\n",
       "      <td>0.000000</td>\n",
       "      <td>27</td>\n",
       "      <td>2</td>\n",
       "    </tr>\n",
       "    <tr>\n",
       "      <th>2</th>\n",
       "      <td>10.15</td>\n",
       "      <td>0.000000</td>\n",
       "      <td>27</td>\n",
       "      <td>2</td>\n",
       "    </tr>\n",
       "    <tr>\n",
       "      <th>3</th>\n",
       "      <td>10.25</td>\n",
       "      <td>0.000000</td>\n",
       "      <td>27</td>\n",
       "      <td>2</td>\n",
       "    </tr>\n",
       "    <tr>\n",
       "      <th>4</th>\n",
       "      <td>10.35</td>\n",
       "      <td>0.000000</td>\n",
       "      <td>27</td>\n",
       "      <td>2</td>\n",
       "    </tr>\n",
       "    <tr>\n",
       "      <th>...</th>\n",
       "      <td>...</td>\n",
       "      <td>...</td>\n",
       "      <td>...</td>\n",
       "      <td>...</td>\n",
       "    </tr>\n",
       "    <tr>\n",
       "      <th>76</th>\n",
       "      <td>14.75</td>\n",
       "      <td>0.995326</td>\n",
       "      <td>27</td>\n",
       "      <td>2</td>\n",
       "    </tr>\n",
       "    <tr>\n",
       "      <th>77</th>\n",
       "      <td>14.80</td>\n",
       "      <td>0.996421</td>\n",
       "      <td>27</td>\n",
       "      <td>2</td>\n",
       "    </tr>\n",
       "    <tr>\n",
       "      <th>78</th>\n",
       "      <td>14.85</td>\n",
       "      <td>0.997242</td>\n",
       "      <td>27</td>\n",
       "      <td>2</td>\n",
       "    </tr>\n",
       "    <tr>\n",
       "      <th>79</th>\n",
       "      <td>14.90</td>\n",
       "      <td>0.997862</td>\n",
       "      <td>27</td>\n",
       "      <td>2</td>\n",
       "    </tr>\n",
       "    <tr>\n",
       "      <th>80</th>\n",
       "      <td>14.95</td>\n",
       "      <td>0.998333</td>\n",
       "      <td>27</td>\n",
       "      <td>2</td>\n",
       "    </tr>\n",
       "  </tbody>\n",
       "</table>\n",
       "<p>81 rows × 4 columns</p>\n",
       "</div>"
      ],
      "text/plain": [
       "    waterlevels  failure_probability  section_id  failuremechanismid\n",
       "0          9.95             0.000000          27                   2\n",
       "1         10.05             0.000000          27                   2\n",
       "2         10.15             0.000000          27                   2\n",
       "3         10.25             0.000000          27                   2\n",
       "4         10.35             0.000000          27                   2\n",
       "..          ...                  ...         ...                 ...\n",
       "76        14.75             0.995326          27                   2\n",
       "77        14.80             0.996421          27                   2\n",
       "78        14.85             0.997242          27                   2\n",
       "79        14.90             0.997862          27                   2\n",
       "80        14.95             0.998333          27                   2\n",
       "\n",
       "[81 rows x 4 columns]"
      ]
     },
     "execution_count": 4,
     "metadata": {},
     "output_type": "execute_result"
    }
   ],
   "source": [
    "df = fragility_curves_overtopping.df_out\n",
    "df = df[df[\"section_id\"] == 27]\n",
    "df"
   ]
  },
  {
   "cell_type": "code",
   "execution_count": 5,
   "metadata": {},
   "outputs": [],
   "source": [
    "ids = fragility_curves_overtopping.df_out.section_id.unique()\n",
    "df = fragility_curves_overtopping.df_out.set_index(\"waterlevels\")\n",
    "df = df[df[\"section_id\"] == 27]"
   ]
  },
  {
   "cell_type": "code",
   "execution_count": 6,
   "metadata": {},
   "outputs": [
    {
     "data": {
      "text/html": [
       "<div>\n",
       "<style scoped>\n",
       "    .dataframe tbody tr th:only-of-type {\n",
       "        vertical-align: middle;\n",
       "    }\n",
       "\n",
       "    .dataframe tbody tr th {\n",
       "        vertical-align: top;\n",
       "    }\n",
       "\n",
       "    .dataframe thead th {\n",
       "        text-align: right;\n",
       "    }\n",
       "</style>\n",
       "<table border=\"1\" class=\"dataframe\">\n",
       "  <thead>\n",
       "    <tr style=\"text-align: right;\">\n",
       "      <th></th>\n",
       "      <th>failure_probability</th>\n",
       "      <th>section_id</th>\n",
       "      <th>failuremechanismid</th>\n",
       "    </tr>\n",
       "    <tr>\n",
       "      <th>waterlevels</th>\n",
       "      <th></th>\n",
       "      <th></th>\n",
       "      <th></th>\n",
       "    </tr>\n",
       "  </thead>\n",
       "  <tbody>\n",
       "    <tr>\n",
       "      <th>9.95</th>\n",
       "      <td>0.000000</td>\n",
       "      <td>27</td>\n",
       "      <td>2</td>\n",
       "    </tr>\n",
       "    <tr>\n",
       "      <th>10.05</th>\n",
       "      <td>0.000000</td>\n",
       "      <td>27</td>\n",
       "      <td>2</td>\n",
       "    </tr>\n",
       "    <tr>\n",
       "      <th>10.15</th>\n",
       "      <td>0.000000</td>\n",
       "      <td>27</td>\n",
       "      <td>2</td>\n",
       "    </tr>\n",
       "    <tr>\n",
       "      <th>10.25</th>\n",
       "      <td>0.000000</td>\n",
       "      <td>27</td>\n",
       "      <td>2</td>\n",
       "    </tr>\n",
       "    <tr>\n",
       "      <th>10.35</th>\n",
       "      <td>0.000000</td>\n",
       "      <td>27</td>\n",
       "      <td>2</td>\n",
       "    </tr>\n",
       "    <tr>\n",
       "      <th>...</th>\n",
       "      <td>...</td>\n",
       "      <td>...</td>\n",
       "      <td>...</td>\n",
       "    </tr>\n",
       "    <tr>\n",
       "      <th>14.75</th>\n",
       "      <td>0.995326</td>\n",
       "      <td>27</td>\n",
       "      <td>2</td>\n",
       "    </tr>\n",
       "    <tr>\n",
       "      <th>14.80</th>\n",
       "      <td>0.996421</td>\n",
       "      <td>27</td>\n",
       "      <td>2</td>\n",
       "    </tr>\n",
       "    <tr>\n",
       "      <th>14.85</th>\n",
       "      <td>0.997242</td>\n",
       "      <td>27</td>\n",
       "      <td>2</td>\n",
       "    </tr>\n",
       "    <tr>\n",
       "      <th>14.90</th>\n",
       "      <td>0.997862</td>\n",
       "      <td>27</td>\n",
       "      <td>2</td>\n",
       "    </tr>\n",
       "    <tr>\n",
       "      <th>14.95</th>\n",
       "      <td>0.998333</td>\n",
       "      <td>27</td>\n",
       "      <td>2</td>\n",
       "    </tr>\n",
       "  </tbody>\n",
       "</table>\n",
       "<p>81 rows × 3 columns</p>\n",
       "</div>"
      ],
      "text/plain": [
       "             failure_probability  section_id  failuremechanismid\n",
       "waterlevels                                                     \n",
       "9.95                    0.000000          27                   2\n",
       "10.05                   0.000000          27                   2\n",
       "10.15                   0.000000          27                   2\n",
       "10.25                   0.000000          27                   2\n",
       "10.35                   0.000000          27                   2\n",
       "...                          ...         ...                 ...\n",
       "14.75                   0.995326          27                   2\n",
       "14.80                   0.996421          27                   2\n",
       "14.85                   0.997242          27                   2\n",
       "14.90                   0.997862          27                   2\n",
       "14.95                   0.998333          27                   2\n",
       "\n",
       "[81 rows x 3 columns]"
      ]
     },
     "execution_count": 6,
     "metadata": {},
     "output_type": "execute_result"
    }
   ],
   "source": [
    "df"
   ]
  },
  {
   "cell_type": "code",
   "execution_count": 7,
   "metadata": {},
   "outputs": [],
   "source": [
    "import matplotlib.pyplot as plt"
   ]
  },
  {
   "cell_type": "code",
   "execution_count": 8,
   "metadata": {},
   "outputs": [],
   "source": [
    "shift_fragility_curves_overtopping = FragilityCurvesOvertopping(\n",
    "    data_adapter=data_adapter\n",
    ")\n",
    "shift_fragility_curves_overtopping.fragility_curve_function = (\n",
    "    ShiftFragilityCurveOvertopping\n",
    ")\n",
    "shift_fragility_curves_overtopping.measure_id = 1\n",
    "shift_fragility_curves_overtopping.effect = 0.5\n",
    "shift_fragility_curves_overtopping.run(\n",
    "    input=[\"slopes\", \"profiles\", \"bedlevel\"],\n",
    "    output=\"fragility_curves\",\n",
    ")"
   ]
  },
  {
   "cell_type": "code",
   "execution_count": 9,
   "metadata": {},
   "outputs": [],
   "source": [
    "df_shift = shift_fragility_curves_overtopping.df_out.set_index(\"waterlevels\")\n",
    "df_shift = df_shift[df_shift[\"section_id\"] == 27]"
   ]
  },
  {
   "cell_type": "code",
   "execution_count": 10,
   "metadata": {},
   "outputs": [
    {
     "data": {
      "text/plain": [
       "<matplotlib.legend.Legend at 0x1d8da63af90>"
      ]
     },
     "execution_count": 10,
     "metadata": {},
     "output_type": "execute_result"
    },
    {
     "data": {
      "image/png": "[encoded data removed]",
      "text/plain": [
       "<Figure size 640x480 with 1 Axes>"
      ]
     },
     "metadata": {},
     "output_type": "display_data"
    }
   ],
   "source": [
    "fig, ax = plt.subplots(1, 1)\n",
    "id = 27\n",
    "df[df[\"section_id\"] == id][\"failure_probability\"].plot(\n",
    "    color=\"C0\", ls=\"--\", label=f\"section {id}\", ax=ax\n",
    ")\n",
    "df_shift[df_shift[\"section_id\"] == id][\"failure_probability\"].plot(color=\"C0\", ax=ax)\n",
    "ax.legend()"
   ]
  },
  {
   "cell_type": "code",
   "execution_count": 11,
   "metadata": {},
   "outputs": [],
   "source": [
    "change_crest_fragility_curves_overtopping = FragilityCurvesOvertopping(\n",
    "    data_adapter=data_adapter\n",
    ")\n",
    "change_crest_fragility_curves_overtopping.fragility_curve_function = (\n",
    "    ChangeCrestHeightFragilityCurveOvertopping\n",
    ")\n",
    "shift_fragility_curves_overtopping.measure_id = 2\n",
    "change_crest_fragility_curves_overtopping.effect = 0.5\n",
    "change_crest_fragility_curves_overtopping.run(\n",
    "    input=[\"slopes\", \"profiles\", \"bedlevel\"],\n",
    "    output=\"fragility_curves\",\n",
    ")"
   ]
  },
  {
   "cell_type": "code",
   "execution_count": 12,
   "metadata": {},
   "outputs": [],
   "source": [
    "df_change_crest = change_crest_fragility_curves_overtopping.df_out.set_index(\n",
    "    \"waterlevels\"\n",
    ")\n",
    "df_change_crest = df_change_crest[df_change_crest[\"section_id\"] == 27]"
   ]
  },
  {
   "cell_type": "code",
   "execution_count": 13,
   "metadata": {},
   "outputs": [
    {
     "data": {
      "text/plain": [
       "<matplotlib.legend.Legend at 0x1d8db9ef7d0>"
      ]
     },
     "execution_count": 13,
     "metadata": {},
     "output_type": "execute_result"
    },
    {
     "data": {
      "image/png": "[encoded data removed]",
      "text/plain": [
       "<Figure size 640x480 with 1 Axes>"
      ]
     },
     "metadata": {},
     "output_type": "display_data"
    }
   ],
   "source": [
    "fig, ax = plt.subplots(1, 1)\n",
    "id = 27\n",
    "df[df[\"section_id\"] == id][\"failure_probability\"].plot(\n",
    "    ls=\"--\", label=f\"section {id}\", ax=ax, alpha=0.25, color=\"C0\"\n",
    ")\n",
    "df_shift[df_shift[\"section_id\"] == id][\"failure_probability\"].plot(\n",
    "    ax=ax, ls=\"-.\", color=\"C0\"\n",
    ")\n",
    "df_change_crest[df_change_crest[\"section_id\"] == id][\"failure_probability\"].plot(\n",
    "    ax=ax, alpha=0.5, color=\"C0\"\n",
    ")\n",
    "ax.legend(labels=[\"original\", \"shift\", \"change crest\"])"
   ]
  },
  {
   "cell_type": "code",
   "execution_count": null,
   "metadata": {},
   "outputs": [],
   "source": []
  },
  {
   "cell_type": "code",
   "execution_count": null,
   "metadata": {},
   "outputs": [],
   "source": []
  }
 ],
 "metadata": {
  "kernelspec": {
   "display_name": "default",
   "language": "python",
   "name": "python3"
  },
  "language_info": {
   "codemirror_mode": {
    "name": "ipython",
    "version": 3
   },
   "file_extension": ".py",
   "mimetype": "text/x-python",
   "name": "python",
   "nbconvert_exporter": "python",
   "pygments_lexer": "ipython3",
   "version": "3.12.6"
  }
 },
 "nbformat": 4,
 "nbformat_minor": 2
}
