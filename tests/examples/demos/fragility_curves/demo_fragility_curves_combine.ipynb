{
 "cells": [
  {
   "cell_type": "code",
   "execution_count": 1,
   "metadata": {},
   "outputs": [],
   "source": [
    "from pathlib import Path"
   ]
  },
  {
   "cell_type": "code",
   "execution_count": 2,
   "metadata": {},
   "outputs": [
    {
     "name": "stderr",
     "output_type": "stream",
     "text": [
      "c:\\Data\\Python\\TBCI\\toolbox-continu-inzicht\\.pixi\\envs\\default\\Lib\\site-packages\\tqdm\\auto.py:21: TqdmWarning: IProgress not found. Please update jupyter and ipywidgets. See https://ipywidgets.readthedocs.io/en/stable/user_install.html\n",
      "  from .autonotebook import tqdm as notebook_tqdm\n"
     ]
    }
   ],
   "source": [
    "from toolbox_continu_inzicht import Config, DataAdapter\n",
    "\n",
    "path = Path.cwd() / \"data_sets\"\n",
    "config = Config(config_path=path / \"demo_combine_fragility_curves_db.yaml\")\n",
    "config.lees_config()\n",
    "data_adapter = DataAdapter(config=config)"
   ]
  },
  {
   "cell_type": "markdown",
   "metadata": {},
   "source": [
    "```yaml\n",
    "GlobalVariables:\n",
    "    rootdir: \"data_sets\"\n",
    "    moments: [-24,0,24,48]\n",
    "\n",
    "    fragility_curve_pipping:\n",
    "        type: ci_postgresql_fragilitycurves\n",
    "        database: \"geoserver\"\n",
    "        schema: \"continuinzicht_demo_realtime\"\n",
    "        failuremechanism: \"STBI\"\n",
    "\n",
    "    fragility_curve_overtopping:\n",
    "        type: ci_postgresql_fragilitycurves\n",
    "        database: \"geoserver\"\n",
    "        schema: \"continuinzicht_demo_realtime\"\n",
    "        failuremechanism: \"GEKB\"\n",
    "\n",
    "    fragility_curves:\n",
    "        type: ci_postgresql_fragilitycurves_table\n",
    "        database: \"geoserver\"\n",
    "        schema: \"continuinzicht_demo_realtime\"\n",
    "\n",
    "    fragility_curves_csv:\n",
    "        type: csv\n",
    "        file: \"test.csv\"\n",
    "```"
   ]
  },
  {
   "cell_type": "code",
   "execution_count": 3,
   "metadata": {},
   "outputs": [
    {
     "ename": "AttributeError",
     "evalue": "'NoneType' object has no attribute 'append'",
     "output_type": "error",
     "traceback": [
      "\u001b[1;31m---------------------------------------------------------------------------\u001b[0m",
      "\u001b[1;31mAttributeError\u001b[0m                            Traceback (most recent call last)",
      "Cell \u001b[1;32mIn[3], line 4\u001b[0m\n\u001b[0;32m      1\u001b[0m \u001b[38;5;28;01mfrom\u001b[39;00m\u001b[38;5;250m \u001b[39m\u001b[38;5;21;01mtoolbox_continu_inzicht\u001b[39;00m\u001b[38;5;21;01m.\u001b[39;00m\u001b[38;5;21;01mfragility_curves\u001b[39;00m\u001b[38;5;250m \u001b[39m\u001b[38;5;28;01mimport\u001b[39;00m CombineFragilityCurves\n\u001b[0;32m      3\u001b[0m fragility_curves_overtopping \u001b[38;5;241m=\u001b[39m CombineFragilityCurves(data_adapter\u001b[38;5;241m=\u001b[39mdata_adapter)\n\u001b[1;32m----> 4\u001b[0m \u001b[43mfragility_curves_overtopping\u001b[49m\u001b[38;5;241;43m.\u001b[39;49m\u001b[43mrun\u001b[49m\u001b[43m(\u001b[49m\n\u001b[0;32m      5\u001b[0m \u001b[43m    \u001b[49m\u001b[38;5;28;43minput\u001b[39;49m\u001b[38;5;241;43m=\u001b[39;49m\u001b[43m[\u001b[49m\u001b[38;5;124;43m\"\u001b[39;49m\u001b[38;5;124;43mfragility_curve_pipping\u001b[39;49m\u001b[38;5;124;43m\"\u001b[39;49m\u001b[43m,\u001b[49m\u001b[43m \u001b[49m\u001b[38;5;124;43m\"\u001b[39;49m\u001b[38;5;124;43mfragility_curve_overtopping\u001b[39;49m\u001b[38;5;124;43m\"\u001b[39;49m\u001b[43m]\u001b[49m\u001b[43m,\u001b[49m\n\u001b[0;32m      6\u001b[0m \u001b[43m    \u001b[49m\u001b[43moutput\u001b[49m\u001b[38;5;241;43m=\u001b[39;49m\u001b[38;5;124;43m\"\u001b[39;49m\u001b[38;5;124;43mfragility_curves_csv\u001b[39;49m\u001b[38;5;124;43m\"\u001b[39;49m\u001b[43m,\u001b[49m\n\u001b[0;32m      7\u001b[0m \u001b[43m)\u001b[49m\n",
      "File \u001b[1;32mC:\\Data\\Python\\TBCI\\toolbox-continu-inzicht\\src\\toolbox_continu_inzicht\\fragility_curves\\combine_fragility_curves.py:119\u001b[0m, in \u001b[0;36mCombineFragilityCurves.run\u001b[1;34m(self, input, output)\u001b[0m\n\u001b[0;32m    117\u001b[0m \u001b[38;5;28;01mfor\u001b[39;00m key \u001b[38;5;129;01min\u001b[39;00m \u001b[38;5;28minput\u001b[39m:\n\u001b[0;32m    118\u001b[0m     df_in \u001b[38;5;241m=\u001b[39m \u001b[38;5;28mself\u001b[39m\u001b[38;5;241m.\u001b[39mdata_adapter\u001b[38;5;241m.\u001b[39minput(key)\n\u001b[1;32m--> 119\u001b[0m     \u001b[38;5;28;43mself\u001b[39;49m\u001b[38;5;241;43m.\u001b[39;49m\u001b[43mlst_df_in\u001b[49m\u001b[38;5;241;43m.\u001b[39;49m\u001b[43mappend\u001b[49m(df_in)\n\u001b[0;32m    121\u001b[0m \u001b[38;5;66;03m# split the dataframes by section_id\u001b[39;00m\n\u001b[0;32m    122\u001b[0m lst_section_ids \u001b[38;5;241m=\u001b[39m []\n",
      "\u001b[1;31mAttributeError\u001b[0m: 'NoneType' object has no attribute 'append'"
     ]
    }
   ],
   "source": [
    "from toolbox_continu_inzicht.fragility_curves import CombineFragilityCurves\n",
    "\n",
    "fragility_curves_overtopping = CombineFragilityCurves(data_adapter=data_adapter)\n",
    "fragility_curves_overtopping.run(\n",
    "    input=[\"fragility_curve_pipping\", \"fragility_curve_overtopping\"],\n",
    "    output=\"fragility_curves_csv\",\n",
    ")"
   ]
  },
  {
   "cell_type": "code",
   "execution_count": null,
   "metadata": {},
   "outputs": [],
   "source": []
  }
 ],
 "metadata": {
  "kernelspec": {
   "display_name": "default",
   "language": "python",
   "name": "python3"
  },
  "language_info": {
   "codemirror_mode": {
    "name": "ipython",
    "version": 3
   },
   "file_extension": ".py",
   "mimetype": "text/x-python",
   "name": "python",
   "nbconvert_exporter": "python",
   "pygments_lexer": "ipython3",
   "version": "3.12.8"
  }
 },
 "nbformat": 4,
 "nbformat_minor": 2
}
