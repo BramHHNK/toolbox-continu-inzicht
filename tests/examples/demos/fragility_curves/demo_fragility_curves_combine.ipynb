{
 "cells": [
  {
   "cell_type": "markdown",
   "metadata": {},
   "source": [
    "# Voorbeeld fragility curve piping"
   ]
  },
  {
   "cell_type": "code",
   "execution_count": null,
   "metadata": {},
   "outputs": [],
   "source": [
    "from pathlib import Path\n",
    "\n",
    "import matplotlib.pyplot as plt\n",
    "import numpy as np\n",
    "import pandas as pd\n",
    "\n",
    "from toolbox_continu_inzicht import Config, DataAdapter\n",
    "from toolbox_continu_inzicht.fragility_curves import (\n",
    "    FragilityCurvesPiping,\n",
    "    CombineFragilityCurvesWeightedSum,\n",
    "    CombineFragilityCurvesIndependent,\n",
    ")"
   ]
  },
  {
   "cell_type": "code",
   "execution_count": null,
   "metadata": {},
   "outputs": [],
   "source": [
    "test_path = Path.cwd() / \"../../../\"\n",
    "dataset_path = test_path / \"src/fragility_curves/fragility_curves_piping/data_sets/\"\n",
    "\n",
    "# Lees originele config\n",
    "config = Config(config_path=dataset_path / \"test_fragility_multiple_curves_piping.yaml\")\n",
    "config.lees_config()\n",
    "\n",
    "# Corrigeer rootdir\n",
    "config.global_variables[\"rootdir\"] = str(dataset_path)\n",
    "\n",
    "# Pas output aan van csv naar dataframe\n",
    "config.data_adapters[\"fragility_curves\"][\"type\"] = \"python\"\n",
    "del config.data_adapters[\"fragility_curves\"][\"file\"]\n",
    "del config.data_adapters[\"fragility_curves\"][\"sep\"]\n",
    "\n",
    "data_adapter = DataAdapter(config=config)"
   ]
  },
  {
   "cell_type": "code",
   "execution_count": null,
   "metadata": {},
   "outputs": [],
   "source": [
    "```yaml\n",
    "GlobalVariables:\n",
    "    rootdir: \"data_sets\"\n",
    "    moments: [-24,0,24,48]\n",
    "\n",
    "    fragility_curve_piping:\n",
    "        type: ci_postgresql_fragilitycurves\n",
    "        database: \"geoserver\"\n",
    "        schema: \"continuinzicht_demo_realtime\"\n",
    "        failuremechanism: \"STBI\"\n",
    "\n",
    "    fragility_curve_overtopping:\n",
    "        type: ci_postgresql_fragilitycurves\n",
    "        database: \"geoserver\"\n",
    "        schema: \"continuinzicht_demo_realtime\"\n",
    "        failuremechanism: \"GEKB\"\n",
    "\n",
    "    fragility_curves:\n",
    "        type: ci_postgresql_fragilitycurves_table\n",
    "        database: \"geoserver\"\n",
    "        schema: \"continuinzicht_demo_realtime\"\n",
    "\n",
    "    fragility_curves_csv:\n",
    "        type: csv\n",
    "        file: \"test.csv\"\n",
    "```"
   ]
  },
  {
   "cell_type": "code",
   "execution_count": null,
   "metadata": {},
   "outputs": [],
   "source": [
    "plt.close(\"all\")\n",
    "\n",
    "fragility_curves_overtopping = CombineFragilityCurves(data_adapter=data_adapter)\n",
    "fragility_curves_overtopping.run(\n",
    "    input=[\"fragility_curve_piping\", \"fragility_curve_overtopping\"],\n",
    "    output=\"fragility_curves_csv\",\n",
    ")"
   ]
  },
  {
   "cell_type": "code",
   "execution_count": null,
   "metadata": {},
   "outputs": [],
   "source": [
    "# Combineer meerdere vakken tot 1 curve\n",
    "comb_fc = CombineFragilityCurvesIndependent(data_adapter=data_adapter)\n",
    "comb_fc.run(input=section_names, output=\"fragility_curves\")\n",
    "\n",
    "plt.close(\"all\")\n",
    "colx = \"waterlevels\"\n",
    "coly = \"failure_probability\"\n",
    "fig, ax = plt.subplots(figsize=(5, 3))\n",
    "for section_name in section_names:\n",
    "    data_adapter.input(section_name).plot(colx, coly, ax=ax, label=section_name)\n",
    "comb_fc.df_out.plot(colx, coly, ax=ax, label=\"Traject curve\")\n",
    "ax.set_title(\"Vak en traject curves\")\n",
    "fig.tight_layout()"
   ]
  }
 ],
 "metadata": {
  "kernelspec": {
   "display_name": "default",
   "language": "python",
   "name": "python3"
  },
  "language_info": {
   "codemirror_mode": {
    "name": "ipython",
    "version": 3
   },
   "file_extension": ".py",
   "mimetype": "text/x-python",
   "name": "python",
   "nbconvert_exporter": "python",
   "pygments_lexer": "ipython3",
   "version": "3.12.8"
  }
 },
 "nbformat": 4,
 "nbformat_minor": 2
}
