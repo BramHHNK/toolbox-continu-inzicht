{
 "cells": [
  {
   "cell_type": "markdown",
   "metadata": {},
   "source": [
    "# Voorbeeld fragility curve piping"
   ]
  },
  {
   "cell_type": "code",
   "execution_count": null,
   "metadata": {},
   "outputs": [],
   "source": [
    "from pathlib import Path\n",
    "\n",
    "import matplotlib.pyplot as plt\n",
    "import numpy as np\n",
    "import pandas as pd\n",
    "\n",
    "from toolbox_continu_inzicht import Config, DataAdapter\n",
    "from toolbox_continu_inzicht.fragility_curves import (\n",
    "    FragilityCurvesPiping,\n",
    "    CombineFragilityCurvesWeightedSum,\n",
    "    CombineFragilityCurvesIndependent,\n",
    ")"
   ]
  },
  {
   "cell_type": "code",
   "execution_count": null,
   "metadata": {},
   "outputs": [],
   "source": [
    "test_path = Path.cwd() / \"../../../\"\n",
    "dataset_path = test_path / \"src/fragility_curves/fragility_curves_piping/data_sets/\"\n",
    "\n",
    "# Lees originele config\n",
    "config = Config(config_path=dataset_path / \"test_fragility_multiple_curves_piping.yaml\")\n",
    "config.lees_config()\n",
    "\n",
    "# Corrigeer rootdir\n",
    "config.global_variables[\"rootdir\"] = str(dataset_path)\n",
    "\n",
    "# Pas output aan van csv naar dataframe\n",
    "config.data_adapters[\"fragility_curves\"][\"type\"] = \"python\"\n",
    "del config.data_adapters[\"fragility_curves\"][\"file\"]\n",
    "del config.data_adapters[\"fragility_curves\"][\"sep\"]\n",
    "\n",
    "data_adapter = DataAdapter(config=config)"
   ]
  },
  {
   "cell_type": "code",
   "execution_count": null,
   "metadata": {},
   "outputs": [],
   "source": [
    "fragility_curve_piping = FragilityCurvesPiping(data_adapter=data_adapter)\n",
    "fragility_curve_piping.run(\n",
    "    input=[\"probabilistic_input\", \"waterlevels\"], output=\"fragility_curves\"\n",
    ")\n",
    "fragility_curve_piping.df_out"
   ]
  },
  {
   "cell_type": "code",
   "execution_count": null,
   "metadata": {},
   "outputs": [],
   "source": [
    "plt.close(\"all\")\n",
    "\n",
    "section_names = []\n",
    "for sectionname, sectiongroup in fragility_curve_piping.df_out.groupby(\"section_id\"):\n",
    "    # Maak data adapters voor alle vakscenario's\n",
    "    calc_names = []\n",
    "    for scen_id, scen_fc in sectiongroup.groupby(\"scenario_id\"):\n",
    "        fc_name = f\"fc_scen_{scen_id}\"\n",
    "        data_adapter.set_dataframe_adapter(fc_name, scen_fc, if_not_exist=\"create\")\n",
    "        calc_names.append(fc_name)\n",
    "\n",
    "    # Maak gewichten voor de scenario's\n",
    "    weights = np.ones(len(calc_names)) / len(calc_names)\n",
    "    weights = pd.DataFrame({\"weights\": weights})\n",
    "    data_adapter.set_dataframe_adapter(\"weights\", weights, if_not_exist=\"create\")\n",
    "    calc_names.append(\"weights\")\n",
    "\n",
    "    # Combineer een of meerdere doorsnedescenario's tot 1 doorsnede curve\n",
    "    comb_fc = CombineFragilityCurvesWeightedSum(data_adapter=data_adapter)\n",
    "    comb_fc.run(input=calc_names, output=\"fragility_curves\")\n",
    "    calc_fc = comb_fc.df_out.copy()\n",
    "\n",
    "    # Schaal doorsnedecurve naar vakcurve met lengte-effectfactor 3.2\n",
    "    weights = pd.Series([3.2]).to_frame(name=\"weights\")\n",
    "    data_adapter.set_dataframe_adapter(\"weights\", weights, if_not_exist=\"create\")\n",
    "    data_adapter.set_dataframe_adapter(\"calc_fc\", calc_fc, if_not_exist=\"create\")\n",
    "    comb_fc = CombineFragilityCurvesWeightedSum(data_adapter=data_adapter)\n",
    "    comb_fc.run(input=[\"calc_fc\", \"weights\"], output=\"fragility_curves\")\n",
    "    section_fc = comb_fc.df_out.copy()\n",
    "\n",
    "    # Sla vakcurve op\n",
    "    fc_name = f\"fc_section_{sectionname}\"\n",
    "    data_adapter.set_dataframe_adapter(fc_name, section_fc, if_not_exist=\"create\")\n",
    "    section_names.append(fc_name)\n",
    "\n",
    "    fig, axs = plt.subplots(ncols=2, figsize=(10, 3))\n",
    "    colx = \"waterlevels\"\n",
    "    coly = \"failure_probability\"\n",
    "    for calc_name in calc_names:\n",
    "        if calc_name == \"weights\":\n",
    "            continue\n",
    "        data_adapter.input(calc_name).plot(colx, coly, ax=axs[0], label=calc_name)\n",
    "\n",
    "    calc_fc.plot(colx, coly, ax=axs[1], label=\"Doorsnede curve\")\n",
    "    section_fc.plot(colx, coly, ax=axs[1], label=\"Vak curve\")\n",
    "    fig.suptitle(f\"vak {sectionname}\")\n",
    "    fig.tight_layout()"
   ]
  },
  {
   "cell_type": "code",
   "execution_count": null,
   "metadata": {},
   "outputs": [],
   "source": [
    "# Combineer meerdere vakken tot 1 curve\n",
    "comb_fc = CombineFragilityCurvesIndependent(data_adapter=data_adapter)\n",
    "comb_fc.run(input=section_names, output=\"fragility_curves\")\n",
    "\n",
    "plt.close(\"all\")\n",
    "colx = \"waterlevels\"\n",
    "coly = \"failure_probability\"\n",
    "fig, ax = plt.subplots(figsize=(5, 3))\n",
    "for section_name in section_names:\n",
    "    data_adapter.input(section_name).plot(colx, coly, ax=ax, label=section_name)\n",
    "comb_fc.df_out.plot(colx, coly, ax=ax, label=\"Traject curve\")\n",
    "ax.set_title(\"Vak en traject curves\")\n",
    "fig.tight_layout()"
   ]
  }
 ],
 "metadata": {
  "kernelspec": {
   "display_name": "default",
   "language": "python",
   "name": "python3"
  },
  "language_info": {
   "codemirror_mode": {
    "name": "ipython",
    "version": 3
   },
   "file_extension": ".py",
   "mimetype": "text/x-python",
   "name": "python",
   "nbconvert_exporter": "python",
   "pygments_lexer": "ipython3",
   "version": "3.12.8"
  }
 },
 "nbformat": 4,
 "nbformat_minor": 2
}
