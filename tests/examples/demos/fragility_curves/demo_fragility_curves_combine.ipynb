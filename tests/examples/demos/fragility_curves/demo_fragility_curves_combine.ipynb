{
 "cells": [
  {
   "cell_type": "code",
   "execution_count": null,
   "metadata": {},
   "outputs": [],
   "source": [
    "from pathlib import Path"
   ]
  },
  {
   "cell_type": "code",
   "execution_count": null,
   "metadata": {},
   "outputs": [],
   "source": [
    "from toolbox_continu_inzicht import Config, DataAdapter\n",
    "\n",
    "path = Path.cwd() / \"data_sets\"\n",
    "config = Config(config_path=path / \"demo_combine_fragility_curves_db.yaml\")\n",
    "config.lees_config()\n",
    "data_adapter = DataAdapter(config=config)"
   ]
  },
  {
   "cell_type": "markdown",
   "metadata": {},
   "source": [
    "```yaml\n",
    "GlobalVariables:\n",
    "    rootdir: \"data_sets\"\n",
    "    moments: [-24,0,24,48]\n",
    "\n",
    "    fragility_curve_pipping:\n",
    "        type: ci_postgresql_fragilitycurves\n",
    "        database: \"geoserver\"\n",
    "        schema: \"continuinzicht_demo_realtime\"\n",
    "        failuremechanism: \"STBI\"\n",
    "\n",
    "    fragility_curve_overtopping:\n",
    "        type: ci_postgresql_fragilitycurves\n",
    "        database: \"geoserver\"\n",
    "        schema: \"continuinzicht_demo_realtime\"\n",
    "        failuremechanism: \"GEKB\"\n",
    "\n",
    "    fragility_curves:\n",
    "        type: ci_postgresql_fragilitycurves_table\n",
    "        database: \"geoserver\"\n",
    "        schema: \"continuinzicht_demo_realtime\"\n",
    "\n",
    "    fragility_curves_csv:\n",
    "        type: csv\n",
    "        file: \"test.csv\"\n",
    "```"
   ]
  },
  {
   "cell_type": "code",
   "execution_count": null,
   "metadata": {},
   "outputs": [],
   "source": [
    "from toolbox_continu_inzicht.fragility_curves import CombineFragilityCurves\n",
    "\n",
    "fragility_curves_overtopping = CombineFragilityCurves(data_adapter=data_adapter)\n",
    "fragility_curves_overtopping.run(\n",
    "    input=[\"fragility_curve_pipping\", \"fragility_curve_overtopping\"],\n",
    "    output=\"fragility_curves_csv\",\n",
    ")"
   ]
  },
  {
   "cell_type": "code",
   "execution_count": null,
   "metadata": {},
   "outputs": [],
   "source": []
  }
 ],
 "metadata": {
  "kernelspec": {
   "display_name": "default",
   "language": "python",
   "name": "python3"
  },
  "language_info": {
   "codemirror_mode": {
    "name": "ipython",
    "version": 3
   },
   "file_extension": ".py",
   "mimetype": "text/x-python",
   "name": "python",
   "nbconvert_exporter": "python",
   "pygments_lexer": "ipython3",
   "version": "3.12.8"
  }
 },
 "nbformat": 4,
 "nbformat_minor": 2
}
