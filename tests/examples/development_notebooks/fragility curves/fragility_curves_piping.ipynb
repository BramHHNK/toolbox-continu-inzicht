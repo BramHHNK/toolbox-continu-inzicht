{
 "cells": [
  {
   "cell_type": "code",
   "execution_count": 1,
   "metadata": {},
   "outputs": [
    {
     "name": "stderr",
     "output_type": "stream",
     "text": [
      "c:\\Data\\Python\\TBCI\\toolbox-continu-inzicht\\.pixi\\envs\\default\\Lib\\site-packages\\tqdm\\auto.py:21: TqdmWarning: IProgress not found. Please update jupyter and ipywidgets. See https://ipywidgets.readthedocs.io/en/stable/user_install.html\n",
      "  from .autonotebook import tqdm as notebook_tqdm\n"
     ]
    }
   ],
   "source": [
    "from pathlib import Path\n",
    "\n",
    "from toolbox_continu_inzicht.base.data_adapter import Config, DataAdapter"
   ]
  },
  {
   "cell_type": "code",
   "execution_count": 2,
   "metadata": {},
   "outputs": [],
   "source": [
    "path = Path.cwd() / \"data_sets\"\n",
    "config = Config(config_path=path / \"test_fragility_multiple_curves_piping.yaml\")\n",
    "config.lees_config()\n",
    "data_adapter = DataAdapter(config=config)"
   ]
  },
  {
   "cell_type": "markdown",
   "metadata": {},
   "source": [
    "```yaml\n",
    "GlobalVariables:\n",
    "    rootdir: \"data_sets\"\n",
    "    moments: [-24,0,24,48]\n",
    "\n",
    "    FragilityCurvesPiping:\n",
    "        \n",
    "\n",
    "\n",
    "DataAdapter:\n",
    "    default_options:\n",
    "        csv:\n",
    "            sep: \",\"\n",
    "        \n",
    "    probabilistic_input:\n",
    "        type: csv\n",
    "        file: \"invoer_multiple_piping_sections.csv\"\n",
    "    waterlevels:\n",
    "        type: csv\n",
    "        file: \"waterlevels.csv\"\n",
    "    fragility_curves:\n",
    "        type: csv\n",
    "        file: \"fragility_multiple_curves_piping.csv\"\n",
    "\n",
    "```"
   ]
  },
  {
   "cell_type": "code",
   "execution_count": 3,
   "metadata": {},
   "outputs": [],
   "source": [
    "from toolbox_continu_inzicht.fragility_curves import FragilityCurvesPiping"
   ]
  },
  {
   "cell_type": "code",
   "execution_count": 4,
   "metadata": {},
   "outputs": [],
   "source": [
    "fragility_curve_piping = FragilityCurvesPiping(data_adapter=data_adapter)\n",
    "fragility_curve_piping.run(\n",
    "    input=[\"probabilistic_input\", \"waterlevels\"], output=\"fragility_curves\"\n",
    ")"
   ]
  },
  {
   "cell_type": "code",
   "execution_count": 5,
   "metadata": {},
   "outputs": [
    {
     "data": {
      "text/html": [
       "<div>\n",
       "<style scoped>\n",
       "    .dataframe tbody tr th:only-of-type {\n",
       "        vertical-align: middle;\n",
       "    }\n",
       "\n",
       "    .dataframe tbody tr th {\n",
       "        vertical-align: top;\n",
       "    }\n",
       "\n",
       "    .dataframe thead th {\n",
       "        text-align: right;\n",
       "    }\n",
       "</style>\n",
       "<table border=\"1\" class=\"dataframe\">\n",
       "  <thead>\n",
       "    <tr style=\"text-align: right;\">\n",
       "      <th></th>\n",
       "      <th>waterlevel</th>\n",
       "      <th>failure_probability</th>\n",
       "      <th>section_id</th>\n",
       "      <th>scenario_id</th>\n",
       "      <th>mechanism</th>\n",
       "    </tr>\n",
       "  </thead>\n",
       "  <tbody>\n",
       "    <tr>\n",
       "      <th>0</th>\n",
       "      <td>0.0</td>\n",
       "      <td>1.955538e-32</td>\n",
       "      <td>1</td>\n",
       "      <td>1</td>\n",
       "      <td>sellmeijer</td>\n",
       "    </tr>\n",
       "    <tr>\n",
       "      <th>1</th>\n",
       "      <td>0.1</td>\n",
       "      <td>1.020085e-31</td>\n",
       "      <td>1</td>\n",
       "      <td>1</td>\n",
       "      <td>sellmeijer</td>\n",
       "    </tr>\n",
       "    <tr>\n",
       "      <th>2</th>\n",
       "      <td>0.2</td>\n",
       "      <td>5.351751e-31</td>\n",
       "      <td>1</td>\n",
       "      <td>1</td>\n",
       "      <td>sellmeijer</td>\n",
       "    </tr>\n",
       "    <tr>\n",
       "      <th>3</th>\n",
       "      <td>0.3</td>\n",
       "      <td>2.820484e-30</td>\n",
       "      <td>1</td>\n",
       "      <td>1</td>\n",
       "      <td>sellmeijer</td>\n",
       "    </tr>\n",
       "    <tr>\n",
       "      <th>4</th>\n",
       "      <td>0.4</td>\n",
       "      <td>1.491263e-29</td>\n",
       "      <td>1</td>\n",
       "      <td>1</td>\n",
       "      <td>sellmeijer</td>\n",
       "    </tr>\n",
       "    <tr>\n",
       "      <th>...</th>\n",
       "      <td>...</td>\n",
       "      <td>...</td>\n",
       "      <td>...</td>\n",
       "      <td>...</td>\n",
       "      <td>...</td>\n",
       "    </tr>\n",
       "    <tr>\n",
       "      <th>1000</th>\n",
       "      <td>19.6</td>\n",
       "      <td>1.000000e+00</td>\n",
       "      <td>2</td>\n",
       "      <td>4</td>\n",
       "      <td>heave</td>\n",
       "    </tr>\n",
       "    <tr>\n",
       "      <th>1001</th>\n",
       "      <td>19.7</td>\n",
       "      <td>1.000000e+00</td>\n",
       "      <td>2</td>\n",
       "      <td>4</td>\n",
       "      <td>heave</td>\n",
       "    </tr>\n",
       "    <tr>\n",
       "      <th>1002</th>\n",
       "      <td>19.8</td>\n",
       "      <td>1.000000e+00</td>\n",
       "      <td>2</td>\n",
       "      <td>4</td>\n",
       "      <td>heave</td>\n",
       "    </tr>\n",
       "    <tr>\n",
       "      <th>1003</th>\n",
       "      <td>19.9</td>\n",
       "      <td>1.000000e+00</td>\n",
       "      <td>2</td>\n",
       "      <td>4</td>\n",
       "      <td>heave</td>\n",
       "    </tr>\n",
       "    <tr>\n",
       "      <th>1004</th>\n",
       "      <td>20.0</td>\n",
       "      <td>1.000000e+00</td>\n",
       "      <td>2</td>\n",
       "      <td>4</td>\n",
       "      <td>heave</td>\n",
       "    </tr>\n",
       "  </tbody>\n",
       "</table>\n",
       "<p>1005 rows × 5 columns</p>\n",
       "</div>"
      ],
      "text/plain": [
       "      waterlevel  failure_probability  section_id  scenario_id   mechanism\n",
       "0            0.0         1.955538e-32           1            1  sellmeijer\n",
       "1            0.1         1.020085e-31           1            1  sellmeijer\n",
       "2            0.2         5.351751e-31           1            1  sellmeijer\n",
       "3            0.3         2.820484e-30           1            1  sellmeijer\n",
       "4            0.4         1.491263e-29           1            1  sellmeijer\n",
       "...          ...                  ...         ...          ...         ...\n",
       "1000        19.6         1.000000e+00           2            4       heave\n",
       "1001        19.7         1.000000e+00           2            4       heave\n",
       "1002        19.8         1.000000e+00           2            4       heave\n",
       "1003        19.9         1.000000e+00           2            4       heave\n",
       "1004        20.0         1.000000e+00           2            4       heave\n",
       "\n",
       "[1005 rows x 5 columns]"
      ]
     },
     "execution_count": 5,
     "metadata": {},
     "output_type": "execute_result"
    }
   ],
   "source": [
    "fragility_curve_piping.df_out"
   ]
  },
  {
   "cell_type": "code",
   "execution_count": 6,
   "metadata": {},
   "outputs": [
    {
     "data": {
      "image/png": "[encoded data removed]",
      "text/plain": [
       "<Figure size 1000x1000 with 2 Axes>"
      ]
     },
     "metadata": {},
     "output_type": "display_data"
    }
   ],
   "source": [
    "import matplotlib.pyplot as plt\n",
    "\n",
    "section_ids = fragility_curve_piping.df_out[\"section_id\"].unique()\n",
    "df = fragility_curve_piping.df_out.set_index(\"waterlevel\")\n",
    "fig, ax = plt.subplots(len(section_ids), 1, figsize=(10, 10))\n",
    "for i, section_id in enumerate(section_ids):\n",
    "    df_id = df[df[\"section_id\"] == section_id]\n",
    "    for j, secenario_id in enumerate(df_id[\"scenario_id\"].unique()):\n",
    "        df_scen = df_id[df_id[\"scenario_id\"] == secenario_id]\n",
    "        ls = \"-\"\n",
    "        if j % 2 == 0:\n",
    "            ls = \"--\"\n",
    "        df_scen[\"failure_probability\"].plot(ax=ax[i], color=f\"C{j}\", ls=ls)"
   ]
  }
 ],
 "metadata": {
  "kernelspec": {
   "display_name": "default",
   "language": "python",
   "name": "python3"
  },
  "language_info": {
   "codemirror_mode": {
    "name": "ipython",
    "version": 3
   },
   "file_extension": ".py",
   "mimetype": "text/x-python",
   "name": "python",
   "nbconvert_exporter": "python",
   "pygments_lexer": "ipython3",
   "version": "3.12.6"
  }
 },
 "nbformat": 4,
 "nbformat_minor": 2
}
