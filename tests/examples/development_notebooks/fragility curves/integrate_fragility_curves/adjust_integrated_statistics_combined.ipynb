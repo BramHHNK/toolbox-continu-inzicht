{
 "cells": [
  {
   "cell_type": "code",
   "execution_count": null,
   "metadata": {},
   "outputs": [],
   "source": [
    "from pathlib import Path\n",
    "\n",
    "\n",
    "import matplotlib.pyplot as plt"
   ]
  },
  {
   "cell_type": "code",
   "execution_count": null,
   "metadata": {},
   "outputs": [],
   "source": [
    "from toolbox_continu_inzicht import Config, DataAdapter"
   ]
  },
  {
   "cell_type": "code",
   "execution_count": null,
   "metadata": {},
   "outputs": [],
   "source": [
    "path = Path.cwd() / \"data_sets\"\n",
    "config = Config(config_path=path / \"integrate_statistics_comb.yaml\")\n",
    "config.lees_config()\n",
    "data_adapter = DataAdapter(config=config)"
   ]
  },
  {
   "cell_type": "markdown",
   "metadata": {},
   "source": [
    "Bereken een GEKB curve met data uit de database"
   ]
  },
  {
   "cell_type": "code",
   "execution_count": null,
   "metadata": {},
   "outputs": [],
   "source": [
    "from toolbox_continu_inzicht.fragility_curves import FragilityCurveOvertoppingMultiple"
   ]
  },
  {
   "cell_type": "code",
   "execution_count": null,
   "metadata": {},
   "outputs": [],
   "source": [
    "fragility_curves_overtopping = FragilityCurveOvertoppingMultiple(\n",
    "    data_adapter=data_adapter\n",
    ")\n",
    "fragility_curves_overtopping.run(\n",
    "    input=[\"slopes\", \"profiles\", \"bedlevel\"],\n",
    "    output=\"fragility_curves\",\n",
    ")"
   ]
  },
  {
   "cell_type": "code",
   "execution_count": null,
   "metadata": {},
   "outputs": [],
   "source": [
    "fragility_curves_overtopping.df_out"
   ]
  },
  {
   "cell_type": "markdown",
   "metadata": {},
   "source": [
    "##### deze wordt toegevoegd aan de database, die hele tabel kunnen we ook weer ophalen uit de database "
   ]
  },
  {
   "cell_type": "code",
   "execution_count": null,
   "metadata": {},
   "outputs": [],
   "source": [
    "df_all_fragility_curves = data_adapter.input(\"fragility_curves\")"
   ]
  },
  {
   "cell_type": "code",
   "execution_count": null,
   "metadata": {},
   "outputs": [],
   "source": [
    "df_all_fragility_curves"
   ]
  },
  {
   "cell_type": "code",
   "execution_count": null,
   "metadata": {},
   "outputs": [],
   "source": [
    "lst_df_717_fragility_curves = []\n",
    "failure_mechanism_types = [\"HTKW\", \"PKW\", \"STKWl\", \"GEKB\"]\n",
    "for failure_mechanism_type in failure_mechanism_types:\n",
    "    lst_df_717_fragility_curves.append(\n",
    "        df_all_fragility_curves.query(\n",
    "            \"`section_id` == 717 & `failuremechanism` == @failure_mechanism_type\"\n",
    "        )\n",
    "    )"
   ]
  },
  {
   "cell_type": "code",
   "execution_count": null,
   "metadata": {},
   "outputs": [],
   "source": [
    "fig, ax = plt.subplots()\n",
    "for fc in lst_df_717_fragility_curves:\n",
    "    ax.plot(\n",
    "        fc[\"hydraulicload\"],\n",
    "        fc[\"failureprobability\"],\n",
    "        label=fc[\"failuremechanism\"].unique()[0],\n",
    "        alpha=0.6,\n",
    "    )\n",
    "ax.legend()\n",
    "ax.set_xlim((21, 23))"
   ]
  },
  {
   "cell_type": "code",
   "execution_count": null,
   "metadata": {},
   "outputs": [],
   "source": [
    "from toolbox_continu_inzicht.fragility_curves import CombineFragilityCurvesDependent"
   ]
  },
  {
   "cell_type": "code",
   "execution_count": null,
   "metadata": {},
   "outputs": [],
   "source": [
    "for name, df in zip(failure_mechanism_types, lst_df_717_fragility_curves):\n",
    "    df = df.rename(columns={\"failureprobability\": \"failure_probability\"}).copy()\n",
    "    data_adapter.set_dataframe_adapter(name, df, if_not_exist=\"create\")"
   ]
  },
  {
   "cell_type": "code",
   "execution_count": null,
   "metadata": {},
   "outputs": [],
   "source": [
    "combine_fragility_curves = CombineFragilityCurvesDependent(data_adapter)"
   ]
  },
  {
   "cell_type": "code",
   "execution_count": null,
   "metadata": {},
   "outputs": [],
   "source": [
    "lst_df_717_fragility_curves[0]"
   ]
  },
  {
   "cell_type": "code",
   "execution_count": null,
   "metadata": {},
   "outputs": [],
   "source": [
    "combine_fragility_curves.run(failure_mechanism_types, \"fragility_curves_combined_csv\")\n",
    "output_combined_curve = combine_fragility_curves.df_out"
   ]
  },
  {
   "cell_type": "code",
   "execution_count": null,
   "metadata": {},
   "outputs": [],
   "source": [
    "fig, ax = plt.subplots()\n",
    "for fc in lst_df_717_fragility_curves:\n",
    "    ax.plot(\n",
    "        fc[\"hydraulicload\"],\n",
    "        fc[\"failure_probability\"],\n",
    "        label=fc[\"failuremechanism\"].unique()[0],\n",
    "        alpha=0.6,\n",
    "    )\n",
    "# ax.set_xlim((21, 23))\n",
    "ax.plot(\n",
    "    output_combined_curve[\"hydraulicload\"],\n",
    "    output_combined_curve[\"failure_probability\"],\n",
    "    label=\"combined\",\n",
    "    color=\"black\",\n",
    ")\n",
    "ax.legend()"
   ]
  },
  {
   "cell_type": "code",
   "execution_count": null,
   "metadata": {},
   "outputs": [],
   "source": [
    "from toolbox_continu_inzicht.fragility_curves import IntegrateFragilityCurve"
   ]
  },
  {
   "cell_type": "code",
   "execution_count": null,
   "metadata": {},
   "outputs": [],
   "source": [
    "integrate_statistics_per_section = IntegrateFragilityCurve(data_adapter=data_adapter)\n",
    "integrate_statistics_per_section.run(\n",
    "    input=[\"exceedance_curve_csv\", \"fragility_curves_combined_csv\"], output=\"result\"\n",
    ")"
   ]
  },
  {
   "cell_type": "code",
   "execution_count": null,
   "metadata": {},
   "outputs": [],
   "source": [
    "ax2 = ax.twinx()\n",
    "data_adapter.input(\"exceedance_curve_csv\").plot(x=\"hydraulicload\", ax=ax2, logy=True)\n",
    "ax2.legend().remove()\n",
    "handles, labels = ax.get_legend_handles_labels()\n",
    "handles_, labels_ = ax2.get_legend_handles_labels()\n",
    "ax.legend(handles + handles_, labels + labels_)\n",
    "fig"
   ]
  },
  {
   "cell_type": "code",
   "execution_count": null,
   "metadata": {},
   "outputs": [],
   "source": [
    "initial_integrated_curve = integrate_statistics_per_section.df_out\n",
    "fig, ax = plt.subplots()\n",
    "ax.bar(\n",
    "    initial_integrated_curve[\"hydraulicload\"],\n",
    "    initial_integrated_curve[\"probability_contribution\"],\n",
    "    width=0.1,\n",
    ")\n",
    "xlim = [21, 25]\n",
    "ax.set_xlim(xlim)"
   ]
  },
  {
   "cell_type": "code",
   "execution_count": null,
   "metadata": {},
   "outputs": [],
   "source": [
    "from toolbox_continu_inzicht.base.fragility_curve import FragilityCurve"
   ]
  },
  {
   "cell_type": "code",
   "execution_count": null,
   "metadata": {},
   "outputs": [],
   "source": [
    "fragility_curve = FragilityCurve(data_adapter=data_adapter)"
   ]
  },
  {
   "cell_type": "code",
   "execution_count": null,
   "metadata": {},
   "outputs": [],
   "source": [
    "fragility_curve.load(\"fragility_curves_combined_csv\")"
   ]
  },
  {
   "cell_type": "code",
   "execution_count": null,
   "metadata": {},
   "outputs": [],
   "source": [
    "first_fragility_curve = fragility_curve.as_dataframe()"
   ]
  },
  {
   "cell_type": "code",
   "execution_count": null,
   "metadata": {},
   "outputs": [],
   "source": [
    "update_level = 22\n",
    "trust_factor = 1\n",
    "fragility_curve.reliability_update(update_level=update_level, trust_factor=trust_factor)"
   ]
  },
  {
   "cell_type": "code",
   "execution_count": null,
   "metadata": {},
   "outputs": [],
   "source": [
    "updated_curve = fragility_curve.as_dataframe()"
   ]
  },
  {
   "cell_type": "code",
   "execution_count": null,
   "metadata": {},
   "outputs": [],
   "source": [
    "fig, ax = plt.subplots(1, 1)\n",
    "ax.plot(\n",
    "    first_fragility_curve[\"hydraulicload\"],\n",
    "    first_fragility_curve[\"failure_probability\"],\n",
    "    label=\"Originele gecombineerde curve\",\n",
    ")\n",
    "ax.plot(\n",
    "    updated_curve[\"hydraulicload\"],\n",
    "    updated_curve[\"failure_probability\"],\n",
    "    ls=\"--\",\n",
    "    label=\"Aangepaste combined curve\",\n",
    ")\n",
    "ax.legend()\n",
    "ax.set_xlim(xlim)"
   ]
  },
  {
   "cell_type": "code",
   "execution_count": null,
   "metadata": {},
   "outputs": [],
   "source": [
    "data_adapter.set_dataframe_adapter(\n",
    "    \"updated_fragility_curve\", fragility_curve.as_dataframe(), if_not_exist=\"create\"\n",
    ")"
   ]
  },
  {
   "cell_type": "code",
   "execution_count": null,
   "metadata": {},
   "outputs": [],
   "source": [
    "integrate_statistics_per_section = IntegrateFragilityCurve(data_adapter=data_adapter)\n",
    "integrate_statistics_per_section.run(\n",
    "    input=[\"exceedance_curve_csv\", \"updated_fragility_curve\"], output=\"result\"\n",
    ")"
   ]
  },
  {
   "cell_type": "code",
   "execution_count": null,
   "metadata": {},
   "outputs": [],
   "source": [
    "df_out = integrate_statistics_per_section.df_out\n",
    "fig, ax = plt.subplots()\n",
    "ax.bar(\n",
    "    initial_integrated_curve[\"hydraulicload\"],\n",
    "    initial_integrated_curve[\"probability_contribution\"],\n",
    "    width=0.1,\n",
    ")\n",
    "ax.bar(df_out[\"hydraulicload\"], df_out[\"probability_contribution\"], width=0.1)\n",
    "ax.set_xlim(xlim)\n",
    "ax.set_xlabel(\"Water level\")\n",
    "ax.set_ylabel(\"Probability contribution\");"
   ]
  },
  {
   "cell_type": "markdown",
   "metadata": {},
   "source": [
    " #### beheerdersoordeel"
   ]
  },
  {
   "cell_type": "code",
   "execution_count": null,
   "metadata": {},
   "outputs": [],
   "source": [
    "from ipywidgets import interact\n",
    "\n",
    "xlim = [20, 25]\n",
    "\n",
    "\n",
    "@interact(update_level=(xlim[0], xlim[-1], 0.1), trust_factor=(0, 1, 0.1))\n",
    "def make_plot(update_level, trust_factor):\n",
    "    integrate_statistics_per_section = IntegrateFragilityCurve(\n",
    "        data_adapter=data_adapter\n",
    "    )\n",
    "    integrate_statistics_per_section.run(\n",
    "        input=[\"exceedance_curve_csv\", \"fragility_curves_combined_csv\"], output=\"result\"\n",
    "    )\n",
    "    fragility_curve = FragilityCurve(data_adapter=data_adapter)\n",
    "    fragility_curve.load(\"fragility_curves_combined_csv\")\n",
    "    fragility_curve.reliability_update(\n",
    "        update_level=update_level, trust_factor=trust_factor\n",
    "    )\n",
    "    data_adapter.set_dataframe_adapter(\n",
    "        \"updated_fragility_curve\", fragility_curve.as_dataframe(), if_not_exist=\"create\"\n",
    "    )\n",
    "    integrate_statistics_per_section = IntegrateFragilityCurve(\n",
    "        data_adapter=data_adapter\n",
    "    )\n",
    "    integrate_statistics_per_section.run(\n",
    "        input=[\"exceedance_curve_csv\", \"updated_fragility_curve\"], output=\"result\"\n",
    "    )\n",
    "\n",
    "    df_out = integrate_statistics_per_section.df_out\n",
    "    fig, ax = plt.subplots()\n",
    "    ax.bar(\n",
    "        initial_integrated_curve[\"hydraulicload\"],\n",
    "        initial_integrated_curve[\"probability_contribution\"],\n",
    "        width=0.1,\n",
    "    )\n",
    "    ax.bar(df_out[\"hydraulicload\"], df_out[\"probability_contribution\"], width=0.1)\n",
    "    ax.set_xlim(xlim)\n",
    "    ax.set_xlabel(\"Water level\")\n",
    "    ax.set_ylabel(\"Probability contribution\")\n",
    "    ax.set_title(\n",
    "        \"Updated probability contribution with given update level and trust factor\"\n",
    "    )"
   ]
  },
  {
   "cell_type": "code",
   "execution_count": null,
   "metadata": {},
   "outputs": [],
   "source": []
  }
 ],
 "metadata": {
  "kernelspec": {
   "display_name": "default",
   "language": "python",
   "name": "python3"
  },
  "language_info": {
   "codemirror_mode": {
    "name": "ipython",
    "version": 3
   },
   "file_extension": ".py",
   "mimetype": "text/x-python",
   "name": "python",
   "nbconvert_exporter": "python",
   "pygments_lexer": "ipython3",
   "version": "3.12.8"
  }
 },
 "nbformat": 4,
 "nbformat_minor": 2
}
