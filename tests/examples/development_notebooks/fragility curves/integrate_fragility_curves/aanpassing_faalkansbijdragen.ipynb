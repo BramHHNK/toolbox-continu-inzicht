{
 "cells": [
  {
   "cell_type": "code",
   "execution_count": null,
   "metadata": {},
   "outputs": [],
   "source": [
    "import matplotlib.pyplot as plt\n",
    "import numpy as np\n",
    "import pandas as pd"
   ]
  },
  {
   "cell_type": "code",
   "execution_count": null,
   "metadata": {},
   "outputs": [],
   "source": [
    "df_fc = pd.read_csv(\"data_sets/fragility_multiple_curves_piping.csv\")\n",
    "df_fc1 = df_fc[(df_fc[\"section_id\"] == 1) & (df_fc[\"scenario_id\"] == 1)]\n",
    "df_fc1"
   ]
  },
  {
   "cell_type": "code",
   "execution_count": null,
   "metadata": {},
   "outputs": [],
   "source": [
    "data = np.array(\n",
    "    [\n",
    "        [10, 2.202],\n",
    "        [30, 2.349],\n",
    "        [100, 2.484],\n",
    "        [300, 2.594],\n",
    "        [1000, 2.708],\n",
    "        [3000, 2.812],\n",
    "        [10000, 2.939],\n",
    "        [30000, 3.090],\n",
    "        [100000, 3.303],\n",
    "    ]\n",
    ")\n",
    "df_s = pd.DataFrame(data, columns=[\"failure_probability\", \"waterlevel\"])\n",
    "df_s[\"waterlevel\"] += 2\n",
    "df_s[\"failure_probability\"] = 1 / df_s[\"failure_probability\"]\n",
    "df_s"
   ]
  },
  {
   "cell_type": "code",
   "execution_count": null,
   "metadata": {},
   "outputs": [],
   "source": [
    "fig, ax = plt.subplots()\n",
    "df_fc1.plot(x=\"hydraulicload\", y=\"failure_probability\", ax=ax, color=\"C1\")\n",
    "ax2 = ax.twinx()\n",
    "df_s.plot(x=\"waterlevel\", ax=ax2, logy=True)"
   ]
  },
  {
   "cell_type": "code",
   "execution_count": null,
   "metadata": {},
   "outputs": [],
   "source": [
    "def interpolate_1d(x, xp, fp):\n",
    "    \"\"\"\n",
    "    Interpolate an array along the given axis.\n",
    "    Similar to np.interp, but with extrapolation outside range.\n",
    "\n",
    "    Parameters\n",
    "    ----------\n",
    "    x : np.array\n",
    "        Array with positions to interpolate at\n",
    "    xp : np.array\n",
    "        Array with positions of known values\n",
    "    fp : np.array\n",
    "        Array with values as known positions to interpolate between\n",
    "\n",
    "    Returns\n",
    "    -------\n",
    "    np.array\n",
    "        interpolated array\n",
    "    \"\"\"\n",
    "    # Determine lower bounds\n",
    "    intidx = np.minimum(np.maximum(0, np.searchsorted(xp, x) - 1), len(xp) - 2)\n",
    "    # Determine interpolation fractions\n",
    "    fracs = (x - xp[intidx]) / (xp[intidx + 1] - xp[intidx])\n",
    "    # Interpolate (1-frac) * f_low + frac * f_up\n",
    "    f = (1 - fracs) * fp[intidx] + fp[intidx + 1] * fracs\n",
    "\n",
    "    return f"
   ]
  },
  {
   "cell_type": "code",
   "execution_count": null,
   "metadata": {},
   "outputs": [],
   "source": [
    "def log_interpolate_1d(x, xp, fp, ll=1e-20):\n",
    "    \"\"\"Similar to interpolate_1d, but interpolates in log-space\"\"\"\n",
    "    if ll > 0:\n",
    "        fp[fp < ll] = ll\n",
    "    return np.exp(interpolate_1d(x, xp, np.log(fp)))"
   ]
  },
  {
   "cell_type": "code",
   "execution_count": null,
   "metadata": {},
   "outputs": [],
   "source": [
    "def _int_midpoint(wl_grid, pf_grid, hfreq_fq_grid):\n",
    "    # Voor de bepaling van de integraal passen we de midpoint rule toe,\n",
    "    # dichtheid van frequentie is midden van verschil tussen twee ov.freq. waarden\n",
    "    # N.B. De stapgrootte van de waterstand dh valt weg in de formule.\n",
    "    # (2*dh/2) * cond_faalkans(h) * (ov.freq.(h-dh)-ov.freq.(h+dh)) / (2*dh)\n",
    "    # prob_fail_grid[i] = pf_grid[i] * (hfreq_fq_grid[i-1] - hfreq_fq_grid[i+1])/2\n",
    "    prob_fail_grid = np.zeros(len(wl_grid))\n",
    "    prob_fail_grid[1:-1] = (hfreq_fq_grid[0:-2] - hfreq_fq_grid[2:]) / 2\n",
    "    prob_fail_grid[1:-1] = pf_grid[1:-1] * prob_fail_grid[1:-1]\n",
    "\n",
    "    return prob_fail_grid"
   ]
  },
  {
   "cell_type": "code",
   "execution_count": null,
   "metadata": {},
   "outputs": [],
   "source": [
    "wl_step = 0.2\n",
    "wl_ll = 0\n",
    "wl_ul = 10\n",
    "wl_grid = np.linspace(wl_ll, wl_ul, int((wl_ul - wl_ll) / wl_step + 1))"
   ]
  },
  {
   "cell_type": "code",
   "execution_count": null,
   "metadata": {},
   "outputs": [],
   "source": [
    "fc_interp = log_interpolate_1d(\n",
    "    wl_grid,\n",
    "    df_fc1[\"hydraulicload\"].to_numpy(),\n",
    "    df_fc1[\"failure_probability\"].to_numpy(),\n",
    "    ll=0,\n",
    ")\n",
    "stat_interp = log_interpolate_1d(\n",
    "    wl_grid,\n",
    "    df_s[\"waterlevel\"].to_numpy(),\n",
    "    df_s[\"failure_probability\"].to_numpy(),\n",
    "    ll=0,\n",
    ")\n",
    "stat_interp[stat_interp > 360] = 360\n",
    "# stat_interp"
   ]
  },
  {
   "cell_type": "code",
   "execution_count": null,
   "metadata": {},
   "outputs": [],
   "source": [
    "fig, ax = plt.subplots()\n",
    "\n",
    "ax.plot(\n",
    "    df_fc1[\"hydraulicload\"].to_numpy(),\n",
    "    df_fc1[\"failure_probability\"].to_numpy(),\n",
    "    color=\"C1\",\n",
    "    lw=4,\n",
    "    ls=\"--\",\n",
    ")\n",
    "ax.plot(wl_grid, fc_interp, color=\"C0\", label=\"Interpolated fragility curve\")\n",
    "\n",
    "ax2 = ax.twinx()\n",
    "df_s.plot(x=\"waterlevel\", ax=ax2, color=\"C2\", lw=4, ls=\"--\")\n",
    "ax2.semilogy(wl_grid, stat_interp, color=\"C2\", label=\"Interpolated stat\")\n",
    "# ax2.set_ylim([0, 1e6])\n",
    "ax2.legend().remove()\n",
    "\n",
    "handles, labels = ax.get_legend_handles_labels()\n",
    "handles_, labels_ = ax2.get_legend_handles_labels()\n",
    "ax.legend(handles + handles_, labels + labels_);"
   ]
  },
  {
   "cell_type": "code",
   "execution_count": null,
   "metadata": {},
   "outputs": [],
   "source": [
    "fp_grid = fc_interp.copy()\n",
    "update_level = 4.2\n",
    "trust_factor = 1\n",
    "\n",
    "sel_update = wl_grid < update_level\n",
    "wl_steps = np.diff(wl_grid[sel_update])\n",
    "wl_steps = np.hstack([wl_steps[0], wl_steps])\n",
    "F_update = trust_factor * (fp_grid[sel_update] * wl_steps).sum()\n",
    "\n",
    "fp_grid[sel_update] = (1 - trust_factor) * fp_grid[sel_update]\n",
    "fp_grid[~sel_update] = (fp_grid[~sel_update] - F_update) / (1 - F_update)\n",
    "\n",
    "\n",
    "faalkansbijdrage = _int_midpoint(wl_grid, fc_interp, stat_interp)\n",
    "faalkansbijdrage_upd = _int_midpoint(wl_grid, fp_grid, stat_interp)\n",
    "\n",
    "fig, ax = plt.subplots()\n",
    "ax.bar(wl_grid, faalkansbijdrage, width=0.1)\n",
    "ax.bar(wl_grid, faalkansbijdrage_upd, width=0.1, alpha=0.95)\n",
    "faalkansbijdrage.sum(), faalkansbijdrage_upd.sum()"
   ]
  }
 ],
 "metadata": {
  "kernelspec": {
   "display_name": "Python 3 (ipykernel)",
   "language": "python",
   "name": "python3"
  },
  "language_info": {
   "codemirror_mode": {
    "name": "ipython",
    "version": 3
   },
   "file_extension": ".py",
   "mimetype": "text/x-python",
   "name": "python",
   "nbconvert_exporter": "python",
   "pygments_lexer": "ipython3",
   "version": "3.12.8"
  }
 },
 "nbformat": 4,
 "nbformat_minor": 4
}
