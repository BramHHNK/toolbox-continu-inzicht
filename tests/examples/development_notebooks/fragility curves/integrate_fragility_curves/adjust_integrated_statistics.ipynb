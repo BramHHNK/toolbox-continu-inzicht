{
 "cells": [
  {
   "cell_type": "code",
   "execution_count": null,
   "metadata": {},
   "outputs": [],
   "source": [
    "from pathlib import Path\n",
    "\n",
    "import matplotlib.pyplot as plt"
   ]
  },
  {
   "cell_type": "code",
   "execution_count": null,
   "metadata": {},
   "outputs": [],
   "source": [
    "from toolbox_continu_inzicht import Config, DataAdapter"
   ]
  },
  {
   "cell_type": "code",
   "execution_count": null,
   "metadata": {},
   "outputs": [],
   "source": [
    "path = Path.cwd() / \"data_sets\"\n",
    "config = Config(config_path=path / \"integrate_statistics.yaml\")\n",
    "config.lees_config()\n",
    "data_adapter = DataAdapter(config=config)"
   ]
  },
  {
   "cell_type": "code",
   "execution_count": null,
   "metadata": {},
   "outputs": [],
   "source": [
    "from toolbox_continu_inzicht.fragility_curves import IntegrateFragilityCurve"
   ]
  },
  {
   "cell_type": "code",
   "execution_count": null,
   "metadata": {},
   "outputs": [],
   "source": [
    "integrate_statistics_per_section = IntegrateFragilityCurve(data_adapter=data_adapter)\n",
    "integrate_statistics_per_section.run(\n",
    "    input=[\"exceedance_curve_csv\", \"fragility_curve_csv\"], output=\"result\"\n",
    ")"
   ]
  },
  {
   "cell_type": "code",
   "execution_count": null,
   "metadata": {},
   "outputs": [],
   "source": [
    "initial_integrated_curve = integrate_statistics_per_section.df_out\n",
    "fig, ax = plt.subplots()\n",
    "ax.bar(\n",
    "    initial_integrated_curve[\"waterlevels\"],\n",
    "    initial_integrated_curve[\"probability_contribution\"],\n",
    "    width=0.1,\n",
    ")\n",
    "ax.set_xlim([0, 10])"
   ]
  },
  {
   "cell_type": "code",
   "execution_count": null,
   "metadata": {},
   "outputs": [],
   "source": [
    "from toolbox_continu_inzicht.base.fragility_curve import FragilityCurve"
   ]
  },
  {
   "cell_type": "code",
   "execution_count": null,
   "metadata": {},
   "outputs": [],
   "source": [
    "fragility_curve = FragilityCurve(data_adapter=data_adapter)"
   ]
  },
  {
   "cell_type": "code",
   "execution_count": null,
   "metadata": {},
   "outputs": [],
   "source": [
    "fragility_curve.load(\"fragility_curve_csv\")"
   ]
  },
  {
   "cell_type": "code",
   "execution_count": null,
   "metadata": {},
   "outputs": [],
   "source": [
    "first_fragility_curve = fragility_curve.df_out"
   ]
  },
  {
   "cell_type": "code",
   "execution_count": null,
   "metadata": {},
   "outputs": [],
   "source": [
    "update_level = 4.3\n",
    "trust_factor = 1\n",
    "fragility_curve.reliability_update(update_level=update_level, trust_factor=trust_factor)"
   ]
  },
  {
   "cell_type": "code",
   "execution_count": null,
   "metadata": {},
   "outputs": [],
   "source": [
    "updated_curve = fragility_curve.df_out"
   ]
  },
  {
   "cell_type": "code",
   "execution_count": null,
   "metadata": {},
   "outputs": [],
   "source": [
    "fig, ax = plt.subplots(1, 1)\n",
    "first_fragility_curve.plot(x=\"waterlevels\", y=\"failure_probability\", ax=ax)\n",
    "updated_curve.plot(x=\"waterlevels\", y=\"failure_probability\", ax=ax, ls=\"--\")"
   ]
  },
  {
   "cell_type": "code",
   "execution_count": null,
   "metadata": {},
   "outputs": [],
   "source": [
    "data_adapter.set_dataframe_adapter(\n",
    "    \"updated_fragility_curve\", fragility_curve.df_out, if_not_exist=\"create\"\n",
    ")"
   ]
  },
  {
   "cell_type": "code",
   "execution_count": null,
   "metadata": {},
   "outputs": [],
   "source": [
    "integrate_statistics_per_section = IntegrateFragilityCurve(data_adapter=data_adapter)\n",
    "integrate_statistics_per_section.run(\n",
    "    input=[\"exceedance_curve_csv\", \"updated_fragility_curve\"], output=\"result\"\n",
    ")"
   ]
  },
  {
   "cell_type": "code",
   "execution_count": null,
   "metadata": {},
   "outputs": [],
   "source": [
    "df_out = integrate_statistics_per_section.df_out\n",
    "fig, ax = plt.subplots()\n",
    "ax.bar(\n",
    "    initial_integrated_curve[\"waterlevels\"],\n",
    "    initial_integrated_curve[\"probability_contribution\"],\n",
    "    width=0.1,\n",
    ")\n",
    "ax.bar(df_out[\"waterlevels\"], df_out[\"probability_contribution\"], width=0.1)\n",
    "ax.set_xlim([0, 10])\n",
    "ax.set_xlabel(\"Water level\")\n",
    "ax.set_ylabel(\"Probability contribution\")"
   ]
  },
  {
   "cell_type": "markdown",
   "metadata": {},
   "source": [
    "# Repeat but in a widget"
   ]
  },
  {
   "cell_type": "code",
   "execution_count": null,
   "metadata": {},
   "outputs": [],
   "source": [
    "from ipywidgets import interact\n",
    "\n",
    "\n",
    "@interact(update_level=(0.0, 10.0, 0.1), trust_factor=(0, 1, 0.1))\n",
    "def make_plot(update_level, trust_factor):\n",
    "    integrate_statistics_per_section = IntegrateFragilityCurve(\n",
    "        data_adapter=data_adapter\n",
    "    )\n",
    "    integrate_statistics_per_section.run(\n",
    "        input=[\"exceedance_curve_csv\", \"fragility_curve_csv\"], output=\"result\"\n",
    "    )\n",
    "    fragility_curve = FragilityCurve(data_adapter=data_adapter)\n",
    "    fragility_curve.load(\"fragility_curve_csv\")\n",
    "    fragility_curve.reliability_update(\n",
    "        update_level=update_level, trust_factor=trust_factor\n",
    "    )\n",
    "    data_adapter.set_dataframe_adapter(\n",
    "        \"updated_fragility_curve\", fragility_curve.df_out, if_not_exist=\"create\"\n",
    "    )\n",
    "    integrate_statistics_per_section = IntegrateFragilityCurve(\n",
    "        data_adapter=data_adapter\n",
    "    )\n",
    "    integrate_statistics_per_section.run(\n",
    "        input=[\"exceedance_curve_csv\", \"updated_fragility_curve\"], output=\"result\"\n",
    "    )\n",
    "\n",
    "    df_out = integrate_statistics_per_section.df_out\n",
    "    fig, ax = plt.subplots()\n",
    "    ax.bar(\n",
    "        initial_integrated_curve[\"waterlevels\"],\n",
    "        initial_integrated_curve[\"probability_contribution\"],\n",
    "        width=0.1,\n",
    "    )\n",
    "    ax.bar(df_out[\"waterlevels\"], df_out[\"probability_contribution\"], width=0.1)\n",
    "    ax.set_xlim([0, 10])\n",
    "    ax.set_xlabel(\"Water level\")\n",
    "    ax.set_ylabel(\"Probability contribution\")\n",
    "    ax.set_title(\n",
    "        \"Updated probability contribution with given update level and trust factor\"\n",
    "    )"
   ]
  },
  {
   "cell_type": "code",
   "execution_count": null,
   "metadata": {},
   "outputs": [],
   "source": []
  }
 ],
 "metadata": {
  "kernelspec": {
   "display_name": "default",
   "language": "python",
   "name": "python3"
  },
  "language_info": {
   "codemirror_mode": {
    "name": "ipython",
    "version": 3
   },
   "file_extension": ".py",
   "mimetype": "text/x-python",
   "name": "python",
   "nbconvert_exporter": "python",
   "pygments_lexer": "ipython3",
   "version": "3.12.8"
  }
 },
 "nbformat": 4,
 "nbformat_minor": 2
}
