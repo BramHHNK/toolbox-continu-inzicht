{
 "cells": [
  {
   "cell_type": "code",
   "execution_count": null,
   "metadata": {},
   "outputs": [],
   "source": [
    "from pathlib import Path\n",
    "\n",
    "import numpy as np\n",
    "from matplotlib import pyplot as plt\n",
    "\n",
    "from toolbox_continu_inzicht.base.data_adapter import Config, DataAdapter\n",
    "from toolbox_continu_inzicht.fragility_curves import (\n",
    "    ChangeCrestHeightFragilityCurveOvertopping,\n",
    "    FragilityCurveOvertopping,\n",
    "    ShiftFragilityCurveOvertopping,\n",
    ")"
   ]
  },
  {
   "cell_type": "code",
   "execution_count": null,
   "metadata": {},
   "outputs": [],
   "source": [
    "path = Path.cwd() / \"data_sets\"\n",
    "config = Config(config_path=path / \"test_fragility_curve_overtopping.yaml\")\n",
    "config.lees_config()\n",
    "data_adapter = DataAdapter(config=config)"
   ]
  },
  {
   "cell_type": "code",
   "execution_count": null,
   "metadata": {},
   "outputs": [],
   "source": [
    "FCO = FragilityCurveOvertopping(data_adapter=data_adapter)\n",
    "FCO.run(\n",
    "    input=[\"slopes\", \"profiles\", \"bedlevel_fetch\"],\n",
    "    output=\"fragility_curves\",\n",
    ")"
   ]
  },
  {
   "cell_type": "code",
   "execution_count": null,
   "metadata": {},
   "outputs": [],
   "source": [
    "FCO.df_out.set_index(\"waterlevels\").plot()"
   ]
  },
  {
   "cell_type": "code",
   "execution_count": null,
   "metadata": {},
   "outputs": [],
   "source": [
    "FCO.df_out"
   ]
  },
  {
   "cell_type": "code",
   "execution_count": null,
   "metadata": {},
   "outputs": [],
   "source": [
    "SFCC = ShiftFragilityCurveOvertopping(data_adapter=data_adapter)\n",
    "\n",
    "SFCC.run(\n",
    "    input=[\"slopes\", \"profiles\", \"bedlevel_fetch\"],\n",
    "    output=\"fragility_curves\",\n",
    "    effect=0.5,\n",
    ")"
   ]
  },
  {
   "cell_type": "code",
   "execution_count": null,
   "metadata": {},
   "outputs": [],
   "source": [
    "fig, ax = plt.subplots(1, 1)\n",
    "FCO.df_out.set_index(\"waterlevels\").plot(ax=ax)\n",
    "SFCC.df_out.set_index(\"waterlevels\").plot(ax=ax, linestyle=\"--\")"
   ]
  },
  {
   "cell_type": "code",
   "execution_count": null,
   "metadata": {},
   "outputs": [],
   "source": [
    "CCHFCO = ChangeCrestHeightFragilityCurveOvertopping(data_adapter=data_adapter)\n",
    "\n",
    "CCHFCO.run(\n",
    "    input=[\"slopes\", \"profiles\", \"bedlevel_fetch\"],\n",
    "    output=\"fragility_curves\",\n",
    "    effect=0.5,\n",
    ")"
   ]
  },
  {
   "cell_type": "code",
   "execution_count": null,
   "metadata": {},
   "outputs": [],
   "source": [
    "(\n",
    "    ~np.isclose(\n",
    "        FCO.df_out[\"failure_probability\"].iloc[41:59].to_list(),\n",
    "        CCHFCO.df_out[\"failure_probability\"].iloc[41:59].to_list(),\n",
    "    )\n",
    ").all()"
   ]
  },
  {
   "cell_type": "code",
   "execution_count": null,
   "metadata": {},
   "outputs": [],
   "source": [
    "fig, ax = plt.subplots(1, 1)\n",
    "FCO.df_out.set_index(\"waterlevels\").plot(ax=ax)\n",
    "CCHFCO.df_out.set_index(\"waterlevels\").plot(ax=ax, linestyle=\"--\")"
   ]
  }
 ],
 "metadata": {
  "kernelspec": {
   "display_name": "default",
   "language": "python",
   "name": "python3"
  },
  "language_info": {
   "codemirror_mode": {
    "name": "ipython",
    "version": 3
   },
   "file_extension": ".py",
   "mimetype": "text/x-python",
   "name": "python",
   "nbconvert_exporter": "python",
   "pygments_lexer": "ipython3",
   "version": "3.12.8"
  }
 },
 "nbformat": 4,
 "nbformat_minor": 2
}
