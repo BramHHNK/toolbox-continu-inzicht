{
 "cells": [
  {
   "cell_type": "code",
   "execution_count": 5,
   "metadata": {},
   "outputs": [],
   "source": [
    "from pathlib import Path\n",
    "\n",
    "from toolbox_continu_inzicht import Config, DataAdapter"
   ]
  },
  {
   "cell_type": "code",
   "execution_count": 6,
   "metadata": {},
   "outputs": [],
   "source": [
    "path = Path.cwd() / \"data_sets\"\n",
    "config = Config(config_path=path / \"demo_fragility_multiple_curves_pipping_db.yaml\")\n",
    "config.lees_config()\n",
    "data_adapter = DataAdapter(config=config)"
   ]
  },
  {
   "cell_type": "markdown",
   "metadata": {},
   "source": [
    "```yaml\n",
    "GlobalVariables:\n",
    "    rootdir: \"data_sets\"\n",
    "    moments: [-24,0,24,48]\n",
    "\n",
    "DataAdapter:\n",
    "    probabilistic_input:\n",
    "        type: excel\n",
    "        file: \"invoer_multiple_piping_sections.xlsx\"\n",
    "    probabilistic_db:\n",
    "        type: postgresql_database\n",
    "        schema: \n",
    "    waterlevels:\n",
    "        type: csv\n",
    "        file: \"waterlevels.csv\"\n",
    "\n",
    "```"
   ]
  },
  {
   "cell_type": "markdown",
   "metadata": {},
   "source": [
    "Read df "
   ]
  },
  {
   "cell_type": "code",
   "execution_count": 7,
   "metadata": {},
   "outputs": [],
   "source": [
    "df_input = data_adapter.input(\"probabilistic_input\")"
   ]
  },
  {
   "cell_type": "markdown",
   "metadata": {},
   "source": [
    "write to db"
   ]
  },
  {
   "cell_type": "code",
   "execution_count": 9,
   "metadata": {},
   "outputs": [],
   "source": [
    "data_adapter.output(\"probabilistic_db\", df_input)"
   ]
  },
  {
   "cell_type": "markdown",
   "metadata": {},
   "source": [
    "Functions to help with naming the postgresdb"
   ]
  },
  {
   "cell_type": "code",
   "execution_count": 10,
   "metadata": {},
   "outputs": [
    {
     "data": {
      "text/plain": [
       "{'section_id': 'section_id',\n",
       " 'scenario_id': 'scenario_id',\n",
       " 'mechanism': 'mechanism',\n",
       " 'Naam': 'Naam',\n",
       " 'Waarde': 'Waarde',\n",
       " 'Kansverdeling': 'Kansverdeling',\n",
       " 'Verschuiving': 'Verschuiving',\n",
       " 'Mean': 'Mean',\n",
       " 'Afknot_links': 'Afknot_links',\n",
       " 'Afknot_rechts': 'Afknot_rechts',\n",
       " 'StDev': 'StDev'}"
      ]
     },
     "execution_count": 10,
     "metadata": {},
     "output_type": "execute_result"
    }
   ],
   "source": [
    "dict(zip(df_input.columns, df_input.columns))"
   ]
  },
  {
   "cell_type": "code",
   "execution_count": 11,
   "metadata": {},
   "outputs": [],
   "source": [
    "continu_inzicht_to_db = {\n",
    "    \"section_id\": \"sectionid\",\n",
    "    \"scenario_id\": \"scenarioid\",\n",
    "    \"mechanism\": \"mechanism\",\n",
    "    \"Naam\": \"naam\",\n",
    "    \"Waarde\": \"waarde\",\n",
    "    \"Kansverdeling\": \"kansverdeling\",\n",
    "    \"Verschuiving\": \"verschuiving\",\n",
    "    \"Mean\": \"mean\",\n",
    "    \"Spreiding\": \"spreiding\",\n",
    "    \"Spreidingstype\": \"spreidingstype\",\n",
    "    \"Afknot_links\": \"afknotlinks\",\n",
    "    \"Afknot_rechts\": \"afknotrechts\",\n",
    "    \"Min\": \"min\",\n",
    "    \"Step\": \"step\",\n",
    "    \"Max\": \"max\",\n",
    "    \"StDev\": \"stdev\",\n",
    "}"
   ]
  },
  {
   "cell_type": "code",
   "execution_count": 12,
   "metadata": {},
   "outputs": [],
   "source": [
    "db_to_continu_inzicht = {}\n",
    "for key in continu_inzicht_to_db:\n",
    "    db_to_continu_inzicht[continu_inzicht_to_db[key]] = key"
   ]
  },
  {
   "cell_type": "code",
   "execution_count": 13,
   "metadata": {},
   "outputs": [
    {
     "data": {
      "text/plain": [
       "{'sectionid': 'section_id',\n",
       " 'scenarioid': 'scenario_id',\n",
       " 'mechanism': 'mechanism',\n",
       " 'naam': 'Naam',\n",
       " 'waarde': 'Waarde',\n",
       " 'kansverdeling': 'Kansverdeling',\n",
       " 'verschuiving': 'Verschuiving',\n",
       " 'mean': 'Mean',\n",
       " 'spreiding': 'Spreiding',\n",
       " 'spreidingstype': 'Spreidingstype',\n",
       " 'afknotlinks': 'Afknot_links',\n",
       " 'afknotrechts': 'Afknot_rechts',\n",
       " 'min': 'Min',\n",
       " 'step': 'Step',\n",
       " 'max': 'Max',\n",
       " 'stdev': 'StDev'}"
      ]
     },
     "execution_count": 13,
     "metadata": {},
     "output_type": "execute_result"
    }
   ],
   "source": [
    "db_to_continu_inzicht"
   ]
  },
  {
   "cell_type": "code",
   "execution_count": null,
   "metadata": {},
   "outputs": [],
   "source": []
  }
 ],
 "metadata": {
  "kernelspec": {
   "display_name": "default",
   "language": "python",
   "name": "python3"
  },
  "language_info": {
   "codemirror_mode": {
    "name": "ipython",
    "version": 3
   },
   "file_extension": ".py",
   "mimetype": "text/x-python",
   "name": "python",
   "nbconvert_exporter": "python",
   "pygments_lexer": "ipython3",
   "version": "3.12.8"
  }
 },
 "nbformat": 4,
 "nbformat_minor": 2
}
