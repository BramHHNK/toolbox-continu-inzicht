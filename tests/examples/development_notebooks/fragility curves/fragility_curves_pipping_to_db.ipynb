{
 "cells": [
  {
   "cell_type": "code",
   "execution_count": 1,
   "metadata": {},
   "outputs": [],
   "source": [
    "from pathlib import Path\n",
    "\n",
    "from toolbox_continu_inzicht import Config, DataAdapter"
   ]
  },
  {
   "cell_type": "code",
   "execution_count": 2,
   "metadata": {},
   "outputs": [
    {
     "ename": "FileNotFoundError",
     "evalue": "[Errno 2] No such file or directory: 'c:\\\\Data\\\\Python\\\\TBCI\\\\toolbox-continu-inzicht\\\\tests\\\\examples\\\\development_notebooks\\\\fragility curves\\\\data_sets\\\\demo_fragility_multiple_curves_pipping_db.yaml'",
     "output_type": "error",
     "traceback": [
      "\u001b[1;31m---------------------------------------------------------------------------\u001b[0m",
      "\u001b[1;31mFileNotFoundError\u001b[0m                         Traceback (most recent call last)",
      "Cell \u001b[1;32mIn[2], line 3\u001b[0m\n\u001b[0;32m      1\u001b[0m path \u001b[38;5;241m=\u001b[39m Path\u001b[38;5;241m.\u001b[39mcwd() \u001b[38;5;241m/\u001b[39m \u001b[38;5;124m\"\u001b[39m\u001b[38;5;124mdata_sets\u001b[39m\u001b[38;5;124m\"\u001b[39m\n\u001b[0;32m      2\u001b[0m config \u001b[38;5;241m=\u001b[39m Config(config_path\u001b[38;5;241m=\u001b[39mpath \u001b[38;5;241m/\u001b[39m \u001b[38;5;124m\"\u001b[39m\u001b[38;5;124mdemo_fragility_multiple_curves_pipping_db.yaml\u001b[39m\u001b[38;5;124m\"\u001b[39m)\n\u001b[1;32m----> 3\u001b[0m \u001b[43mconfig\u001b[49m\u001b[38;5;241;43m.\u001b[39;49m\u001b[43mlees_config\u001b[49m\u001b[43m(\u001b[49m\u001b[43m)\u001b[49m\n\u001b[0;32m      4\u001b[0m data_adapter \u001b[38;5;241m=\u001b[39m DataAdapter(config\u001b[38;5;241m=\u001b[39mconfig)\n",
      "File \u001b[1;32mC:\\Data\\Python\\TBCI\\toolbox-continu-inzicht\\src\\toolbox_continu_inzicht\\base\\config.py:25\u001b[0m, in \u001b[0;36mConfig.lees_config\u001b[1;34m(self)\u001b[0m\n\u001b[0;32m     22\u001b[0m \u001b[38;5;28;01mdef\u001b[39;00m\u001b[38;5;250m \u001b[39m\u001b[38;5;21mlees_config\u001b[39m(\u001b[38;5;28mself\u001b[39m):\n\u001b[0;32m     23\u001b[0m \u001b[38;5;250m    \u001b[39m\u001b[38;5;124;03m\"\"\"Laad het gegeven pad in, zet de configuraties klaar in de Config class\"\"\"\u001b[39;00m\n\u001b[1;32m---> 25\u001b[0m     \u001b[38;5;28;01mwith\u001b[39;00m \u001b[38;5;28;43mself\u001b[39;49m\u001b[38;5;241;43m.\u001b[39;49m\u001b[43mconfig_path\u001b[49m\u001b[38;5;241;43m.\u001b[39;49m\u001b[43mopen\u001b[49m\u001b[43m(\u001b[49m\u001b[43m)\u001b[49m \u001b[38;5;28;01mas\u001b[39;00m fin:\n\u001b[0;32m     26\u001b[0m         \u001b[38;5;28;01mtry\u001b[39;00m:\n\u001b[0;32m     27\u001b[0m             data \u001b[38;5;241m=\u001b[39m yaml\u001b[38;5;241m.\u001b[39msafe_load(fin)\n",
      "File \u001b[1;32mc:\\Data\\Python\\TBCI\\toolbox-continu-inzicht\\.pixi\\envs\\default\\Lib\\pathlib.py:1013\u001b[0m, in \u001b[0;36mPath.open\u001b[1;34m(self, mode, buffering, encoding, errors, newline)\u001b[0m\n\u001b[0;32m   1011\u001b[0m \u001b[38;5;28;01mif\u001b[39;00m \u001b[38;5;124m\"\u001b[39m\u001b[38;5;124mb\u001b[39m\u001b[38;5;124m\"\u001b[39m \u001b[38;5;129;01mnot\u001b[39;00m \u001b[38;5;129;01min\u001b[39;00m mode:\n\u001b[0;32m   1012\u001b[0m     encoding \u001b[38;5;241m=\u001b[39m io\u001b[38;5;241m.\u001b[39mtext_encoding(encoding)\n\u001b[1;32m-> 1013\u001b[0m \u001b[38;5;28;01mreturn\u001b[39;00m \u001b[43mio\u001b[49m\u001b[38;5;241;43m.\u001b[39;49m\u001b[43mopen\u001b[49m\u001b[43m(\u001b[49m\u001b[38;5;28;43mself\u001b[39;49m\u001b[43m,\u001b[49m\u001b[43m \u001b[49m\u001b[43mmode\u001b[49m\u001b[43m,\u001b[49m\u001b[43m \u001b[49m\u001b[43mbuffering\u001b[49m\u001b[43m,\u001b[49m\u001b[43m \u001b[49m\u001b[43mencoding\u001b[49m\u001b[43m,\u001b[49m\u001b[43m \u001b[49m\u001b[43merrors\u001b[49m\u001b[43m,\u001b[49m\u001b[43m \u001b[49m\u001b[43mnewline\u001b[49m\u001b[43m)\u001b[49m\n",
      "\u001b[1;31mFileNotFoundError\u001b[0m: [Errno 2] No such file or directory: 'c:\\\\Data\\\\Python\\\\TBCI\\\\toolbox-continu-inzicht\\\\tests\\\\examples\\\\development_notebooks\\\\fragility curves\\\\data_sets\\\\demo_fragility_multiple_curves_pipping_db.yaml'"
     ]
    }
   ],
   "source": [
    "path = Path.cwd() / \"data_sets\"\n",
    "config = Config(config_path=path / \"demo_fragility_multiple_curves_pipping_db.yaml\")\n",
    "config.lees_config()\n",
    "data_adapter = DataAdapter(config=config)"
   ]
  },
  {
   "cell_type": "markdown",
   "metadata": {},
   "source": [
    "```yaml\n",
    "GlobalVariables:\n",
    "    rootdir: \"data_sets\"\n",
    "    moments: [-24,0,24,48]\n",
    "\n",
    "DataAdapter:\n",
    "    probabilistic_input:\n",
    "        type: excel\n",
    "        file: \"invoer_multiple_piping_sections.xlsx\"\n",
    "    probabilistic_db:\n",
    "        type: postgresql_database\n",
    "        schema: \n",
    "    waterlevels:\n",
    "        type: csv\n",
    "        file: \"waterlevels.csv\"\n",
    "\n",
    "```"
   ]
  },
  {
   "cell_type": "markdown",
   "metadata": {},
   "source": [
    "Read df "
   ]
  },
  {
   "cell_type": "code",
   "execution_count": 6,
   "metadata": {},
   "outputs": [],
   "source": [
    "df_input = data_adapter.input(\"probabilistic_input\")"
   ]
  },
  {
   "cell_type": "markdown",
   "metadata": {},
   "source": [
    "write to db"
   ]
  },
  {
   "cell_type": "code",
   "execution_count": 11,
   "metadata": {},
   "outputs": [],
   "source": [
    "data_adapter.output(\"probabilistic_db\", df_input)"
   ]
  },
  {
   "cell_type": "markdown",
   "metadata": {},
   "source": [
    "Functions to help with naming the postgresdb"
   ]
  },
  {
   "cell_type": "code",
   "execution_count": 7,
   "metadata": {},
   "outputs": [
    {
     "data": {
      "text/plain": [
       "{'section_id': 'section_id',\n",
       " 'scenario_id': 'scenario_id',\n",
       " 'mechanism': 'mechanism',\n",
       " 'Naam': 'Naam',\n",
       " 'Waarde': 'Waarde',\n",
       " 'Kansverdeling': 'Kansverdeling',\n",
       " 'Verschuiving': 'Verschuiving',\n",
       " 'Mean': 'Mean',\n",
       " 'Spreiding': 'Spreiding',\n",
       " 'Spreidingstype': 'Spreidingstype',\n",
       " 'Afknot_links': 'Afknot_links',\n",
       " 'Afknot_rechts': 'Afknot_rechts',\n",
       " 'Min': 'Min',\n",
       " 'Step': 'Step',\n",
       " 'Max': 'Max',\n",
       " 'StDev': 'StDev'}"
      ]
     },
     "execution_count": 7,
     "metadata": {},
     "output_type": "execute_result"
    }
   ],
   "source": [
    "dict(zip(df_input.columns, df_input.columns))"
   ]
  },
  {
   "cell_type": "code",
   "execution_count": 8,
   "metadata": {},
   "outputs": [],
   "source": [
    "continu_inzicht_to_db = {\n",
    "    \"section_id\": \"sectionid\",\n",
    "    \"scenario_id\": \"scenarioid\",\n",
    "    \"mechanism\": \"mechanism\",\n",
    "    \"Naam\": \"naam\",\n",
    "    \"Waarde\": \"waarde\",\n",
    "    \"Kansverdeling\": \"kansverdeling\",\n",
    "    \"Verschuiving\": \"verschuiving\",\n",
    "    \"Mean\": \"mean\",\n",
    "    \"Spreiding\": \"spreiding\",\n",
    "    \"Spreidingstype\": \"spreidingstype\",\n",
    "    \"Afknot_links\": \"afknotlinks\",\n",
    "    \"Afknot_rechts\": \"afknotrechts\",\n",
    "    \"Min\": \"min\",\n",
    "    \"Step\": \"step\",\n",
    "    \"Max\": \"max\",\n",
    "    \"StDev\": \"stdev\",\n",
    "}"
   ]
  },
  {
   "cell_type": "code",
   "execution_count": 9,
   "metadata": {},
   "outputs": [],
   "source": [
    "db_to_continu_inzicht = {}\n",
    "for key in continu_inzicht_to_db:\n",
    "    db_to_continu_inzicht[continu_inzicht_to_db[key]] = key"
   ]
  },
  {
   "cell_type": "code",
   "execution_count": 10,
   "metadata": {},
   "outputs": [
    {
     "data": {
      "text/plain": [
       "{'sectionid': 'section_id',\n",
       " 'scenarioid': 'scenario_id',\n",
       " 'mechanism': 'mechanism',\n",
       " 'naam': 'Naam',\n",
       " 'waarde': 'Waarde',\n",
       " 'kansverdeling': 'Kansverdeling',\n",
       " 'verschuiving': 'Verschuiving',\n",
       " 'mean': 'Mean',\n",
       " 'spreiding': 'Spreiding',\n",
       " 'spreidingstype': 'Spreidingstype',\n",
       " 'afknotlinks': 'Afknot_links',\n",
       " 'afknotrechts': 'Afknot_rechts',\n",
       " 'min': 'Min',\n",
       " 'step': 'Step',\n",
       " 'max': 'Max',\n",
       " 'stdev': 'StDev'}"
      ]
     },
     "execution_count": 10,
     "metadata": {},
     "output_type": "execute_result"
    }
   ],
   "source": [
    "db_to_continu_inzicht"
   ]
  },
  {
   "cell_type": "code",
   "execution_count": null,
   "metadata": {},
   "outputs": [],
   "source": []
  }
 ],
 "metadata": {
  "kernelspec": {
   "display_name": "default",
   "language": "python",
   "name": "python3"
  },
  "language_info": {
   "codemirror_mode": {
    "name": "ipython",
    "version": 3
   },
   "file_extension": ".py",
   "mimetype": "text/x-python",
   "name": "python",
   "nbconvert_exporter": "python",
   "pygments_lexer": "ipython3",
   "version": "3.12.8"
  }
 },
 "nbformat": 4,
 "nbformat_minor": 2
}
