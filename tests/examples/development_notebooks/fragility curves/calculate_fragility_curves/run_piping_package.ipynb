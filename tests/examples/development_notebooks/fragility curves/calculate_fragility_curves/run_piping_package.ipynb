{
 "cells": [
  {
   "cell_type": "markdown",
   "metadata": {},
   "source": [
    "### test to see how the probabilstic piping package works"
   ]
  },
  {
   "cell_type": "code",
   "execution_count": null,
   "metadata": {},
   "outputs": [],
   "source": [
    "import matplotlib.pyplot as plt\n",
    "import numpy as np\n",
    "import pandas as pd\n",
    "from probabilistic_piping import (  # type: ignore\n",
    "    ProbInput,\n",
    "    ProbPipingFixedWaterlevel,\n",
    "    ProbPipingFixedWaterlevelSimple,\n",
    ")"
   ]
  },
  {
   "cell_type": "code",
   "execution_count": null,
   "metadata": {},
   "outputs": [],
   "source": [
    "df = pd.DataFrame(data=np.arange(0, 20 + 0.1, 0.1), columns=[\"hydraulicload\"])\n",
    "df.to_csv(\"data_sets/waterlevels.csv\", index=False)"
   ]
  },
  {
   "cell_type": "code",
   "execution_count": null,
   "metadata": {},
   "outputs": [],
   "source": [
    "# df_output = pd.read_excel(\"data_sets/invoer_piping.xlsx\", index_col=0,sheet_name='output')\n",
    "# df_output.to_csv('data_sets/full_test_output.csv',index=False)"
   ]
  },
  {
   "cell_type": "code",
   "execution_count": null,
   "metadata": {},
   "outputs": [],
   "source": [
    "# df_output = pd.read_excel(\"data_sets/invoer_piping.xlsx\", index_col=0,sheet_name='output_simple')\n",
    "# df_output.to_csv('data_sets/full_test_output_simple.csv',index=False)"
   ]
  },
  {
   "cell_type": "code",
   "execution_count": null,
   "metadata": {},
   "outputs": [],
   "source": [
    "df = pd.read_excel(\"data_sets/invoer_piping.xlsx\", index_col=0, sheet_name=\"input\")\n",
    "# df.to_csv('data_sets/full_test_input.csv',index=False)"
   ]
  },
  {
   "cell_type": "code",
   "execution_count": null,
   "metadata": {},
   "outputs": [],
   "source": [
    "prob_input = ProbInput().from_dataframe(df)"
   ]
  },
  {
   "cell_type": "code",
   "execution_count": null,
   "metadata": {},
   "outputs": [],
   "source": [
    "settings, result = ProbPipingFixedWaterlevel().fixed_waterlevel_fragilitycurve(\n",
    "    prob_input=prob_input, hlist=np.arange(0, 15, 0.25).tolist()\n",
    ")"
   ]
  },
  {
   "cell_type": "code",
   "execution_count": null,
   "metadata": {},
   "outputs": [],
   "source": [
    "df = pd.DataFrame(\n",
    "    data=[(res.h, res.prob_cond) for res in result.results],\n",
    "    columns=[\"waterlevel\", \"failure_probability\"],\n",
    ")"
   ]
  },
  {
   "cell_type": "code",
   "execution_count": null,
   "metadata": {},
   "outputs": [],
   "source": [
    "df.set_index(\"waterlevel\").plot()"
   ]
  },
  {
   "cell_type": "code",
   "execution_count": null,
   "metadata": {},
   "outputs": [],
   "source": [
    "settings, res_uplift, res_heave, res_Sellmeijer, res_combined = (\n",
    "    ProbPipingFixedWaterlevelSimple().fixed_waterlevel_fragilitycurve(\n",
    "        prob_input=prob_input, hlist=np.arange(0, 15, 0.25).tolist()\n",
    "    )\n",
    ")"
   ]
  },
  {
   "cell_type": "code",
   "execution_count": null,
   "metadata": {},
   "outputs": [],
   "source": [
    "fig, ax = plt.subplots(1)\n",
    "for result in [res_uplift, res_heave, res_Sellmeijer, res_combined]:\n",
    "    df = pd.DataFrame(\n",
    "        data=[(res.h, res.prob_cond) for res in result.results],\n",
    "        columns=[\"waterlevel\", result.results[0].mechanism],\n",
    "    )\n",
    "    df.set_index(\"waterlevel\").plot(ax=ax)\n",
    "    ax.legend()"
   ]
  }
 ],
 "metadata": {
  "kernelspec": {
   "display_name": "default",
   "language": "python",
   "name": "python3"
  },
  "language_info": {
   "codemirror_mode": {
    "name": "ipython",
    "version": 3
   },
   "file_extension": ".py",
   "mimetype": "text/x-python",
   "name": "python",
   "nbconvert_exporter": "python",
   "pygments_lexer": "ipython3",
   "version": "3.12.8"
  }
 },
 "nbformat": 4,
 "nbformat_minor": 2
}
