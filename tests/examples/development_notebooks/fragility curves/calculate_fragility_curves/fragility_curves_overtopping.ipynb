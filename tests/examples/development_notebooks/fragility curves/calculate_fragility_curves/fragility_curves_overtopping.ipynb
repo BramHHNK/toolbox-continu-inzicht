{
 "cells": [
  {
   "cell_type": "code",
   "execution_count": null,
   "metadata": {},
   "outputs": [],
   "source": [
    "from pathlib import Path\n",
    "\n",
    "from toolbox_continu_inzicht import Config, DataAdapter\n",
    "from toolbox_continu_inzicht.fragility_curves import (\n",
    "    ChangeCrestHeightFragilityCurveOvertopping,\n",
    "    FragilityCurveOvertoppingMultiple,\n",
    "    ShiftFragilityCurveOvertopping,\n",
    ")"
   ]
  },
  {
   "cell_type": "code",
   "execution_count": null,
   "metadata": {},
   "outputs": [],
   "source": [
    "path = Path.cwd() / \"data_sets\"\n",
    "config = Config(config_path=path / \"test_fragility_multiple_curves_overtopping.yaml\")\n",
    "config.lees_config()\n",
    "data_adapter = DataAdapter(config=config)"
   ]
  },
  {
   "cell_type": "code",
   "execution_count": null,
   "metadata": {},
   "outputs": [],
   "source": [
    "fragility_curves_overtopping = FragilityCurveOvertoppingMultiple(\n",
    "    data_adapter=data_adapter\n",
    ")\n",
    "fragility_curves_overtopping.run(\n",
    "    input=[\"slopes\", \"profiles\", \"bedlevel_fetch\"],\n",
    "    output=\"fragility_curves\",\n",
    ")"
   ]
  },
  {
   "cell_type": "code",
   "execution_count": null,
   "metadata": {},
   "outputs": [],
   "source": [
    "ids = fragility_curves_overtopping.df_out.section_id.unique()\n",
    "df = fragility_curves_overtopping.df_out.set_index(\"waterlevels\")"
   ]
  },
  {
   "cell_type": "code",
   "execution_count": null,
   "metadata": {},
   "outputs": [],
   "source": [
    "import matplotlib.pyplot as plt"
   ]
  },
  {
   "cell_type": "code",
   "execution_count": null,
   "metadata": {},
   "outputs": [],
   "source": [
    "shift_fragility_curves_overtopping = FragilityCurveOvertoppingMultiple(\n",
    "    data_adapter=data_adapter\n",
    ")\n",
    "shift_fragility_curves_overtopping.fragility_curve_function = (\n",
    "    ShiftFragilityCurveOvertopping\n",
    ")\n",
    "shift_fragility_curves_overtopping.effect = 0.5\n",
    "shift_fragility_curves_overtopping.run(\n",
    "    input=[\"slopes\", \"profiles\", \"bedlevel_fetch\"],\n",
    "    output=\"fragility_curves\",\n",
    ")"
   ]
  },
  {
   "cell_type": "code",
   "execution_count": null,
   "metadata": {},
   "outputs": [],
   "source": [
    "df_shift = shift_fragility_curves_overtopping.df_out.set_index(\"waterlevels\")"
   ]
  },
  {
   "cell_type": "code",
   "execution_count": null,
   "metadata": {},
   "outputs": [],
   "source": [
    "fig, ax = plt.subplots(1, 1)\n",
    "for i, id in enumerate(ids):\n",
    "    df[df[\"section_id\"] == id][\"failure_probability\"].plot(\n",
    "        color=f\"C{i}\", ls=\"--\", label=f\"section {id}\", ax=ax\n",
    "    )\n",
    "    df_shift[df_shift[\"section_id\"] == id][\"failure_probability\"].plot(\n",
    "        color=f\"C{i}\", ax=ax\n",
    "    )\n",
    "ax.legend()"
   ]
  },
  {
   "cell_type": "code",
   "execution_count": null,
   "metadata": {},
   "outputs": [],
   "source": [
    "change_crest_fragility_curves_overtopping = FragilityCurveOvertoppingMultiple(\n",
    "    data_adapter=data_adapter\n",
    ")\n",
    "change_crest_fragility_curves_overtopping.fragility_curve_function = (\n",
    "    ChangeCrestHeightFragilityCurveOvertopping\n",
    ")\n",
    "change_crest_fragility_curves_overtopping.effect = 0.5\n",
    "change_crest_fragility_curves_overtopping.run(\n",
    "    input=[\"slopes\", \"profiles\", \"bedlevel_fetch\"],\n",
    "    output=\"fragility_curves\",\n",
    ")"
   ]
  },
  {
   "cell_type": "code",
   "execution_count": null,
   "metadata": {},
   "outputs": [],
   "source": [
    "df_change_crest = change_crest_fragility_curves_overtopping.df_out.set_index(\n",
    "    \"waterlevels\"\n",
    ")"
   ]
  },
  {
   "cell_type": "code",
   "execution_count": null,
   "metadata": {},
   "outputs": [],
   "source": [
    "fig, ax = plt.subplots(1, 1)\n",
    "for i, id in enumerate(ids):\n",
    "    df[df[\"section_id\"] == id][\"failure_probability\"].plot(\n",
    "        color=f\"C{i}\", ls=\"--\", label=f\"section {id}\", ax=ax, alpha=0.25\n",
    "    )\n",
    "    df_shift[df_shift[\"section_id\"] == id][\"failure_probability\"].plot(\n",
    "        color=f\"C{i}\", ax=ax, alpha=0.5\n",
    "    )\n",
    "    df_change_crest[df_change_crest[\"section_id\"] == id][\"failure_probability\"].plot(\n",
    "        color=f\"C{i}\", ax=ax, alpha=0.5\n",
    "    )\n",
    "ax.legend()"
   ]
  },
  {
   "cell_type": "code",
   "execution_count": null,
   "metadata": {},
   "outputs": [],
   "source": []
  }
 ],
 "metadata": {
  "kernelspec": {
   "display_name": "default",
   "language": "python",
   "name": "python3"
  },
  "language_info": {
   "codemirror_mode": {
    "name": "ipython",
    "version": 3
   },
   "file_extension": ".py",
   "mimetype": "text/x-python",
   "name": "python",
   "nbconvert_exporter": "python",
   "pygments_lexer": "ipython3",
   "version": "3.12.8"
  }
 },
 "nbformat": 4,
 "nbformat_minor": 2
}
