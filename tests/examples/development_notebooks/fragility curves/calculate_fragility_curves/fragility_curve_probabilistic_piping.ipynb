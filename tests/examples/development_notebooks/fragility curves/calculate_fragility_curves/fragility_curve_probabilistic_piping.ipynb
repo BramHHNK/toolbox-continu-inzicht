{
 "cells": [
  {
   "cell_type": "code",
   "execution_count": null,
   "metadata": {},
   "outputs": [],
   "source": [
    "from pathlib import Path\n",
    "\n",
    "from toolbox_continu_inzicht.base.data_adapter import Config, DataAdapter"
   ]
  },
  {
   "cell_type": "markdown",
   "metadata": {},
   "source": []
  },
  {
   "cell_type": "code",
   "execution_count": null,
   "metadata": {},
   "outputs": [],
   "source": [
    "path = Path.cwd() / \"data_sets\"\n",
    "config = Config(config_path=path / \"test_fragility_curve_piping.yaml\")\n",
    "config.lees_config()\n",
    "data_adapter = DataAdapter(config=config)"
   ]
  },
  {
   "cell_type": "markdown",
   "metadata": {},
   "source": [
    "```yaml\n",
    "GlobalVariables:\n",
    "    rootdir: \"data_sets\"\n",
    "    moments: [-24,0,24,48]\n",
    "\n",
    "    FragilityCurvePipingFixedWaterlevel:\n",
    "        debug: False\n",
    "        progress: True\n",
    "    \n",
    "    FragilityCurvePipingFixedWaterlevel:\n",
    "        debug: False\n",
    "        progress: True\n",
    "\n",
    "\n",
    "DataAdapter:\n",
    "    default_options:\n",
    "        csv:\n",
    "            sep: \",\"\n",
    "        \n",
    "    probabilistic_input:\n",
    "        type: excel\n",
    "        file: \"invoer_piping_v2.xlsx\"\n",
    "        index_col: 0\n",
    "    waterlevels:\n",
    "        type: csv\n",
    "        file: \"waterlevels.csv\"\n",
    "    fragility_curve:\n",
    "        type: csv\n",
    "        file: \"fragility_curves_piping.csv\"\n",
    "\n",
    "```"
   ]
  },
  {
   "cell_type": "code",
   "execution_count": null,
   "metadata": {},
   "outputs": [],
   "source": [
    "from toolbox_continu_inzicht.fragility_curves import (\n",
    "    FragilityCurvePipingFixedWaterlevel,\n",
    ")"
   ]
  },
  {
   "cell_type": "code",
   "execution_count": null,
   "metadata": {},
   "outputs": [],
   "source": [
    "fragility_curve_piping_fixed_waterlevel = FragilityCurvePipingFixedWaterlevel(\n",
    "    data_adapter=data_adapter\n",
    ")\n",
    "fragility_curve_piping_fixed_waterlevel.run(\n",
    "    input=[\"probabilistic_input\", \"waterlevels\"], output=\"fragility_curve\"\n",
    ")"
   ]
  },
  {
   "cell_type": "code",
   "execution_count": null,
   "metadata": {},
   "outputs": [],
   "source": [
    "from matplotlib import pyplot as plt\n",
    "\n",
    "fig, ax = plt.subplots(1)\n",
    "for index, name in enumerate(\n",
    "    [\n",
    "        \"df_result_uplift\",\n",
    "        \"df_result_heave\",\n",
    "        \"df_result_sellmeijer\",\n",
    "        \"df_result_combined\",\n",
    "    ]\n",
    "):\n",
    "    df = fragility_curve_piping_fixed_waterlevel.__getattribute__(name)\n",
    "    ls = \"--\"\n",
    "    if index % 2 == 0:\n",
    "        ls = \"-\"\n",
    "    df.set_index(\"waterlevels\").rename(\n",
    "        columns={\"failure_probability\": name.split(\"_\")[-1]}\n",
    "    ).plot(ax=ax, ls=ls)"
   ]
  }
 ],
 "metadata": {
  "kernelspec": {
   "display_name": "default",
   "language": "python",
   "name": "python3"
  },
  "language_info": {
   "codemirror_mode": {
    "name": "ipython",
    "version": 3
   },
   "file_extension": ".py",
   "mimetype": "text/x-python",
   "name": "python",
   "nbconvert_exporter": "python",
   "pygments_lexer": "ipython3",
   "version": "3.12.8"
  }
 },
 "nbformat": 4,
 "nbformat_minor": 2
}
