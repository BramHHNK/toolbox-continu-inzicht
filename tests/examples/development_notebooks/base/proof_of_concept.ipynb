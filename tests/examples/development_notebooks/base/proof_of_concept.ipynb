{
 "cells": [
  {
   "cell_type": "markdown",
   "metadata": {},
   "source": [
    "# Architectuur voorbeeld \n",
    "Om de architectuur weer te geven wordt een simple voorbeeld gegeven door een reeks keer twee en gedeelddoor te doen.\n",
    "\n",
    "De opbouw van de code is hier onder weergegeven:\n",
    "![opbouw_code](https://github.com/continu-inzicht/toolbox-continu-inzicht/blob/main/docs/assets/opbouw_code.png?raw=true)\n",
    "\n",
    "Een voorbeeld senario is het inladen van CSV en wegschrijven naar csv:\n",
    "\n",
    "![voorbeeld csv](https://github.com/continu-inzicht/toolbox-continu-inzicht/blob/main/docs/assets/voorbeeld_config_csv.png?raw=true)\n",
    "\n",
    "Aan de voorkant ziet dat er zo uit:"
   ]
  },
  {
   "cell_type": "markdown",
   "metadata": {},
   "source": [
    "#  importeer de benodigde functies"
   ]
  },
  {
   "cell_type": "code",
   "execution_count": null,
   "metadata": {},
   "outputs": [],
   "source": [
    "from pathlib import Path\n",
    "\n",
    "from toolbox_continu_inzicht import Config"
   ]
  },
  {
   "cell_type": "markdown",
   "metadata": {},
   "source": [
    "## 1. Voorbeeld met CSV\n",
    "Lees de configuratie in:\n",
    "\n",
    "Dit leest een configuratie bestand `test_config.yaml` in. \n",
    "Hier definieren we een aantal data adpaters die lezen/schrijven mogelijk maken:\n",
    "\n",
    "```yaml\n",
    "GlobalVariables:\n",
    "    rootdir: 'tests/src/base/data_sets'\n",
    "\n",
    "DataAdapter:\n",
    "    postgresql_database:\n",
    "        database: 'citoolbox'\n",
    "        schema: 'citoolbox_schema'\n",
    "        \n",
    "    my_csv_in: \n",
    "        type: csv\n",
    "        file: 'test_csv_in.csv'\n",
    "    my_csv_in_delim: \n",
    "        type: csv\n",
    "        file: 'test_csv_in_delim.csv'\n",
    "        sep: ';'\n",
    "    MyCSV_out: \n",
    "        type: csv\n",
    "        file: 'test_csv_out.csv'\n",
    "    MyPostgresql: \n",
    "        type: postgresql_database\n",
    "        table: data_test\n",
    "    MyNetCDF_in:\n",
    "        type: netcdf\n",
    "        file: 'test_netcdf_in.nc'\n",
    "    MyNetCDF_out:\n",
    "        type: netcdf\n",
    "        file: 'test_netcdf_out.nc'\n",
    "\n",
    "...\n",
    "\n",
    "```"
   ]
  },
  {
   "cell_type": "code",
   "execution_count": null,
   "metadata": {},
   "outputs": [],
   "source": [
    "test_data_sets_path = Path.cwd() / \"data_sets\"\n",
    "c = Config(config_path=test_data_sets_path / \"test_config.yaml\")\n",
    "c.lees_config()"
   ]
  },
  {
   "cell_type": "markdown",
   "metadata": {},
   "source": [
    "Zet de data adapter klaar en geef deze de configuratie mee "
   ]
  },
  {
   "cell_type": "code",
   "execution_count": null,
   "metadata": {},
   "outputs": [],
   "source": [
    "from toolbox_continu_inzicht import DataAdapter\n",
    "\n",
    "data = DataAdapter(config=c)"
   ]
  },
  {
   "cell_type": "markdown",
   "metadata": {},
   "source": [
    "Run de module met CSV"
   ]
  },
  {
   "cell_type": "code",
   "execution_count": null,
   "metadata": {},
   "outputs": [],
   "source": [
    "from toolbox_continu_inzicht.proof_of_concept import example_module\n",
    "\n",
    "keer_twee = example_module.ValuesTimesTwo(data_adapter=data)"
   ]
  },
  {
   "cell_type": "code",
   "execution_count": null,
   "metadata": {},
   "outputs": [],
   "source": [
    "keer_twee.run(input=\"mycsv_in\", output=\"mycsv_out\")"
   ]
  },
  {
   "cell_type": "code",
   "execution_count": null,
   "metadata": {},
   "outputs": [],
   "source": []
  },
  {
   "cell_type": "code",
   "execution_count": null,
   "metadata": {},
   "outputs": [],
   "source": [
    "keer_twee.df_in"
   ]
  },
  {
   "cell_type": "code",
   "execution_count": null,
   "metadata": {},
   "outputs": [],
   "source": [
    "keer_twee.df_out"
   ]
  },
  {
   "cell_type": "markdown",
   "metadata": {},
   "source": [
    "de `values` waardes uit de vorige table zijn vermenigvuldigd met twee"
   ]
  },
  {
   "cell_type": "markdown",
   "metadata": {},
   "source": [
    "## 2. Voorbeeld met postgressql database:\n",
    "\n",
    "![voorbeeld_config_db](https://github.com/continu-inzicht/toolbox-continu-inzicht/blob/main/docs/assets/voorbeeld_config_db.png?raw=true)"
   ]
  },
  {
   "cell_type": "code",
   "execution_count": null,
   "metadata": {},
   "outputs": [],
   "source": [
    "delen_twee = example_module.ValuesDivideTwo(data_adapter=data)"
   ]
  },
  {
   "cell_type": "markdown",
   "metadata": {},
   "source": [
    "Doet het nu even niet op github actions: "
   ]
  },
  {
   "cell_type": "code",
   "execution_count": null,
   "metadata": {},
   "outputs": [],
   "source": [
    "delen_twee.run(input=\"mypostgresql\", output=\"mypostgresql\")"
   ]
  },
  {
   "cell_type": "markdown",
   "metadata": {},
   "source": [
    "Dit zijn de zelfde waardes als net alleen uit de database"
   ]
  },
  {
   "cell_type": "code",
   "execution_count": null,
   "metadata": {},
   "outputs": [],
   "source": [
    "delen_twee.df_in"
   ]
  },
  {
   "cell_type": "markdown",
   "metadata": {},
   "source": [
    "Na het delen door twee ziet de data er alsvolg uit:"
   ]
  },
  {
   "cell_type": "code",
   "execution_count": null,
   "metadata": {},
   "outputs": [],
   "source": [
    "delen_twee.df_out"
   ]
  },
  {
   "cell_type": "markdown",
   "metadata": {},
   "source": [
    "_Maak de aanpassingen in de testdatabase ongedaan zodat het voorbeeld het zelfde blijft_\n",
    "\n",
    "_De `inverse_test_config` doet het tegenovergestelde_"
   ]
  },
  {
   "cell_type": "code",
   "execution_count": null,
   "metadata": {},
   "outputs": [],
   "source": [
    "delen_twee_ongedaan = example_module.ValuesTimesTwo(data_adapter=data)\n",
    "delen_twee_ongedaan.run(input=\"mypostgresql\", output=\"mypostgresql\")\n",
    "delen_twee_ongedaan.df_out"
   ]
  },
  {
   "cell_type": "markdown",
   "metadata": {},
   "source": [
    "## 3. Voorbeeld met lezen uit data base en schrijven naar csv:\n",
    "\n",
    "![voorbeeld csv](https://github.com/continu-inzicht/toolbox-continu-inzicht/blob/main/docs/assets/voorbeeld_config_mix.png?raw=true)"
   ]
  },
  {
   "cell_type": "code",
   "execution_count": null,
   "metadata": {},
   "outputs": [],
   "source": [
    "mix_keer_twee = example_module.ValuesDivideTwo(data_adapter=data)"
   ]
  },
  {
   "cell_type": "code",
   "execution_count": null,
   "metadata": {},
   "outputs": [],
   "source": [
    "mix_keer_twee.run(input=\"mypostgresql\", output=\"mycsv_out\")"
   ]
  },
  {
   "cell_type": "code",
   "execution_count": null,
   "metadata": {},
   "outputs": [],
   "source": [
    "mix_keer_twee.df_in"
   ]
  },
  {
   "cell_type": "code",
   "execution_count": null,
   "metadata": {},
   "outputs": [],
   "source": [
    "mix_keer_twee.df_out"
   ]
  },
  {
   "cell_type": "markdown",
   "metadata": {},
   "source": [
    "Dit bestand kunnen we dan ook na lopen:"
   ]
  },
  {
   "cell_type": "code",
   "execution_count": null,
   "metadata": {},
   "outputs": [],
   "source": [
    "import pandas as pd\n",
    "\n",
    "path = test_data_sets_path / \"test_csv_out_mix.csv\"\n",
    "pd.read_csv(path)"
   ]
  },
  {
   "cell_type": "markdown",
   "metadata": {},
   "source": [
    "En als we hem weer runnen zien we dat de database onveranderd is omdat we het wegschrijven naar de csv"
   ]
  },
  {
   "cell_type": "code",
   "execution_count": null,
   "metadata": {},
   "outputs": [],
   "source": [
    "mix_keer_twee.run(input=\"mypostgresql\", output=\"mycsv_out\")"
   ]
  },
  {
   "cell_type": "code",
   "execution_count": null,
   "metadata": {},
   "outputs": [],
   "source": [
    "mix_keer_twee.df_in"
   ]
  },
  {
   "cell_type": "markdown",
   "metadata": {},
   "source": [
    "Check of delimiter werkt"
   ]
  },
  {
   "cell_type": "code",
   "execution_count": null,
   "metadata": {},
   "outputs": [],
   "source": [
    "keer_twee_delim = example_module.ValuesTimesTwo(data_adapter=data)"
   ]
  },
  {
   "cell_type": "code",
   "execution_count": null,
   "metadata": {},
   "outputs": [],
   "source": [
    "keer_twee_delim.run(input=\"mycsv_in_delim\", output=\"mycsv_out\")"
   ]
  },
  {
   "cell_type": "code",
   "execution_count": null,
   "metadata": {},
   "outputs": [],
   "source": [
    "keer_twee_delim.df_in"
   ]
  },
  {
   "cell_type": "code",
   "execution_count": null,
   "metadata": {},
   "outputs": [],
   "source": [
    "keer_twee_delim.df_out"
   ]
  }
 ],
 "metadata": {
  "kernelspec": {
   "display_name": "default",
   "language": "python",
   "name": "python3"
  },
  "language_info": {
   "codemirror_mode": {
    "name": "ipython",
    "version": 3
   },
   "file_extension": ".py",
   "mimetype": "text/x-python",
   "name": "python",
   "nbconvert_exporter": "python",
   "pygments_lexer": "ipython3",
   "version": "3.12.6"
  }
 },
 "nbformat": 4,
 "nbformat_minor": 2
}
