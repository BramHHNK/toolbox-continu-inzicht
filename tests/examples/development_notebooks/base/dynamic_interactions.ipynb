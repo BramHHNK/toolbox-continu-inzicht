{
 "cells": [
  {
   "cell_type": "markdown",
   "metadata": {},
   "source": [
    "# dynamische interactie\n",
    "\n",
    "Na sprint 2 van het ontwikkelen van de TBCI kwam de vraag of ook de code dynamischer gebruikt kan woorden:"
   ]
  },
  {
   "cell_type": "code",
   "execution_count": 1,
   "metadata": {},
   "outputs": [],
   "source": [
    "from pathlib import Path\n",
    "\n",
    "from toolbox_continu_inzicht import Config"
   ]
  },
  {
   "cell_type": "markdown",
   "metadata": {},
   "source": [
    "## 1. Voorbeeld met CSV\n",
    "Lees de configuratie in:\n",
    "\n",
    "Dit leest een configuratie bestand `test_config.yaml` in. \n",
    "Hier definieren we een aantal data adpaters die lezen/schrijven mogelijk maken:\n",
    "\n",
    "```yaml\n",
    "GlobalVariables:\n",
    "    rootdir: 'tests/src/base/data_sets'\n",
    "\n",
    "DataAdapter:\n",
    "    postgresql_database:\n",
    "        database: 'citoolbox'\n",
    "        schema: 'citoolbox_schema'\n",
    "        \n",
    "    my_csv_in: \n",
    "        type: csv\n",
    "        file: 'test_csv_in.csv'\n",
    "    my_csv_in_delim: \n",
    "        type: csv\n",
    "        file: 'test_csv_in_delim.csv'\n",
    "        sep: ';'\n",
    "    MyCSV_out: \n",
    "        type: csv\n",
    "        file: 'test_csv_out.csv'\n",
    "    MyPostgresql: \n",
    "        type: postgresql_database\n",
    "        table: data_test\n",
    "    MyNetCDF_in:\n",
    "        type: netcdf\n",
    "        file: 'test_netcdf_in.nc'\n",
    "    MyNetCDF_out:\n",
    "        type: netcdf\n",
    "        file: 'test_netcdf_out.nc'\n",
    "\n",
    "...\n",
    "\n",
    "```"
   ]
  },
  {
   "cell_type": "code",
   "execution_count": 2,
   "metadata": {},
   "outputs": [],
   "source": [
    "test_data_sets_path = Path.cwd() / \"data_sets\"\n",
    "config = Config(config_path=test_data_sets_path / \"test_config.yaml\")\n",
    "config.lees_config()"
   ]
  },
  {
   "cell_type": "markdown",
   "metadata": {},
   "source": [
    "Zet de data adapter klaar en geef deze de configuratie mee "
   ]
  },
  {
   "cell_type": "code",
   "execution_count": 3,
   "metadata": {},
   "outputs": [],
   "source": [
    "from toolbox_continu_inzicht import DataAdapter\n",
    "\n",
    "data_adapter = DataAdapter(config=config)"
   ]
  },
  {
   "cell_type": "markdown",
   "metadata": {},
   "source": [
    "Met de functie `set_global_variable` kan dit nu"
   ]
  },
  {
   "cell_type": "code",
   "execution_count": 4,
   "metadata": {},
   "outputs": [
    {
     "data": {
      "text/plain": [
       "datetime.datetime(2024, 11, 18, 13, 0, tzinfo=datetime.timezone.utc)"
      ]
     },
     "execution_count": 4,
     "metadata": {},
     "output_type": "execute_result"
    }
   ],
   "source": [
    "data_adapter.config.global_variables[\"calc_time\"]"
   ]
  },
  {
   "cell_type": "code",
   "execution_count": 5,
   "metadata": {},
   "outputs": [],
   "source": [
    "from datetime import datetime, timedelta, timezone\n",
    "\n",
    "dt_new_time = datetime.now() + timedelta(days=1)\n",
    "new_time = datetime(\n",
    "    dt_new_time.year,\n",
    "    dt_new_time.month,\n",
    "    dt_new_time.day,\n",
    "    dt_new_time.hour,\n",
    "    0,\n",
    "    0,\n",
    ").replace(tzinfo=timezone.utc)\n",
    "\n",
    "data_adapter.set_global_variable(\"calc_time\", new_time)"
   ]
  },
  {
   "cell_type": "code",
   "execution_count": 6,
   "metadata": {},
   "outputs": [
    {
     "data": {
      "text/plain": [
       "datetime.datetime(2024, 11, 19, 14, 0, tzinfo=datetime.timezone.utc)"
      ]
     },
     "execution_count": 6,
     "metadata": {},
     "output_type": "execute_result"
    }
   ],
   "source": [
    "data_adapter.config.global_variables[\"calc_time\"]"
   ]
  },
  {
   "cell_type": "code",
   "execution_count": 7,
   "metadata": {},
   "outputs": [],
   "source": [
    "from toolbox_continu_inzicht.proof_of_concept import example_module\n",
    "\n",
    "keer_twee = example_module.ValuesTimesTwo(data_adapter=data_adapter)"
   ]
  },
  {
   "cell_type": "code",
   "execution_count": 8,
   "metadata": {},
   "outputs": [],
   "source": [
    "keer_twee.run(input=\"mycsv_in\", output=\"mycsv_out\")"
   ]
  },
  {
   "cell_type": "code",
   "execution_count": 9,
   "metadata": {},
   "outputs": [],
   "source": [
    "input_df = keer_twee.df_in"
   ]
  },
  {
   "cell_type": "code",
   "execution_count": 10,
   "metadata": {},
   "outputs": [
    {
     "data": {
      "text/html": [
       "<div>\n",
       "<style scoped>\n",
       "    .dataframe tbody tr th:only-of-type {\n",
       "        vertical-align: middle;\n",
       "    }\n",
       "\n",
       "    .dataframe tbody tr th {\n",
       "        vertical-align: top;\n",
       "    }\n",
       "\n",
       "    .dataframe thead th {\n",
       "        text-align: right;\n",
       "    }\n",
       "</style>\n",
       "<table border=\"1\" class=\"dataframe\">\n",
       "  <thead>\n",
       "    <tr style=\"text-align: right;\">\n",
       "      <th></th>\n",
       "      <th>objectid</th>\n",
       "      <th>objecttype</th>\n",
       "      <th>parameterid</th>\n",
       "      <th>date_time</th>\n",
       "      <th>value</th>\n",
       "    </tr>\n",
       "  </thead>\n",
       "  <tbody>\n",
       "    <tr>\n",
       "      <th>0</th>\n",
       "      <td>1</td>\n",
       "      <td>measuringstation</td>\n",
       "      <td>1</td>\n",
       "      <td>1726227377000</td>\n",
       "      <td>4.8</td>\n",
       "    </tr>\n",
       "    <tr>\n",
       "      <th>1</th>\n",
       "      <td>2</td>\n",
       "      <td>measuringstation</td>\n",
       "      <td>1</td>\n",
       "      <td>1726227377000</td>\n",
       "      <td>5.0</td>\n",
       "    </tr>\n",
       "    <tr>\n",
       "      <th>2</th>\n",
       "      <td>3</td>\n",
       "      <td>measuringstation</td>\n",
       "      <td>1</td>\n",
       "      <td>1726227377000</td>\n",
       "      <td>5.2</td>\n",
       "    </tr>\n",
       "    <tr>\n",
       "      <th>3</th>\n",
       "      <td>4</td>\n",
       "      <td>measuringstation</td>\n",
       "      <td>1</td>\n",
       "      <td>1726227377000</td>\n",
       "      <td>5.4</td>\n",
       "    </tr>\n",
       "    <tr>\n",
       "      <th>4</th>\n",
       "      <td>5</td>\n",
       "      <td>measuringstation</td>\n",
       "      <td>1</td>\n",
       "      <td>1726227377000</td>\n",
       "      <td>5.6</td>\n",
       "    </tr>\n",
       "  </tbody>\n",
       "</table>\n",
       "</div>"
      ],
      "text/plain": [
       "   objectid        objecttype  parameterid      date_time  value\n",
       "0         1  measuringstation            1  1726227377000    4.8\n",
       "1         2  measuringstation            1  1726227377000    5.0\n",
       "2         3  measuringstation            1  1726227377000    5.2\n",
       "3         4  measuringstation            1  1726227377000    5.4\n",
       "4         5  measuringstation            1  1726227377000    5.6"
      ]
     },
     "execution_count": 10,
     "metadata": {},
     "output_type": "execute_result"
    }
   ],
   "source": [
    "input_df"
   ]
  },
  {
   "cell_type": "markdown",
   "metadata": {},
   "source": [
    "```yaml\n",
    "GlobalVariables:\n",
    "    rootdir: 'data_sets'\n",
    "    moments: [-24,0,24,48] \n",
    "\n",
    "DataAdapter:\n",
    "    default_options:        \n",
    "        csv:\n",
    "            sep: \",\"\n",
    "\n",
    "    my_csv: \n",
    "        type: csv\n",
    "        file: \"test_csv_in.csv\"\n",
    "        sep: \";\"\n",
    "    my_df_python:\n",
    "        type: python\n",
    "    my_csv_out:   \n",
    "        type: csv\n",
    "        file: \"test_csv_in.csv\"\n",
    "\n",
    "```"
   ]
  },
  {
   "cell_type": "code",
   "execution_count": 11,
   "metadata": {},
   "outputs": [],
   "source": [
    "config = Config(config_path=test_data_sets_path / \"test_config_dynamic.yaml\")\n",
    "config.lees_config()"
   ]
  },
  {
   "cell_type": "code",
   "execution_count": 12,
   "metadata": {},
   "outputs": [],
   "source": [
    "data_adapter = DataAdapter(config=config)\n",
    "data_adapter.set_dataframe_adapter(\"my_df_python\", input_df)\n"
   ]
  },
  {
   "cell_type": "code",
   "execution_count": 20,
   "metadata": {},
   "outputs": [
    {
     "ename": "UserWarning",
     "evalue": "Data adapter `key='wrong_input_key'` niet gevonden, en if_not_exist='wrong_input_str' is ongeldig, moet `raise` of `create` zijn",
     "output_type": "error",
     "traceback": [
      "\u001b[1;31m---------------------------------------------------------------------------\u001b[0m",
      "\u001b[1;31mUserWarning\u001b[0m                               Traceback (most recent call last)",
      "Cell \u001b[1;32mIn[20], line 2\u001b[0m\n\u001b[0;32m      1\u001b[0m data_adapter \u001b[38;5;241m=\u001b[39m DataAdapter(config\u001b[38;5;241m=\u001b[39mconfig)\n\u001b[1;32m----> 2\u001b[0m \u001b[43mdata_adapter\u001b[49m\u001b[38;5;241;43m.\u001b[39;49m\u001b[43mset_dataframe_adapter\u001b[49m\u001b[43m(\u001b[49m\u001b[38;5;124;43m\"\u001b[39;49m\u001b[38;5;124;43mwrong_input_key\u001b[39;49m\u001b[38;5;124;43m\"\u001b[39;49m\u001b[43m,\u001b[49m\u001b[43m \u001b[49m\u001b[43minput_df\u001b[49m\u001b[43m,\u001b[49m\u001b[43mif_not_exist\u001b[49m\u001b[38;5;241;43m=\u001b[39;49m\u001b[38;5;124;43m\"\u001b[39;49m\u001b[38;5;124;43mwrong_input_str\u001b[39;49m\u001b[38;5;124;43m\"\u001b[39;49m\u001b[43m)\u001b[49m\n",
      "File \u001b[1;32mC:\\Data\\Python\\toolbox-continu-inzicht\\src\\toolbox_continu_inzicht\\base\\data_adapter.py:1025\u001b[0m, in \u001b[0;36mDataAdapter.set_dataframe_adapter\u001b[1;34m(self, key, df, if_not_exist)\u001b[0m\n\u001b[0;32m   1019\u001b[0m         elif if_not_exist == \"create\":\n\u001b[0;32m   1020\u001b[0m             self.config.data_adapters[key] = {\n\u001b[0;32m   1021\u001b[0m                 \"type\": \"python\",\n\u001b[0;32m   1022\u001b[0m                 \"dataframe_from_python\": df,\n\u001b[0;32m   1023\u001b[0m             }\n\u001b[1;32m-> 1025\u001b[0m         else:\n\u001b[0;32m   1026\u001b[0m             raise UserWarning(\n\u001b[0;32m   1027\u001b[0m                 f\"Data adapter `{key=}` niet gevonden, en {if_not_exist=} is ongeldig, moet `raise` of `create` zijn\"\n\u001b[0;32m   1028\u001b[0m             )\n\u001b[0;32m   1031\u001b[0m def get_kwargs(function, input_config: dict) -> dict:\n",
      "\u001b[1;31mUserWarning\u001b[0m: Data adapter `key='wrong_input_key'` niet gevonden, en if_not_exist='wrong_input_str' is ongeldig, moet `raise` of `create` zijn"
     ]
    }
   ],
   "source": [
    "data_adapter = DataAdapter(config=config)\n",
    "data_adapter.set_dataframe_adapter(\"wrong_input_key\", input_df,if_not_exist=\"wrong_input_str\")"
   ]
  },
  {
   "cell_type": "code",
   "execution_count": 13,
   "metadata": {},
   "outputs": [],
   "source": [
    "keer_twee = example_module.ValuesTimesTwo(data_adapter=data_adapter)\n",
    "keer_twee.run(input=\"my_df_python\", output=\"my_df_python\")"
   ]
  },
  {
   "cell_type": "code",
   "execution_count": 14,
   "metadata": {},
   "outputs": [
    {
     "data": {
      "text/html": [
       "<div>\n",
       "<style scoped>\n",
       "    .dataframe tbody tr th:only-of-type {\n",
       "        vertical-align: middle;\n",
       "    }\n",
       "\n",
       "    .dataframe tbody tr th {\n",
       "        vertical-align: top;\n",
       "    }\n",
       "\n",
       "    .dataframe thead th {\n",
       "        text-align: right;\n",
       "    }\n",
       "</style>\n",
       "<table border=\"1\" class=\"dataframe\">\n",
       "  <thead>\n",
       "    <tr style=\"text-align: right;\">\n",
       "      <th></th>\n",
       "      <th>objectid</th>\n",
       "      <th>objecttype</th>\n",
       "      <th>parameterid</th>\n",
       "      <th>date_time</th>\n",
       "      <th>value</th>\n",
       "    </tr>\n",
       "  </thead>\n",
       "  <tbody>\n",
       "    <tr>\n",
       "      <th>0</th>\n",
       "      <td>1</td>\n",
       "      <td>measuringstation</td>\n",
       "      <td>1</td>\n",
       "      <td>1726227377000</td>\n",
       "      <td>9.6</td>\n",
       "    </tr>\n",
       "    <tr>\n",
       "      <th>1</th>\n",
       "      <td>2</td>\n",
       "      <td>measuringstation</td>\n",
       "      <td>1</td>\n",
       "      <td>1726227377000</td>\n",
       "      <td>10.0</td>\n",
       "    </tr>\n",
       "    <tr>\n",
       "      <th>2</th>\n",
       "      <td>3</td>\n",
       "      <td>measuringstation</td>\n",
       "      <td>1</td>\n",
       "      <td>1726227377000</td>\n",
       "      <td>10.4</td>\n",
       "    </tr>\n",
       "    <tr>\n",
       "      <th>3</th>\n",
       "      <td>4</td>\n",
       "      <td>measuringstation</td>\n",
       "      <td>1</td>\n",
       "      <td>1726227377000</td>\n",
       "      <td>10.8</td>\n",
       "    </tr>\n",
       "    <tr>\n",
       "      <th>4</th>\n",
       "      <td>5</td>\n",
       "      <td>measuringstation</td>\n",
       "      <td>1</td>\n",
       "      <td>1726227377000</td>\n",
       "      <td>11.2</td>\n",
       "    </tr>\n",
       "  </tbody>\n",
       "</table>\n",
       "</div>"
      ],
      "text/plain": [
       "   objectid        objecttype  parameterid      date_time  value\n",
       "0         1  measuringstation            1  1726227377000    9.6\n",
       "1         2  measuringstation            1  1726227377000   10.0\n",
       "2         3  measuringstation            1  1726227377000   10.4\n",
       "3         4  measuringstation            1  1726227377000   10.8\n",
       "4         5  measuringstation            1  1726227377000   11.2"
      ]
     },
     "execution_count": 14,
     "metadata": {},
     "output_type": "execute_result"
    }
   ],
   "source": [
    "df_in_functie2 = keer_twee.df_out\n",
    "df_in_functie2"
   ]
  },
  {
   "cell_type": "code",
   "execution_count": 15,
   "metadata": {},
   "outputs": [],
   "source": [
    "data_adapter.set_dataframe_adapter(\n",
    "    \"my_df_python_2\", df_in_functie2, if_not_exist=\"create\"\n",
    ")"
   ]
  },
  {
   "cell_type": "code",
   "execution_count": 18,
   "metadata": {},
   "outputs": [
    {
     "data": {
      "text/plain": [
       "dict_keys(['default_options', 'my_csv', 'my_df_python', 'my_csv_out', 'my_df_python_2'])"
      ]
     },
     "execution_count": 18,
     "metadata": {},
     "output_type": "execute_result"
    }
   ],
   "source": [
    "data_adapter.config.data_adapters.keys()"
   ]
  },
  {
   "cell_type": "code",
   "execution_count": null,
   "metadata": {},
   "outputs": [],
   "source": []
  }
 ],
 "metadata": {
  "kernelspec": {
   "display_name": "default",
   "language": "python",
   "name": "python3"
  },
  "language_info": {
   "codemirror_mode": {
    "name": "ipython",
    "version": 3
   },
   "file_extension": ".py",
   "mimetype": "text/x-python",
   "name": "python",
   "nbconvert_exporter": "python",
   "pygments_lexer": "ipython3",
   "version": "3.12.6"
  }
 },
 "nbformat": 4,
 "nbformat_minor": 2
}
