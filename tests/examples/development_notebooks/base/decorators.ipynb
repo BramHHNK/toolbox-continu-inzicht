{
 "cells": [
  {
   "cell_type": "code",
   "execution_count": null,
   "metadata": {},
   "outputs": [],
   "source": [
    "from typing import ClassVar, Optional\n",
    "\n",
    "import pandas as pd\n",
    "from pydantic.dataclasses import dataclass\n",
    "\n",
    "from toolbox_continu_inzicht import DataAdapter"
   ]
  },
  {
   "cell_type": "markdown",
   "metadata": {},
   "source": [
    "### conceptually: decorators"
   ]
  },
  {
   "cell_type": "code",
   "execution_count": null,
   "metadata": {},
   "outputs": [],
   "source": [
    "def decorator1(func):\n",
    "    def wrapper(*args, **kwargs):\n",
    "        print(\"Decorator called\")\n",
    "        return func(*args, **kwargs)\n",
    "\n",
    "    return wrapper"
   ]
  },
  {
   "cell_type": "code",
   "execution_count": null,
   "metadata": {},
   "outputs": [],
   "source": [
    "def test(val):\n",
    "    print(val)"
   ]
  },
  {
   "cell_type": "code",
   "execution_count": null,
   "metadata": {},
   "outputs": [],
   "source": [
    "test(\"test\")"
   ]
  },
  {
   "cell_type": "code",
   "execution_count": null,
   "metadata": {},
   "outputs": [],
   "source": [
    "@decorator1\n",
    "def test2(val):\n",
    "    print(val)"
   ]
  },
  {
   "cell_type": "code",
   "execution_count": null,
   "metadata": {},
   "outputs": [],
   "source": [
    "test2(\"test2\")"
   ]
  },
  {
   "cell_type": "markdown",
   "metadata": {},
   "source": [
    "## applying"
   ]
  },
  {
   "cell_type": "code",
   "execution_count": null,
   "metadata": {},
   "outputs": [],
   "source": [
    "@dataclass(config={\"arbitrary_types_allowed\": True})\n",
    "class ValuesTimesTwo:\n",
    "    \"Voorbeeld\"\n",
    "\n",
    "    data_adapter: DataAdapter\n",
    "    df_in: Optional[pd.DataFrame] | None = None\n",
    "    df_out: Optional[pd.DataFrame] | None = None\n",
    "    test: Optional[str] | None = None\n",
    "\n",
    "    input_schema: ClassVar[dict[str, str]] = {\n",
    "        \"value\": \"float\",\n",
    "    }\n",
    "\n",
    "    def run(self, input: str, output: str):\n",
    "        \"\"\"Runt de funcies en stuur de df terug\"\"\"\n",
    "        raise UserWarning(\"Dit is een test\")\n",
    "        self.df_in = self.data_adapter.input(input, self.input_schema)\n",
    "        self.df_out = self.times_two(self.df_in)\n",
    "        self.data_adapter.output(output, self.df_out)\n",
    "\n",
    "    @staticmethod\n",
    "    def times_two(dataframe: pd.DataFrame) -> pd.DataFrame:\n",
    "        \"\"\"Deelt de meetstation waardes door 2 als voorbeeld\"\"\"\n",
    "        df = dataframe.copy(deep=True)\n",
    "        df[\"value\"] = df[\"value\"] * 2\n",
    "        return df"
   ]
  },
  {
   "cell_type": "code",
   "execution_count": null,
   "metadata": {},
   "outputs": [],
   "source": [
    "from pathlib import Path\n",
    "\n",
    "from toolbox_continu_inzicht import Config, DataAdapter\n",
    "\n",
    "config = Config(config_path=Path.cwd())\n",
    "data_adapter = DataAdapter(config=config)"
   ]
  },
  {
   "cell_type": "code",
   "execution_count": null,
   "metadata": {},
   "outputs": [],
   "source": [
    "values_times_two = ValuesTimesTwo(data_adapter)"
   ]
  },
  {
   "cell_type": "code",
   "execution_count": null,
   "metadata": {},
   "outputs": [],
   "source": [
    "values_times_two.run(input=\"\", output=\"\")"
   ]
  },
  {
   "cell_type": "code",
   "execution_count": null,
   "metadata": {},
   "outputs": [],
   "source": [
    "import logging"
   ]
  },
  {
   "cell_type": "code",
   "execution_count": null,
   "metadata": {},
   "outputs": [],
   "source": [
    "def error_checking(run):\n",
    "    def try_except(*args, **kwargs):\n",
    "        try:\n",
    "            logger: logging = args[0].data_adapter.logger\n",
    "            run(*args, **kwargs)\n",
    "        except Exception as e:\n",
    "            logger.error(f\"{args[0].__name__} - {e}\")\n",
    "\n",
    "    return try_except"
   ]
  },
  {
   "cell_type": "code",
   "execution_count": null,
   "metadata": {},
   "outputs": [],
   "source": [
    "data_adapter.logger"
   ]
  },
  {
   "cell_type": "code",
   "execution_count": null,
   "metadata": {},
   "outputs": [],
   "source": [
    "@dataclass(config={\"arbitrary_types_allowed\": True})\n",
    "class ValuesTimesTwo:\n",
    "    \"Voorbeeld\"\n",
    "\n",
    "    data_adapter: DataAdapter\n",
    "    df_in: Optional[pd.DataFrame] | None = None\n",
    "    df_out: Optional[pd.DataFrame] | None = None\n",
    "    test: Optional[str] | None = None\n",
    "\n",
    "    input_schema: ClassVar[dict[str, str]] = {\n",
    "        \"value\": \"float\",\n",
    "    }\n",
    "    __name__ = \"ValuesTimesTwo\"\n",
    "\n",
    "    @error_checking\n",
    "    def run(self, input: str, output: str):\n",
    "        \"\"\"Runt de funcies en stuur de df terug\"\"\"\n",
    "        # raise IndexError(\"Dit is een test\")\n",
    "        raise UserWarning(\"Dit is een test warning\")\n",
    "        self.df_in = self.data_adapter.input(input, self.input_schema)\n",
    "        self.df_out = self.times_two(self.df_in)\n",
    "        self.data_adapter.output(output, self.df_out)\n",
    "\n",
    "    @staticmethod\n",
    "    def times_two(dataframe: pd.DataFrame) -> pd.DataFrame:\n",
    "        \"\"\"Deelt de meetstation waardes door 2 als voorbeeld\"\"\"\n",
    "        df = dataframe.copy(deep=True)\n",
    "        df[\"value\"] = df[\"value\"] * 2\n",
    "        return df"
   ]
  },
  {
   "cell_type": "markdown",
   "metadata": {},
   "source": [
    "Moeten nog de module verwijderen 'groot getal' uit src\\toolbox_continu_inzicht\\base\\logging.py L71 als we het zo doen"
   ]
  },
  {
   "cell_type": "code",
   "execution_count": null,
   "metadata": {},
   "outputs": [],
   "source": [
    "values_times_two = ValuesTimesTwo(data_adapter)\n",
    "values_times_two.run(input=\"\", output=\"\")"
   ]
  },
  {
   "cell_type": "code",
   "execution_count": null,
   "metadata": {},
   "outputs": [],
   "source": [
    "ValuesTimesTwo"
   ]
  },
  {
   "cell_type": "code",
   "execution_count": null,
   "metadata": {},
   "outputs": [],
   "source": [
    "from toolbox_continu_inzicht import Config, DataAdapter\n",
    "from toolbox_continu_inzicht.base import fragility_curve"
   ]
  },
  {
   "cell_type": "code",
   "execution_count": null,
   "metadata": {},
   "outputs": [],
   "source": [
    "DataAdapter.__name__"
   ]
  },
  {
   "cell_type": "code",
   "execution_count": null,
   "metadata": {},
   "outputs": [],
   "source": [
    "Config.__name__"
   ]
  },
  {
   "cell_type": "code",
   "execution_count": null,
   "metadata": {},
   "outputs": [],
   "source": [
    "fragility_curve.__name__"
   ]
  },
  {
   "cell_type": "markdown",
   "metadata": {},
   "source": [
    "Wellicht nog iets inkorten ? maar ook nice om alles te hebben"
   ]
  },
  {
   "cell_type": "markdown",
   "metadata": {},
   "source": []
  }
 ],
 "metadata": {
  "kernelspec": {
   "display_name": "default",
   "language": "python",
   "name": "python3"
  },
  "language_info": {
   "codemirror_mode": {
    "name": "ipython",
    "version": 3
   },
   "file_extension": ".py",
   "mimetype": "text/x-python",
   "name": "python",
   "nbconvert_exporter": "python",
   "pygments_lexer": "ipython3",
   "version": "3.13.2"
  }
 },
 "nbformat": 4,
 "nbformat_minor": 2
}
