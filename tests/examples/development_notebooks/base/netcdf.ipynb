{
 "cells": [
  {
   "cell_type": "code",
   "execution_count": null,
   "id": "0",
   "metadata": {},
   "outputs": [],
   "source": [
    "from pathlib import Path\n",
    "\n",
    "from toolbox_continu_inzicht import Config, DataAdapter\n",
    "from toolbox_continu_inzicht.proof_of_concept import ValuesDivideTwo, ValuesTimesTwo"
   ]
  },
  {
   "cell_type": "code",
   "execution_count": null,
   "id": "1",
   "metadata": {},
   "outputs": [],
   "source": [
    "test_data_sets_path = Path.cwd() / \"data_sets\"\n",
    "c = Config(config_path=test_data_sets_path / \"test_config.yaml\")\n",
    "c.lees_config()\n",
    "data = DataAdapter(config=c)"
   ]
  },
  {
   "cell_type": "code",
   "execution_count": null,
   "id": "2",
   "metadata": {},
   "outputs": [],
   "source": [
    "delen_door_twee = ValuesDivideTwo(data_adapter=data)\n",
    "delen_door_twee.run(input=\"mynetcdf_in\", output=\"mynetcdf_out\")\n",
    "\n",
    "# print(f\"input type: {getattr(c, \"WaardesDelenTwee\")[\"input\"][\"type\"]}\")\n",
    "# print(f\"output type: {getattr(c, \"WaardesDelenTwee\")[\"output\"][\"type\"]}\")\n",
    "delen_door_twee.df_in"
   ]
  },
  {
   "cell_type": "code",
   "execution_count": null,
   "id": "3",
   "metadata": {},
   "outputs": [],
   "source": [
    "delen_door_twee.df_out"
   ]
  },
  {
   "cell_type": "code",
   "execution_count": null,
   "id": "4",
   "metadata": {},
   "outputs": [],
   "source": [
    "keer_twee = ValuesTimesTwo(data_adapter=data)\n",
    "keer_twee.run(input=\"mynetcdf_in\", output=\"mynetcdf_out\")\n",
    "\n",
    "# print(f\"input type: {getattr(c, \"WaardesKeerTwee\")[\"input\"][\"type\"]}\")\n",
    "# print(f\"output type: {getattr(c, \"WaardesKeerTwee\")[\"output\"][\"type\"]}\")"
   ]
  },
  {
   "cell_type": "code",
   "execution_count": null,
   "id": "5",
   "metadata": {},
   "outputs": [],
   "source": [
    "keer_twee.df_in"
   ]
  },
  {
   "cell_type": "code",
   "execution_count": null,
   "id": "6",
   "metadata": {},
   "outputs": [],
   "source": [
    "keer_twee.df_out"
   ]
  }
 ],
 "metadata": {
  "kernelspec": {
   "display_name": "Python 3 (ipykernel)",
   "language": "python",
   "name": "python3"
  },
  "language_info": {
   "codemirror_mode": {
    "name": "ipython",
    "version": 3
   },
   "file_extension": ".py",
   "mimetype": "text/x-python",
   "name": "python",
   "nbconvert_exporter": "python",
   "pygments_lexer": "ipython3",
   "version": "3.12.6"
  }
 },
 "nbformat": 4,
 "nbformat_minor": 5
}
