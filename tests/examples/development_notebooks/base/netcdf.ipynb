{
 "cells": [
  {
   "cell_type": "code",
   "execution_count": null,
   "id": "a57fc6d4-ad56-4e05-88e0-20880a926812",
   "metadata": {},
   "outputs": [],
   "source": [
    "from pathlib import Path\n",
    "\n",
    "from toolbox_continu_inzicht import Config, DataAdapter\n",
    "from toolbox_continu_inzicht.proof_of_concept import ValuesDivideTwo, ValuesTimesTwo"
   ]
  },
  {
   "cell_type": "code",
   "execution_count": null,
   "id": "dcc9ac5a-0381-4343-8084-e6405f6addda",
   "metadata": {},
   "outputs": [],
   "source": [
    "test_data_sets_path = Path.cwd() / \"data_sets\"\n",
    "c = Config(config_path=test_data_sets_path / \"test_config.yaml\")\n",
    "c.lees_config()\n",
    "data = DataAdapter(config=c)"
   ]
  },
  {
   "cell_type": "code",
   "execution_count": null,
   "id": "58396a9b-76a3-4631-8695-8b7287f52582",
   "metadata": {},
   "outputs": [],
   "source": [
    "delen_door_twee = ValuesDivideTwo(data_adapter=data)\n",
    "delen_door_twee.run(input=\"mynetcdf_in\", output=\"mynetcdf_out\")\n",
    "\n",
    "# print(f\"input type: {getattr(c, \"WaardesDelenTwee\")[\"input\"][\"type\"]}\")\n",
    "# print(f\"output type: {getattr(c, \"WaardesDelenTwee\")[\"output\"][\"type\"]}\")\n",
    "delen_door_twee.df_in"
   ]
  },
  {
   "cell_type": "code",
   "execution_count": null,
   "id": "066d4b0a",
   "metadata": {},
   "outputs": [],
   "source": [
    "delen_door_twee.df_out"
   ]
  },
  {
   "cell_type": "code",
   "execution_count": null,
   "id": "6a5bc778-9743-47c6-95ff-52bedb917c13",
   "metadata": {},
   "outputs": [],
   "source": [
    "keer_twee = ValuesTimesTwo(data_adapter=data)\n",
    "keer_twee.run(input=\"mynetcdf_in\", output=\"mynetcdf_out\")\n",
    "\n",
    "# print(f\"input type: {getattr(c, \"WaardesKeerTwee\")[\"input\"][\"type\"]}\")\n",
    "# print(f\"output type: {getattr(c, \"WaardesKeerTwee\")[\"output\"][\"type\"]}\")"
   ]
  },
  {
   "cell_type": "code",
   "execution_count": null,
   "id": "ee8ed5d0-4a96-4aa2-a291-fa02e5a4056d",
   "metadata": {},
   "outputs": [],
   "source": [
    "keer_twee.df_in"
   ]
  },
  {
   "cell_type": "code",
   "execution_count": null,
   "id": "36db21d0-b85e-429a-98e9-7b14d4d38c2f",
   "metadata": {},
   "outputs": [],
   "source": [
    "keer_twee.df_out"
   ]
  }
 ],
 "metadata": {
  "kernelspec": {
   "display_name": "Python 3 (ipykernel)",
   "language": "python",
   "name": "python3"
  },
  "language_info": {
   "codemirror_mode": {
    "name": "ipython",
    "version": 3
   },
   "file_extension": ".py",
   "mimetype": "text/x-python",
   "name": "python",
   "nbconvert_exporter": "python",
   "pygments_lexer": "ipython3",
   "version": "3.12.6"
  }
 },
 "nbformat": 4,
 "nbformat_minor": 5
}
