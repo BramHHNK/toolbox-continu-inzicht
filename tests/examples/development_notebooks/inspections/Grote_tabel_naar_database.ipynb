{
 "cells": [
  {
   "cell_type": "code",
   "execution_count": null,
   "metadata": {},
   "outputs": [],
   "source": [
    "from pathlib import Path\n",
    "\n",
    "from toolbox_continu_inzicht.base.config import Config\n",
    "from toolbox_continu_inzicht.base.data_adapter import DataAdapter"
   ]
  },
  {
   "cell_type": "code",
   "execution_count": null,
   "metadata": {},
   "outputs": [],
   "source": [
    "path = Path.cwd() / \"data_sets\"\n",
    "config = Config(config_path=path / \"example_inspection_tabel.yaml\")\n",
    "config.lees_config()\n",
    "data_adapter = DataAdapter(config=config)"
   ]
  },
  {
   "cell_type": "markdown",
   "metadata": {},
   "source": [
    "```yaml\n",
    "...\n",
    "DataAdapter:\n",
    "    ...\n",
    "    inspections_results_geo:\n",
    "        type: shape\n",
    "        path: \"postcodes_brabant.geojson\"\n",
    "    ...\n",
    "```"
   ]
  },
  {
   "cell_type": "code",
   "execution_count": null,
   "metadata": {},
   "outputs": [],
   "source": [
    "df_in = data_adapter.input(\"inspections_results_geo\")"
   ]
  },
  {
   "cell_type": "markdown",
   "metadata": {},
   "source": [
    "```yaml\n",
    "...\n",
    "DataAdapters:\n",
    "    ...\n",
    "    postcodes_ci_database:\n",
    "        type: postgis\n",
    "        schema: continuinzicht_demo_realtime\n",
    "        database: \"continuinzicht\"\n",
    "        table: area\n",
    "        if_exists: replace\n",
    "    ...\n",
    "```"
   ]
  },
  {
   "cell_type": "code",
   "execution_count": null,
   "metadata": {},
   "outputs": [],
   "source": [
    "data_adapter.output(\"postcodes_ci_database\", df_in)"
   ]
  },
  {
   "cell_type": "markdown",
   "metadata": {},
   "source": [
    "Na dat de data in een losse tabel 'area' staat, moeten we deze koppelen aan de lagen. Dit doen we net als bij type `geojson` of `wms`. <br>\n",
    "De rest laten we leeg, eventueel kan de layer_legend ook nog gevuld worden met informatie.  "
   ]
  },
  {
   "cell_type": "code",
   "execution_count": null,
   "metadata": {},
   "outputs": [],
   "source": [
    "df_layers = data_adapter.input(\"layers\")"
   ]
  },
  {
   "cell_type": "code",
   "execution_count": null,
   "metadata": {},
   "outputs": [],
   "source": [
    "df = df_layers.iloc[[2]].copy()\n",
    "df.reset_index(drop=True, inplace=True)\n",
    "df.loc[0, \"group_name\"] = \"Achtergrond Lagen\"\n",
    "df.loc[0, \"layer_name\"] = \"Postcode gebieden\"\n",
    "df.loc[0, \"layer_visible\"] = False\n",
    "df.loc[0, \"layer_table\"] = \"areas\"\n",
    "df"
   ]
  },
  {
   "cell_type": "markdown",
   "metadata": {},
   "source": [
    "Hierdoor heeft de viewer de informatie om de kaartlaag te visualiseren"
   ]
  },
  {
   "cell_type": "markdown",
   "metadata": {},
   "source": [
    "```yaml\n",
    "...\n",
    "DataAdapters:\n",
    "...\n",
    "    to_ci_database:\n",
    "        type: postgresql_database\n",
    "        schema: continuinzicht_demo_realtime\n",
    "        database: \"continuinzicht\"\n",
    "        table: layers\n",
    "        if_exists: append\n",
    "    ...\n",
    "```"
   ]
  },
  {
   "cell_type": "code",
   "execution_count": null,
   "metadata": {},
   "outputs": [],
   "source": [
    "data_adapter.output(\"to_ci_database\", df)"
   ]
  }
 ],
 "metadata": {
  "kernelspec": {
   "display_name": "default",
   "language": "python",
   "name": "python3"
  },
  "language_info": {
   "codemirror_mode": {
    "name": "ipython",
    "version": 3
   },
   "file_extension": ".py",
   "mimetype": "text/x-python",
   "name": "python",
   "nbconvert_exporter": "python",
   "pygments_lexer": "ipython3",
   "version": "3.13.2"
  }
 },
 "nbformat": 4,
 "nbformat_minor": 2
}
