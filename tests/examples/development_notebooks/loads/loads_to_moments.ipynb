{
 "cells": [
  {
   "cell_type": "markdown",
   "metadata": {},
   "source": [
    "# Haal maxima van belastingen op"
   ]
  },
  {
   "cell_type": "markdown",
   "metadata": {},
   "source": [
    "#  importeer de benodigde functies"
   ]
  },
  {
   "cell_type": "code",
   "execution_count": null,
   "metadata": {},
   "outputs": [],
   "source": [
    "from pathlib import Path\n",
    "\n",
    "import matplotlib.pyplot as plt\n",
    "import numpy as np\n",
    "\n",
    "from toolbox_continu_inzicht import Config, DataAdapter\n",
    "from toolbox_continu_inzicht.loads import LoadsWaterwebservicesRWS"
   ]
  },
  {
   "cell_type": "code",
   "execution_count": null,
   "metadata": {},
   "outputs": [],
   "source": [
    "test_data_sets_path = Path.cwd() / \"data_sets\"\n",
    "c = Config(config_path=test_data_sets_path / \"loads_rws_config.yaml\")\n",
    "c.lees_config()\n",
    "data = DataAdapter(config=c)\n",
    "\n",
    "RWS_webservice = LoadsWaterwebservicesRWS(data_adapter=data)\n",
    "\n",
    "lst_data = RWS_webservice.run(input=\"BelastingLocaties\", output=\"Waterstanden\")"
   ]
  },
  {
   "cell_type": "markdown",
   "metadata": {},
   "source": [
    "Configureer als volgt, zonder getij\n",
    "```yaml\n",
    "GlobalVariables:\n",
    "    rootdir: \"data_sets\"  \n",
    "    moments: [-24,0,24,48] \n",
    "\n",
    "    LoadsMaxima:\n",
    "        tide: False\n",
    "\n",
    "DataAdapter:\n",
    "    waterstanden: \n",
    "        type: csv\n",
    "        path: \"hidden_waterstanden.csv\"\n",
    "        sep: \";\"\n",
    "    maxima:   \n",
    "        type: csv\n",
    "        path: \"hidden_waterstanden_maxima.csv\"       \n",
    "```"
   ]
  },
  {
   "cell_type": "code",
   "execution_count": null,
   "metadata": {},
   "outputs": [],
   "source": [
    "from toolbox_continu_inzicht.loads import LoadsToMoments"
   ]
  },
  {
   "cell_type": "code",
   "execution_count": null,
   "metadata": {},
   "outputs": [],
   "source": [
    "test_data_sets_path = Path.cwd() / \"data_sets\"\n",
    "c = Config(config_path=test_data_sets_path / \"loads_to_moments_config.yaml\")\n",
    "c.lees_config()\n",
    "data = DataAdapter(config=c)\n",
    "\n",
    "maxima = LoadsToMoments(data_adapter=data)\n",
    "\n",
    "maxima.run(input=\"waterstanden\", output=\"maxima\")"
   ]
  },
  {
   "cell_type": "code",
   "execution_count": null,
   "metadata": {},
   "outputs": [],
   "source": [
    "df_out = RWS_webservice.df_out"
   ]
  },
  {
   "cell_type": "code",
   "execution_count": null,
   "metadata": {},
   "outputs": [],
   "source": [
    "# split de dataframe in tweeën & process\n",
    "values_nan = df_out[df_out[\"value\"] == -999].index\n",
    "for val in values_nan:\n",
    "    df_out.loc[val, \"value\"] = np.nan\n",
    "df_out.sort_index()\n",
    "df_plot = df_out.set_index(df_out[\"date_time\"], drop=True)\n",
    "df_plot = df_plot[df_plot[\"measurement_location_id\"] == 8420]\n",
    "measurement_index = df_plot[\"value_type\"] == \"verwachting\"\n",
    "df_plot_measurements = df_plot[measurement_index][[\"value\"]]\n",
    "df_plot_forecast = df_plot[~measurement_index][[\"value\"]]"
   ]
  },
  {
   "cell_type": "code",
   "execution_count": null,
   "metadata": {},
   "outputs": [],
   "source": [
    "df_plot_moments = maxima.df_out"
   ]
  },
  {
   "cell_type": "code",
   "execution_count": null,
   "metadata": {},
   "outputs": [],
   "source": [
    "df_plot_moments"
   ]
  },
  {
   "cell_type": "code",
   "execution_count": null,
   "metadata": {},
   "outputs": [],
   "source": [
    "df_plot_moments[df_plot_moments[\"measurement_location_id\"] == 8420]"
   ]
  },
  {
   "cell_type": "code",
   "execution_count": null,
   "metadata": {},
   "outputs": [],
   "source": [
    "from datetime import timedelta"
   ]
  },
  {
   "cell_type": "code",
   "execution_count": null,
   "metadata": {},
   "outputs": [],
   "source": [
    "fig, ax = plt.subplots()\n",
    "df_plot_measurements.plot(color=\"C0\", ax=ax)\n",
    "df_plot_forecast.plot(color=\"C1\", ax=ax)\n",
    "for val in df_plot_moments[df_plot_moments[\"measurement_location_id\"] == 8420].index:\n",
    "    ax.axvline(val, color=\"C2\", label=\"moment\")\n",
    "\n",
    "time_series_moments = df_plot_moments[\n",
    "    df_plot_moments[\"measurement_location_id\"] == 8420\n",
    "].index\n",
    "# maak de grafiek iets breder om de lijnen te zien.\n",
    "ax.set_xlim(\n",
    "    (\n",
    "        min(time_series_moments) - timedelta(hours=1),\n",
    "        max(time_series_moments) + timedelta(hours=1),\n",
    "    )\n",
    ")\n",
    "ax.legend([\"Prediction\", \"Measurement\", \"moment\"])"
   ]
  },
  {
   "cell_type": "markdown",
   "metadata": {},
   "source": [
    "### Herhaal met getij"
   ]
  },
  {
   "cell_type": "markdown",
   "metadata": {},
   "source": [
    "Configureer als volgt, met getij\n",
    "```yaml\n",
    "GlobalVariables:\n",
    "    rootdir: \"data_sets\"  \n",
    "    moments: [-24,0,24,48] \n",
    "\n",
    "    LoadsMaxima:\n",
    "        tide: True\n",
    "\n",
    "DataAdapter:\n",
    "    waterstanden: \n",
    "        type: csv\n",
    "        path: \"hidden_waterstanden.csv\"\n",
    "        sep: \";\"\n",
    "    maxima:   \n",
    "        type: csv\n",
    "        path: \"hidden_waterstanden_maxima.csv\"       \n",
    "```"
   ]
  },
  {
   "cell_type": "code",
   "execution_count": null,
   "metadata": {},
   "outputs": [],
   "source": [
    "from toolbox_continu_inzicht.loads import LoadsMatroos\n",
    "\n",
    "test_data_sets_path = Path.cwd() / \"data_sets\"\n",
    "c = Config(config_path=test_data_sets_path / \"loads_noos_matroos_fcst_config.yaml\")\n",
    "c.lees_config()\n",
    "data = DataAdapter(config=c)\n",
    "\n",
    "matroos_fsct = LoadsMatroos(data_adapter=data)\n",
    "matroos_fsct.run(input=\"BelastingLocaties\", output=\"Waterstanden\")"
   ]
  },
  {
   "cell_type": "code",
   "execution_count": null,
   "metadata": {},
   "outputs": [],
   "source": [
    "df_plot_getij = matroos_fsct.df_out\n",
    "df_plot_getij"
   ]
  },
  {
   "cell_type": "code",
   "execution_count": null,
   "metadata": {},
   "outputs": [],
   "source": [
    "df_plot_getij.measurement_location_id.unique()"
   ]
  },
  {
   "cell_type": "code",
   "execution_count": null,
   "metadata": {},
   "outputs": [],
   "source": [
    "test_data_sets_path = Path.cwd() / \"data_sets\"\n",
    "c = Config(config_path=test_data_sets_path / \"loads_to_moments_tide_config.yaml\")\n",
    "c.lees_config()\n",
    "data = DataAdapter(config=c)\n",
    "\n",
    "maxima_getij = LoadsToMoments(data_adapter=data)\n",
    "\n",
    "maxima_getij.run(input=\"waterstanden\", output=\"maxima\")"
   ]
  },
  {
   "cell_type": "code",
   "execution_count": null,
   "metadata": {},
   "outputs": [],
   "source": [
    "df_plot_moments_getij = maxima_getij.df_out"
   ]
  },
  {
   "cell_type": "code",
   "execution_count": null,
   "metadata": {},
   "outputs": [],
   "source": [
    "measurement_location_id = 7"
   ]
  },
  {
   "cell_type": "code",
   "execution_count": null,
   "metadata": {},
   "outputs": [],
   "source": [
    "df_plot_getij[\"measurement_location_id\"] = df_plot_getij[\n",
    "    \"measurement_location_id\"\n",
    "].apply(lambda x: int(x))  # TODO fix this issue\n",
    "df_plot_measurements = df_plot_getij[\n",
    "    df_plot_getij[\"measurement_location_id\"] == measurement_location_id\n",
    "]\n",
    "df_plot_measurements = df_plot_measurements.set_index(\"date_time\")"
   ]
  },
  {
   "cell_type": "code",
   "execution_count": null,
   "metadata": {},
   "outputs": [],
   "source": [
    "from datetime import datetime, timezone"
   ]
  },
  {
   "cell_type": "code",
   "execution_count": null,
   "metadata": {},
   "outputs": [],
   "source": [
    "fig, ax = plt.subplots()\n",
    "df_plot_measurements[\"value\"].plot(color=\"C0\", ax=ax, label=\"Verwachting\")\n",
    "\n",
    "for val in df_plot_moments_getij[\n",
    "    df_plot_moments_getij[\"measurement_location_id\"] == measurement_location_id\n",
    "].index:\n",
    "    ax.axvline(val, color=\"C2\", label=\"moment aangepast door getij\")\n",
    "\n",
    "time_series_getij = df_plot_moments_getij[\n",
    "    df_plot_moments_getij[\"measurement_location_id\"] == measurement_location_id\n",
    "].index\n",
    "# maak de grafiek iets breder om de lijnen te zien.\n",
    "ax.set_xlim(\n",
    "    (\n",
    "        min(time_series_getij) - timedelta(hours=1),\n",
    "        max(time_series_getij) + timedelta(hours=1),\n",
    "    )\n",
    ")\n",
    "dt_now = datetime.now(timezone.utc)\n",
    "t_now = datetime(\n",
    "    dt_now.year,\n",
    "    dt_now.month,\n",
    "    dt_now.day,\n",
    "    dt_now.hour,\n",
    "    0,\n",
    "    0,\n",
    ").replace(tzinfo=timezone.utc)\n",
    "for moment in c.global_variables[\"moments\"]:\n",
    "    ax.axvline(t_now + timedelta(hours=moment), color=\"C3\", ls=\"--\", label=\"Moment\")\n",
    "\n",
    "ax.set_xlim(\n",
    "    (\n",
    "        min(time_series_moments) - timedelta(hours=5),\n",
    "        max(time_series_moments) + timedelta(hours=5),\n",
    "    )\n",
    ")\n",
    "\n",
    "handles, labels = ax.get_legend_handles_labels()\n",
    "handles = handles[:2] + [handles[6]]\n",
    "labels = [\"Verwachting\"] + labels[4:6]\n",
    "ax.legend(handles=handles, labels=labels, bbox_to_anchor=(1, 1))"
   ]
  },
  {
   "cell_type": "code",
   "execution_count": null,
   "metadata": {},
   "outputs": [],
   "source": []
  }
 ],
 "metadata": {
  "kernelspec": {
   "display_name": "default",
   "language": "python",
   "name": "python3"
  },
  "language_info": {
   "codemirror_mode": {
    "name": "ipython",
    "version": 3
   },
   "file_extension": ".py",
   "mimetype": "text/x-python",
   "name": "python",
   "nbconvert_exporter": "python",
   "pygments_lexer": "ipython3",
   "version": "3.12.6"
  }
 },
 "nbformat": 4,
 "nbformat_minor": 2
}
