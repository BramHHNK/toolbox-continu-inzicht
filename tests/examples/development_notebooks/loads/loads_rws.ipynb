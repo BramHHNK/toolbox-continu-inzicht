{
 "cells": [
  {
   "cell_type": "markdown",
   "metadata": {},
   "source": [
    "# Belastingen uit RWS"
   ]
  },
  {
   "cell_type": "markdown",
   "metadata": {},
   "source": [
    "#  importeer de benodigde functies"
   ]
  },
  {
   "cell_type": "code",
   "execution_count": null,
   "metadata": {},
   "outputs": [],
   "source": [
    "from pathlib import Path\n",
    "\n",
    "import matplotlib.pyplot as plt\n",
    "import numpy as np\n",
    "\n",
    "from toolbox_continu_inzicht import Config"
   ]
  },
  {
   "cell_type": "markdown",
   "metadata": {},
   "source": [
    "## 1. Voorbeeld met CSV\n",
    "Lees de configuratie in:\n",
    "\n",
    "Dit leest een configuratie bestand `belasting_rws_config.yaml` in. \n",
    "```yaml\n",
    "GlobalVariables:\n",
    "    rootdir: \"tests/src/loads/data_sets\" \n",
    "    moments: [-24,0,24,48]  \n",
    "\n",
    "    LoadsWaterwebservicesRWS:\n",
    "        parameters:  ['WATHTE']\n",
    "\n",
    "DataAdapter: \n",
    "    default_options:\n",
    "        csv:\n",
    "            sep: \",\"\n",
    "    BelastingLocaties: \n",
    "        type: csv\n",
    "        path: \"test_loads_rws_8420.csv\"\n",
    "    Waterstanden: \n",
    "        type: csv\n",
    "        path: \"hidden_waterstanden.csv\"\n",
    "...\n",
    "\n",
    "```"
   ]
  },
  {
   "cell_type": "code",
   "execution_count": null,
   "metadata": {},
   "outputs": [],
   "source": [
    "test_data_sets_path = Path.cwd() / \"data_sets\"\n",
    "c = Config(config_path=test_data_sets_path / \"loads_rws_config.yaml\")\n",
    "c.lees_config()"
   ]
  },
  {
   "cell_type": "markdown",
   "metadata": {},
   "source": [
    "Zet de data adapter klaar en geef deze de configuratie mee "
   ]
  },
  {
   "cell_type": "code",
   "execution_count": null,
   "metadata": {},
   "outputs": [],
   "source": [
    "from toolbox_continu_inzicht import DataAdapter\n",
    "\n",
    "data = DataAdapter(config=c)"
   ]
  },
  {
   "cell_type": "markdown",
   "metadata": {},
   "source": [
    "Run de module met CSV"
   ]
  },
  {
   "cell_type": "code",
   "execution_count": null,
   "metadata": {},
   "outputs": [],
   "source": [
    "from toolbox_continu_inzicht.loads import LoadsWaterwebservicesRWS\n",
    "\n",
    "RWS_webservice = LoadsWaterwebservicesRWS(data_adapter=data)"
   ]
  },
  {
   "cell_type": "code",
   "execution_count": null,
   "metadata": {},
   "outputs": [],
   "source": [
    "RWS_webservice.df_in"
   ]
  },
  {
   "cell_type": "code",
   "execution_count": null,
   "metadata": {},
   "outputs": [],
   "source": [
    "lst_data = RWS_webservice.run(input=\"BelastingLocaties\", output=\"Waterstanden\")"
   ]
  },
  {
   "cell_type": "code",
   "execution_count": null,
   "metadata": {},
   "outputs": [],
   "source": [
    "RWS_webservice.df_in"
   ]
  },
  {
   "cell_type": "code",
   "execution_count": null,
   "metadata": {},
   "outputs": [],
   "source": [
    "df_out = RWS_webservice.df_out.copy()"
   ]
  },
  {
   "cell_type": "code",
   "execution_count": null,
   "metadata": {},
   "outputs": [],
   "source": [
    "from toolbox_continu_inzicht.loads.loads_rws_webservice.get_rws_webservices_locations import (\n",
    "    get_rws_webservices_locations,\n",
    ")\n",
    "\n",
    "df_loc = get_rws_webservices_locations()"
   ]
  },
  {
   "cell_type": "code",
   "execution_count": null,
   "metadata": {},
   "outputs": [],
   "source": [
    "df_loc.columns"
   ]
  },
  {
   "cell_type": "code",
   "execution_count": null,
   "metadata": {},
   "outputs": [],
   "source": [
    "df_loc"
   ]
  },
  {
   "cell_type": "code",
   "execution_count": null,
   "metadata": {},
   "outputs": [],
   "source": [
    "df_out"
   ]
  },
  {
   "cell_type": "code",
   "execution_count": null,
   "metadata": {},
   "outputs": [],
   "source": [
    "# split de dataframe in tweeën & process\n",
    "values_nan = df_out[df_out[\"value\"] == -999].index\n",
    "for val in values_nan:\n",
    "    df_out.loc[val, \"value\"] = np.nan\n",
    "df_out.sort_index()\n",
    "df_plot = df_out.set_index(df_out[\"date_time\"])\n",
    "df_plot = df_plot[df_plot[\"measurement_location_code\"] == 8420]\n",
    "measurement_index = df_plot[\"value_type\"] == \"verwachting\"\n",
    "df_plot_measurements = df_plot[measurement_index][[\"value\"]]\n",
    "df_plot_forecast = df_plot[~measurement_index][[\"value\"]]"
   ]
  },
  {
   "cell_type": "code",
   "execution_count": null,
   "metadata": {},
   "outputs": [],
   "source": [
    "fig, ax = plt.subplots()\n",
    "df_plot_measurements.plot(color=\"C0\", ax=ax)\n",
    "df_plot_forecast.plot(color=\"C1\", ax=ax)\n",
    "ax.legend([\"Prediction\", \"Measurement\"])"
   ]
  },
  {
   "cell_type": "code",
   "execution_count": null,
   "metadata": {},
   "outputs": [],
   "source": []
  }
 ],
 "metadata": {
  "kernelspec": {
   "display_name": "default",
   "language": "python",
   "name": "python3"
  },
  "language_info": {
   "codemirror_mode": {
    "name": "ipython",
    "version": 3
   },
   "file_extension": ".py",
   "mimetype": "text/x-python",
   "name": "python",
   "nbconvert_exporter": "python",
   "pygments_lexer": "ipython3",
   "version": "3.12.6"
  }
 },
 "nbformat": 4,
 "nbformat_minor": 2
}
