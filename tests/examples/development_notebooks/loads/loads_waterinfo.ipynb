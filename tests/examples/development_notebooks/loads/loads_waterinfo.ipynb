{
 "cells": [
  {
   "cell_type": "markdown",
   "id": "0",
   "metadata": {},
   "source": [
    "<div class='alert alert-block alert-info'>Ophalen belasting-waarden vanuit een Waterinfo service</div>"
   ]
  },
  {
   "cell_type": "code",
   "execution_count": null,
   "id": "1",
   "metadata": {},
   "outputs": [],
   "source": [
    "# importeer de benodigde bibliotheken\n",
    "import os\n",
    "from pathlib import Path\n",
    "\n",
    "# voor het plotten van de data\n",
    "import matplotlib.pyplot as plt\n",
    "import numpy as np\n",
    "\n",
    "# Hiermee kan je markdown printen tijdens uitvoeren van functie\n",
    "from IPython.display import Markdown, display\n",
    "\n",
    "from toolbox_continu_inzicht import datetime_from_epoch\n",
    "\n",
    "# Vanuit toolbox gebruiken we standaard 'Config' en 'DataAdapter'.\n",
    "# De functie die we willen gebruiken om data op te halen is 'LoadsWaterinfo'\n",
    "from toolbox_continu_inzicht.base.config import Config\n",
    "from toolbox_continu_inzicht.base.data_adapter import DataAdapter\n",
    "from toolbox_continu_inzicht.loads import LoadsWaterinfo"
   ]
  },
  {
   "cell_type": "markdown",
   "id": "2",
   "metadata": {},
   "source": [
    "**loads_waterinfo_config.yaml:**\n",
    "```Yaml\n",
    "GlobalVariables:\n",
    "    rootdir: \"data_sets\"   \n",
    "    moments: [-24,0,24,48]\n",
    "\n",
    "    csv:\n",
    "        sep: \",\"\n",
    "\n",
    "    LoadsWaterinfo:\n",
    "        datatype: \"waterhoogte\"\n",
    "        observedhours: 48\n",
    "        predictionhours: 48\n",
    "        momentsupdate: True\n",
    "        MISSING_VALUE: -9999.0\n",
    "\n",
    "DataAdapter: \n",
    "    locaties: \n",
    "        type: csv\n",
    "        path: \"locations_waterinfo.csv\"\n",
    "    waterstanden: \n",
    "        type: csv\n",
    "        path: \"waterstanden.csv\"\n",
    "```\n",
    "\n",
    "**locations_waterinfo.csv:**\n",
    "```csv\n",
    "id,name,code\n",
    "1,Rottedamse hoek,Rotterdamse-hoek(FL02)-1\n",
    "2,Dordrecht,Dordrecht(DORD)\n",
    "3,Moerdijk,Moerdijk(MOER)\n",
    "4,Pannerdense kop,Pannerdense-kop(PANN)\n",
    "5,IJsselkop,IJsselkop(IJSS)\n",
    "6,Den helder,Den-Helder(DENH)\n",
    "```"
   ]
  },
  {
   "cell_type": "code",
   "execution_count": null,
   "id": "3",
   "metadata": {},
   "outputs": [],
   "source": [
    "# Path naar config bestand\n",
    "config_file = Path(\"data_sets/loads_waterinfo_config.yaml\")\n",
    "if os.path.exists(config_file):\n",
    "    # Maak config aan, deze gebruiken we om de adapter aan te maken\n",
    "    display(\n",
    "        Markdown(\"*Maak config aan, deze gebruiken we om de adapter aan te maken.*\")\n",
    "    )\n",
    "    config = Config(config_path=config_file)\n",
    "    config.lees_config()\n",
    "\n",
    "    display(Markdown(\"*Maak DataAdapter aan, deze gebruiken bij de functie.*\"))\n",
    "    data_adapter = DataAdapter(config=config)\n",
    "else:\n",
    "    display(Markdown(f\"**⚠️ Config file '{config_file}' not found.**\"))"
   ]
  },
  {
   "cell_type": "code",
   "execution_count": null,
   "id": "4",
   "metadata": {},
   "outputs": [],
   "source": [
    "# Oude gegevens verwijderen\n",
    "display(Markdown(\"Oude gegevens verwijderen\"))\n",
    "\n",
    "output_info = config.data_adapters\n",
    "output_file = Path(\n",
    "    config.global_variables[\"rootdir\"] / Path(output_info[\"waterstanden\"][\"path\"])\n",
    ")\n",
    "if os.path.exists(output_file):\n",
    "    os.remove(output_file)"
   ]
  },
  {
   "cell_type": "code",
   "execution_count": null,
   "id": "5",
   "metadata": {},
   "outputs": [],
   "source": [
    "# Gebruik de 'LoadsWaterinfo' om gegevens uit Waterinfo te halen\n",
    "display(Markdown(\"Gebruik de 'LoadsWaterinfo' om gegevens uit Waterinfo te halen\"))\n",
    "waterinfo = LoadsWaterinfo(\n",
    "    data_adapter=data_adapter, input=\"locaties\", output=\"waterstanden\"\n",
    ")\n",
    "\n",
    "display(Markdown(\"Voer de functie uit.\"))\n",
    "df_out = waterinfo.run()"
   ]
  },
  {
   "cell_type": "code",
   "execution_count": null,
   "id": "6",
   "metadata": {},
   "outputs": [],
   "source": [
    "# test of we data hebben opgehaald\n",
    "if os.path.exists(output_file):\n",
    "    display(Markdown(f\"*{output_file} is aangemaakt.*\"))\n",
    "else:\n",
    "    display(Markdown(f\"*{output_file} is niet aangemaakt.*\"))\n",
    "\n",
    "# controleer de opgehaalde waarden\n",
    "display(Markdown(\"**Controleer de opgehaalde waarden**\"))\n",
    "print(waterinfo.df_out)"
   ]
  },
  {
   "cell_type": "code",
   "execution_count": null,
   "id": "7",
   "metadata": {},
   "outputs": [],
   "source": [
    "# split de dataframe in tweeën & process\n",
    "values_nan = df_out[df_out[\"value\"] == 999999999.0].index\n",
    "for val in values_nan:\n",
    "    df_out.loc[val, \"value\"] = np.nan\n",
    "df_out.sort_index()\n",
    "\n",
    "df_plot = df_out.set_index(df_out[\"datetime\"].apply(lambda x: datetime_from_epoch(x)))\n",
    "df_plot = df_plot[df_plot[\"objectid\"] == 2]\n",
    "\n",
    "measurement_index = df_plot[\"parameterid\"] == 1\n",
    "forecast_index = df_plot[\"parameterid\"] == 99\n",
    "df_plot_measurements = df_plot[measurement_index][[\"value\"]]\n",
    "df_plot_forecast = df_plot[forecast_index][[\"value\"]]"
   ]
  },
  {
   "cell_type": "code",
   "execution_count": null,
   "id": "8",
   "metadata": {},
   "outputs": [],
   "source": [
    "df_plot_measurements"
   ]
  },
  {
   "cell_type": "code",
   "execution_count": null,
   "id": "9",
   "metadata": {},
   "outputs": [],
   "source": [
    "fig, ax = plt.subplots()\n",
    "df_plot_measurements.plot(color=\"C0\", ax=ax)\n",
    "df_plot_forecast.plot(color=\"C1\", ax=ax)\n",
    "ax.legend([\"Prediction\", \"Measurement\"])"
   ]
  }
 ],
 "metadata": {
  "kernelspec": {
   "display_name": "default",
   "language": "python",
   "name": "python3"
  },
  "language_info": {
   "codemirror_mode": {
    "name": "ipython",
    "version": 3
   },
   "file_extension": ".py",
   "mimetype": "text/x-python",
   "name": "python",
   "nbconvert_exporter": "python",
   "pygments_lexer": "ipython3",
   "version": "3.12.8"
  }
 },
 "nbformat": 4,
 "nbformat_minor": 5
}
