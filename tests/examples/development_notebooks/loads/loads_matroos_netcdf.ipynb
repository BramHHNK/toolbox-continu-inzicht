{
 "cells": [
  {
   "cell_type": "code",
   "execution_count": null,
   "metadata": {},
   "outputs": [],
   "source": [
    "from pathlib import Path\n",
    "\n",
    "import matplotlib.pyplot as plt\n",
    "\n",
    "from toolbox_continu_inzicht import Config, DataAdapter\n",
    "from toolbox_continu_inzicht.loads import LoadsMatroos, LoadsMatroosNetCDF"
   ]
  },
  {
   "cell_type": "code",
   "execution_count": null,
   "metadata": {},
   "outputs": [],
   "source": [
    "test_data_sets_path = Path.cwd() / \"data_sets\"\n",
    "c = Config(\n",
    "    config_path=test_data_sets_path / \"loads_matroos_fcst_config_compare_netcdf.yaml\"\n",
    ")\n",
    "c.lees_config()\n",
    "data = DataAdapter(config=c)\n",
    "\n",
    "timeseries_endpoint = LoadsMatroos(data_adapter=data)\n",
    "timeseries_endpoint.run(input=\"BelastingLocaties_fews_rmm_km\", output=\"Waterstanden\")\n",
    "# doet er in dit geval 58s over"
   ]
  },
  {
   "cell_type": "code",
   "execution_count": null,
   "metadata": {},
   "outputs": [],
   "source": [
    "timeseries_endpoint.df_out"
   ]
  },
  {
   "cell_type": "code",
   "execution_count": null,
   "metadata": {},
   "outputs": [],
   "source": [
    "df_ts = timeseries_endpoint.df_out[\n",
    "    timeseries_endpoint.df_out[\"measurement_location_code\"] == \"Nieuwe Waterweg km 1030\"\n",
    "]\n",
    "\n",
    "df_ts.set_index(\"date_time\")[\"value\"].plot()"
   ]
  },
  {
   "cell_type": "code",
   "execution_count": null,
   "metadata": {},
   "outputs": [],
   "source": [
    "test_data_sets_path = Path.cwd() / \"data_sets\"\n",
    "config = Config(\n",
    "    config_path=test_data_sets_path / \"test_loads_matroos_noos_config_netcdf.yaml\"\n",
    ")\n",
    "config.lees_config()\n",
    "config.global_variables[\"rootdir\"] = Path.cwd() / \"data_sets\"\n",
    "data_adapter = DataAdapter(config=config)"
   ]
  },
  {
   "cell_type": "code",
   "execution_count": null,
   "metadata": {},
   "outputs": [],
   "source": [
    "matroos = LoadsMatroosNetCDF(data_adapter=data_adapter)"
   ]
  },
  {
   "cell_type": "code",
   "execution_count": null,
   "metadata": {},
   "outputs": [],
   "source": [
    "matroos.run(input=\"BelastingLocaties_fews_rmm_km\", output=\"Waterstanden\")\n",
    "# doet er in dit geval 26s over, stukje sneller"
   ]
  },
  {
   "cell_type": "code",
   "execution_count": null,
   "metadata": {},
   "outputs": [],
   "source": [
    "matroos.df_out"
   ]
  },
  {
   "cell_type": "code",
   "execution_count": null,
   "metadata": {},
   "outputs": [],
   "source": [
    "df_netcdf = matroos.df_out\n",
    "df_netcdf"
   ]
  },
  {
   "cell_type": "code",
   "execution_count": null,
   "metadata": {},
   "outputs": [],
   "source": [
    "fig, ax = plt.subplots(1)\n",
    "ax.plot(df_ts[\"date_time\"], df_ts[\"value\"], label=\"timeseries endpoint\")\n",
    "ax.plot(\n",
    "    df_netcdf[\"date_time\"], df_netcdf[\"value\"] * 100, ls=\"--\", label=\"Matroos NetCDF\"\n",
    ")\n",
    "ax.legend()\n",
    "fig.autofmt_xdate(which=\"both\")"
   ]
  },
  {
   "cell_type": "code",
   "execution_count": null,
   "metadata": {},
   "outputs": [],
   "source": []
  }
 ],
 "metadata": {
  "kernelspec": {
   "display_name": "default",
   "language": "python",
   "name": "python3"
  },
  "language_info": {
   "codemirror_mode": {
    "name": "ipython",
    "version": 3
   },
   "file_extension": ".py",
   "mimetype": "text/x-python",
   "name": "python",
   "nbconvert_exporter": "python",
   "pygments_lexer": "ipython3",
   "version": "3.12.8"
  }
 },
 "nbformat": 4,
 "nbformat_minor": 2
}
