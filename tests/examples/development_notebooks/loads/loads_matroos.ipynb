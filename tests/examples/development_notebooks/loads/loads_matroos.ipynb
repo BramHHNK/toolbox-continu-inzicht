{
 "cells": [
  {
   "cell_type": "markdown",
   "metadata": {},
   "source": [
    "# Belastingen uit matroos"
   ]
  },
  {
   "cell_type": "markdown",
   "metadata": {},
   "source": [
    "## 1. Voorbeeld met CSV\n",
    "Lees de configuratie in:\n",
    "\n",
    "Dit leest een configuratie bestand `belasting_noos_matroos_config.yaml` in. \n",
    "```yaml\n",
    "GlobalVariables:\n",
    "    rootdir: \"data_sets\" \n",
    "    moments: [-24,0,24,48]  \n",
    "\n",
    "    LoadsMatroos:\n",
    "        website: \"noos\" \n",
    "        model: \"observed\"\n",
    "        parameters: [\"waterlevel\"]\n",
    "\n",
    "DataAdapter: \n",
    "    default_options:\n",
    "        csv:\n",
    "            sep: \",\"\n",
    "\n",
    "    BelastingLocaties: \n",
    "        type: csv\n",
    "        path: \"belastingen_matroos.csv\"\n",
    "    Waterstanden: \n",
    "        type: csv\n",
    "        path: \"waterstanden.csv\"\n",
    "\n",
    "```"
   ]
  },
  {
   "cell_type": "code",
   "execution_count": null,
   "metadata": {},
   "outputs": [],
   "source": [
    "from pathlib import Path\n",
    "\n",
    "from toolbox_continu_inzicht import Config\n",
    "\n",
    "test_data_sets_path = Path.cwd() / \"data_sets\"\n",
    "config = Config(config_path=test_data_sets_path / \"loads_noos_matroos_config.yaml\")\n",
    "config.lees_config()"
   ]
  },
  {
   "cell_type": "markdown",
   "metadata": {},
   "source": [
    "Zet de data adapter klaar en geef deze de configuratie mee "
   ]
  },
  {
   "cell_type": "code",
   "execution_count": null,
   "metadata": {},
   "outputs": [],
   "source": [
    "from toolbox_continu_inzicht import DataAdapter\n",
    "\n",
    "data = DataAdapter(config=config)"
   ]
  },
  {
   "cell_type": "markdown",
   "metadata": {},
   "source": [
    "Run de module met CSV"
   ]
  },
  {
   "cell_type": "code",
   "execution_count": null,
   "metadata": {},
   "outputs": [],
   "source": [
    "from toolbox_continu_inzicht.loads import LoadsMatroos\n",
    "\n",
    "matroos_obs = LoadsMatroos(data_adapter=data)"
   ]
  },
  {
   "cell_type": "code",
   "execution_count": null,
   "metadata": {},
   "outputs": [],
   "source": [
    "matroos_obs.df_in"
   ]
  },
  {
   "cell_type": "code",
   "execution_count": null,
   "metadata": {},
   "outputs": [],
   "source": [
    "from toolbox_continu_inzicht.loads.loads_matroos.get_matroos_locations import (\n",
    "    get_matroos_locations,\n",
    "    get_matroos_locations_map,\n",
    ")"
   ]
  },
  {
   "cell_type": "code",
   "execution_count": null,
   "metadata": {},
   "outputs": [],
   "source": [
    "get_matroos_locations(source=\"observed\", parameter=\"waterlevel\")"
   ]
  },
  {
   "cell_type": "code",
   "execution_count": null,
   "metadata": {},
   "outputs": [],
   "source": [
    "get_matroos_locations_map(source=\"observed\", parameter=\"waterlevel\")"
   ]
  },
  {
   "cell_type": "code",
   "execution_count": null,
   "metadata": {},
   "outputs": [],
   "source": [
    "ds = matroos_obs.run(input=\"BelastingLocaties\", output=\"Waterstanden\")"
   ]
  },
  {
   "cell_type": "code",
   "execution_count": null,
   "metadata": {},
   "outputs": [],
   "source": [
    "df = matroos_obs.df_out"
   ]
  },
  {
   "cell_type": "code",
   "execution_count": null,
   "metadata": {},
   "outputs": [],
   "source": [
    "df"
   ]
  },
  {
   "cell_type": "code",
   "execution_count": null,
   "metadata": {},
   "outputs": [],
   "source": [
    "df_plot = df[df[\"measurement_location_code\"] == \"Den Helder\"]"
   ]
  },
  {
   "cell_type": "code",
   "execution_count": null,
   "metadata": {},
   "outputs": [],
   "source": [
    "import numpy as np  # type: ignore\n",
    "\n",
    "values_nan = df_plot[df_plot[\"value\"] == -999].index\n",
    "for val in values_nan:\n",
    "    df_plot.loc[val, \"value\"] = np.nan\n",
    "df_plot = df_plot.set_index(\"date_time\")"
   ]
  },
  {
   "cell_type": "code",
   "execution_count": null,
   "metadata": {},
   "outputs": [],
   "source": [
    "df_plot[[\"value\"]].plot()"
   ]
  },
  {
   "cell_type": "markdown",
   "metadata": {},
   "source": [
    "### Dit waren alleen metingen, herhaal nu met dataset met ook voorspellingen"
   ]
  },
  {
   "cell_type": "markdown",
   "metadata": {},
   "source": [
    "Dit leest een configuratie bestand `belasting_noos_matroos_config_fcst.yaml` in. \n",
    "```yaml\n",
    "GlobalVariables:\n",
    "    rootdir: \"data_sets\" \n",
    "    moments: [-24,0,24,48] \n",
    "\n",
    "    LoadsMatroos:\n",
    "        website: \"noos\"\n",
    "        model: \"dcsm6_kf\"\n",
    "        parameters: [\"waterlevel\"]\n",
    "\n",
    "DataAdapter: \n",
    "    default_options:\n",
    "        csv:\n",
    "            sep: \",\"\n",
    "\n",
    "    BelastingLocaties: \n",
    "        type: csv\n",
    "        path: \"belastingen_matroos.csv\"\n",
    "    Waterstanden: \n",
    "        type: csv\n",
    "        path: \"waterstanden.csv\"\n",
    "\n",
    "```"
   ]
  },
  {
   "cell_type": "code",
   "execution_count": null,
   "metadata": {},
   "outputs": [],
   "source": [
    "test_data_sets_path = Path.cwd() / \"data_sets\"\n",
    "c = Config(config_path=test_data_sets_path / \"loads_noos_matroos_fcst_config.yaml\")\n",
    "c.lees_config()\n",
    "data = DataAdapter(config=c)\n",
    "\n",
    "matroos_fsct = LoadsMatroos(data_adapter=data)"
   ]
  },
  {
   "cell_type": "code",
   "execution_count": null,
   "metadata": {},
   "outputs": [],
   "source": [
    "matroos_fsct.run(input=\"BelastingLocaties\", output=\"Waterstanden\")"
   ]
  },
  {
   "cell_type": "code",
   "execution_count": null,
   "metadata": {},
   "outputs": [],
   "source": [
    "df_fcst = matroos_fsct.df_out\n",
    "df_plot_fcst = df_fcst[\n",
    "    df_fcst[\"measurement_location_description\"] == \"Hoek van Holland\"\n",
    "]\n",
    "values_nan = df_plot_fcst[df_plot_fcst[\"value\"] == 999].index\n",
    "for val in values_nan:\n",
    "    df_plot_fcst.loc[val, \"value\"] = np.nan\n",
    "df_plot_fcst = df_plot_fcst.set_index(\"date_time\")"
   ]
  },
  {
   "cell_type": "code",
   "execution_count": null,
   "metadata": {},
   "outputs": [],
   "source": [
    "df_plot_fcst[[\"value\"]].plot()"
   ]
  },
  {
   "cell_type": "markdown",
   "metadata": {},
   "source": [
    "##### vergelijk de twee "
   ]
  },
  {
   "cell_type": "code",
   "execution_count": null,
   "metadata": {},
   "outputs": [],
   "source": [
    "ax = df_plot_fcst[[\"value\"]].plot()\n",
    "df_plot[[\"value\"]].plot(ax=ax)\n",
    "ax.legend([\"dscm6\", \"observed\"]);"
   ]
  },
  {
   "cell_type": "markdown",
   "metadata": {},
   "source": [
    "#### werkt ook met vitaal.matroos.rws\n",
    "werkt alleen als je in de `.env` username & password mee geeft\n",
    "```yaml\n",
    "vitaal_user: \"...\"\n",
    "vitaal_password: \"...\"\n",
    "```\n",
    "\n",
    "en de website aanpassen\n",
    "\n",
    "```yaml\n",
    "LoadsMatroos:\n",
    "        website: \"vitaal\" \n",
    "\n",
    "\n",
    "```"
   ]
  },
  {
   "cell_type": "code",
   "execution_count": null,
   "metadata": {},
   "outputs": [],
   "source": [
    "test_data_sets_path = Path.cwd() / \"data_sets\"\n",
    "c = Config(config_path=test_data_sets_path / \"loads_vitaal_matroos_fcst_config.yaml\")\n",
    "c.lees_config()\n",
    "data = DataAdapter(config=c)\n",
    "\n",
    "vitaal_fsct = LoadsMatroos(data_adapter=data)"
   ]
  },
  {
   "cell_type": "code",
   "execution_count": null,
   "metadata": {},
   "outputs": [],
   "source": [
    "vitaal_fsct.run(input=\"BelastingLocaties\", output=\"Waterstanden\")"
   ]
  },
  {
   "cell_type": "code",
   "execution_count": null,
   "metadata": {},
   "outputs": [],
   "source": [
    "df_vitaal_fcst = vitaal_fsct.df_out\n",
    "df_plot_vitaal = df_vitaal_fcst[\n",
    "    df_vitaal_fcst[\"measurement_location_description\"] == \"Hoek van Holland\"\n",
    "]\n",
    "values_nan = df_plot_vitaal[df_plot_vitaal[\"value\"] == 999].index\n",
    "for val in values_nan:\n",
    "    df_plot_vitaal.loc[val, \"value\"] = np.nan\n",
    "df_plot_vitaal = df_plot_vitaal.set_index(\"date_time\")"
   ]
  },
  {
   "cell_type": "markdown",
   "metadata": {},
   "source": [
    "in dit geval indentiek:"
   ]
  },
  {
   "cell_type": "code",
   "execution_count": null,
   "metadata": {},
   "outputs": [],
   "source": [
    "ax = df_plot_fcst[[\"value\"]].plot()\n",
    "df_plot_vitaal[\"value\"].plot(ls=\"--\", ax=ax)"
   ]
  },
  {
   "cell_type": "code",
   "execution_count": null,
   "metadata": {},
   "outputs": [],
   "source": [
    "from toolbox_continu_inzicht.loads import get_matroos_locations"
   ]
  },
  {
   "cell_type": "code",
   "execution_count": null,
   "metadata": {},
   "outputs": [],
   "source": [
    "gdf = get_matroos_locations(parameter=\"waterlevel\", source=\"dcsm6_kf\")"
   ]
  },
  {
   "cell_type": "code",
   "execution_count": null,
   "metadata": {},
   "outputs": [],
   "source": [
    "gdf"
   ]
  },
  {
   "cell_type": "code",
   "execution_count": null,
   "metadata": {},
   "outputs": [],
   "source": [
    "from toolbox_continu_inzicht.loads.loads_matroos.get_matroos_locations import (\n",
    "    get_matroos_sources,\n",
    ")"
   ]
  },
  {
   "cell_type": "code",
   "execution_count": null,
   "metadata": {},
   "outputs": [],
   "source": [
    "df = get_matroos_sources()"
   ]
  },
  {
   "cell_type": "code",
   "execution_count": null,
   "metadata": {},
   "outputs": [],
   "source": [
    "df[[\"source_label\"]]"
   ]
  },
  {
   "cell_type": "code",
   "execution_count": null,
   "metadata": {},
   "outputs": [],
   "source": [
    "get_matroos_locations_map(source=\"dcsm6_kf\", parameter=\"waterlevel\")"
   ]
  },
  {
   "cell_type": "code",
   "execution_count": null,
   "metadata": {},
   "outputs": [],
   "source": []
  }
 ],
 "metadata": {
  "kernelspec": {
   "display_name": "default",
   "language": "python",
   "name": "python3"
  },
  "language_info": {
   "codemirror_mode": {
    "name": "ipython",
    "version": 3
   },
   "file_extension": ".py",
   "mimetype": "text/x-python",
   "name": "python",
   "nbconvert_exporter": "python",
   "pygments_lexer": "ipython3",
   "version": "3.12.8"
  }
 },
 "nbformat": 4,
 "nbformat_minor": 2
}
