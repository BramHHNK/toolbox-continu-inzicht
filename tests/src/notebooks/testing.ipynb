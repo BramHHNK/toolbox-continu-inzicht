{
 "cells": [
  {
   "cell_type": "markdown",
   "metadata": {},
   "source": [
    "Om de architectuur weer te geven wordt een simple voorbeeld gegeven door een reeks keer twee en gedeelddoor te doen.\n",
    "\n",
    "De opbouw van de code is hier onder weergegeven:\n",
    "![opbouw_code](https://github.com/continu-inzicht/toolbox-continu-inzicht/blob/main/docs/assets/opbouw_code.png?raw=true)\n",
    "\n",
    "Een voorbeeld senario is het inladen van CSV en wegschrijven naar csv:\n",
    "\n",
    "![voorbeeld csv](https://github.com/continu-inzicht/toolbox-continu-inzicht/blob/main/docs/assets/voorbeeld_config_csv.png?raw=true)\n",
    "\n",
    "Aan de voorkant ziet dat er zo uit:"
   ]
  },
  {
   "cell_type": "code",
   "execution_count": null,
   "metadata": {},
   "outputs": [],
   "source": [
    "#  importeer de benodigde functies\n",
    "from pathlib import Path\n",
    "\n",
    "from continu_inzicht_toolbox.base import Config"
   ]
  },
  {
   "cell_type": "markdown",
   "metadata": {},
   "source": [
    "Lees de configuratie in:\n",
    "\n",
    "Dit leest een configuratie bestand `test_config.yaml` in: \n",
    "\n",
    "```yaml\n",
    "WaardesKeerTwee: \n",
    "  input: \n",
    "      type: csv\n",
    "      path: 'tests\\src\\data_sets\\test_csv_in.csv'\n",
    "  output: \n",
    "      type: csv\n",
    "      path: 'tests\\src\\data_sets\\test_csv_out.csv'\n",
    "\n",
    "...\n",
    "\n",
    "```"
   ]
  },
  {
   "cell_type": "code",
   "execution_count": null,
   "metadata": {},
   "outputs": [],
   "source": [
    "test_data_sets_path = Path.cwd().parent.parent / \"tests\" / \"src\" / \"data_sets\"\n",
    "c = Config(config_path=test_data_sets_path / \"test_config.yaml\")\n",
    "c.lees_config()"
   ]
  },
  {
   "cell_type": "markdown",
   "metadata": {},
   "source": [
    "Zet de data adapter klaar en geef deze de configuratie mee "
   ]
  },
  {
   "cell_type": "code",
   "execution_count": null,
   "metadata": {},
   "outputs": [],
   "source": [
    "from continu_inzicht_toolbox.base import DataAdapter\n",
    "\n",
    "data = DataAdapter(config=c)\n"
   ]
  },
  {
   "cell_type": "code",
   "execution_count": null,
   "metadata": {},
   "outputs": [
    {
     "data": {
      "text/html": [
       "<div>\n",
       "<style scoped>\n",
       "    .dataframe tbody tr th:only-of-type {\n",
       "        vertical-align: middle;\n",
       "    }\n",
       "\n",
       "    .dataframe tbody tr th {\n",
       "        vertical-align: top;\n",
       "    }\n",
       "\n",
       "    .dataframe thead th {\n",
       "        text-align: right;\n",
       "    }\n",
       "</style>\n",
       "<table border=\"1\" class=\"dataframe\">\n",
       "  <thead>\n",
       "    <tr style=\"text-align: right;\">\n",
       "      <th></th>\n",
       "      <th>objectid</th>\n",
       "      <th>objecttype</th>\n",
       "      <th>parameterid</th>\n",
       "      <th>datetime</th>\n",
       "      <th>value</th>\n",
       "    </tr>\n",
       "  </thead>\n",
       "  <tbody>\n",
       "    <tr>\n",
       "      <th>0</th>\n",
       "      <td>1</td>\n",
       "      <td>measuringstation</td>\n",
       "      <td>1</td>\n",
       "      <td>1726227377000</td>\n",
       "      <td>4.8</td>\n",
       "    </tr>\n",
       "    <tr>\n",
       "      <th>1</th>\n",
       "      <td>2</td>\n",
       "      <td>measuringstation</td>\n",
       "      <td>1</td>\n",
       "      <td>1726227377000</td>\n",
       "      <td>5.0</td>\n",
       "    </tr>\n",
       "    <tr>\n",
       "      <th>2</th>\n",
       "      <td>3</td>\n",
       "      <td>measuringstation</td>\n",
       "      <td>1</td>\n",
       "      <td>1726227377000</td>\n",
       "      <td>5.2</td>\n",
       "    </tr>\n",
       "    <tr>\n",
       "      <th>3</th>\n",
       "      <td>4</td>\n",
       "      <td>measuringstation</td>\n",
       "      <td>1</td>\n",
       "      <td>1726227377000</td>\n",
       "      <td>5.4</td>\n",
       "    </tr>\n",
       "    <tr>\n",
       "      <th>4</th>\n",
       "      <td>5</td>\n",
       "      <td>measuringstation</td>\n",
       "      <td>1</td>\n",
       "      <td>1726227377000</td>\n",
       "      <td>5.6</td>\n",
       "    </tr>\n",
       "  </tbody>\n",
       "</table>\n",
       "</div>"
      ],
      "text/plain": [
       "   objectid        objecttype  parameterid       datetime  value\n",
       "0         1  measuringstation            1  1726227377000    4.8\n",
       "1         2  measuringstation            1  1726227377000    5.0\n",
       "2         3  measuringstation            1  1726227377000    5.2\n",
       "3         4  measuringstation            1  1726227377000    5.4\n",
       "4         5  measuringstation            1  1726227377000    5.6"
      ]
     },
     "execution_count": 4,
     "metadata": {},
     "output_type": "execute_result"
    }
   ],
   "source": [
    "df_in = data.input(\"WaardesKeerTwee\", **{\"csv\": {}})\n",
    "df_in"
   ]
  },
  {
   "cell_type": "markdown",
   "metadata": {},
   "source": [
    "Run de module met CSV"
   ]
  },
  {
   "cell_type": "code",
   "execution_count": null,
   "metadata": {},
   "outputs": [],
   "source": [
    "from continu_inzicht_toolbox.modules import voorbeeld_module\n",
    "\n",
    "keer_twee = voorbeeld_module.WaardesKeerTwee(data_adapter=data)"
   ]
  },
  {
   "cell_type": "code",
   "execution_count": null,
   "metadata": {},
   "outputs": [],
   "source": [
    "keer_twee.run()"
   ]
  },
  {
   "cell_type": "markdown",
   "metadata": {},
   "source": [
    "Check de output"
   ]
  },
  {
   "cell_type": "code",
   "execution_count": null,
   "metadata": {},
   "outputs": [
    {
     "data": {
      "text/html": [
       "<div>\n",
       "<style scoped>\n",
       "    .dataframe tbody tr th:only-of-type {\n",
       "        vertical-align: middle;\n",
       "    }\n",
       "\n",
       "    .dataframe tbody tr th {\n",
       "        vertical-align: top;\n",
       "    }\n",
       "\n",
       "    .dataframe thead th {\n",
       "        text-align: right;\n",
       "    }\n",
       "</style>\n",
       "<table border=\"1\" class=\"dataframe\">\n",
       "  <thead>\n",
       "    <tr style=\"text-align: right;\">\n",
       "      <th></th>\n",
       "      <th>Unnamed: 0</th>\n",
       "      <th>objectid</th>\n",
       "      <th>objecttype</th>\n",
       "      <th>parameterid</th>\n",
       "      <th>datetime</th>\n",
       "      <th>value</th>\n",
       "    </tr>\n",
       "  </thead>\n",
       "  <tbody>\n",
       "    <tr>\n",
       "      <th>0</th>\n",
       "      <td>0</td>\n",
       "      <td>1</td>\n",
       "      <td>measuringstation</td>\n",
       "      <td>1</td>\n",
       "      <td>1726227377000</td>\n",
       "      <td>9.6</td>\n",
       "    </tr>\n",
       "    <tr>\n",
       "      <th>1</th>\n",
       "      <td>1</td>\n",
       "      <td>2</td>\n",
       "      <td>measuringstation</td>\n",
       "      <td>1</td>\n",
       "      <td>1726227377000</td>\n",
       "      <td>10.0</td>\n",
       "    </tr>\n",
       "    <tr>\n",
       "      <th>2</th>\n",
       "      <td>2</td>\n",
       "      <td>3</td>\n",
       "      <td>measuringstation</td>\n",
       "      <td>1</td>\n",
       "      <td>1726227377000</td>\n",
       "      <td>10.4</td>\n",
       "    </tr>\n",
       "    <tr>\n",
       "      <th>3</th>\n",
       "      <td>3</td>\n",
       "      <td>4</td>\n",
       "      <td>measuringstation</td>\n",
       "      <td>1</td>\n",
       "      <td>1726227377000</td>\n",
       "      <td>10.8</td>\n",
       "    </tr>\n",
       "    <tr>\n",
       "      <th>4</th>\n",
       "      <td>4</td>\n",
       "      <td>5</td>\n",
       "      <td>measuringstation</td>\n",
       "      <td>1</td>\n",
       "      <td>1726227377000</td>\n",
       "      <td>11.2</td>\n",
       "    </tr>\n",
       "  </tbody>\n",
       "</table>\n",
       "</div>"
      ],
      "text/plain": [
       "   Unnamed: 0  objectid        objecttype  parameterid       datetime  value\n",
       "0           0         1  measuringstation            1  1726227377000    9.6\n",
       "1           1         2  measuringstation            1  1726227377000   10.0\n",
       "2           2         3  measuringstation            1  1726227377000   10.4\n",
       "3           3         4  measuringstation            1  1726227377000   10.8\n",
       "4           4         5  measuringstation            1  1726227377000   11.2"
      ]
     },
     "execution_count": 7,
     "metadata": {},
     "output_type": "execute_result"
    }
   ],
   "source": [
    "c2 = Config(config_path=test_data_sets_path / \"test_output_config.yaml\")\n",
    "c2.lees_config()\n",
    "data2 = DataAdapter(config=c2)\n",
    "data2.input(\"WaardesDelenTwee\", **{\"csv\": {}})\n",
    "# Met de c2 configuratie doe we het tegen overgestelde, de input is dus de output van de vorige"
   ]
  },
  {
   "cell_type": "markdown",
   "metadata": {},
   "source": [
    "de `values` waardes uit de vorige table zijn vermenigvuldigd met twee"
   ]
  },
  {
   "cell_type": "markdown",
   "metadata": {},
   "source": [
    "Herhaal met database:\n",
    "\n",
    "![voorbeeld_config_db](https://github.com/continu-inzicht/toolbox-continu-inzicht/blob/main/docs/assets/voorbeeld_config_db.png?raw=true)"
   ]
  },
  {
   "cell_type": "code",
   "execution_count": null,
   "metadata": {},
   "outputs": [
    {
     "data": {
      "text/html": [
       "<div>\n",
       "<style scoped>\n",
       "    .dataframe tbody tr th:only-of-type {\n",
       "        vertical-align: middle;\n",
       "    }\n",
       "\n",
       "    .dataframe tbody tr th {\n",
       "        vertical-align: top;\n",
       "    }\n",
       "\n",
       "    .dataframe thead th {\n",
       "        text-align: right;\n",
       "    }\n",
       "</style>\n",
       "<table border=\"1\" class=\"dataframe\">\n",
       "  <thead>\n",
       "    <tr style=\"text-align: right;\">\n",
       "      <th></th>\n",
       "      <th>objectid</th>\n",
       "      <th>objecttype</th>\n",
       "      <th>parameterid</th>\n",
       "      <th>datetime</th>\n",
       "      <th>value</th>\n",
       "    </tr>\n",
       "  </thead>\n",
       "  <tbody>\n",
       "    <tr>\n",
       "      <th>0</th>\n",
       "      <td>1</td>\n",
       "      <td>measuringstation</td>\n",
       "      <td>1</td>\n",
       "      <td>1726227377000</td>\n",
       "      <td>0.3</td>\n",
       "    </tr>\n",
       "  </tbody>\n",
       "</table>\n",
       "</div>"
      ],
      "text/plain": [
       "   objectid        objecttype  parameterid       datetime  value\n",
       "0         1  measuringstation            1  1726227377000    0.3"
      ]
     },
     "execution_count": 8,
     "metadata": {},
     "output_type": "execute_result"
    }
   ],
   "source": [
    "df_in = data.input(\n",
    "    \"WaardesDelenTwee\",\n",
    "    **{\"postgresql_database\": {\"table\": \"data\", \"schema\": \"citoolbox_schema\"}},\n",
    ")\n",
    "df_in"
   ]
  },
  {
   "cell_type": "code",
   "execution_count": null,
   "metadata": {},
   "outputs": [],
   "source": [
    "delen_twee = voorbeeld_module.WaardesDelenTwee(data_adapter=data)"
   ]
  },
  {
   "cell_type": "code",
   "execution_count": null,
   "metadata": {},
   "outputs": [],
   "source": [
    "delen_twee.run()"
   ]
  },
  {
   "cell_type": "markdown",
   "metadata": {},
   "source": [
    "check"
   ]
  },
  {
   "cell_type": "code",
   "execution_count": null,
   "metadata": {},
   "outputs": [
    {
     "data": {
      "text/html": [
       "<div>\n",
       "<style scoped>\n",
       "    .dataframe tbody tr th:only-of-type {\n",
       "        vertical-align: middle;\n",
       "    }\n",
       "\n",
       "    .dataframe tbody tr th {\n",
       "        vertical-align: top;\n",
       "    }\n",
       "\n",
       "    .dataframe thead th {\n",
       "        text-align: right;\n",
       "    }\n",
       "</style>\n",
       "<table border=\"1\" class=\"dataframe\">\n",
       "  <thead>\n",
       "    <tr style=\"text-align: right;\">\n",
       "      <th></th>\n",
       "      <th>objectid</th>\n",
       "      <th>objecttype</th>\n",
       "      <th>parameterid</th>\n",
       "      <th>datetime</th>\n",
       "      <th>value</th>\n",
       "    </tr>\n",
       "  </thead>\n",
       "  <tbody>\n",
       "    <tr>\n",
       "      <th>0</th>\n",
       "      <td>1</td>\n",
       "      <td>measuringstation</td>\n",
       "      <td>1</td>\n",
       "      <td>1726227377000</td>\n",
       "      <td>0.15</td>\n",
       "    </tr>\n",
       "  </tbody>\n",
       "</table>\n",
       "</div>"
      ],
      "text/plain": [
       "   objectid        objecttype  parameterid       datetime  value\n",
       "0         1  measuringstation            1  1726227377000   0.15"
      ]
     },
     "execution_count": 11,
     "metadata": {},
     "output_type": "execute_result"
    }
   ],
   "source": [
    "data2.input(\n",
    "    \"WaardesKeerTwee\",\n",
    "    **{\"postgresql_database\": {\"table\": \"data\", \"schema\": \"citoolbox_schema\"}},\n",
    ")"
   ]
  },
  {
   "cell_type": "markdown",
   "metadata": {},
   "source": [
    "_Maak de aanpassingen in de testdatabase ongedaan_"
   ]
  },
  {
   "cell_type": "code",
   "execution_count": null,
   "metadata": {},
   "outputs": [],
   "source": [
    "delen_twee_ongedaan = voorbeeld_module.WaardesKeerTwee(data_adapter=data2)\n",
    "delen_twee_ongedaan.run()"
   ]
  },
  {
   "cell_type": "code",
   "execution_count": null,
   "metadata": {},
   "outputs": [
    {
     "data": {
      "text/html": [
       "<div>\n",
       "<style scoped>\n",
       "    .dataframe tbody tr th:only-of-type {\n",
       "        vertical-align: middle;\n",
       "    }\n",
       "\n",
       "    .dataframe tbody tr th {\n",
       "        vertical-align: top;\n",
       "    }\n",
       "\n",
       "    .dataframe thead th {\n",
       "        text-align: right;\n",
       "    }\n",
       "</style>\n",
       "<table border=\"1\" class=\"dataframe\">\n",
       "  <thead>\n",
       "    <tr style=\"text-align: right;\">\n",
       "      <th></th>\n",
       "      <th>objectid</th>\n",
       "      <th>objecttype</th>\n",
       "      <th>parameterid</th>\n",
       "      <th>datetime</th>\n",
       "      <th>value</th>\n",
       "    </tr>\n",
       "  </thead>\n",
       "  <tbody>\n",
       "    <tr>\n",
       "      <th>0</th>\n",
       "      <td>1</td>\n",
       "      <td>measuringstation</td>\n",
       "      <td>1</td>\n",
       "      <td>1726227377000</td>\n",
       "      <td>0.3</td>\n",
       "    </tr>\n",
       "  </tbody>\n",
       "</table>\n",
       "</div>"
      ],
      "text/plain": [
       "   objectid        objecttype  parameterid       datetime  value\n",
       "0         1  measuringstation            1  1726227377000    0.3"
      ]
     },
     "execution_count": 13,
     "metadata": {},
     "output_type": "execute_result"
    }
   ],
   "source": [
    "data2.input(\n",
    "    \"WaardesKeerTwee\",\n",
    "    **{\"postgresql_database\": {\"table\": \"data\", \"schema\": \"citoolbox_schema\"}},\n",
    ")"
   ]
  },
  {
   "cell_type": "code",
   "execution_count": null,
   "metadata": {},
   "outputs": [],
   "source": []
  }
 ],
 "metadata": {
  "kernelspec": {
   "display_name": "default",
   "language": "python",
   "name": "python3"
  },
  "language_info": {
   "codemirror_mode": {
    "name": "ipython",
    "version": 3
   },
   "file_extension": ".py",
   "mimetype": "text/x-python",
   "name": "python",
   "nbconvert_exporter": "python",
   "pygments_lexer": "ipython3",
   "version": "3.12.5"
  }
 },
 "nbformat": 4,
 "nbformat_minor": 2
}
