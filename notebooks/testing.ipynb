{
 "cells": [
  {
   "cell_type": "code",
   "execution_count": 1,
   "metadata": {},
   "outputs": [],
   "source": [
    "from pathlib import Path\n",
    "\n",
    "from continu_inzicht_toolbox.base import base"
   ]
  },
  {
   "cell_type": "code",
   "execution_count": 2,
   "metadata": {},
   "outputs": [
    {
     "name": "stdout",
     "output_type": "stream",
     "text": [
      "{'input': {'type': 'database', 'url': 'https://....'}, 'output': {'type': 'database', 'path': 'test_input.csv'}}\n",
      "{'input': {'type': 'csv', 'path': 'test_input.csv'}, 'output': {'type': 'csv', 'path': 'test_input.csv'}}\n",
      "{'waardes_delen_drie': {'input': {'type': 'database', 'url': 'https://....'}, 'output': {'type': 'database', 'path': 'test_input.csv'}}}\n"
     ]
    }
   ],
   "source": [
    "test_data_sets_path = Path.cwd().parent / \"tests\" / \"src\" / \"data_sets\"\n",
    "c = base.Config(config_path=test_data_sets_path / \"test_config.yaml\")\n",
    "c.read_config()\n",
    "print(c.waardes_delen_twee)\n",
    "print(c.waardes_keer_twee)\n",
    "print(c.dump)\n"
   ]
  },
  {
   "cell_type": "code",
   "execution_count": null,
   "metadata": {},
   "outputs": [],
   "source": []
  }
 ],
 "metadata": {
  "kernelspec": {
   "display_name": "default",
   "language": "python",
   "name": "python3"
  },
  "language_info": {
   "codemirror_mode": {
    "name": "ipython",
    "version": 3
   },
   "file_extension": ".py",
   "mimetype": "text/x-python",
   "name": "python",
   "nbconvert_exporter": "python",
   "pygments_lexer": "ipython3",
   "version": "3.12.5"
  }
 },
 "nbformat": 4,
 "nbformat_minor": 2
}
