{
 "cells": [
  {
   "cell_type": "code",
   "execution_count": 1,
   "metadata": {},
   "outputs": [],
   "source": [
    "from pathlib import Path\n",
    "\n",
    "from continu_inzicht_toolbox.base import Config"
   ]
  },
  {
   "cell_type": "code",
   "execution_count": 2,
   "metadata": {},
   "outputs": [
    {
     "name": "stdout",
     "output_type": "stream",
     "text": [
      "{'input': {'type': 'postgresql_database', 'path': 'postgresql_database.file'}, 'output': {'type': 'postgresql_database', 'path': 'postgresql_database.file'}}\n",
      "{'input': {'type': 'csv', 'path': 'C:\\\\Data\\\\Python\\\\toolbox-continu-inzicht\\\\tests\\\\src\\\\data_sets\\\\test_csv_in.csv'}, 'output': {'type': 'csv', 'path': 'C:\\\\Data\\\\Python\\\\toolbox-continu-inzicht\\\\tests\\\\src\\\\data_sets'}}\n",
      "{'waardes_delen_drie': {'input': {'type': 'postgresql_database', 'path': 'postgresql_database.file'}, 'output': {'type': 'postgresql_database', 'path': 'postgresql_database.file'}}}\n"
     ]
    }
   ],
   "source": [
    "test_data_sets_path = Path.cwd().parent / \"tests\" / \"src\" / \"data_sets\"\n",
    "c = Config(config_path=test_data_sets_path / \"test_config.yaml\")\n",
    "c.read_config()\n",
    "print(c.waardes_delen_twee)\n",
    "print(c.waardes_keer_twee)\n",
    "print(c.dump)\n"
   ]
  },
  {
   "cell_type": "code",
   "execution_count": 3,
   "metadata": {},
   "outputs": [
    {
     "data": {
      "text/plain": [
       "Config(config_path=WindowsPath('c:/Data/Python/toolbox-continu-inzicht/tests/src/data_sets/test_config.yaml'), toegelaten_functies={'waardes_delen_twee', 'waardes_keer_twee'}, waardes_keer_twee={'input': {'type': 'csv', 'path': 'C:\\\\Data\\\\Python\\\\toolbox-continu-inzicht\\\\tests\\\\src\\\\data_sets\\\\test_csv_in.csv'}, 'output': {'type': 'csv', 'path': 'C:\\\\Data\\\\Python\\\\toolbox-continu-inzicht\\\\tests\\\\src\\\\data_sets'}}, waardes_delen_twee={'input': {'type': 'postgresql_database', 'path': 'postgresql_database.file'}, 'output': {'type': 'postgresql_database', 'path': 'postgresql_database.file'}}, dump={'waardes_delen_drie': {'input': {'type': 'postgresql_database', 'path': 'postgresql_database.file'}, 'output': {'type': 'postgresql_database', 'path': 'postgresql_database.file'}}})"
      ]
     },
     "execution_count": 3,
     "metadata": {},
     "output_type": "execute_result"
    }
   ],
   "source": [
    "c"
   ]
  },
  {
   "cell_type": "code",
   "execution_count": 4,
   "metadata": {},
   "outputs": [],
   "source": [
    "from continu_inzicht_toolbox.base import DataAdapter"
   ]
  },
  {
   "cell_type": "code",
   "execution_count": 5,
   "metadata": {},
   "outputs": [],
   "source": [
    "d = DataAdapter(config=c)"
   ]
  },
  {
   "cell_type": "code",
   "execution_count": 6,
   "metadata": {},
   "outputs": [
    {
     "data": {
      "text/html": [
       "<div>\n",
       "<style scoped>\n",
       "    .dataframe tbody tr th:only-of-type {\n",
       "        vertical-align: middle;\n",
       "    }\n",
       "\n",
       "    .dataframe tbody tr th {\n",
       "        vertical-align: top;\n",
       "    }\n",
       "\n",
       "    .dataframe thead th {\n",
       "        text-align: right;\n",
       "    }\n",
       "</style>\n",
       "<table border=\"1\" class=\"dataframe\">\n",
       "  <thead>\n",
       "    <tr style=\"text-align: right;\">\n",
       "      <th></th>\n",
       "      <th>dijkring_1</th>\n",
       "      <th>dijkring_2</th>\n",
       "    </tr>\n",
       "  </thead>\n",
       "  <tbody>\n",
       "    <tr>\n",
       "      <th>0</th>\n",
       "      <td>5.0</td>\n",
       "      <td>4.5</td>\n",
       "    </tr>\n",
       "    <tr>\n",
       "      <th>1</th>\n",
       "      <td>5.2</td>\n",
       "      <td>4.6</td>\n",
       "    </tr>\n",
       "    <tr>\n",
       "      <th>2</th>\n",
       "      <td>5.4</td>\n",
       "      <td>4.8</td>\n",
       "    </tr>\n",
       "    <tr>\n",
       "      <th>3</th>\n",
       "      <td>5.6</td>\n",
       "      <td>5.0</td>\n",
       "    </tr>\n",
       "  </tbody>\n",
       "</table>\n",
       "</div>"
      ],
      "text/plain": [
       "   dijkring_1  dijkring_2\n",
       "0         5.0         4.5\n",
       "1         5.2         4.6\n",
       "2         5.4         4.8\n",
       "3         5.6         5.0"
      ]
     },
     "execution_count": 6,
     "metadata": {},
     "output_type": "execute_result"
    }
   ],
   "source": [
    "d.input(\"waardes_keer_twee\")"
   ]
  },
  {
   "cell_type": "code",
   "execution_count": null,
   "metadata": {},
   "outputs": [],
   "source": []
  }
 ],
 "metadata": {
  "kernelspec": {
   "display_name": "default",
   "language": "python",
   "name": "python3"
  },
  "language_info": {
   "codemirror_mode": {
    "name": "ipython",
    "version": 3
   },
   "file_extension": ".py",
   "mimetype": "text/x-python",
   "name": "python",
   "nbconvert_exporter": "python",
   "pygments_lexer": "ipython3",
   "version": "3.12.5"
  }
 },
 "nbformat": 4,
 "nbformat_minor": 2
}
